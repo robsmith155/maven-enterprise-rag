{
 "cells": [
  {
   "cell_type": "markdown",
   "metadata": {},
   "source": [
    "# Introduction\n",
    "This series of notebooks demonstrates a comprehensive approach to developing and evaluating Retrieval-Augmented Generation (RAG) systems specifically designed for SEC 10-K annual reports.\n"
   ]
  },
  {
   "cell_type": "markdown",
   "metadata": {},
   "source": [
    "\n",
    "## What is RAG?\n",
    "Retrieval-Augmented Generation (RAG) combines the power of large language models (LLMs) with external knowledge retrieval systems. Instead of relying solely on an LLM's internal knowledge, RAG systems first retrieve relevant information from a corpus of documents and then use this information to generate more accurate, up-to-date, and contextually relevant responses. This approach is particularly valuable for domain-specific applications where factual accuracy and source attribution are critical.\n",
    "\n",
    "## What are SEC 10-K reports?\n",
    "SEC 10-K reports are comprehensive annual filings required by the U.S. Securities and Exchange Commission (SEC) for publicly traded companies. These documents provide a detailed overview of a company's financial performance, business operations, risks, and strategic direction. Key sections include:\n",
    "\n",
    "- Business overview\n",
    "- Risk factors\n",
    "- Management's discussion and analysis (MD&A)\n",
    "- Financial statements and supplementary data\n",
    "- Corporate governance information\n",
    "\n",
    "These reports are extensive (often exceeding 100 pages), highly structured yet variable across companies, and contain critical information for investors, analysts, and regulators. Their complexity makes them an ideal candidate for testing advanced information retrieval and generation systems.\n",
    "\n",
    "## Project goals\n",
    "This project aims to develop a robust benchmarking framework for evaluating RAG systems on financial documents, with a specific focus on SEC 10-K reports. Our key objectives include:\n",
    "\n",
    "1. **Creating a multi-reference benchmark dataset**: Developing questions that require synthesizing information from multiple sections within a single report or across different companies' reports\n",
    "2. **Establishing evaluation metrics**: Implementing comprehensive metrics to assess both retrieval accuracy and generation quality\n",
    "3. **Testing various RAG pipeline configurations**: Evaluating different chunking strategies, embedding models, retrieval methods, and reranking approaches\n",
    "\n",
    "Before we can work on these tasks we need to download and process the data."
   ]
  },
  {
   "cell_type": "markdown",
   "metadata": {},
   "source": [
    "# SEC 10-K Report Downloader and Processing\n",
    "This series of notebooks will guide you through the entire process of building and evaluating a RAG system for SEC 10-K reports. In this first notebook we'll focus on:\n",
    "\n",
    "- **Data Collection**: Downloading SEC 10-K reports using the SEC EDGAR database\n",
    "- **Data Processing**: Parsing, cleaning, and structuring the reports for efficient retrieval\n",
    "\n",
    "By automating these tasks, we can efficiently gather and structure financial data from multiple companies, enabling more comprehensive financial analysis and research.\n"
   ]
  },
  {
   "cell_type": "markdown",
   "metadata": {},
   "source": [
    "## Setup\n",
    "First we need to import the relevant libraries and set some variables."
   ]
  },
  {
   "cell_type": "code",
   "execution_count": 3,
   "metadata": {},
   "outputs": [],
   "source": [
    "#|include: false\n",
    "%load_ext autoreload\n",
    "%autoreload 2"
   ]
  },
  {
   "cell_type": "code",
   "execution_count": 4,
   "metadata": {},
   "outputs": [],
   "source": [
    "import os\n",
    "from pprint import pprint"
   ]
  },
  {
   "cell_type": "markdown",
   "metadata": {},
   "source": [
    "The functions and classes below are code developed for this project and stored in the `src` directory of the repository."
   ]
  },
  {
   "cell_type": "code",
   "execution_count": 5,
   "metadata": {},
   "outputs": [],
   "source": [
    "from src.data.downloader import download_10k_reports\n",
    "from src.processing.sec_filing_parser import SECFilingParser\n",
    "from src.processing.sec_reports import find_sec_reports, process_all_sec_reports"
   ]
  },
  {
   "cell_type": "markdown",
   "metadata": {},
   "source": [
    "Define where to store the raw and processed data:"
   ]
  },
  {
   "cell_type": "code",
   "execution_count": 6,
   "metadata": {},
   "outputs": [],
   "source": [
    "DATA_DIR = \"./data\"\n",
    "RAW_DATA_DIR = f\"{DATA_DIR}/raw\"\n",
    "PROCESSED_DATA_DIR = f\"{DATA_DIR}/processed\""
   ]
  },
  {
   "cell_type": "markdown",
   "metadata": {},
   "source": [
    "# Download SEC 10-K Filing reports\n",
    "The first task is to download some data to work with. Here we'll make use of the [sec-edgar-downloader](https://sec-edgar-downloader.readthedocs.io/en/latest/) package which is available in PyPI. For now we'll just work with the five companies listed below.\n",
    "\n",
    "**Note:** You can change the tickers to the company of your choice, but be aware that the current code doesn't seem to work with all companies (for instance, the file parser defined later doesn't work for Walmart reports). Variation in the formatting of the reports from different companies makes it difficult to get something that works for all. Only the ticker defined below (e.g. AAPL, NVDA...) needs to be accurate, the company name isn't required (you can leave empty)."
   ]
  },
  {
   "cell_type": "code",
   "execution_count": 7,
   "metadata": {},
   "outputs": [],
   "source": [
    "# Define the companies we want to analyze.\n",
    "companies = {\n",
    "    'AAPL': 'Apple Inc',\n",
    "    'GOOG': 'Alphabet Inc',\n",
    "    'AMZN': 'Amazon.com Inc',\n",
    "    'MSFT': 'Microsoft Corp',\n",
    "    'NVDA': 'NVIDIA Corp'\n",
    "}"
   ]
  },
  {
   "cell_type": "markdown",
   "metadata": {},
   "source": [
    "Now we'll pass these to the `download_10k_reports` function (which was placed in the `src` directory of the repository) to get the data. We also tell it the output directory and the number of years that we want to download data for."
   ]
  },
  {
   "cell_type": "markdown",
   "metadata": {},
   "source": [
    "**Note**: When you run the cell below, a pop up box will prompt you to enter your company name and email. You can enter anything for this (it's required by the `sec-edgar-downloader`)."
   ]
  },
  {
   "cell_type": "code",
   "execution_count": 6,
   "metadata": {},
   "outputs": [
    {
     "name": "stdout",
     "output_type": "stream",
     "text": [
      "Downloading 10-K reports for Apple Inc (AAPL)...\n",
      "Downloading 10-K reports for Alphabet Inc (GOOG)...\n",
      "Downloading 10-K reports for Amazon.com Inc (AMZN)...\n",
      "Downloading 10-K reports for Microsoft Corp (MSFT)...\n",
      "Downloading 10-K reports for NVIDIA Corp (NVDA)...\n"
     ]
    }
   ],
   "source": [
    "results_df = download_10k_reports(companies, RAW_DATA_DIR, num_years=10)"
   ]
  },
  {
   "cell_type": "markdown",
   "metadata": {},
   "source": [
    "Check the status of the download:"
   ]
  },
  {
   "cell_type": "code",
   "execution_count": 7,
   "metadata": {},
   "outputs": [
    {
     "data": {
      "text/html": [
       "<div>\n",
       "<style scoped>\n",
       "    .dataframe tbody tr th:only-of-type {\n",
       "        vertical-align: middle;\n",
       "    }\n",
       "\n",
       "    .dataframe tbody tr th {\n",
       "        vertical-align: top;\n",
       "    }\n",
       "\n",
       "    .dataframe thead th {\n",
       "        text-align: right;\n",
       "    }\n",
       "</style>\n",
       "<table border=\"1\" class=\"dataframe\">\n",
       "  <thead>\n",
       "    <tr style=\"text-align: right;\">\n",
       "      <th></th>\n",
       "      <th>ticker</th>\n",
       "      <th>company</th>\n",
       "      <th>status</th>\n",
       "    </tr>\n",
       "  </thead>\n",
       "  <tbody>\n",
       "    <tr>\n",
       "      <th>0</th>\n",
       "      <td>AAPL</td>\n",
       "      <td>Apple Inc</td>\n",
       "      <td>success</td>\n",
       "    </tr>\n",
       "    <tr>\n",
       "      <th>1</th>\n",
       "      <td>GOOG</td>\n",
       "      <td>Alphabet Inc</td>\n",
       "      <td>success</td>\n",
       "    </tr>\n",
       "    <tr>\n",
       "      <th>2</th>\n",
       "      <td>AMZN</td>\n",
       "      <td>Amazon.com Inc</td>\n",
       "      <td>success</td>\n",
       "    </tr>\n",
       "    <tr>\n",
       "      <th>3</th>\n",
       "      <td>MSFT</td>\n",
       "      <td>Microsoft Corp</td>\n",
       "      <td>success</td>\n",
       "    </tr>\n",
       "    <tr>\n",
       "      <th>4</th>\n",
       "      <td>NVDA</td>\n",
       "      <td>NVIDIA Corp</td>\n",
       "      <td>success</td>\n",
       "    </tr>\n",
       "  </tbody>\n",
       "</table>\n",
       "</div>"
      ],
      "text/plain": [
       "  ticker         company   status\n",
       "0   AAPL       Apple Inc  success\n",
       "1   GOOG    Alphabet Inc  success\n",
       "2   AMZN  Amazon.com Inc  success\n",
       "3   MSFT  Microsoft Corp  success\n",
       "4   NVDA     NVIDIA Corp  success"
      ]
     },
     "execution_count": 7,
     "metadata": {},
     "output_type": "execute_result"
    }
   ],
   "source": [
    "results_df"
   ]
  },
  {
   "cell_type": "markdown",
   "metadata": {},
   "source": [
    "All the data was successfull downloaded, so we have a total of 50 reports to work with. Now let's review the structure of the reports to see what we're dealing with."
   ]
  },
  {
   "cell_type": "markdown",
   "metadata": {},
   "source": [
    "# Data review\n",
    "The `sec-edgar-downloader` downloads the requested filings as a text file. On inspection, these files appear to have metadata in a structured text format, while the actual filing content is in HTML.\n",
    "\n",
    "A sample from the start of one of the downloaded files is displayed below as an example.\n"
   ]
  },
  {
   "cell_type": "code",
   "execution_count": 9,
   "metadata": {},
   "outputs": [
    {
     "name": "stdout",
     "output_type": "stream",
     "text": [
      "Sample of the SEC report content:\n",
      "<SEC-DOCUMENT>0000320193-17-000070.txt : 20171103\n",
      "<SEC-HEADER>0000320193-17-000070.hdr.sgml : 20171103\n",
      "<ACCEPTANCE-DATETIME>20171103080137\n",
      "ACCESSION NUMBER:\t\t0000320193-17-000070\n",
      "CONFORMED SUBMISSION TYPE:\t10-K\n",
      "PUBLIC DOCUMENT COUNT:\t\t97\n",
      "CONFORMED PERIOD OF REPORT:\t20170930\n",
      "FILED AS OF DATE:\t\t20171103\n",
      "DATE AS OF CHANGE:\t\t20171103\n",
      "\n",
      "FILER:\n",
      "\n",
      "\tCOMPANY DATA:\t\n",
      "\t\tCOMPANY CONFORMED NAME:\t\t\tAPPLE INC\n",
      "\t\tCENTRAL INDEX KEY:\t\t\t0000320193\n",
      "\t\tSTANDARD INDUSTRIAL CLASSIFICATION:\tELECTRONIC COMPUTERS [3571]\n",
      "\t\tIRS NUMBER:\t\t\t\t942404110\n",
      "\t\tSTATE OF INCORPORATION:\t\t\tCA\n",
      "\t\tFISCAL YEAR END:\t\t\t0930\n",
      "\n",
      "\tFILING VALUES:\n",
      "\t\tFORM TYPE:\t\t10-K\n",
      "\t\tSEC ACT:\t\t1934 Act\n",
      "\t\tSEC FILE NUMBER:\t001-36743\n",
      "\t\tFILM NUMBER:\t\t171174673\n",
      "\n",
      "\tBUSINESS ADDRESS:\t\n",
      "\t\tSTREET 1:\t\tONE INFINITE LOOP\n",
      "\t\tCITY:\t\t\tCUPERTINO\n",
      "\t\tSTATE:\t\t\tCA\n",
      "\t\tZIP:\t\t\t95014\n",
      "\t\tBUSINESS PHONE:\t\t(408) 996-1010\n",
      "\n",
      "\tMAIL ADDRESS:\t\n",
      "\t\tSTREET 1:\t\tONE INFINITE LOOP\n",
      "\t\tCITY:\t\t\tCUPERTINO\n",
      "\t\tSTATE:\t\t\tCA\n",
      "\t\tZIP:\t\t\t95014\n",
      "\n",
      "\tFORMER COMPANY:\t\n",
      "\t\tFORMER CONFORMED NAME:\tAPPLE COMPUTER INC\n",
      "\t\tDATE OF NAME CHANGE:\t19970808\n",
      "</SEC-HEADER>\n",
      "<DOCUMENT>\n",
      "<TYPE>10-K\n",
      "<SEQUENCE>1\n",
      "<FILENAME>a10-k20179302017.htm\n",
      "<DESCRIPTION>10-K\n",
      "<TEXT>\n",
      "<!DOCTYPE html PUBLIC \"-//W3C//DTD HTML 4.01 Transitional//EN\" \"http://www.w3.org/TR/html4/loose.dtd\">\n",
      "<html>\n",
      "\t<head>\n",
      "\t\t<!-- Document created using Wdesk 1 -->\n",
      "\t\t<!-- Copyright 2017 Workiva -->\n",
      "\t\t<title>Document</title>\n",
      "\t</head>\n",
      "\t<body style=\"font-family:Times New Roman;font-size:10pt;\">\n",
      "<div><a name=\"sF73B6A857F525CF0B456675831EC2BB5\"></a></div><div></div><div><br></div><div style=\"line-height:120%;text-align:center;font-size:10pt;\"><div style=\"padding-left:0px;text-indent:0px;line-height:normal;padding-top:10px;\"><table cellpadding=\"0\" cellspacing=\"0\" style=\"font-family:Times New Roman;font-size:10pt;margin-left:auto;margin-right:auto;width:100%;border-collapse:collapse;text-align:left;\"><tr><td colspan=\"1\"></td></tr><tr><td style=\"width:100%;\"></td></tr><tr><td style=\"vertical-align:bottom;padding-left:2px;padding-top:2px;padding-bottom:2px;padding-right:2px;bord\n",
      "...\n"
     ]
    }
   ],
   "source": [
    "#| echo: false\n",
    "# Display a sample of the report content\n",
    "report_path = f'{RAW_DATA_DIR}/sec-edgar-filings/AAPL/10-K/0000320193-17-000070/full-submission.txt'\n",
    "print(\"Sample of the SEC report content:\")\n",
    "with open(report_path, 'r') as file:\n",
    "    sample = file.read(2000)  # Read first 1000 characters\n",
    "print(sample)\n",
    "print(\"...\")"
   ]
  },
  {
   "cell_type": "markdown",
   "metadata": {},
   "source": [
    "\n",
    "## SECFilingParser\n",
    "In the `src` module we have a class named `SECFilingParser` which allows us to do various things with these files, including:\n",
    "\n",
    "* Load the 10-K filing reports\n",
    "* Extract metadata\n",
    "* View sections in HTML format\n",
    "* Process the data ready for ingestion into our embedding database. \n",
    "\n",
    "Let's see the functionality using an example report. First we need to create an instance of the class and then use the `read_file` method to load a report."
   ]
  },
  {
   "cell_type": "code",
   "execution_count": 7,
   "metadata": {},
   "outputs": [],
   "source": [
    "report_path = f'{RAW_DATA_DIR}/sec-edgar-filings/AAPL/10-K/0000320193-17-000070/full-submission.txt'"
   ]
  },
  {
   "cell_type": "code",
   "execution_count": 8,
   "metadata": {},
   "outputs": [],
   "source": [
    "parser = SECFilingParser()\n",
    "parser.read_file(report_path)"
   ]
  },
  {
   "cell_type": "markdown",
   "metadata": {},
   "source": [
    "### View metadata\n",
    "Useful metadata (such as the report filing date and CIK number) can be accessed using the `extract_metadata` method:"
   ]
  },
  {
   "cell_type": "code",
   "execution_count": 10,
   "metadata": {},
   "outputs": [
    {
     "name": "stdout",
     "output_type": "stream",
     "text": [
      "{'cik': '0000320193',\n",
      " 'company_name': 'APPLE INC',\n",
      " 'filing_date': '20171103',\n",
      " 'fiscal_year_end': '0930',\n",
      " 'industry': 'ELECTRONIC COMPUTERS [3571]',\n",
      " 'period_end_date': '20170930'}\n"
     ]
    }
   ],
   "source": [
    "metadata = parser.extract_metadata()\n",
    "pprint(metadata)"
   ]
  },
  {
   "cell_type": "markdown",
   "metadata": {},
   "source": [
    "### View section data (HTML)\n",
    "SEC 10-K reports follow a standardized structure mandated by the Securities and Exchange Commission, with specific sections identified by \"Item\" numbers. This standardization helps investors and analysts navigate these often lengthy documents (frequently exceeding 100+ pages) and locate specific information across different companies' filings.\n",
    "\n",
    "Some of the important sections include:\n",
    "\n",
    "* **Item 1**: Business - Overview of the company's primary operations, products, services, markets, and competitive landscape\n",
    "* **Item 1A**: Risk Factors - Detailed discussion of risks and uncertainties that could affect the company's business and financial performance\n",
    "* **Item 5**: Market for Registrant's Common Equity - Information about the company's stock, including market data and dividend history\n",
    "* **Item 7**: Management's Discussion and Analysis (MD&A) - Management's perspective on the company's financial condition, results of operations, and future outlook\n",
    "* **Item 7A**: Quantitative and Qualitative Disclosures About Market Risk - Analysis of the company's exposure to market risks\n",
    "* **Item 8**: Financial Statements and Supplementary Data - Audited financial statements and related notes\n",
    "\n",
    "\n",
    "Several options to display section data are illustrated below. All of these require that you specify which section (i.e. Item number) to show.\n",
    "\n",
    "The `display_section_html` method is used to show the extracted html content from the report. For instance, `Item 1` contains the basic company background information:"
   ]
  },
  {
   "cell_type": "code",
   "execution_count": 10,
   "metadata": {},
   "outputs": [
    {
     "name": "stdout",
     "output_type": "stream",
     "text": [
      "Removed 7 page footers and copyright statements\n"
     ]
    },
    {
     "data": {
      "text/html": [
       "\n",
       "    <style>\n",
       "        /* Base document styles */\n",
       "        .sec-document, .sec-wrapper {\n",
       "            font-family: Arial, sans-serif;\n",
       "            line-height: 1.5;\n",
       "            color: #333;\n",
       "            max-width: 100%;\n",
       "            margin: 20px 0;\n",
       "            padding: 20px;\n",
       "            background: white;\n",
       "            border-radius: 8px;\n",
       "            box-shadow: 0 2px 4px rgba(0,0,0,0.1);\n",
       "        }\n",
       "        \n",
       "        /* Table styles */\n",
       "        .table-wrapper, .sec-table-wrapper {\n",
       "            font-family: Arial, sans-serif;\n",
       "            margin: 20px 0;\n",
       "            max-width: 100%;\n",
       "            overflow-x: auto;\n",
       "        }\n",
       "        .table-wrapper table, .sec-table-wrapper table {\n",
       "            border-collapse: collapse;\n",
       "            width: 100%;\n",
       "            background: white;\n",
       "        }\n",
       "        .table-wrapper th, .table-wrapper td,\n",
       "        .sec-table-wrapper th, .sec-table-wrapper td {\n",
       "            border: 1px solid #ddd;\n",
       "            padding: 8px;\n",
       "            text-align: left;\n",
       "        }\n",
       "        .table-wrapper th, .sec-table-wrapper th {\n",
       "            background-color: #f8f9fa;\n",
       "            font-weight: 600;\n",
       "        }\n",
       "        .table-wrapper tr:nth-child(even),\n",
       "        .sec-table-wrapper tr:nth-child(even) {\n",
       "            background-color: #fcfcfc;\n",
       "        }\n",
       "        \n",
       "        /* Section styles */\n",
       "        .section-content, .sec-content {\n",
       "            background: white;\n",
       "            padding: 20px;\n",
       "            border-radius: 4px;\n",
       "            border: 1px solid #eee;\n",
       "            color: #333;\n",
       "            width: 100%;\n",
       "        }\n",
       "        .section-header {\n",
       "            font-size: 1.2em;\n",
       "            font-weight: bold;\n",
       "            margin-bottom: 15px;\n",
       "            padding-bottom: 10px;\n",
       "            border-bottom: 2px solid #eee;\n",
       "        }\n",
       "        \n",
       "        /* Code and pre styles */\n",
       "        pre {\n",
       "            background: #f8f9fa;\n",
       "            padding: 15px;\n",
       "            border-radius: 4px;\n",
       "            overflow-x: auto;\n",
       "            border: 1px solid #eee;\n",
       "            white-space: pre-wrap;\n",
       "        }\n",
       "        \n",
       "        /* Markdown table styles */\n",
       "        .markdown-table {\n",
       "            font-family: monospace;\n",
       "            white-space: pre;\n",
       "            padding: 10px;\n",
       "            background: #f8f9fa;\n",
       "            border-radius: 4px;\n",
       "            margin-top: 10px;\n",
       "            border: 1px solid #eee;\n",
       "            overflow-x: auto;\n",
       "        }\n",
       "        \n",
       "        /* Paragraph styles */\n",
       "        .sec-content p {\n",
       "            margin: 10px 0;\n",
       "            color: #333;\n",
       "        }\n",
       "        \n",
       "        /* Table styles */\n",
       "        .sec-content table {\n",
       "            border-collapse: collapse;\n",
       "            margin: 15px 0;\n",
       "            width: 100%;\n",
       "            background-color: white !important;\n",
       "        }\n",
       "        .sec-content th, .sec-content td {\n",
       "            border: 1px solid #ddd;\n",
       "            padding: 8px;\n",
       "            text-align: left;\n",
       "            color: #333 !important;\n",
       "            background-color: white !important;\n",
       "        }\n",
       "        .sec-content th {\n",
       "            background-color: #f8f9fa !important;\n",
       "            font-weight: 600;\n",
       "        }\n",
       "        .sec-content tr:nth-child(even) td {\n",
       "            background-color: #fcfcfc !important;\n",
       "        }\n",
       "        \n",
       "        /* Additional styles */\n",
       "        .text-content {\n",
       "            margin: 15px 0;\n",
       "            white-space: pre-wrap;\n",
       "        }\n",
       "        .pagination-info {\n",
       "            text-align: center;\n",
       "            margin: 10px 0;\n",
       "            padding: 10px;\n",
       "            color: #444;\n",
       "            font-weight: 500;\n",
       "            border-top: 1px solid #eee;\n",
       "        }\n",
       "    </style>\n",
       "<div class='sec-content' style='max-height: 600px; overflow-y: auto;'><html><body><font style=\"font-family:Helvetica,sans-serif;font-size:9pt;font-weight:bold;\">Item 1. </font>\n",
       "<div style=\"line-height:120%;text-align:justify;font-size:9pt;\"><font style=\"font-family:Helvetica,sans-serif;font-size:9pt;font-weight:bold;\">Business</font></div>\n",
       "<div style=\"line-height:120%;padding-top:12px;text-align:justify;font-size:9pt;\"><font style=\"font-family:Helvetica,sans-serif;font-size:9pt;font-weight:bold;\">Company Background</font></div>\n",
       "<div style=\"line-height:120%;padding-top:8px;text-align:justify;font-size:10pt;\"><font style=\"font-family:Helvetica,sans-serif;font-size:9pt;\">The Company designs, manufactures and markets mobile communication and media devices and personal computers, and sells a variety of related software, services, accessories, networking solutions and third-party digital content and applications. The Company’s products and services include iPhone</font><font style=\"font-family:Helvetica,sans-serif;font-size:10pt;\"><sup style=\"vertical-align:top;line-height:120%;font-size:pt\">®</sup></font><font style=\"font-family:Helvetica,sans-serif;font-size:9pt;\">, iPad</font><font style=\"font-family:Helvetica,sans-serif;font-size:10pt;\"><sup style=\"vertical-align:top;line-height:120%;font-size:pt\">®</sup></font><font style=\"font-family:Helvetica,sans-serif;font-size:9pt;\">, Mac</font><font style=\"font-family:Helvetica,sans-serif;font-size:10pt;\"><sup style=\"vertical-align:top;line-height:120%;font-size:pt\">®</sup></font><font style=\"font-family:Helvetica,sans-serif;font-size:9pt;\">, Apple Watch</font><font style=\"font-family:Helvetica,sans-serif;font-size:10pt;\"><sup style=\"vertical-align:top;line-height:120%;font-size:pt\">®</sup></font><font style=\"font-family:Helvetica,sans-serif;font-size:9pt;\">, Apple TV</font><font style=\"font-family:Helvetica,sans-serif;font-size:10pt;\"><sup style=\"vertical-align:top;line-height:120%;font-size:pt\">®</sup></font><font style=\"font-family:Helvetica,sans-serif;font-size:9pt;\">, a portfolio of consumer and professional software applications, iOS, macOS</font><font style=\"font-family:Helvetica,sans-serif;font-size:10pt;\"><sup style=\"vertical-align:top;line-height:120%;font-size:pt\">®</sup></font><font style=\"font-family:Helvetica,sans-serif;font-size:9pt;\">, watchOS</font><font style=\"font-family:Helvetica,sans-serif;font-size:10pt;\"><sup style=\"vertical-align:top;line-height:120%;font-size:pt\">®</sup></font><font style=\"font-family:Helvetica,sans-serif;font-size:9pt;\"> and tvOS™ operating systems, iCloud</font><font style=\"font-family:Helvetica,sans-serif;font-size:10pt;\"><sup style=\"vertical-align:top;line-height:120%;font-size:pt\">®</sup></font><font style=\"font-family:Helvetica,sans-serif;font-size:9pt;\">, Apple Pay</font><font style=\"font-family:Helvetica,sans-serif;font-size:10pt;\"><sup style=\"vertical-align:top;line-height:120%;font-size:pt\">®</sup></font><font style=\"font-family:Helvetica,sans-serif;font-size:9pt;\"> and a variety of accessory, service and support offerings. The Company sells and delivers digital content and applications through the iTunes Store</font><font style=\"font-family:Helvetica,sans-serif;font-size:10pt;\"><sup style=\"vertical-align:top;line-height:120%;font-size:pt\">®</sup></font><font style=\"font-family:Helvetica,sans-serif;font-size:9pt;\">, App Store</font><font style=\"font-family:Helvetica,sans-serif;font-size:10pt;\"><sup style=\"vertical-align:top;line-height:120%;font-size:pt\">®</sup></font><font style=\"font-family:Helvetica,sans-serif;font-size:9pt;\">, Mac App Store, TV App Store, iBooks Store</font><font style=\"font-family:Helvetica,sans-serif;font-size:10pt;\"><sup style=\"vertical-align:top;line-height:120%;font-size:pt\">®</sup></font><font style=\"font-family:Helvetica,sans-serif;font-size:9pt;\"> and Apple Music</font><font style=\"font-family:Helvetica,sans-serif;font-size:10pt;\"><sup style=\"vertical-align:top;line-height:120%;font-size:pt\">®</sup></font><font style=\"font-family:Helvetica,sans-serif;font-size:9pt;\"> (collectively “Digital Content and Services”). The Company sells its products worldwide through its retail stores, online stores and direct sales force, as well as through third-party cellular network carriers, wholesalers, retailers and value-added resellers. In addition, the Company sells a variety of third-party Apple-compatible products, including application software and various accessories through its retail and online stores. The Company sells to consumers, small and mid-sized businesses and education, enterprise and government customers. The Company’s fiscal year is the 52 or 53-week period that ends on the last Saturday of September. The Company is a California corporation established in 1977.</font></div>\n",
       "<div style=\"line-height:120%;padding-top:24px;text-align:justify;font-size:9pt;\"><font style=\"font-family:Helvetica,sans-serif;font-size:9pt;font-weight:bold;\">Business Strategy</font></div>\n",
       "<div style=\"line-height:120%;padding-top:8px;text-align:justify;font-size:10pt;\"><font style=\"font-family:Helvetica,sans-serif;font-size:9pt;\">The Company is committed to bringing the best user experience to its customers through its innovative hardware, software and services. The Company’s business strategy leverages its unique ability to design and develop its own operating systems, hardware, application software and services to provide its customers products and solutions with innovative design, superior ease-of-use and seamless integration. As part of its strategy, the Company continues to expand its platform for the discovery and delivery of digital content and applications through its Digital Content and Services, which allows customers to discover and download digital content, iOS, Mac, Apple Watch and Apple TV applications, and books through either a Mac or Windows personal computer or through iPhone, iPad and iPod touch</font><font style=\"font-family:Helvetica,sans-serif;font-size:10pt;\"><sup style=\"vertical-align:top;line-height:120%;font-size:pt\">®</sup></font><font style=\"font-family:Helvetica,sans-serif;font-size:9pt;\"> devices (“iOS devices”), Apple TV and Apple Watch. The Company also supports a community for the development of third-party software and hardware products and digital content that complement the Company’s offerings. The Company believes a high-quality buying experience with knowledgeable salespersons who can convey the value of the Company’s products and services greatly enhances its ability to attract and retain customers. Therefore, the Company’s strategy also includes building and expanding its own retail and online stores and its third-party distribution network to effectively reach more customers and provide them with a high-quality sales and post-sales support experience. The Company believes ongoing investment in research and development (“R&amp;D”), marketing and advertising is critical to the development and sale of innovative products, services and technologies.</font></div>\n",
       "<div style=\"line-height:120%;padding-top:24px;text-align:justify;font-size:9pt;\"><font style=\"font-family:Helvetica,sans-serif;font-size:9pt;font-weight:bold;\">Business Organization</font></div>\n",
       "<div style=\"line-height:120%;padding-top:8px;text-align:justify;font-size:9pt;\"><font style=\"font-family:Helvetica,sans-serif;font-size:9pt;\">The Company manages its business primarily on a geographic basis. The Company’s reportable segments consist of the Americas, Europe, Greater China, Japan and Rest of Asia Pacific. Americas includes both North and South America. Europe includes European countries, as well as India, the Middle East and Africa. Greater China includes China, Hong Kong and Taiwan. Rest of Asia Pacific includes Australia and those Asian countries not included in the Company’s other reportable segments. Although the reportable segments provide similar hardware and software products and similar services, each one is managed separately to better align with the location of the Company’s customers and distribution partners and the unique market dynamics of each geographic region. Further information regarding the Company’s reportable segments may be found in Part II, Item 7 of this Form 10-K under the subheading “Segment Operating Performance,” and in Part II, Item 8 of this Form 10-K in the Notes to Consolidated Financial Statements in Note 11, “Segment Information and Geographic Data.”</font></div>\n",
       "<div><br/></div>\n",
       "\n",
       "<div></div>\n",
       "<div><br/></div>\n",
       "<div style=\"line-height:120%;padding-top:24px;text-align:justify;font-size:9pt;\"><font style=\"font-family:Helvetica,sans-serif;font-size:9pt;font-weight:bold;\">Products</font></div>\n",
       "<div style=\"line-height:120%;padding-top:12px;text-align:justify;font-size:9pt;\"><font style=\"font-family:Helvetica,sans-serif;font-size:9pt;font-style:italic;\">iPhone</font></div>\n",
       "<div style=\"line-height:120%;padding-top:8px;text-align:justify;font-size:10pt;\"><font style=\"font-family:Helvetica,sans-serif;font-size:9pt;\">iPhone is the Company’s line of smartphones based on its iOS operating system. iPhone includes Siri</font><font style=\"font-family:Helvetica,sans-serif;font-size:10pt;\"><sup style=\"vertical-align:top;line-height:120%;font-size:pt\">®</sup></font><font style=\"font-family:Helvetica,sans-serif;font-size:9pt;\">, a voice-activated intelligent assistant, and Apple Pay and Touch ID</font><font style=\"font-family:Helvetica,sans-serif;font-size:10pt;\"><sup style=\"vertical-align:top;line-height:120%;font-size:pt\">®</sup></font><font style=\"font-family:Helvetica,sans-serif;font-size:9pt;\"> on qualifying devices. In September 2017, the Company introduced iPhone 8 and 8 Plus, featuring a new glass and aluminum design, enhanced cameras and speakers, wireless charging and augmented reality optimization. Additionally, in September 2017, the Company announced iPhone X, featuring an all-glass design with a Super Retina™ OLED display and facial recognition. iPhone 8 and 8 Plus were available starting in September 2017, and iPhone X is expected to be available in November 2017. The Company’s line of smartphones also includes iPhone 7, 7 Plus, 6s, 6s Plus and SE models. iPhone works with the iTunes Store, App Store, iBooks Store and Apple Music for purchasing, organizing and playing digital content and apps.</font></div>\n",
       "<div style=\"line-height:120%;padding-top:24px;text-align:justify;font-size:9pt;\"><font style=\"font-family:Helvetica,sans-serif;font-size:9pt;font-style:italic;\">iPad</font></div>\n",
       "<div style=\"line-height:120%;padding-top:8px;text-align:justify;font-size:10pt;\"><font style=\"font-family:Helvetica,sans-serif;font-size:9pt;\">iPad is the Company’s line of multi-purpose tablets based on its iOS operating system, which includes iPad Pro</font><font style=\"font-family:Helvetica,sans-serif;font-size:10pt;\"><sup style=\"vertical-align:top;line-height:120%;font-size:pt\">®</sup></font><font style=\"font-family:Helvetica,sans-serif;font-size:9pt;\">, iPad and iPad mini™. iPad includes Siri, Apple Pay and Touch ID. In June 2017, the Company released a new 10.5-inch iPad Pro and an updated 12.9-inch iPad Pro with more advanced displays and enhanced performance. iPad works with the iTunes Store, App Store, iBooks Store and Apple Music for purchasing, organizing and playing digital content and apps.</font></div>\n",
       "<div style=\"line-height:120%;padding-top:24px;text-align:justify;font-size:9pt;\"><font style=\"font-family:Helvetica,sans-serif;font-size:9pt;font-style:italic;\">Mac</font></div>\n",
       "<div style=\"line-height:120%;padding-top:8px;text-align:justify;font-size:10pt;\"><font style=\"font-family:Helvetica,sans-serif;font-size:9pt;\">Mac is the Company’s line of desktop and portable personal computers based on its macOS operating system. Mac includes Siri and Apple Pay and also includes Touch ID on qualifying devices. The Company’s desktop computers include iMac</font><font style=\"font-family:Helvetica,sans-serif;font-size:10pt;\"><sup style=\"vertical-align:top;line-height:120%;font-size:pt\">®</sup></font><font style=\"font-family:Helvetica,sans-serif;font-size:9pt;\">, 21.5” iMac with Retina</font><font style=\"font-family:Helvetica,sans-serif;font-size:10pt;\"><sup style=\"vertical-align:top;line-height:120%;font-size:pt\">®</sup></font><font style=\"font-family:Helvetica,sans-serif;font-size:9pt;\"> 4K display, 27” iMac with Retina 5K display, Mac Pro</font><font style=\"font-family:Helvetica,sans-serif;font-size:10pt;\"><sup style=\"vertical-align:top;line-height:120%;font-size:pt\">®</sup></font><font style=\"font-family:Helvetica,sans-serif;font-size:9pt;\"> and Mac mini</font><font style=\"font-family:Helvetica,sans-serif;font-size:10pt;\"><sup style=\"vertical-align:top;line-height:120%;font-size:pt\">®</sup></font><font style=\"font-family:Helvetica,sans-serif;font-size:9pt;\">. In June 2017, the Company announced the new iMac Pro™, which is expected to be available in December 2017. The Company’s portable computers include MacBook</font><font style=\"font-family:Helvetica,sans-serif;font-size:10pt;\"><sup style=\"vertical-align:top;line-height:120%;font-size:pt\">®</sup></font><font style=\"font-family:Helvetica,sans-serif;font-size:9pt;\">, MacBook Air</font><font style=\"font-family:Helvetica,sans-serif;font-size:10pt;\"><sup style=\"vertical-align:top;line-height:120%;font-size:pt\">®</sup></font><font style=\"font-family:Helvetica,sans-serif;font-size:9pt;\">, MacBook Pro</font><font style=\"font-family:Helvetica,sans-serif;font-size:10pt;\"><sup style=\"vertical-align:top;line-height:120%;font-size:pt\">®</sup></font><font style=\"font-family:Helvetica,sans-serif;font-size:9pt;\"> and MacBook Pro with Touch Bar™.</font></div>\n",
       "<div style=\"line-height:120%;padding-top:24px;text-align:justify;font-size:9pt;\"><font style=\"font-family:Helvetica,sans-serif;font-size:9pt;font-style:italic;\">Operating Systems</font></div>\n",
       "<div style=\"line-height:120%;padding-top:12px;text-align:justify;font-size:9pt;\"><font style=\"font-family:Helvetica,sans-serif;font-size:9pt;\">iOS</font></div>\n",
       "<div style=\"line-height:120%;padding-top:8px;text-align:justify;font-size:9pt;\"><font style=\"font-family:Helvetica,sans-serif;font-size:9pt;\">iOS is the Company’s mobile operating system that serves as the foundation for iOS devices. Devices running iOS are compatible with both Mac and Windows personal computers and Apple’s iCloud services. In September 2017, the Company released iOS 11, which includes new iPad features, new capabilities to improve images in Photos and Camera, enhanced Siri functionality and a redesigned App Store. iOS 11 also introduces ARKit, an augmented reality framework for developers.</font></div>\n",
       "<div style=\"line-height:120%;padding-top:24px;text-align:justify;font-size:9pt;\"><font style=\"font-family:Helvetica,sans-serif;font-size:9pt;\">macOS</font></div>\n",
       "<div style=\"line-height:120%;padding-top:8px;text-align:justify;font-size:10pt;\"><font style=\"font-family:Helvetica,sans-serif;font-size:9pt;\">macOS is the Company’s desktop operating system and is built on an open-source UNIX-based foundation and provides an intuitive and integrated computer experience. Support for iCloud is built into macOS so users can access content and information from Mac, iOS devices and other supported devices and access downloaded content and apps from the iTunes Store. macOS High Sierra, released in September 2017, is the 14th major release of macOS and incorporates new storage, video and graphics technologies, and includes improvements to Photos, Safari</font><font style=\"font-family:Helvetica,sans-serif;font-size:10pt;\"><sup style=\"vertical-align:top;line-height:120%;font-size:pt\">®</sup></font><font style=\"font-family:Helvetica,sans-serif;font-size:9pt;\"> and Mail.</font></div>\n",
       "<div style=\"line-height:120%;padding-top:24px;text-align:justify;font-size:9pt;\"><font style=\"font-family:Helvetica,sans-serif;font-size:9pt;\">watchOS</font></div>\n",
       "<div style=\"line-height:120%;padding-top:8px;text-align:justify;font-size:9pt;\"><font style=\"font-family:Helvetica,sans-serif;font-size:9pt;\">watchOS is the Company’s operating system for Apple Watch. In September 2017, the Company released watchOS 4, which adds a proactive Siri watch face that displays the information users need most throughout the day, personalized activity coaching and a new music experience. watchOS 4 also includes an enhanced Workout app and introduces GymKit™, a technology platform that offers users connected workouts with cardio equipment.</font></div>\n",
       "<div style=\"line-height:120%;padding-top:24px;text-align:justify;font-size:9pt;\"><font style=\"font-family:Helvetica,sans-serif;font-size:9pt;\">tvOS</font></div>\n",
       "<div style=\"line-height:120%;padding-top:8px;text-align:justify;font-size:9pt;\"><font style=\"font-family:Helvetica,sans-serif;font-size:9pt;\">tvOS is the Company’s operating system for Apple TV. The tvOS operating system is based on the Company’s iOS platform and enables developers to create new apps and games specifically for Apple TV and deliver them to customers through the Apple TV App Store. tvOS incorporates Siri capabilities that allow searching across apps and services.</font></div>\n",
       "<div><br/></div>\n",
       "\n",
       "<div></div>\n",
       "<div><br/></div>\n",
       "<div style=\"line-height:120%;padding-top:24px;text-align:justify;font-size:9pt;\"><font style=\"font-family:Helvetica,sans-serif;font-size:9pt;font-style:italic;\">Application Software</font></div>\n",
       "<div style=\"line-height:120%;padding-top:8px;text-align:justify;font-size:10pt;\"><font style=\"font-family:Helvetica,sans-serif;font-size:9pt;\">The Company’s application software includes iWork</font><font style=\"font-family:Helvetica,sans-serif;font-size:10pt;\"><sup style=\"vertical-align:top;line-height:120%;font-size:pt\">®</sup></font><font style=\"font-family:Helvetica,sans-serif;font-size:9pt;\"> and various other software, including Final Cut Pro</font><font style=\"font-family:Helvetica,sans-serif;font-size:10pt;\"><sup style=\"vertical-align:top;line-height:120%;font-size:pt\">®</sup></font><font style=\"font-family:Helvetica,sans-serif;font-size:9pt;\">, Logic Pro</font><font style=\"font-family:Helvetica,sans-serif;font-size:10pt;\"><sup style=\"vertical-align:top;line-height:120%;font-size:pt\">®</sup></font><font style=\"font-family:Helvetica,sans-serif;font-size:9pt;\"> X and FileMaker</font><font style=\"font-family:Helvetica,sans-serif;font-size:10pt;\"><sup style=\"vertical-align:top;line-height:120%;font-size:pt\">®</sup></font><font style=\"font-family:Helvetica,sans-serif;font-size:9pt;\"> Pro. iWork is the Company’s integrated productivity suite included with all Mac computers and is designed to help users create, present and publish documents through Pages</font><font style=\"font-family:Helvetica,sans-serif;font-size:10pt;\"><sup style=\"vertical-align:top;line-height:120%;font-size:pt\">®</sup></font><font style=\"font-family:Helvetica,sans-serif;font-size:9pt;\">, presentations through Keynote</font><font style=\"font-family:Helvetica,sans-serif;font-size:10pt;\"><sup style=\"vertical-align:top;line-height:120%;font-size:pt\">®</sup></font><font style=\"font-family:Helvetica,sans-serif;font-size:9pt;\"> and spreadsheets through Numbers</font><font style=\"font-family:Helvetica,sans-serif;font-size:10pt;\"><sup style=\"vertical-align:top;line-height:120%;font-size:pt\">®</sup></font><font style=\"font-family:Helvetica,sans-serif;font-size:9pt;\">. The Company also has Multi-Touch™ versions of iWork applications designed specifically for use on iOS devices, which are available as free downloads for all new iOS devices.</font></div>\n",
       "<div style=\"line-height:120%;padding-top:24px;text-align:justify;font-size:9pt;\"><font style=\"font-family:Helvetica,sans-serif;font-size:9pt;font-style:italic;\">Services</font></div>\n",
       "<div style=\"line-height:120%;padding-top:12px;text-align:justify;font-size:9pt;\"><font style=\"font-family:Helvetica,sans-serif;font-size:9pt;\">Digital Content and Services</font></div>\n",
       "<div style=\"line-height:120%;padding-top:8px;text-align:justify;font-size:9pt;\"><font style=\"font-family:Helvetica,sans-serif;font-size:9pt;\">The iTunes Store, available for iOS devices, Mac and Windows personal computers and Apple TV, allows customers to purchase and download music and TV shows, rent or purchase movies and download free podcasts. The App Store, available for iOS devices, allows customers to discover and download apps and purchase in-app content. The Mac App Store, available for Mac computers, allows customers to discover, download and install Mac applications. The TV App Store allows customers access to apps and games specifically for Apple TV. The iBooks Store, available for iOS devices and Mac computers, features e-books from major and independent publishers. Apple Music offers users a curated listening experience with on-demand radio stations that evolve based on a user’s play or download activity and a subscription-based internet streaming service that also provides unlimited access to the Apple Music library.</font></div>\n",
       "<div style=\"line-height:120%;padding-top:24px;text-align:justify;font-size:9pt;\"><font style=\"font-family:Helvetica,sans-serif;font-size:9pt;\">iCloud</font></div>\n",
       "<div style=\"line-height:120%;padding-top:8px;text-align:justify;font-size:10pt;\"><font style=\"font-family:Helvetica,sans-serif;font-size:9pt;\">iCloud is the Company’s cloud service which stores music, photos, contacts, calendars, mail, documents and more, keeping them up-to-date and available across multiple iOS devices, Mac and Windows personal computers and Apple TV. iCloud services include iCloud Drive</font><font style=\"font-family:Helvetica,sans-serif;font-size:10pt;\"><sup style=\"vertical-align:top;line-height:120%;font-size:pt\">®</sup></font><font style=\"font-family:Helvetica,sans-serif;font-size:9pt;\">, iCloud Photo Library, Family Sharing, Find My iPhone, iPad or Mac, Find My Friends, Notes, iCloud Keychain</font><font style=\"font-family:Helvetica,sans-serif;font-size:10pt;\"><sup style=\"vertical-align:top;line-height:120%;font-size:pt\">®</sup></font><font style=\"font-family:Helvetica,sans-serif;font-size:9pt;\"> and iCloud Backup for iOS devices.</font></div>\n",
       "<div style=\"line-height:120%;padding-top:24px;text-align:justify;font-size:9pt;\"><font style=\"font-family:Helvetica,sans-serif;font-size:9pt;\">AppleCare</font></div>\n",
       "<div style=\"line-height:120%;padding-top:8px;text-align:justify;font-size:10pt;\"><font style=\"font-family:Helvetica,sans-serif;font-size:9pt;\">The Company offers a range of support options for its customers. These include assistance that is built into software products, electronic product manuals, online support including comprehensive product information as well as technical assistance, the AppleCare</font><font style=\"font-family:Helvetica,sans-serif;font-size:10pt;\"><sup style=\"vertical-align:top;line-height:120%;font-size:pt\">®</sup></font><font style=\"font-family:Helvetica,sans-serif;font-size:9pt;\"> Protection Plan (“APP”) and AppleCare+ (“AC+”). APP and AC+ are fee-based services that extend the coverage of phone support eligibility and hardware warranty repairs. APP and AC+ offer additional coverage under some circumstances for instances of accidental damage and are available in certain countries for certain products.</font></div>\n",
       "<div style=\"line-height:120%;padding-top:24px;text-align:justify;font-size:9pt;\"><font style=\"font-family:Helvetica,sans-serif;font-size:9pt;\">Apple Pay</font></div>\n",
       "<div style=\"line-height:120%;padding-top:8px;text-align:justify;font-size:9pt;\"><font style=\"font-family:Helvetica,sans-serif;font-size:9pt;\">Apple Pay is the Company’s cashless payment service available in certain countries that offers an easy, secure and private way to pay. Apple Pay allows users to pay for purchases in participating stores accepting contactless payments and to pay for purchases within participating apps on qualifying devices. Apple Pay accepts credit and debit cards across major card networks and also supports reward programs and store-issued credit and debit cards. The Company expects to release an update to iOS 11 and watchOS 4 in fall 2017 that will allow peer-to-peer payments using Apple Pay.</font></div>\n",
       "<div style=\"line-height:120%;padding-top:24px;text-align:justify;font-size:9pt;\"><font style=\"font-family:Helvetica,sans-serif;font-size:9pt;font-style:italic;\">Other Products</font></div>\n",
       "<div style=\"line-height:120%;padding-top:12px;text-align:justify;font-size:9pt;\"><font style=\"font-family:Helvetica,sans-serif;font-size:9pt;\">Accessories</font></div>\n",
       "<div style=\"line-height:120%;padding-top:8px;text-align:justify;font-size:10pt;\"><font style=\"font-family:Helvetica,sans-serif;font-size:9pt;\">The Company sells a variety of Apple-branded and third-party accessories, including Beats</font><font style=\"font-family:Helvetica,sans-serif;font-size:10pt;\"><sup style=\"vertical-align:top;line-height:120%;font-size:pt\">®</sup></font><font style=\"font-family:Helvetica,sans-serif;font-size:9pt;\"> products, headphones, displays, storage devices, and various other connectivity and computing products and supplies. In December 2016, the Company released AirPods</font><font style=\"font-family:Helvetica,sans-serif;font-size:10pt;\"><sup style=\"vertical-align:top;line-height:120%;font-size:pt\">®</sup></font><font style=\"font-family:Helvetica,sans-serif;font-size:9pt;\">, new wireless headphones that interact with Siri. Additionally, in June 2017, the Company announced the HomePod™ wireless speaker and in September 2017, announced AirPower™, a new wireless charging accessory, which are expected to be available in December 2017 and calendar year 2018, respectively.</font></div>\n",
       "<div style=\"line-height:120%;padding-top:24px;text-align:justify;font-size:9pt;\"><font style=\"font-family:Helvetica,sans-serif;font-size:9pt;\">Apple TV</font></div>\n",
       "<div style=\"line-height:120%;padding-top:8px;text-align:justify;font-size:10pt;\"><font style=\"font-family:Helvetica,sans-serif;font-size:9pt;\">Apple TV connects to consumers’ TVs and enables them to access digital content directly for streaming video, playing music and games, and viewing photos. Content from Apple Music and other media services is also available on Apple TV. Apple TV allows streaming digital content from Mac and Windows personal computers through Home Share and from compatible Mac and iOS devices through AirPlay</font><font style=\"font-family:Helvetica,sans-serif;font-size:10pt;\"><sup style=\"vertical-align:top;line-height:120%;font-size:pt\">®</sup></font><font style=\"font-family:Helvetica,sans-serif;font-size:9pt;\">. Apple TV runs on the Company’s tvOS operating system and is based on apps built for the television. Additionally, the Apple TV remote features Siri, allowing users to search and access content with their voice. In September 2017, the Company introduced Apple TV 4K, which supports 4K and High Dynamic Range content, providing customers with enhanced picture quality.</font></div>\n",
       "<div><br/></div>\n",
       "\n",
       "<div></div>\n",
       "<div><br/></div>\n",
       "<div style=\"line-height:120%;padding-top:24px;text-align:justify;font-size:9pt;\"><font style=\"font-family:Helvetica,sans-serif;font-size:9pt;\">Apple Watch</font></div>\n",
       "<div style=\"line-height:120%;padding-top:8px;text-align:justify;font-size:9pt;\"><font style=\"font-family:Helvetica,sans-serif;font-size:9pt;\">Apple Watch is a personal electronic device that combines the watchOS user interface and technologies created specifically for a smaller device, including the Digital Crown™, a unique navigation tool that allows users to seamlessly scroll, zoom and navigate, and Force Touch, a technology that senses the difference between a tap and a press and allows users to access controls within apps. Apple Watch enables users to communicate in new ways from their wrist, track their health and fitness through activity and workout apps, and includes Siri and Apple Pay. In September 2017, the Company introduced Apple Watch Series 3, featuring health and fitness enhancements and built-in cellular capability on qualifying devices.</font></div>\n",
       "<div style=\"line-height:120%;padding-top:24px;text-align:justify;font-size:9pt;\"><font style=\"font-family:Helvetica,sans-serif;font-size:9pt;\">iPod touch</font></div>\n",
       "<div style=\"line-height:120%;padding-top:8px;text-align:justify;font-size:9pt;\"><font style=\"font-family:Helvetica,sans-serif;font-size:9pt;\">iPod touch, based on the Company’s iOS operating system, is a flash memory-based digital music and media player that works with the iTunes Store, App Store, iBooks Store and Apple Music for purchasing and playing digital content and apps.</font></div>\n",
       "<div style=\"line-height:120%;padding-top:24px;text-align:justify;font-size:9pt;\"><font style=\"font-family:Helvetica,sans-serif;font-size:9pt;font-weight:bold;\">Developer Programs</font></div>\n",
       "<div style=\"line-height:120%;padding-top:8px;text-align:justify;font-size:10pt;\"><font style=\"font-family:Helvetica,sans-serif;font-size:9pt;\">The Company’s developer programs support app developers with building, testing and distributing apps for iOS, macOS, watchOS and tvOS. Developer program membership provides access to beta software and advanced app capabilities (e.g., CloudKit</font><font style=\"font-family:Helvetica,sans-serif;font-size:10pt;\"><sup style=\"vertical-align:top;line-height:120%;font-size:pt\">®</sup></font><font style=\"font-family:Helvetica,sans-serif;font-size:9pt;\">, HealthKit™ and Apple Pay), the ability to test apps using TestFlight</font><font style=\"font-family:Helvetica,sans-serif;font-size:10pt;\"><sup style=\"vertical-align:top;line-height:120%;font-size:pt\">®</sup></font><font style=\"font-family:Helvetica,sans-serif;font-size:9pt;\">, distribution on the App Store, access to App Analytics and code-level technical support. Developer programs also exist for businesses creating apps for internal use (the Apple Developer Enterprise Program) and developers creating accessories for Apple devices (the MFi Program). All developers, even those who are not developer program members, can sign in with their Apple ID to post on the Apple Developer Forums and use Xcode</font><font style=\"font-family:Helvetica,sans-serif;font-size:10pt;\"><sup style=\"vertical-align:top;line-height:120%;font-size:pt\">®</sup></font><font style=\"font-family:Helvetica,sans-serif;font-size:9pt;\">, the Company’s integrated development environment for creating apps for Apple platforms. Xcode includes project management tools; analysis tools to collect, display and compare app performance data; simulation tools to locally run, test and debug apps; and tools to simplify the design and development of user interfaces. All developers also have access to extensive technical documentation and sample code.</font></div>\n",
       "<div style=\"line-height:120%;padding-top:24px;text-align:justify;font-size:9pt;\"><font style=\"font-family:Helvetica,sans-serif;font-size:9pt;font-weight:bold;\">Markets and Distribution</font></div>\n",
       "<div style=\"line-height:120%;padding-top:8px;text-align:justify;font-size:9pt;\"><font style=\"font-family:Helvetica,sans-serif;font-size:9pt;\">The Company’s customers are primarily in the consumer, small and mid-sized business, education, enterprise and government markets. The Company sells its products and resells third-party products in most of its major markets directly to consumers and small and mid-sized businesses through its retail and online stores and its direct sales force. The Company also employs a variety of indirect distribution channels, such as third-party cellular network carriers, wholesalers, retailers and value-added resellers. During </font><font style=\"font-family:Helvetica,sans-serif;font-size:9pt;\">2017</font><font style=\"font-family:Helvetica,sans-serif;font-size:9pt;\">, the Company’s net sales through its direct and indirect distribution channels accounted for 28% and 72%, respectively, of total net sales.</font></div>\n",
       "<div style=\"line-height:120%;padding-top:16px;text-align:justify;font-size:9pt;\"><font style=\"font-family:Helvetica,sans-serif;font-size:9pt;\">The Company believes that sales of its innovative and differentiated products and services are enhanced by knowledgeable salespersons who can convey the value of the hardware and software integration and demonstrate the unique solutions that are available on its products. The Company further believes providing direct contact with its targeted customers is an effective way to demonstrate the advantages of its products over those of its competitors and providing a high-quality sales and after-sales support experience is critical to attracting new and retaining existing customers.</font></div>\n",
       "<div style=\"line-height:120%;padding-top:16px;text-align:justify;font-size:9pt;\"><font style=\"font-family:Helvetica,sans-serif;font-size:9pt;\">To ensure a high-quality buying experience for its products in which service and education are emphasized, the Company continues to build and improve its distribution capabilities by expanding the number of its own retail stores worldwide. The Company’s retail stores are typically located at high-traffic locations in quality shopping malls and urban shopping districts. By operating its own stores and locating them in desirable high-traffic locations the Company is better positioned to ensure a high-quality customer buying experience and attract new customers. The stores are designed to simplify and enhance the presentation and marketing of the Company’s products and related solutions. The retail stores employ experienced and knowledgeable personnel who provide product advice, service and training, and offer a wide selection of third-party hardware, software and other accessories that complement the Company’s products.</font></div>\n",
       "<div style=\"line-height:120%;padding-top:16px;text-align:justify;font-size:9pt;\"><font style=\"font-family:Helvetica,sans-serif;font-size:9pt;\">The Company has also invested in programs to enhance reseller sales by placing high-quality Apple fixtures, merchandising materials and other resources within selected third-party reseller locations. Through the Apple Premium Reseller Program, certain third-party resellers focus on the Apple platform by providing a high level of product expertise, integration and support services.</font></div>\n",
       "<div style=\"line-height:120%;padding-top:16px;text-align:justify;font-size:10pt;\"><font style=\"font-family:Helvetica,sans-serif;font-size:9pt;\">The Company is committed to delivering solutions to help educators teach and students learn. The Company believes effective integration of technology into classroom instruction can result in higher levels of student achievement and has designed a range of products, services and programs to address the needs of education customers. The Company also supports mobile learning and real-time distribution of, and access to, education-related materials through iTunes U</font><font style=\"font-family:Helvetica,sans-serif;font-size:10pt;\"><sup style=\"vertical-align:top;line-height:120%;font-size:pt\">®</sup></font><font style=\"font-family:Helvetica,sans-serif;font-size:9pt;\">, a platform that allows students and teachers to share and distribute educational media online. The Company sells its products to the education market through its direct sales force, select third-party resellers and its retail and online stores.</font></div>\n",
       "<div><br/></div>\n",
       "\n",
       "<div></div>\n",
       "<div><br/></div>\n",
       "<div style=\"line-height:120%;padding-top:16px;text-align:justify;font-size:9pt;\"><font style=\"font-family:Helvetica,sans-serif;font-size:9pt;\">The Company also sells its hardware and software products to enterprise and government customers in each of its reportable segments. The Company’s products are deployed in these markets because of their performance, productivity, ease-of-use and seamless integration into information technology environments. The Company’s products are compatible with thousands of third-party business applications and services, and its tools enable the development and secure deployment of custom applications as well as remote device administration.</font></div>\n",
       "<div style=\"line-height:120%;padding-top:16px;text-align:justify;font-size:9pt;\"><font style=\"font-family:Helvetica,sans-serif;font-size:9pt;\">No single customer accounted for more than 10% of net sales in </font><font style=\"font-family:Helvetica,sans-serif;font-size:9pt;\">2017</font><font style=\"font-family:Helvetica,sans-serif;font-size:9pt;\">, </font><font style=\"font-family:Helvetica,sans-serif;font-size:9pt;\">2016</font><font style=\"font-family:Helvetica,sans-serif;font-size:9pt;\"> and </font><font style=\"font-family:Helvetica,sans-serif;font-size:9pt;\">2015</font><font style=\"font-family:Helvetica,sans-serif;font-size:9pt;\">.</font></div>\n",
       "<div style=\"line-height:120%;padding-top:24px;text-align:justify;font-size:9pt;\"><font style=\"font-family:Helvetica,sans-serif;font-size:9pt;font-weight:bold;\">Competition</font></div>\n",
       "<div style=\"line-height:120%;padding-top:8px;text-align:justify;font-size:9pt;\"><font style=\"font-family:Helvetica,sans-serif;font-size:9pt;\">The markets for the Company’s products and services are highly competitive and the Company is confronted by aggressive competition in all areas of its business. These markets are characterized by frequent product introductions and rapid technological advances that have substantially increased the capabilities and use of mobile communication and media devices, personal computers and other digital electronic devices. Many of the Company’s competitors that sell mobile devices and personal computers based on other operating systems seek to compete primarily through aggressive pricing and very low cost structures. The Company’s financial condition and operating results can be adversely affected by these and other industry-wide downward pressures on gross margins. Principal competitive factors important to the Company include price, product features (including security features), relative price and performance, product quality and reliability, design innovation, a strong third-party software and accessories ecosystem, marketing and distribution capability, service and support and corporate reputation.</font></div>\n",
       "<div style=\"line-height:120%;padding-top:16px;text-align:justify;font-size:9pt;\"><font style=\"font-family:Helvetica,sans-serif;font-size:9pt;\">The Company is focused on expanding its market opportunities related to personal computers and mobile communication and media devices. These markets are highly competitive and include many large, well-funded and experienced participants. The Company expects competition in these markets to intensify significantly as competitors attempt to imitate some of the features of the Company’s products and applications within their own products or, alternatively, collaborate with each other to offer solutions that are more competitive than those they currently offer. These markets are characterized by aggressive price competition, frequent product introductions, evolving design approaches and technologies, rapid adoption of technological and product advancements by competitors and price sensitivity on the part of consumers and businesses.</font></div>\n",
       "<div style=\"line-height:120%;padding-top:16px;text-align:justify;font-size:9pt;\"><font style=\"font-family:Helvetica,sans-serif;font-size:9pt;\">The Company’s digital content services have faced significant competition from other companies promoting their own digital music and content products and services, including those offering free peer-to-peer music and video services.</font></div>\n",
       "<div style=\"line-height:120%;padding-top:16px;text-align:justify;font-size:9pt;\"><font style=\"font-family:Helvetica,sans-serif;font-size:9pt;\">The Company’s future financial condition and operating results depend on the Company’s ability to continue to develop and offer new innovative products and services in each of the markets in which it competes. The Company believes it offers superior innovation and integration of the entire solution including the hardware (iOS devices, Mac, Apple Watch and Apple TV), software (iOS, macOS, watchOS and tvOS), online services and distribution of digital content and applications (Digital Content and Services). Some of the Company’s current and potential competitors have substantial resources and may be able to provide such products and services at little or no profit or even at a loss to compete with the Company’s offerings.</font></div>\n",
       "<div style=\"line-height:120%;padding-top:24px;text-align:justify;font-size:9pt;\"><font style=\"font-family:Helvetica,sans-serif;font-size:9pt;font-weight:bold;\">Supply of Components</font></div>\n",
       "<div style=\"line-height:120%;padding-top:8px;text-align:justify;font-size:9pt;\"><font style=\"font-family:Helvetica,sans-serif;font-size:9pt;\">Although most components essential to the Company’s business are generally available from multiple sources, a few components are currently obtained from single or limited sources. In addition, the Company competes for various components with other participants in the markets for mobile communication and media devices and personal computers. Therefore, many components used by the Company, including those that are available from multiple sources, are at times subject to industry-wide shortage and significant pricing fluctuations that could materially adversely affect the Company’s financial condition and operating results.</font></div>\n",
       "<div style=\"line-height:120%;padding-top:16px;text-align:justify;font-size:9pt;\"><font style=\"font-family:Helvetica,sans-serif;font-size:9pt;\">The Company uses some custom components that are not commonly used by its competitors, and new products introduced by the Company often utilize custom components available from only one source. When a component or product uses new technologies, initial capacity constraints may exist until the suppliers’ yields have matured or manufacturing capacity has increased. If the Company’s supply of components for a new or existing product were delayed or constrained, or if an outsourcing partner delayed shipments of completed products to the Company, the Company’s financial condition and operating results could be materially adversely affected. The Company’s business and financial performance could also be materially adversely affected depending on the time required to obtain sufficient quantities from the original source, or to identify and obtain sufficient quantities from an alternative source. Continued availability of these components at acceptable prices, or at all, may be affected if those suppliers decide to concentrate on the production of common components instead of components customized to meet the Company’s requirements.</font></div>\n",
       "<div style=\"line-height:120%;padding-top:16px;text-align:justify;font-size:9pt;\"><font style=\"font-family:Helvetica,sans-serif;font-size:9pt;\">The Company has entered into agreements for the supply of many components; however, there can be no guarantee that the Company will be able to extend or renew these agreements on similar terms, or at all. Therefore, the Company remains subject to significant risks of supply shortages and price increases that could materially adversely affect its financial condition and operating results.</font></div>\n",
       "<div><br/></div>\n",
       "\n",
       "<div></div>\n",
       "<div><br/></div>\n",
       "<div style=\"line-height:120%;padding-top:16px;text-align:justify;font-size:9pt;\"><font style=\"font-family:Helvetica,sans-serif;font-size:9pt;\">Substantially all of the Company’s hardware products are currently manufactured by outsourcing partners that are located primarily in Asia, with some Mac computers manufactured in the U.S. and Ireland. A significant concentration of this manufacturing is currently performed by a small number of outsourcing partners, often in single locations. Certain of these outsourcing partners are the sole-sourced suppliers of components and manufacturers for many of the Company’s products. Although the Company works closely with its outsourcing partners on manufacturing schedules, the Company’s operating results could be adversely affected if its outsourcing partners were unable to meet their production commitments. The Company’s manufacturing purchase obligations typically cover its requirements for periods up to </font><font style=\"font-family:Helvetica,sans-serif;font-size:9pt;\">150 days</font><font style=\"font-family:Helvetica,sans-serif;font-size:9pt;\">.</font></div>\n",
       "<div style=\"line-height:120%;padding-top:24px;text-align:justify;font-size:9pt;\"><font style=\"font-family:Helvetica,sans-serif;font-size:9pt;font-weight:bold;\">Research and Development</font></div>\n",
       "<div style=\"line-height:120%;padding-top:8px;text-align:justify;font-size:9pt;\"><font style=\"font-family:Helvetica,sans-serif;font-size:9pt;\">Because the industries in which the Company competes are characterized by rapid technological advances, the Company’s ability to compete successfully depends heavily upon its ability to ensure a continual and timely flow of competitive products, services and technologies to the marketplace. The Company continues to develop new technologies to enhance existing products and services, and to expand the range of its offerings through R&amp;D, licensing of intellectual property and acquisition of third-party businesses and technology. Total R&amp;D expense was $</font><font style=\"font-family:Helvetica,sans-serif;font-size:9pt;\">11.6 billion</font><font style=\"font-family:Helvetica,sans-serif;font-size:9pt;\">, $</font><font style=\"font-family:Helvetica,sans-serif;font-size:9pt;\">10.0 billion</font><font style=\"font-family:Helvetica,sans-serif;font-size:9pt;\"> and $</font><font style=\"font-family:Helvetica,sans-serif;font-size:9pt;\">8.1 billion</font><font style=\"font-family:Helvetica,sans-serif;font-size:9pt;\"> in </font><font style=\"font-family:Helvetica,sans-serif;font-size:9pt;\">2017</font><font style=\"font-family:Helvetica,sans-serif;font-size:9pt;\">, </font><font style=\"font-family:Helvetica,sans-serif;font-size:9pt;\">2016</font><font style=\"font-family:Helvetica,sans-serif;font-size:9pt;\"> and </font><font style=\"font-family:Helvetica,sans-serif;font-size:9pt;\">2015</font><font style=\"font-family:Helvetica,sans-serif;font-size:9pt;\">, respectively.</font></div>\n",
       "<div style=\"line-height:120%;padding-top:24px;text-align:justify;font-size:9pt;\"><font style=\"font-family:Helvetica,sans-serif;font-size:9pt;font-weight:bold;\">Intellectual Property</font></div>\n",
       "<div style=\"line-height:120%;padding-top:8px;text-align:justify;font-size:9pt;\"><font style=\"font-family:Helvetica,sans-serif;font-size:9pt;\">The Company currently holds a broad collection of intellectual property rights relating to certain aspects of its hardware devices, accessories, software and services. This includes patents, copyrights, trademarks, service marks, trade dress and other forms of intellectual property rights in the U.S. and a number of foreign countries. Although the Company believes the ownership of such intellectual property rights is an important factor in its business and that its success does depend in part on such ownership, the Company relies primarily on the innovative skills, technical competence and marketing abilities of its personnel.</font></div>\n",
       "<div style=\"line-height:120%;padding-top:16px;text-align:justify;font-size:9pt;\"><font style=\"font-family:Helvetica,sans-serif;font-size:9pt;\">The Company regularly files patent applications to protect innovations arising from its research, development and design, and is currently pursuing thousands of patent applications around the world. Over time, the Company has accumulated a large portfolio of issued patents, including utility patents, design patents and others. The Company also holds copyrights relating to certain aspects of its products and services. No single intellectual property right is solely responsible for protecting the Company’s products. The Company believes the duration of its intellectual property rights is adequate relative to the expected lives of its products.</font></div>\n",
       "<div style=\"line-height:120%;padding-top:16px;text-align:justify;font-size:9pt;\"><font style=\"font-family:Helvetica,sans-serif;font-size:9pt;\">Many of the Company’s products are designed to include intellectual property obtained from third parties. It may be necessary in the future to seek or renew licenses relating to various aspects of its products, processes and services. While the Company has generally been able to obtain such licenses on commercially reasonable terms in the past, there is no guarantee that such licenses could be obtained in the future on reasonable terms or at all. Because of technological changes in the industries in which the Company competes, current extensive patent coverage and the rapid rate of issuance of new patents, it is possible that certain components of the Company’s products, processes and services may unknowingly infringe existing patents or intellectual property rights of others. From time to time, the Company has been notified that it may be infringing certain patents or other intellectual property rights of third parties.</font></div>\n",
       "<div style=\"line-height:120%;padding-top:24px;text-align:justify;font-size:9pt;\"><font style=\"font-family:Helvetica,sans-serif;font-size:9pt;font-weight:bold;\">Foreign and Domestic Operations and Geographic Data</font></div>\n",
       "<div style=\"line-height:120%;padding-top:8px;text-align:justify;font-size:9pt;\"><font style=\"font-family:Helvetica,sans-serif;font-size:9pt;\">During </font><font style=\"font-family:Helvetica,sans-serif;font-size:9pt;\">2017</font><font style=\"font-family:Helvetica,sans-serif;font-size:9pt;\">, the Company’s domestic and international net sales accounted for </font><font style=\"font-family:Helvetica,sans-serif;font-size:9pt;\">37%</font><font style=\"font-family:Helvetica,sans-serif;font-size:9pt;\"> and </font><font style=\"font-family:Helvetica,sans-serif;font-size:9pt;\">63%</font><font style=\"font-family:Helvetica,sans-serif;font-size:9pt;\">, respectively, of total net sales. Information regarding financial data by geographic segment is set forth in Part II, Item 7 of this Form 10-K under the subheading “Segment Operating Performance,” and in Part II, Item 8 of this Form 10-K in the Notes to Consolidated Financial Statements in Note 11, “Segment Information and Geographic Data.”</font></div>\n",
       "<div style=\"line-height:120%;padding-top:16px;text-align:justify;font-size:9pt;\"><font style=\"font-family:Helvetica,sans-serif;font-size:9pt;\">Substantially all of the Company’s hardware products are currently manufactured by outsourcing partners that are located primarily in Asia, with some Mac computers manufactured in the U.S. and Ireland. The supply and manufacture of a number of components is performed by sole-sourced outsourcing partners in the U.S., Asia and Europe. Margins on sales of the Company’s products in foreign countries and on sales of products that include components obtained from foreign suppliers, can be adversely affected by foreign currency exchange rate fluctuations and by international trade regulations, including tariffs and antidumping penalties. Information regarding concentration in the available sources of supply of materials and products is set forth in Part II, Item 8 of this Form 10-K in the Notes to Consolidated Financial Statements in Note 10, “Commitments and Contingencies.”</font></div>\n",
       "<div style=\"line-height:120%;padding-top:24px;text-align:justify;font-size:9pt;\"><font style=\"font-family:Helvetica,sans-serif;font-size:9pt;font-weight:bold;\">Business Seasonality and Product Introductions</font></div>\n",
       "<div style=\"line-height:120%;padding-top:8px;text-align:justify;font-size:9pt;\"><font style=\"font-family:Helvetica,sans-serif;font-size:9pt;\">The Company has historically experienced higher net sales in its first quarter compared to other quarters in its fiscal year due in part to seasonal holiday demand. Additionally, new product introductions can significantly impact net sales, product costs and operating expenses. Product introductions can also impact the Company’s net sales to its indirect distribution channels as these channels are filled with new product inventory following a product introduction, and often, channel inventory of a particular product declines as the next related major product launch approaches. Net sales can also be affected when consumers and distributors anticipate a product introduction. However, neither historical seasonal patterns nor historical patterns of product introductions should be considered reliable indicators of the Company’s future pattern of product introductions, future net sales or financial performance.</font></div>\n",
       "<div><br/></div>\n",
       "\n",
       "<div></div>\n",
       "<div><br/></div>\n",
       "<div style=\"line-height:120%;padding-top:24px;text-align:justify;font-size:9pt;\"><font style=\"font-family:Helvetica,sans-serif;font-size:9pt;font-weight:bold;\">Warranty</font></div>\n",
       "<div style=\"line-height:120%;padding-top:8px;text-align:justify;font-size:9pt;\"><font style=\"font-family:Helvetica,sans-serif;font-size:9pt;\">The Company offers a limited parts and labor warranty on its hardware products. The basic warranty period is typically one year from the date of purchase by the original end-user. The Company also offers a 90-day limited warranty on the service parts used to repair the Company’s hardware products. In certain jurisdictions, local law requires that manufacturers guarantee their products for a period prescribed by statute, typically at least two years. In addition, where available, consumers may purchase APP or AC+, which extends service coverage on many of the Company’s hardware products.</font></div>\n",
       "<div style=\"line-height:120%;padding-top:24px;text-align:justify;font-size:9pt;\"><font style=\"font-family:Helvetica,sans-serif;font-size:9pt;font-weight:bold;\">Backlog</font></div>\n",
       "<div style=\"line-height:120%;padding-top:8px;text-align:justify;font-size:9pt;\"><font style=\"font-family:Helvetica,sans-serif;font-size:9pt;\">In the Company’s experience, the actual amount of product backlog at any particular time is not a meaningful indication of its future business prospects. In particular, backlog often increases immediately following new product introductions as customers anticipate shortages. Backlog is often reduced once customers believe they can obtain sufficient supply. Because of the foregoing, backlog should not be considered a reliable indicator of the Company’s ability to achieve any particular level of revenue or financial performance.</font></div>\n",
       "<div style=\"line-height:120%;padding-top:24px;text-align:justify;font-size:9pt;\"><font style=\"font-family:Helvetica,sans-serif;font-size:9pt;font-weight:bold;\">Employees</font></div>\n",
       "<div style=\"line-height:120%;padding-top:8px;text-align:justify;font-size:9pt;\"><font style=\"font-family:Helvetica,sans-serif;font-size:9pt;\">As of </font><font style=\"font-family:Helvetica,sans-serif;font-size:9pt;\">September 30, 2017</font><font style=\"font-family:Helvetica,sans-serif;font-size:9pt;\">, the Company had approximately 123,000 full-time equivalent employees.</font></div>\n",
       "<div style=\"line-height:120%;padding-top:24px;text-align:justify;font-size:9pt;\"><font style=\"font-family:Helvetica,sans-serif;font-size:9pt;font-weight:bold;\">Available</font><font style=\"font-family:Helvetica,sans-serif;font-size:9pt;font-style:normal;font-weight:bold;\"> </font><font style=\"font-family:Helvetica,sans-serif;font-size:9pt;font-style:normal;font-weight:bold;text-decoration:none;\">Infor</font><font style=\"font-family:Helvetica,sans-serif;font-size:9pt;font-weight:bold;\">mation</font></div>\n",
       "<div style=\"line-height:120%;padding-top:8px;text-align:justify;font-size:9pt;\"><font style=\"font-family:Helvetica,sans-serif;font-size:9pt;\">The Company’s Annual Report on Form 10-K, Quarterly Reports on Form 10-Q, Current Reports on Form 8-K, and amendments to reports filed pursuant to Sections 13(a) and 15(d) of the Securities Exchange Act of 1934, as amended (the “Exchange Act”), are filed with the Securities and Exchange Commission (the “SEC”). The Company is subject to the informational requirements of the Exchange Act and files or furnishes reports, proxy statements and other information with the SEC. Such reports and other information filed by the Company with the SEC are available free of charge on the Company’s website at investor.apple.com/sec.cfm when such reports are available on the SEC’s website. The public may read and copy any materials filed by the Company with the SEC at the SEC’s Public Reference Room at 100 F Street, NE, Room 1580, Washington, DC 20549. The public may obtain information on the operation of the Public Reference Room by calling the SEC at 1-800-SEC-0330. The SEC maintains an internet site that contains reports, proxy and information statements and other information regarding issuers that file electronically with the SEC at www.sec.gov. The information contained on the websites referenced in this Form 10-K is not incorporated by reference into this filing. Further, the Company’s references to website URLs are intended to be inactive textual references only.</font></div>\n",
       "<div><br/></div>\n",
       "\n",
       "<div><a name=\"s2580FABA87865BC3AA85349AC36B2144\"></a></div>\n",
       "<div></div>\n",
       "<div><br/></div>\n",
       "<table cellpadding=\"0\" cellspacing=\"0\" style=\"font-family:Times New Roman; font-size:10pt;\"><tr><td style=\"width:60px;\"></td><td></td></tr><tr><td style=\"vertical-align:top\"><div style=\"line-height:120%;font-size:9pt;padding-left:0px;\"><font style=\"font-family:Helvetica,sans-serif;font-size:9pt;font-weight:bold;\">Item 1A. </font></div></td><td style=\"vertical-align:top;\"><div style=\"line-height:120%;text-align:justify;font-size:9pt;\"><font style=\"font-family:Helvetica,sans-serif;font-size:9pt;font-weight:bold;\">Risk Factors</font></div></td></tr></table>\n",
       "<div style=\"line-height:120%;font-size:9pt;padding-left:0px;\"><font style=\"font-family:Helvetica,sans-serif;font-size:9pt;font-weight:bold;\">Item 1A. </font></div>\n",
       "</body></html></div>"
      ],
      "text/plain": [
       "<IPython.core.display.HTML object>"
      ]
     },
     "metadata": {},
     "output_type": "display_data"
    }
   ],
   "source": [
    "parser.display_section_html('Item 1')"
   ]
  },
  {
   "cell_type": "markdown",
   "metadata": {},
   "source": [
    "The section named `Item 5` includes more information about the company stock:"
   ]
  },
  {
   "cell_type": "code",
   "execution_count": 11,
   "metadata": {},
   "outputs": [
    {
     "name": "stdout",
     "output_type": "stream",
     "text": [
      "Removed 5 page footers and copyright statements\n",
      "Processed 4 footnote tables in Item 5\n",
      "Removed 3 duplicate tables from Item 5\n"
     ]
    },
    {
     "data": {
      "text/html": [
       "\n",
       "    <style>\n",
       "        /* Base document styles */\n",
       "        .sec-document, .sec-wrapper {\n",
       "            font-family: Arial, sans-serif;\n",
       "            line-height: 1.5;\n",
       "            color: #333;\n",
       "            max-width: 100%;\n",
       "            margin: 20px 0;\n",
       "            padding: 20px;\n",
       "            background: white;\n",
       "            border-radius: 8px;\n",
       "            box-shadow: 0 2px 4px rgba(0,0,0,0.1);\n",
       "        }\n",
       "        \n",
       "        /* Table styles */\n",
       "        .table-wrapper, .sec-table-wrapper {\n",
       "            font-family: Arial, sans-serif;\n",
       "            margin: 20px 0;\n",
       "            max-width: 100%;\n",
       "            overflow-x: auto;\n",
       "        }\n",
       "        .table-wrapper table, .sec-table-wrapper table {\n",
       "            border-collapse: collapse;\n",
       "            width: 100%;\n",
       "            background: white;\n",
       "        }\n",
       "        .table-wrapper th, .table-wrapper td,\n",
       "        .sec-table-wrapper th, .sec-table-wrapper td {\n",
       "            border: 1px solid #ddd;\n",
       "            padding: 8px;\n",
       "            text-align: left;\n",
       "        }\n",
       "        .table-wrapper th, .sec-table-wrapper th {\n",
       "            background-color: #f8f9fa;\n",
       "            font-weight: 600;\n",
       "        }\n",
       "        .table-wrapper tr:nth-child(even),\n",
       "        .sec-table-wrapper tr:nth-child(even) {\n",
       "            background-color: #fcfcfc;\n",
       "        }\n",
       "        \n",
       "        /* Section styles */\n",
       "        .section-content, .sec-content {\n",
       "            background: white;\n",
       "            padding: 20px;\n",
       "            border-radius: 4px;\n",
       "            border: 1px solid #eee;\n",
       "            color: #333;\n",
       "            width: 100%;\n",
       "        }\n",
       "        .section-header {\n",
       "            font-size: 1.2em;\n",
       "            font-weight: bold;\n",
       "            margin-bottom: 15px;\n",
       "            padding-bottom: 10px;\n",
       "            border-bottom: 2px solid #eee;\n",
       "        }\n",
       "        \n",
       "        /* Code and pre styles */\n",
       "        pre {\n",
       "            background: #f8f9fa;\n",
       "            padding: 15px;\n",
       "            border-radius: 4px;\n",
       "            overflow-x: auto;\n",
       "            border: 1px solid #eee;\n",
       "            white-space: pre-wrap;\n",
       "        }\n",
       "        \n",
       "        /* Markdown table styles */\n",
       "        .markdown-table {\n",
       "            font-family: monospace;\n",
       "            white-space: pre;\n",
       "            padding: 10px;\n",
       "            background: #f8f9fa;\n",
       "            border-radius: 4px;\n",
       "            margin-top: 10px;\n",
       "            border: 1px solid #eee;\n",
       "            overflow-x: auto;\n",
       "        }\n",
       "        \n",
       "        /* Paragraph styles */\n",
       "        .sec-content p {\n",
       "            margin: 10px 0;\n",
       "            color: #333;\n",
       "        }\n",
       "        \n",
       "        /* Table styles */\n",
       "        .sec-content table {\n",
       "            border-collapse: collapse;\n",
       "            margin: 15px 0;\n",
       "            width: 100%;\n",
       "            background-color: white !important;\n",
       "        }\n",
       "        .sec-content th, .sec-content td {\n",
       "            border: 1px solid #ddd;\n",
       "            padding: 8px;\n",
       "            text-align: left;\n",
       "            color: #333 !important;\n",
       "            background-color: white !important;\n",
       "        }\n",
       "        .sec-content th {\n",
       "            background-color: #f8f9fa !important;\n",
       "            font-weight: 600;\n",
       "        }\n",
       "        .sec-content tr:nth-child(even) td {\n",
       "            background-color: #fcfcfc !important;\n",
       "        }\n",
       "        \n",
       "        /* Additional styles */\n",
       "        .text-content {\n",
       "            margin: 15px 0;\n",
       "            white-space: pre-wrap;\n",
       "        }\n",
       "        .pagination-info {\n",
       "            text-align: center;\n",
       "            margin: 10px 0;\n",
       "            padding: 10px;\n",
       "            color: #444;\n",
       "            font-weight: 500;\n",
       "            border-top: 1px solid #eee;\n",
       "        }\n",
       "    </style>\n",
       "<div class='sec-content' style='max-height: 600px; overflow-y: auto;'><html><body><font style=\"font-family:Helvetica,sans-serif;font-size:9pt;font-weight:bold;\">Item 5. </font>\n",
       "<div style=\"line-height:120%;text-align:justify;font-size:9pt;\"><font style=\"font-family:Helvetica,sans-serif;font-size:9pt;font-weight:bold;\">Market for Registrant’s Common Equity, Related Stockholder Matters and Issuer Purchases of Equity Securities</font></div>\n",
       "<div style=\"line-height:120%;padding-top:8px;text-align:justify;font-size:9pt;\"><font style=\"font-family:Helvetica,sans-serif;font-size:9pt;\">The Company’s common stock is traded on the Nasdaq Stock Market LLC (“Nasdaq”) under the symbol AAPL.</font></div>\n",
       "<div style=\"line-height:120%;padding-top:24px;text-align:justify;font-size:9pt;\"><font style=\"font-family:Helvetica,sans-serif;font-size:9pt;font-weight:bold;\">Price Range of Common Stock</font></div>\n",
       "<div style=\"line-height:120%;padding-top:8px;text-align:justify;font-size:9pt;\"><font style=\"font-family:Helvetica,sans-serif;font-size:9pt;\">The price range per share of common stock presented below represents the highest and lowest intraday sales prices for the Company’s common stock on the Nasdaq during each quarter of the two most recent years.</font></div>\n",
       "<div style=\"line-height:120%;text-align:justify;font-size:10pt;\"><div style=\"padding-left:0px;text-indent:0px;line-height:normal;padding-top:10px;\"><table cellpadding=\"0\" cellspacing=\"0\" style=\"font-family:Times New Roman;font-size:10pt;width:99.21875%;border-collapse:collapse;text-align:left;\"><tr><td colspan=\"8\"></td></tr><tr><td style=\"width:29%;\"></td><td style=\"width:17%;\"></td><td style=\"width:1%;\"></td><td style=\"width:17%;\"></td><td style=\"width:1%;\"></td><td style=\"width:17%;\"></td><td style=\"width:1%;\"></td><td style=\"width:17%;\"></td></tr><tr><td style=\"vertical-align:bottom;padding-left:2px;padding-top:2px;padding-bottom:2px;padding-right:2px;\"><div style=\"overflow:hidden;font-size:10pt;\"><font style=\"font-family:inherit;font-size:10pt;\"> </font></div></td><td style=\"vertical-align:bottom;border-bottom:1px solid #000000;padding-left:2px;padding-top:2px;padding-bottom:2px;padding-right:2px;\"><div style=\"text-align:center;font-size:8pt;\"><font style=\"font-family:Helvetica,sans-serif;font-size:8pt;font-weight:bold;\">Fourth Quarter</font></div></td><td style=\"vertical-align:bottom;padding-left:2px;padding-top:2px;padding-bottom:2px;padding-right:2px;\"><div style=\"overflow:hidden;font-size:10pt;\"><font style=\"font-family:inherit;font-size:10pt;\"> </font></div></td><td style=\"vertical-align:bottom;border-bottom:1px solid #000000;padding-left:2px;padding-top:2px;padding-bottom:2px;padding-right:2px;\"><div style=\"text-align:center;font-size:8pt;\"><font style=\"font-family:Helvetica,sans-serif;font-size:8pt;font-weight:bold;\">Third Quarter</font></div></td><td style=\"vertical-align:bottom;padding-left:2px;padding-top:2px;padding-bottom:2px;padding-right:2px;\"><div style=\"overflow:hidden;font-size:10pt;\"><font style=\"font-family:inherit;font-size:10pt;\"> </font></div></td><td style=\"vertical-align:bottom;border-bottom:1px solid #000000;padding-left:2px;padding-top:2px;padding-bottom:2px;padding-right:2px;\"><div style=\"text-align:center;font-size:8pt;\"><font style=\"font-family:Helvetica,sans-serif;font-size:8pt;font-weight:bold;\">Second Quarter</font></div></td><td style=\"vertical-align:bottom;padding-left:2px;padding-top:2px;padding-bottom:2px;padding-right:2px;\"><div style=\"overflow:hidden;font-size:10pt;\"><font style=\"font-family:inherit;font-size:10pt;\"> </font></div></td><td style=\"vertical-align:bottom;border-bottom:1px solid #000000;padding-left:2px;padding-top:2px;padding-bottom:2px;padding-right:2px;\"><div style=\"text-align:center;font-size:8pt;\"><font style=\"font-family:Helvetica,sans-serif;font-size:8pt;font-weight:bold;\">First Quarter</font></div></td></tr><tr><td style=\"vertical-align:top;padding-left:2px;padding-top:2px;padding-bottom:2px;padding-right:2px;\"><div style=\"text-align:left;padding-left:12px;text-indent:-12px;font-size:9pt;\"><font style=\"font-family:Helvetica,sans-serif;font-size:9pt;\">2017 price range per share</font></div></td><td style=\"vertical-align:bottom;padding-left:2px;padding-top:2px;padding-bottom:2px;padding-right:2px;border-top:1px solid #000000;\"><div style=\"text-align:left;font-size:9pt;\"><font style=\"font-family:Helvetica,sans-serif;font-size:9pt;\">$164.94 – $142.41</font></div></td><td style=\"vertical-align:bottom;padding-left:2px;padding-top:2px;padding-bottom:2px;padding-right:2px;\"><div style=\"overflow:hidden;font-size:10pt;\"><font style=\"font-family:inherit;font-size:10pt;\"> </font></div></td><td style=\"vertical-align:bottom;padding-left:2px;padding-top:2px;padding-bottom:2px;padding-right:2px;border-top:1px solid #000000;\"><div style=\"text-align:left;font-size:9pt;\"><font style=\"font-family:Helvetica,sans-serif;font-size:9pt;\">$156.65 – $140.06</font></div></td><td style=\"vertical-align:bottom;padding-left:2px;padding-top:2px;padding-bottom:2px;padding-right:2px;\"><div style=\"overflow:hidden;font-size:10pt;\"><font style=\"font-family:inherit;font-size:10pt;\"> </font></div></td><td style=\"vertical-align:bottom;padding-left:2px;padding-top:2px;padding-bottom:2px;padding-right:2px;border-top:1px solid #000000;\"><div style=\"text-align:left;font-size:9pt;\"><font style=\"font-family:Helvetica,sans-serif;font-size:9pt;\">$144.50 – $114.76</font></div></td><td style=\"vertical-align:bottom;padding-left:2px;padding-top:2px;padding-bottom:2px;padding-right:2px;\"><div style=\"overflow:hidden;font-size:10pt;\"><font style=\"font-family:inherit;font-size:10pt;\"> </font></div></td><td style=\"vertical-align:bottom;padding-left:2px;padding-top:2px;padding-bottom:2px;padding-right:2px;border-top:1px solid #000000;\"><div style=\"text-align:left;font-size:9pt;\"><font style=\"font-family:Helvetica,sans-serif;font-size:9pt;\">$118.69 – $104.08</font></div></td></tr><tr><td style=\"vertical-align:top;background-color:#efefef;padding-left:2px;padding-top:2px;padding-bottom:2px;padding-right:2px;\"><div style=\"text-align:left;padding-left:12px;text-indent:-12px;font-size:9pt;\"><font style=\"font-family:Helvetica,sans-serif;font-size:9pt;\">2016 price range per share</font></div></td><td style=\"vertical-align:bottom;background-color:#efefef;padding-left:2px;padding-top:2px;padding-bottom:2px;padding-right:2px;\"><div style=\"text-align:left;font-size:9pt;\"><font style=\"font-family:Helvetica,sans-serif;font-size:9pt;\">$116.18 – $91.50</font></div></td><td style=\"vertical-align:bottom;background-color:#efefef;padding-left:2px;padding-top:2px;padding-bottom:2px;padding-right:2px;\"><div style=\"overflow:hidden;font-size:10pt;\"><font style=\"font-family:inherit;font-size:10pt;\"> </font></div></td><td style=\"vertical-align:bottom;background-color:#efefef;padding-left:2px;padding-top:2px;padding-bottom:2px;padding-right:2px;\"><div style=\"text-align:left;font-size:9pt;\"><font style=\"font-family:Helvetica,sans-serif;font-size:9pt;\">$112.39 – $89.47</font></div></td><td style=\"vertical-align:bottom;background-color:#efefef;padding-left:2px;padding-top:2px;padding-bottom:2px;padding-right:2px;\"><div style=\"overflow:hidden;font-size:10pt;\"><font style=\"font-family:inherit;font-size:10pt;\"> </font></div></td><td style=\"vertical-align:bottom;background-color:#efefef;padding-left:2px;padding-top:2px;padding-bottom:2px;padding-right:2px;\"><div style=\"text-align:left;font-size:9pt;\"><font style=\"font-family:Helvetica,sans-serif;font-size:9pt;\">$109.43 – $92.39</font></div></td><td style=\"vertical-align:bottom;background-color:#efefef;padding-left:2px;padding-top:2px;padding-bottom:2px;padding-right:2px;\"><div style=\"overflow:hidden;font-size:10pt;\"><font style=\"font-family:inherit;font-size:10pt;\"> </font></div></td><td style=\"vertical-align:bottom;background-color:#efefef;padding-left:2px;padding-top:2px;padding-bottom:2px;padding-right:2px;\"><div style=\"text-align:left;font-size:9pt;\"><font style=\"font-family:Helvetica,sans-serif;font-size:9pt;\">$123.82 – $105.57</font></div></td></tr></table></div></div>\n",
       "\n",
       "<div style=\"line-height:120%;padding-top:24px;text-align:justify;font-size:9pt;\"><font style=\"font-family:Helvetica,sans-serif;font-size:9pt;font-weight:bold;\">Holders</font></div>\n",
       "<div style=\"line-height:120%;padding-top:8px;text-align:justify;font-size:9pt;\"><font style=\"font-family:Helvetica,sans-serif;font-size:9pt;\">As of </font><font style=\"font-family:Helvetica,sans-serif;font-size:9pt;\">October 20, 2017</font><font style=\"font-family:Helvetica,sans-serif;font-size:9pt;\">, there were 25,333 shareholders of record.</font></div>\n",
       "<div style=\"line-height:120%;padding-top:24px;text-align:justify;font-size:9pt;\"><font style=\"font-family:Helvetica,sans-serif;font-size:9pt;font-weight:bold;\">Dividends</font></div>\n",
       "<div style=\"line-height:120%;padding-top:8px;text-align:justify;font-size:9pt;\"><font style=\"font-family:Helvetica,sans-serif;font-size:9pt;\">The Company paid a total of </font><font style=\"font-family:Helvetica,sans-serif;font-size:9pt;\">$12.6 billion</font><font style=\"font-family:Helvetica,sans-serif;font-size:9pt;\"> and </font><font style=\"font-family:Helvetica,sans-serif;font-size:9pt;\">$12.0 billion</font><font style=\"font-family:Helvetica,sans-serif;font-size:9pt;\"> in dividends during </font><font style=\"font-family:Helvetica,sans-serif;font-size:9pt;\">2017</font><font style=\"font-family:Helvetica,sans-serif;font-size:9pt;\"> and </font><font style=\"font-family:Helvetica,sans-serif;font-size:9pt;\">2016</font><font style=\"font-family:Helvetica,sans-serif;font-size:9pt;\">, respectively, and expects to pay quarterly dividends of </font><font style=\"font-family:Helvetica,sans-serif;font-size:9pt;\">$0.63</font><font style=\"font-family:Helvetica,sans-serif;font-size:9pt;\"> per common share each quarter, subject to declaration by the Board of Directors. The Company also plans to increase its dividend on an annual basis, subject to declaration by the Board of Directors.</font></div>\n",
       "<div><br/></div>\n",
       "\n",
       "<div></div>\n",
       "<div><br/></div>\n",
       "<div style=\"line-height:120%;padding-top:24px;text-align:justify;font-size:9pt;\"><font style=\"font-family:Helvetica,sans-serif;font-size:9pt;font-weight:bold;\">Purchases of Equity Securities by the Issuer and Affiliated Purchasers</font></div>\n",
       "<div style=\"line-height:120%;padding-top:8px;text-align:justify;font-size:9pt;\"><font style=\"font-family:Helvetica,sans-serif;font-size:9pt;\">Share repurchase activity during the three months ended </font><font style=\"font-family:Helvetica,sans-serif;font-size:9pt;\">September 30, 2017</font><font style=\"font-family:Helvetica,sans-serif;font-size:9pt;\"> was as follows (in millions, except number of shares, which are reflected in thousands, and per share amounts):</font></div>\n",
       "<div style=\"line-height:120%;text-align:justify;font-size:10pt;\"><div style=\"padding-left:0px;text-indent:0px;line-height:normal;padding-top:10px;\"><table cellpadding=\"0\" cellspacing=\"0\" style=\"font-family:Times New Roman;font-size:10pt;width:100%;border-collapse:collapse;text-align:left;\"><tr><td colspan=\"15\"></td></tr><tr><td style=\"width:40%;\"></td><td style=\"width:1%;\"></td><td style=\"width:12%;\"></td><td style=\"width:1%;\"></td><td style=\"width:3%;\"></td><td style=\"width:1%;\"></td><td style=\"width:7%;\"></td><td style=\"width:1%;\"></td><td style=\"width:3%;\"></td><td style=\"width:12%;\"></td><td style=\"width:1%;\"></td><td style=\"width:3%;\"></td><td style=\"width:1%;\"></td><td style=\"width:13%;\"></td><td style=\"width:1%;\"></td></tr><tr><td style=\"vertical-align:bottom;border-bottom:1px solid #000000;padding-left:2px;padding-top:2px;padding-bottom:2px;padding-right:2px;\"><div style=\"text-align:left;font-size:8pt;\"><font style=\"font-family:Helvetica,sans-serif;font-size:8pt;font-weight:bold;\">Periods</font></div></td><td style=\"vertical-align:bottom;padding-left:2px;padding-top:2px;padding-bottom:2px;padding-right:2px;\"><div style=\"overflow:hidden;font-size:10pt;\"><font style=\"font-family:inherit;font-size:10pt;\"> </font></div></td><td colspan=\"2\" style=\"vertical-align:bottom;border-bottom:1px solid #000000;padding-left:2px;padding-top:2px;padding-bottom:2px;padding-right:2px;\"><div style=\"text-align:center;font-size:8pt;\"><font style=\"font-family:Helvetica,sans-serif;font-size:8pt;font-weight:bold;\">Total Number </font></div><div style=\"text-align:center;font-size:8pt;\"><font style=\"font-family:Helvetica,sans-serif;font-size:8pt;font-weight:bold;\">of Shares Purchased</font></div></td><td style=\"vertical-align:bottom;padding-left:2px;padding-top:2px;padding-bottom:2px;padding-right:2px;\"><div style=\"overflow:hidden;font-size:10pt;\"><font style=\"font-family:inherit;font-size:10pt;\"> </font></div></td><td colspan=\"3\" style=\"vertical-align:bottom;border-bottom:1px solid #000000;padding-left:2px;padding-top:2px;padding-bottom:2px;padding-right:2px;\"><div style=\"text-align:center;font-size:8pt;\"><font style=\"font-family:Helvetica,sans-serif;font-size:8pt;font-weight:bold;\">Average</font></div><div style=\"text-align:center;font-size:8pt;\"><font style=\"font-family:Helvetica,sans-serif;font-size:8pt;font-weight:bold;\">Price</font></div><div style=\"text-align:center;font-size:8pt;\"><font style=\"font-family:Helvetica,sans-serif;font-size:8pt;font-weight:bold;\">Paid Per Share</font></div></td><td style=\"vertical-align:bottom;padding-left:2px;padding-top:2px;padding-bottom:2px;padding-right:2px;\"><div style=\"overflow:hidden;font-size:10pt;\"><font style=\"font-family:inherit;font-size:10pt;\"> </font></div></td><td colspan=\"2\" style=\"vertical-align:bottom;border-bottom:1px solid #000000;padding-left:2px;padding-top:2px;padding-bottom:2px;padding-right:2px;\"><div style=\"text-align:center;font-size:8pt;\"><font style=\"font-family:Helvetica,sans-serif;font-size:8pt;font-weight:bold;\">Total Number of Shares </font></div><div style=\"text-align:center;font-size:8pt;\"><font style=\"font-family:Helvetica,sans-serif;font-size:8pt;font-weight:bold;\">Purchased as Part of Publicly </font></div><div style=\"text-align:center;font-size:8pt;\"><font style=\"font-family:Helvetica,sans-serif;font-size:8pt;font-weight:bold;\">Announced Plans or Programs</font></div></td><td style=\"vertical-align:bottom;padding-left:2px;padding-top:2px;padding-bottom:2px;padding-right:2px;\"><div style=\"overflow:hidden;font-size:10pt;\"><font style=\"font-family:inherit;font-size:10pt;\"> </font></div></td><td colspan=\"3\" style=\"vertical-align:bottom;border-bottom:1px solid #000000;padding-left:2px;padding-top:2px;padding-bottom:2px;padding-right:2px;\"><div style=\"text-align:center;font-size:8pt;\"><font style=\"font-family:Helvetica,sans-serif;font-size:8pt;font-weight:bold;\">Approximate Dollar Value of </font></div><div style=\"text-align:center;font-size:8pt;\"><font style=\"font-family:Helvetica,sans-serif;font-size:8pt;font-weight:bold;\">Shares That May Yet Be Purchased </font></div><div style=\"text-align:center;font-size:8pt;\"><font style=\"font-family:Helvetica,sans-serif;font-size:8pt;font-weight:bold;\">Under the Plans or Programs </font><font style=\"font-family:Helvetica,sans-serif;font-size:8pt;font-weight:bold;\"><sup style=\"vertical-align:top;line-height:120%;font-size:pt\">(1)</sup></font></div></td></tr><tr><td style=\"vertical-align:top;padding-left:2px;padding-top:2px;padding-bottom:2px;padding-right:2px;\"><div style=\"text-align:left;padding-left:12px;text-indent:-12px;font-size:8pt;\"><font style=\"font-family:Helvetica,sans-serif;font-size:8pt;\">July 2, 2017 to August 5, 2017:</font></div></td><td style=\"vertical-align:bottom;padding-left:2px;padding-top:2px;padding-bottom:2px;padding-right:2px;\"><div style=\"overflow:hidden;font-size:10pt;\"><font style=\"font-family:inherit;font-size:10pt;\"> </font></div></td><td colspan=\"2\" style=\"vertical-align:bottom;padding-left:2px;padding-top:2px;padding-bottom:2px;padding-right:2px;\"><div style=\"overflow:hidden;font-size:10pt;\"><font style=\"font-family:inherit;font-size:10pt;\"> </font></div></td><td style=\"vertical-align:bottom;padding-left:2px;padding-top:2px;padding-bottom:2px;padding-right:2px;\"><div style=\"overflow:hidden;font-size:10pt;\"><font style=\"font-family:inherit;font-size:10pt;\"> </font></div></td><td colspan=\"3\" style=\"vertical-align:bottom;padding-left:2px;padding-top:2px;padding-bottom:2px;padding-right:2px;\"><div style=\"overflow:hidden;font-size:10pt;\"><font style=\"font-family:inherit;font-size:10pt;\"> </font></div></td><td style=\"vertical-align:bottom;padding-left:2px;padding-top:2px;padding-bottom:2px;padding-right:2px;\"><div style=\"overflow:hidden;font-size:10pt;\"><font style=\"font-family:inherit;font-size:10pt;\"> </font></div></td><td colspan=\"2\" style=\"vertical-align:bottom;padding-left:2px;padding-top:2px;padding-bottom:2px;padding-right:2px;\"><div style=\"overflow:hidden;font-size:10pt;\"><font style=\"font-family:inherit;font-size:10pt;\"> </font></div></td><td style=\"vertical-align:bottom;padding-left:2px;padding-top:2px;padding-bottom:2px;padding-right:2px;\"><div style=\"overflow:hidden;font-size:10pt;\"><font style=\"font-family:inherit;font-size:10pt;\"> </font></div></td><td colspan=\"3\" style=\"vertical-align:bottom;padding-left:2px;padding-top:2px;padding-bottom:2px;padding-right:2px;\"><div style=\"overflow:hidden;font-size:10pt;\"><font style=\"font-family:inherit;font-size:10pt;\"> </font></div></td></tr><tr><td style=\"vertical-align:top;background-color:#efefef;padding-left:28px;padding-top:2px;padding-bottom:2px;padding-right:2px;\"><div style=\"text-align:left;font-size:8pt;\"><font style=\"font-family:Helvetica,sans-serif;font-size:8pt;\">Open market and privately negotiated purchases</font></div></td><td style=\"vertical-align:bottom;background-color:#efefef;padding-left:2px;padding-top:2px;padding-bottom:2px;padding-right:2px;\"><div style=\"overflow:hidden;font-size:10pt;\"><font style=\"font-family:inherit;font-size:10pt;\"> </font></div></td><td style=\"vertical-align:bottom;background-color:#efefef;padding-left:2px;padding-top:2px;padding-bottom:2px;\"><div style=\"text-align:right;font-size:8pt;\"><font style=\"font-family:Helvetica,sans-serif;font-size:8pt;\">10,076</font></div></td><td style=\"vertical-align:bottom;background-color:#efefef;\"><div style=\"text-align:left;font-size:10pt;\"><font style=\"font-family:inherit;font-size:10pt;\"><br/></font></div></td><td style=\"vertical-align:bottom;background-color:#efefef;padding-left:2px;padding-top:2px;padding-bottom:2px;padding-right:2px;\"><div style=\"overflow:hidden;font-size:10pt;\"><font style=\"font-family:inherit;font-size:10pt;\"> </font></div></td><td style=\"vertical-align:bottom;padding-left:2px;padding-top:2px;padding-bottom:2px;background-color:#efefef;\"><div style=\"text-align:left;font-size:8pt;\"><font style=\"font-family:Helvetica,sans-serif;font-size:8pt;\">$</font></div></td><td style=\"vertical-align:bottom;background-color:#efefef;padding-top:2px;padding-bottom:2px;\"><div style=\"text-align:right;font-size:8pt;\"><font style=\"font-family:Helvetica,sans-serif;font-size:8pt;\">148.87</font></div></td><td style=\"vertical-align:bottom;background-color:#efefef;\"><div style=\"text-align:left;font-size:10pt;\"><font style=\"font-family:inherit;font-size:10pt;\"><br/></font></div></td><td style=\"vertical-align:bottom;background-color:#efefef;padding-left:2px;padding-top:2px;padding-bottom:2px;padding-right:2px;\"><div style=\"overflow:hidden;font-size:10pt;\"><font style=\"font-family:inherit;font-size:10pt;\"> </font></div></td><td style=\"vertical-align:bottom;background-color:#efefef;padding-left:2px;padding-top:2px;padding-bottom:2px;\"><div style=\"text-align:right;font-size:8pt;\"><font style=\"font-family:Helvetica,sans-serif;font-size:8pt;\">10,076</font></div></td><td style=\"vertical-align:bottom;background-color:#efefef;\"><div style=\"text-align:left;font-size:10pt;\"><font style=\"font-family:inherit;font-size:10pt;\"><br/></font></div></td><td style=\"vertical-align:bottom;background-color:#efefef;padding-left:2px;padding-top:2px;padding-bottom:2px;padding-right:2px;\"><div style=\"overflow:hidden;font-size:10pt;\"><font style=\"font-family:inherit;font-size:10pt;\"> </font></div></td><td colspan=\"3\" style=\"vertical-align:bottom;background-color:#efefef;padding-left:2px;padding-top:2px;padding-bottom:2px;padding-right:2px;\"><div style=\"overflow:hidden;font-size:10pt;\"><font style=\"font-family:inherit;font-size:10pt;\"> </font></div></td></tr><tr><td style=\"vertical-align:bottom;padding-left:2px;padding-top:2px;padding-bottom:2px;padding-right:2px;\"><div style=\"overflow:hidden;height:18px;font-size:10pt;\"><font style=\"font-family:inherit;font-size:10pt;\"> </font></div></td><td style=\"vertical-align:bottom;padding-left:2px;padding-top:2px;padding-bottom:2px;padding-right:2px;\"><div style=\"overflow:hidden;height:18px;font-size:10pt;\"><font style=\"font-family:inherit;font-size:10pt;\"> </font></div></td><td colspan=\"2\" style=\"vertical-align:bottom;padding-left:2px;padding-top:2px;padding-bottom:2px;padding-right:2px;\"><div style=\"overflow:hidden;height:18px;font-size:10pt;\"><font style=\"font-family:inherit;font-size:10pt;\"> </font></div></td><td style=\"vertical-align:bottom;padding-left:2px;padding-top:2px;padding-bottom:2px;padding-right:2px;\"><div style=\"overflow:hidden;height:18px;font-size:10pt;\"><font style=\"font-family:inherit;font-size:10pt;\"> </font></div></td><td colspan=\"3\" style=\"vertical-align:bottom;padding-left:2px;padding-top:2px;padding-bottom:2px;padding-right:2px;\"><div style=\"overflow:hidden;height:18px;font-size:10pt;\"><font style=\"font-family:inherit;font-size:10pt;\"> </font></div></td><td style=\"vertical-align:bottom;padding-left:2px;padding-top:2px;padding-bottom:2px;padding-right:2px;\"><div style=\"overflow:hidden;height:18px;font-size:10pt;\"><font style=\"font-family:inherit;font-size:10pt;\"> </font></div></td><td colspan=\"2\" style=\"vertical-align:bottom;padding-left:2px;padding-top:2px;padding-bottom:2px;padding-right:2px;\"><div style=\"overflow:hidden;height:18px;font-size:10pt;\"><font style=\"font-family:inherit;font-size:10pt;\"> </font></div></td><td style=\"vertical-align:bottom;padding-left:2px;padding-top:2px;padding-bottom:2px;padding-right:2px;\"><div style=\"overflow:hidden;height:18px;font-size:10pt;\"><font style=\"font-family:inherit;font-size:10pt;\"> </font></div></td><td colspan=\"3\" style=\"vertical-align:bottom;padding-left:2px;padding-top:2px;padding-bottom:2px;padding-right:2px;\"><div style=\"overflow:hidden;height:18px;font-size:10pt;\"><font style=\"font-family:inherit;font-size:10pt;\"> </font></div></td></tr><tr><td style=\"vertical-align:top;background-color:#efefef;padding-left:2px;padding-top:2px;padding-bottom:2px;padding-right:2px;\"><div style=\"text-align:left;padding-left:12px;text-indent:-12px;font-size:8pt;\"><font style=\"font-family:Helvetica,sans-serif;font-size:8pt;\">August 6, 2017 to September 2, 2017:</font></div></td><td style=\"vertical-align:bottom;background-color:#efefef;padding-left:2px;padding-top:2px;padding-bottom:2px;padding-right:2px;\"><div style=\"overflow:hidden;font-size:10pt;\"><font style=\"font-family:inherit;font-size:10pt;\"> </font></div></td><td colspan=\"2\" style=\"vertical-align:bottom;background-color:#efefef;padding-left:2px;padding-top:2px;padding-bottom:2px;padding-right:2px;\"><div style=\"overflow:hidden;font-size:10pt;\"><font style=\"font-family:inherit;font-size:10pt;\"> </font></div></td><td style=\"vertical-align:bottom;background-color:#efefef;padding-left:2px;padding-top:2px;padding-bottom:2px;padding-right:2px;\"><div style=\"overflow:hidden;font-size:10pt;\"><font style=\"font-family:inherit;font-size:10pt;\"> </font></div></td><td colspan=\"3\" style=\"vertical-align:bottom;background-color:#efefef;padding-left:2px;padding-top:2px;padding-bottom:2px;padding-right:2px;\"><div style=\"overflow:hidden;font-size:10pt;\"><font style=\"font-family:inherit;font-size:10pt;\"> </font></div></td><td style=\"vertical-align:bottom;background-color:#efefef;padding-left:2px;padding-top:2px;padding-bottom:2px;padding-right:2px;\"><div style=\"overflow:hidden;font-size:10pt;\"><font style=\"font-family:inherit;font-size:10pt;\"> </font></div></td><td colspan=\"2\" style=\"vertical-align:bottom;background-color:#efefef;padding-left:2px;padding-top:2px;padding-bottom:2px;padding-right:2px;\"><div style=\"overflow:hidden;font-size:10pt;\"><font style=\"font-family:inherit;font-size:10pt;\"> </font></div></td><td style=\"vertical-align:bottom;background-color:#efefef;padding-left:2px;padding-top:2px;padding-bottom:2px;padding-right:2px;\"><div style=\"overflow:hidden;font-size:10pt;\"><font style=\"font-family:inherit;font-size:10pt;\"> </font></div></td><td colspan=\"3\" style=\"vertical-align:bottom;background-color:#efefef;padding-left:2px;padding-top:2px;padding-bottom:2px;padding-right:2px;\"><div style=\"overflow:hidden;font-size:10pt;\"><font style=\"font-family:inherit;font-size:10pt;\"> </font></div></td></tr><tr><td style=\"vertical-align:top;padding-left:28px;padding-top:2px;padding-bottom:2px;padding-right:2px;\"><div style=\"text-align:left;font-size:8pt;\"><font style=\"font-family:Helvetica,sans-serif;font-size:8pt;\">May 2017 ASR</font></div></td><td style=\"vertical-align:bottom;padding-left:2px;padding-top:2px;padding-bottom:2px;padding-right:2px;\"><div style=\"overflow:hidden;font-size:10pt;\"><font style=\"font-family:inherit;font-size:10pt;\"> </font></div></td><td style=\"vertical-align:bottom;padding-left:2px;padding-top:2px;padding-bottom:2px;\"><div style=\"text-align:right;font-size:8pt;\"><font style=\"font-family:Helvetica,sans-serif;font-size:8pt;\">4,510</font></div></td><td style=\"vertical-align:bottom;\"><div style=\"text-align:left;font-size:10pt;\"><font style=\"font-family:inherit;font-size:10pt;\"><br/></font></div></td><td style=\"vertical-align:bottom;padding-left:2px;padding-top:2px;padding-bottom:2px;padding-right:2px;\"><div style=\"overflow:hidden;font-size:10pt;\"><font style=\"font-family:inherit;font-size:10pt;\"> </font></div></td><td colspan=\"2\" style=\"vertical-align:bottom;padding-left:2px;padding-top:2px;padding-bottom:2px;\"><div style=\"text-align:right;font-size:8pt;\"><font style=\"font-family:Helvetica,sans-serif;font-size:8pt;\"><sup style=\"vertical-align:top;line-height:120%;font-size:pt\">(2)</sup> </font></div></td><td style=\"vertical-align:bottom;\"><div style=\"text-align:left;font-size:10pt;\"><font style=\"font-family:inherit;font-size:10pt;\"><br/></font></div></td><td style=\"vertical-align:bottom;padding-left:2px;padding-top:2px;padding-bottom:2px;padding-right:2px;\"><div style=\"overflow:hidden;font-size:10pt;\"><font style=\"font-family:inherit;font-size:10pt;\"> </font></div></td><td style=\"vertical-align:bottom;padding-left:2px;padding-top:2px;padding-bottom:2px;\"><div style=\"text-align:right;font-size:8pt;\"><font style=\"font-family:Helvetica,sans-serif;font-size:8pt;\">4,510</font></div></td><td style=\"vertical-align:bottom;\"><div style=\"text-align:left;font-size:10pt;\"><font style=\"font-family:inherit;font-size:10pt;\"><br/></font></div></td><td style=\"vertical-align:bottom;padding-left:2px;padding-top:2px;padding-bottom:2px;padding-right:2px;\"><div style=\"overflow:hidden;font-size:10pt;\"><font style=\"font-family:inherit;font-size:10pt;\"> </font></div></td><td colspan=\"3\" style=\"vertical-align:bottom;padding-left:2px;padding-top:2px;padding-bottom:2px;padding-right:2px;\"><div style=\"overflow:hidden;font-size:10pt;\"><font style=\"font-family:inherit;font-size:10pt;\"> </font></div></td></tr><tr><td style=\"vertical-align:top;background-color:#efefef;padding-left:28px;padding-top:2px;padding-bottom:2px;padding-right:2px;\"><div style=\"text-align:left;font-size:8pt;\"><font style=\"font-family:Helvetica,sans-serif;font-size:8pt;\">August 2017 ASR</font></div></td><td style=\"vertical-align:bottom;background-color:#efefef;padding-left:2px;padding-top:2px;padding-bottom:2px;padding-right:2px;\"><div style=\"overflow:hidden;font-size:10pt;\"><font style=\"font-family:inherit;font-size:10pt;\"> </font></div></td><td style=\"vertical-align:bottom;background-color:#efefef;padding-left:2px;padding-top:2px;padding-bottom:2px;\"><div style=\"text-align:right;font-size:8pt;\"><font style=\"font-family:Helvetica,sans-serif;font-size:8pt;\">15,069</font></div></td><td style=\"vertical-align:bottom;background-color:#efefef;\"><div style=\"text-align:left;font-size:10pt;\"><font style=\"font-family:inherit;font-size:10pt;\"><br/></font></div></td><td style=\"vertical-align:bottom;background-color:#efefef;padding-left:2px;padding-top:2px;padding-bottom:2px;padding-right:2px;\"><div style=\"text-align:left;font-size:8pt;\"><font style=\"font-family:Helvetica,sans-serif;font-size:8pt;\"><sup style=\"vertical-align:top;line-height:120%;font-size:pt\">(3)</sup> </font></div></td><td colspan=\"2\" style=\"vertical-align:bottom;background-color:#efefef;padding-left:2px;padding-top:2px;padding-bottom:2px;\"><div style=\"text-align:right;font-size:8pt;\"><font style=\"font-family:Helvetica,sans-serif;font-size:8pt;\"><sup style=\"vertical-align:top;line-height:120%;font-size:pt\">(3)</sup> </font></div></td><td style=\"vertical-align:bottom;background-color:#efefef;\"><div style=\"text-align:left;font-size:10pt;\"><font style=\"font-family:inherit;font-size:10pt;\"><br/></font></div></td><td style=\"vertical-align:bottom;background-color:#efefef;padding-left:2px;padding-top:2px;padding-bottom:2px;padding-right:2px;\"><div style=\"overflow:hidden;font-size:10pt;\"><font style=\"font-family:inherit;font-size:10pt;\"> </font></div></td><td style=\"vertical-align:bottom;background-color:#efefef;padding-left:2px;padding-top:2px;padding-bottom:2px;\"><div style=\"text-align:right;font-size:8pt;\"><font style=\"font-family:Helvetica,sans-serif;font-size:8pt;\">15,069</font></div></td><td style=\"vertical-align:bottom;background-color:#efefef;\"><div style=\"text-align:left;font-size:10pt;\"><font style=\"font-family:inherit;font-size:10pt;\"><br/></font></div></td><td style=\"vertical-align:bottom;background-color:#efefef;padding-left:2px;padding-top:2px;padding-bottom:2px;padding-right:2px;\"><div style=\"text-align:left;font-size:8pt;\"><font style=\"font-family:Helvetica,sans-serif;font-size:8pt;\"><sup style=\"vertical-align:top;line-height:120%;font-size:pt\">(3)</sup> </font></div></td><td colspan=\"3\" style=\"vertical-align:bottom;background-color:#efefef;padding-left:2px;padding-top:2px;padding-bottom:2px;padding-right:2px;\"><div style=\"overflow:hidden;font-size:10pt;\"><font style=\"font-family:inherit;font-size:10pt;\"> </font></div></td></tr><tr><td style=\"vertical-align:top;padding-left:28px;padding-top:2px;padding-bottom:2px;padding-right:2px;\"><div style=\"text-align:left;font-size:8pt;\"><font style=\"font-family:Helvetica,sans-serif;font-size:8pt;\">Open market and privately negotiated purchases</font></div></td><td style=\"vertical-align:bottom;padding-left:2px;padding-top:2px;padding-bottom:2px;padding-right:2px;\"><div style=\"overflow:hidden;font-size:10pt;\"><font style=\"font-family:inherit;font-size:10pt;\"> </font></div></td><td style=\"vertical-align:bottom;padding-left:2px;padding-top:2px;padding-bottom:2px;\"><div style=\"text-align:right;font-size:8pt;\"><font style=\"font-family:Helvetica,sans-serif;font-size:8pt;\">9,684</font></div></td><td style=\"vertical-align:bottom;\"><div style=\"text-align:left;font-size:10pt;\"><font style=\"font-family:inherit;font-size:10pt;\"><br/></font></div></td><td style=\"vertical-align:bottom;padding-left:2px;padding-top:2px;padding-bottom:2px;padding-right:2px;\"><div style=\"overflow:hidden;font-size:10pt;\"><font style=\"font-family:inherit;font-size:10pt;\"> </font></div></td><td style=\"vertical-align:bottom;padding-left:2px;padding-top:2px;padding-bottom:2px;\"><div style=\"text-align:left;font-size:8pt;\"><font style=\"font-family:Helvetica,sans-serif;font-size:8pt;\">$</font></div></td><td style=\"vertical-align:bottom;padding-top:2px;padding-bottom:2px;\"><div style=\"text-align:right;font-size:8pt;\"><font style=\"font-family:Helvetica,sans-serif;font-size:8pt;\">160.06</font></div></td><td style=\"vertical-align:bottom;\"><div style=\"text-align:left;font-size:10pt;\"><font style=\"font-family:inherit;font-size:10pt;\"><br/></font></div></td><td style=\"vertical-align:bottom;padding-left:2px;padding-top:2px;padding-bottom:2px;padding-right:2px;\"><div style=\"overflow:hidden;font-size:10pt;\"><font style=\"font-family:inherit;font-size:10pt;\"> </font></div></td><td style=\"vertical-align:bottom;padding-left:2px;padding-top:2px;padding-bottom:2px;\"><div style=\"text-align:right;font-size:8pt;\"><font style=\"font-family:Helvetica,sans-serif;font-size:8pt;\">9,684</font></div></td><td style=\"vertical-align:bottom;\"><div style=\"text-align:left;font-size:10pt;\"><font style=\"font-family:inherit;font-size:10pt;\"><br/></font></div></td><td style=\"vertical-align:bottom;padding-left:2px;padding-top:2px;padding-bottom:2px;padding-right:2px;\"><div style=\"overflow:hidden;font-size:10pt;\"><font style=\"font-family:inherit;font-size:10pt;\"> </font></div></td><td colspan=\"3\" style=\"vertical-align:bottom;padding-left:2px;padding-top:2px;padding-bottom:2px;padding-right:2px;\"><div style=\"overflow:hidden;font-size:10pt;\"><font style=\"font-family:inherit;font-size:10pt;\"> </font></div></td></tr><tr><td style=\"vertical-align:bottom;background-color:#efefef;padding-left:2px;padding-top:2px;padding-bottom:2px;padding-right:2px;\"><div style=\"overflow:hidden;height:18px;font-size:10pt;\"><font style=\"font-family:inherit;font-size:10pt;\"> </font></div></td><td style=\"vertical-align:bottom;background-color:#efefef;padding-left:2px;padding-top:2px;padding-bottom:2px;padding-right:2px;\"><div style=\"overflow:hidden;height:18px;font-size:10pt;\"><font style=\"font-family:inherit;font-size:10pt;\"> </font></div></td><td colspan=\"2\" style=\"vertical-align:bottom;background-color:#efefef;padding-left:2px;padding-top:2px;padding-bottom:2px;padding-right:2px;\"><div style=\"overflow:hidden;height:18px;font-size:10pt;\"><font style=\"font-family:inherit;font-size:10pt;\"> </font></div></td><td style=\"vertical-align:bottom;background-color:#efefef;padding-left:2px;padding-top:2px;padding-bottom:2px;padding-right:2px;\"><div style=\"overflow:hidden;height:18px;font-size:10pt;\"><font style=\"font-family:inherit;font-size:10pt;\"> </font></div></td><td colspan=\"3\" style=\"vertical-align:bottom;background-color:#efefef;padding-left:2px;padding-top:2px;padding-bottom:2px;padding-right:2px;\"><div style=\"overflow:hidden;height:18px;font-size:10pt;\"><font style=\"font-family:inherit;font-size:10pt;\"> </font></div></td><td style=\"vertical-align:bottom;background-color:#efefef;padding-left:2px;padding-top:2px;padding-bottom:2px;padding-right:2px;\"><div style=\"overflow:hidden;height:18px;font-size:10pt;\"><font style=\"font-family:inherit;font-size:10pt;\"> </font></div></td><td colspan=\"2\" style=\"vertical-align:bottom;background-color:#efefef;padding-left:2px;padding-top:2px;padding-bottom:2px;padding-right:2px;\"><div style=\"overflow:hidden;height:18px;font-size:10pt;\"><font style=\"font-family:inherit;font-size:10pt;\"> </font></div></td><td style=\"vertical-align:bottom;background-color:#efefef;padding-left:2px;padding-top:2px;padding-bottom:2px;padding-right:2px;\"><div style=\"overflow:hidden;height:18px;font-size:10pt;\"><font style=\"font-family:inherit;font-size:10pt;\"> </font></div></td><td colspan=\"3\" style=\"vertical-align:bottom;background-color:#efefef;padding-left:2px;padding-top:2px;padding-bottom:2px;padding-right:2px;\"><div style=\"overflow:hidden;height:18px;font-size:10pt;\"><font style=\"font-family:inherit;font-size:10pt;\"> </font></div></td></tr><tr><td style=\"vertical-align:top;padding-left:2px;padding-top:2px;padding-bottom:2px;padding-right:2px;\"><div style=\"text-align:left;padding-left:12px;text-indent:-12px;font-size:8pt;\"><font style=\"font-family:Helvetica,sans-serif;font-size:8pt;\">September 3, 2017 to September 30, 2017:</font></div></td><td style=\"vertical-align:bottom;padding-left:2px;padding-top:2px;padding-bottom:2px;padding-right:2px;\"><div style=\"overflow:hidden;font-size:10pt;\"><font style=\"font-family:inherit;font-size:10pt;\"> </font></div></td><td colspan=\"2\" style=\"vertical-align:bottom;padding-left:2px;padding-top:2px;padding-bottom:2px;padding-right:2px;\"><div style=\"overflow:hidden;font-size:10pt;\"><font style=\"font-family:inherit;font-size:10pt;\"> </font></div></td><td style=\"vertical-align:bottom;padding-left:2px;padding-top:2px;padding-bottom:2px;padding-right:2px;\"><div style=\"overflow:hidden;font-size:10pt;\"><font style=\"font-family:inherit;font-size:10pt;\"> </font></div></td><td colspan=\"3\" style=\"vertical-align:bottom;padding-left:2px;padding-top:2px;padding-bottom:2px;padding-right:2px;\"><div style=\"overflow:hidden;font-size:10pt;\"><font style=\"font-family:inherit;font-size:10pt;\"> </font></div></td><td style=\"vertical-align:bottom;padding-left:2px;padding-top:2px;padding-bottom:2px;padding-right:2px;\"><div style=\"overflow:hidden;font-size:10pt;\"><font style=\"font-family:inherit;font-size:10pt;\"> </font></div></td><td colspan=\"2\" style=\"vertical-align:bottom;padding-left:2px;padding-top:2px;padding-bottom:2px;padding-right:2px;\"><div style=\"overflow:hidden;font-size:10pt;\"><font style=\"font-family:inherit;font-size:10pt;\"> </font></div></td><td style=\"vertical-align:bottom;padding-left:2px;padding-top:2px;padding-bottom:2px;padding-right:2px;\"><div style=\"overflow:hidden;font-size:10pt;\"><font style=\"font-family:inherit;font-size:10pt;\"> </font></div></td><td colspan=\"3\" style=\"vertical-align:bottom;padding-left:2px;padding-top:2px;padding-bottom:2px;padding-right:2px;\"><div style=\"overflow:hidden;font-size:10pt;\"><font style=\"font-family:inherit;font-size:10pt;\"> </font></div></td></tr><tr><td style=\"vertical-align:top;background-color:#efefef;padding-left:28px;padding-top:2px;padding-bottom:2px;padding-right:2px;\"><div style=\"text-align:left;font-size:8pt;\"><font style=\"font-family:Helvetica,sans-serif;font-size:8pt;\">Open market and privately negotiated purchases</font></div></td><td style=\"vertical-align:bottom;background-color:#efefef;padding-left:2px;padding-top:2px;padding-bottom:2px;padding-right:2px;\"><div style=\"overflow:hidden;font-size:10pt;\"><font style=\"font-family:inherit;font-size:10pt;\"> </font></div></td><td style=\"vertical-align:bottom;background-color:#efefef;padding-left:2px;padding-top:2px;padding-bottom:2px;\"><div style=\"text-align:right;font-size:8pt;\"><font style=\"font-family:Helvetica,sans-serif;font-size:8pt;\">9,313</font></div></td><td style=\"vertical-align:bottom;background-color:#efefef;\"><div style=\"text-align:left;font-size:10pt;\"><font style=\"font-family:inherit;font-size:10pt;\"><br/></font></div></td><td style=\"vertical-align:bottom;background-color:#efefef;padding-left:2px;padding-top:2px;padding-bottom:2px;padding-right:2px;\"><div style=\"overflow:hidden;font-size:10pt;\"><font style=\"font-family:inherit;font-size:10pt;\"> </font></div></td><td style=\"vertical-align:bottom;padding-left:2px;padding-top:2px;padding-bottom:2px;background-color:#efefef;\"><div style=\"text-align:left;font-size:8pt;\"><font style=\"font-family:Helvetica,sans-serif;font-size:8pt;\">$</font></div></td><td style=\"vertical-align:bottom;background-color:#efefef;padding-top:2px;padding-bottom:2px;\"><div style=\"text-align:right;font-size:8pt;\"><font style=\"font-family:Helvetica,sans-serif;font-size:8pt;\">155.69</font></div></td><td style=\"vertical-align:bottom;background-color:#efefef;\"><div style=\"text-align:left;font-size:10pt;\"><font style=\"font-family:inherit;font-size:10pt;\"><br/></font></div></td><td style=\"vertical-align:bottom;background-color:#efefef;padding-left:2px;padding-top:2px;padding-bottom:2px;padding-right:2px;\"><div style=\"overflow:hidden;font-size:10pt;\"><font style=\"font-family:inherit;font-size:10pt;\"> </font></div></td><td style=\"vertical-align:bottom;background-color:#efefef;padding-left:2px;padding-top:2px;padding-bottom:2px;\"><div style=\"text-align:right;font-size:8pt;\"><font style=\"font-family:Helvetica,sans-serif;font-size:8pt;\">9,313</font></div></td><td style=\"vertical-align:bottom;background-color:#efefef;\"><div style=\"text-align:left;font-size:10pt;\"><font style=\"font-family:inherit;font-size:10pt;\"><br/></font></div></td><td style=\"vertical-align:bottom;background-color:#efefef;padding-left:2px;padding-top:2px;padding-bottom:2px;padding-right:2px;\"><div style=\"overflow:hidden;font-size:10pt;\"><font style=\"font-family:inherit;font-size:10pt;\"> </font></div></td><td colspan=\"3\" style=\"vertical-align:bottom;background-color:#efefef;padding-left:2px;padding-top:2px;padding-bottom:2px;padding-right:2px;\"><div style=\"overflow:hidden;font-size:10pt;\"><font style=\"font-family:inherit;font-size:10pt;\"> </font></div></td></tr><tr><td style=\"vertical-align:top;padding-left:52px;padding-top:2px;padding-bottom:2px;padding-right:2px;\"><div style=\"text-align:left;font-size:8pt;\"><font style=\"font-family:Helvetica,sans-serif;font-size:8pt;\">Total</font></div></td><td style=\"vertical-align:bottom;padding-left:2px;padding-top:2px;padding-bottom:2px;padding-right:2px;\"><div style=\"overflow:hidden;font-size:10pt;\"><font style=\"font-family:inherit;font-size:10pt;\"> </font></div></td><td style=\"vertical-align:bottom;border-bottom:3px double #000000;padding-left:2px;padding-top:2px;padding-bottom:2px;border-top:1px solid #000000;\"><div style=\"text-align:right;font-size:8pt;\"><font style=\"font-family:Helvetica,sans-serif;font-size:8pt;\">48,652</font></div></td><td style=\"vertical-align:bottom;border-bottom:3px double #000000;border-top:1px solid #000000;\"><div style=\"text-align:left;font-size:10pt;\"><font style=\"font-family:inherit;font-size:10pt;\"><br/></font></div></td><td style=\"vertical-align:bottom;padding-left:2px;padding-top:2px;padding-bottom:2px;padding-right:2px;\"><div style=\"overflow:hidden;font-size:10pt;\"><font style=\"font-family:inherit;font-size:10pt;\"> </font></div></td><td colspan=\"3\" style=\"vertical-align:bottom;padding-left:2px;padding-top:2px;padding-bottom:2px;padding-right:2px;\"><div style=\"overflow:hidden;font-size:10pt;\"><font style=\"font-family:inherit;font-size:10pt;\"> </font></div></td><td style=\"vertical-align:bottom;padding-left:2px;padding-top:2px;padding-bottom:2px;padding-right:2px;\"><div style=\"overflow:hidden;font-size:10pt;\"><font style=\"font-family:inherit;font-size:10pt;\"> </font></div></td><td colspan=\"2\" style=\"vertical-align:bottom;padding-left:2px;padding-top:2px;padding-bottom:2px;padding-right:2px;\"><div style=\"overflow:hidden;font-size:10pt;\"><font style=\"font-family:inherit;font-size:10pt;\"> </font></div></td><td style=\"vertical-align:bottom;padding-left:2px;padding-top:2px;padding-bottom:2px;padding-right:2px;\"><div style=\"overflow:hidden;font-size:10pt;\"><font style=\"font-family:inherit;font-size:10pt;\"> </font></div></td><td style=\"vertical-align:bottom;border-bottom:3px double #000000;padding-left:2px;padding-top:2px;padding-bottom:2px;\"><div style=\"text-align:left;font-size:8pt;\"><font style=\"font-family:Helvetica,sans-serif;font-size:8pt;\">$</font></div></td><td style=\"vertical-align:bottom;border-bottom:3px double #000000;padding-top:2px;padding-bottom:2px;\"><div style=\"text-align:right;font-size:8pt;\"><font style=\"font-family:Helvetica,sans-serif;font-size:8pt;\">44,023</font></div></td><td style=\"vertical-align:bottom;border-bottom:3px double #000000;\"><div style=\"text-align:left;font-size:10pt;\"><font style=\"font-family:inherit;font-size:10pt;\"><br/></font></div></td></tr></table></div><font style=\"font-family:Helvetica,sans-serif;font-size:6pt;\"> </font></div>\n",
       "\n",
       "\n",
       "<div style=\"line-height:120%;font-size:8pt;padding-left:24px;\"><font style=\"font-family:Helvetica,sans-serif;font-size:8pt;\">(1)</font></div>\n",
       "<div style=\"line-height:120%;text-align:justify;font-size:8pt;\"><font style=\"font-family:Helvetica,sans-serif;font-size:8pt;\">In </font><font style=\"font-family:Helvetica,sans-serif;font-size:8pt;\">May 2017</font><font style=\"font-family:Helvetica,sans-serif;font-size:8pt;\">, the Company’s Board of Directors increased the Company’s share repurchase authorization from $175 billion to </font><font style=\"font-family:Helvetica;font-size:8pt;\">$210 billion</font><font style=\"font-family:Helvetica,sans-serif;font-size:8pt;\"> of the Company’s common stock, of which </font><font style=\"font-family:Helvetica;font-size:8pt;\">$166 billion</font><font style=\"font-family:Helvetica,sans-serif;font-size:8pt;\"> had been utilized as of </font><font style=\"font-family:Helvetica;font-size:8pt;\">September 30, 2017</font><font style=\"font-family:Helvetica,sans-serif;font-size:8pt;\">. The remaining </font><font style=\"font-family:Helvetica;font-size:8pt;\">$44 billion</font><font style=\"font-family:Helvetica,sans-serif;font-size:8pt;\"> in the table represents the amount available to repurchase shares under the authorized repurchase program as of </font><font style=\"font-family:Helvetica;font-size:8pt;\">September 30, 2017</font><font style=\"font-family:Helvetica,sans-serif;font-size:8pt;\">. The Company’s share repurchase program does not obligate it to acquire any specific number of shares. Under the program, shares may be repurchased in privately negotiated and/or open market transactions, including under plans complying with Rule 10b5-1 under the Exchange Act.</font></div>\n",
       "\n",
       "<div style=\"line-height:120%;font-size:8pt;padding-left:24px;\"><font style=\"font-family:Helvetica,sans-serif;font-size:8pt;\">(2)</font></div>\n",
       "<div style=\"line-height:120%;text-align:justify;font-size:8pt;\"><font style=\"font-family:Helvetica,sans-serif;font-size:8pt;\">In May 2017, the Company entered into an accelerated share repurchase arrangement (“ASR”) to purchase up to </font><font style=\"font-family:Helvetica;font-size:8pt;\">$3.0 billion</font><font style=\"font-family:Helvetica,sans-serif;font-size:8pt;\"> of the Company’s common stock. In August 2017, the purchase period for this ASR ended and an additional </font><font style=\"font-family:Helvetica;font-size:8pt;\">4.5 million</font><font style=\"font-family:Helvetica,sans-serif;font-size:8pt;\"> shares were delivered and retired. In total, </font><font style=\"font-family:Helvetica;font-size:8pt;\">20.1 million</font><font style=\"font-family:Helvetica,sans-serif;font-size:8pt;\"> shares were delivered under this ASR at an average repurchase price of </font><font style=\"font-family:Helvetica;font-size:8pt;\">$149.20</font><font style=\"font-family:Helvetica,sans-serif;font-size:8pt;\">.</font></div>\n",
       "\n",
       "<div style=\"line-height:120%;font-size:8pt;padding-left:24px;\"><font style=\"font-family:Helvetica,sans-serif;font-size:8pt;\">(3)</font></div>\n",
       "<div style=\"line-height:120%;text-align:justify;font-size:8pt;\"><font style=\"font-family:Helvetica,sans-serif;font-size:8pt;\">In August 2017, the Company entered into a new ASR to purchase up to </font><font style=\"font-family:Helvetica;font-size:8pt;\">$3.0 billion</font><font style=\"font-family:Helvetica,sans-serif;font-size:8pt;\"> of the Company’s common stock. In exchange for an up-front payment of </font><font style=\"font-family:Helvetica;font-size:8pt;\">$3.0 billion</font><font style=\"font-family:Helvetica,sans-serif;font-size:8pt;\">, the financial institution party to the arrangement committed to deliver shares to the Company during the ASR’s purchase period, which will end in </font><font style=\"font-family:Helvetica,sans-serif;font-size:8pt;\">November 2017</font><font style=\"font-family:Helvetica,sans-serif;font-size:8pt;\">. The total number of shares ultimately delivered, and therefore the average price paid per share, will be determined at the end of the applicable purchase period based on the volume-weighted average price of the Company’s common stock during that period.</font></div>\n",
       "<div><br/></div>\n",
       "\n",
       "<div></div>\n",
       "<div><br/></div>\n",
       "<div style=\"line-height:120%;padding-top:24px;text-align:justify;font-size:9pt;\"><font style=\"font-family:Helvetica,sans-serif;font-size:9pt;font-weight:bold;\">Company Stock Performance</font></div>\n",
       "<div style=\"line-height:120%;padding-top:8px;text-align:justify;font-size:9pt;\"><font style=\"font-family:Helvetica,sans-serif;font-size:9pt;\">The following graph shows a comparison of cumulative total shareholder return, calculated on a dividend reinvested basis, for the Company, the S&amp;P 500 Index, the S&amp;P Information Technology Index and the Dow Jones U.S. Technology Supersector Index for the five years ended </font><font style=\"font-family:Helvetica,sans-serif;font-size:9pt;\">September 30, 2017</font><font style=\"font-family:Helvetica,sans-serif;font-size:9pt;\">. The graph assumes $100 was invested in each of the Company’s common stock, the S&amp;P 500 Index, the S&amp;P Information Technology Index and the Dow Jones U.S. Technology Supersector Index as of the market close on September 28, 2012. Note that historic stock price performance is not necessarily indicative of future stock price performance.</font></div>\n",
       "<div style=\"line-height:120%;padding-top:16px;text-align:center;\"><img alt=\"a10-k9_chartx38133a04.jpg\" src=\"a10-k9_chartx38133a04.jpg\" style=\"height:433px;width:682px;\"/></div>\n",
       "\n",
       "<div style=\"line-height:120%;font-size:8pt;padding-left:24px;\"><font style=\"font-family:Helvetica,sans-serif;font-size:8pt;\">*</font></div>\n",
       "<div style=\"line-height:120%;text-align:justify;font-size:8pt;\"><font style=\"font-family:Helvetica,sans-serif;font-size:8pt;\">$100 invested on 9/28/12 in stock or index, including reinvestment of dividends. Data points are the last day of each fiscal year for the Company’s common stock and September 30th for indexes.</font></div>\n",
       "\n",
       "\n",
       "<div style=\"line-height:120%;text-align:justify;font-size:10pt;\"><div style=\"padding-left:0px;text-indent:0px;line-height:normal;padding-top:10px;\"><table cellpadding=\"0\" cellspacing=\"0\" style=\"font-family:Times New Roman;font-size:10pt;width:100%;border-collapse:collapse;text-align:left;\"><tr><td colspan=\"25\"></td></tr><tr><td style=\"width:34%;\"></td><td style=\"width:1%;\"></td><td style=\"width:1%;\"></td><td style=\"width:8%;\"></td><td style=\"width:1%;\"></td><td style=\"width:1%;\"></td><td style=\"width:1%;\"></td><td style=\"width:8%;\"></td><td style=\"width:1%;\"></td><td style=\"width:1%;\"></td><td style=\"width:1%;\"></td><td style=\"width:8%;\"></td><td style=\"width:1%;\"></td><td style=\"width:1%;\"></td><td style=\"width:1%;\"></td><td style=\"width:8%;\"></td><td style=\"width:1%;\"></td><td style=\"width:1%;\"></td><td style=\"width:1%;\"></td><td style=\"width:8%;\"></td><td style=\"width:1%;\"></td><td style=\"width:1%;\"></td><td style=\"width:1%;\"></td><td style=\"width:8%;\"></td><td style=\"width:1%;\"></td></tr><tr><td style=\"vertical-align:bottom;padding-left:2px;padding-top:2px;padding-bottom:2px;padding-right:2px;\"><div style=\"overflow:hidden;font-size:10pt;\"><font style=\"font-family:inherit;font-size:10pt;\"> </font></div></td><td style=\"vertical-align:bottom;padding-left:2px;padding-top:2px;padding-bottom:2px;padding-right:2px;\"><div style=\"overflow:hidden;font-size:10pt;\"><font style=\"font-family:inherit;font-size:10pt;\"> </font></div></td><td colspan=\"3\" style=\"vertical-align:bottom;border-bottom:1px solid #000000;padding-left:2px;padding-top:2px;padding-bottom:2px;padding-right:2px;\"><div style=\"text-align:center;font-size:8pt;\"><font style=\"font-family:Helvetica,sans-serif;font-size:8pt;font-weight:bold;\">September </font></div><div style=\"text-align:center;font-size:8pt;\"><font style=\"font-family:Helvetica,sans-serif;font-size:8pt;font-weight:bold;\">2012</font></div></td><td style=\"vertical-align:bottom;padding-left:2px;padding-top:2px;padding-bottom:2px;padding-right:2px;\"><div style=\"overflow:hidden;font-size:10pt;\"><font style=\"font-family:inherit;font-size:10pt;\"> </font></div></td><td colspan=\"3\" style=\"vertical-align:bottom;border-bottom:1px solid #000000;padding-left:2px;padding-top:2px;padding-bottom:2px;padding-right:2px;\"><div style=\"text-align:center;font-size:8pt;\"><font style=\"font-family:Helvetica,sans-serif;font-size:8pt;font-weight:bold;\">September </font></div><div style=\"text-align:center;font-size:8pt;\"><font style=\"font-family:Helvetica,sans-serif;font-size:8pt;font-weight:bold;\">2013</font></div></td><td style=\"vertical-align:bottom;padding-left:2px;padding-top:2px;padding-bottom:2px;padding-right:2px;\"><div style=\"overflow:hidden;font-size:10pt;\"><font style=\"font-family:inherit;font-size:10pt;\"> </font></div></td><td colspan=\"3\" style=\"vertical-align:bottom;border-bottom:1px solid #000000;padding-left:2px;padding-top:2px;padding-bottom:2px;padding-right:2px;\"><div style=\"text-align:center;font-size:8pt;\"><font style=\"font-family:Helvetica,sans-serif;font-size:8pt;font-weight:bold;\">September </font></div><div style=\"text-align:center;font-size:8pt;\"><font style=\"font-family:Helvetica,sans-serif;font-size:8pt;font-weight:bold;\">2014</font></div></td><td style=\"vertical-align:bottom;padding-left:2px;padding-top:2px;padding-bottom:2px;padding-right:2px;\"><div style=\"overflow:hidden;font-size:10pt;\"><font style=\"font-family:inherit;font-size:10pt;\"> </font></div></td><td colspan=\"3\" style=\"vertical-align:bottom;border-bottom:1px solid #000000;padding-left:2px;padding-top:2px;padding-bottom:2px;padding-right:2px;\"><div style=\"text-align:center;font-size:8pt;\"><font style=\"font-family:Helvetica,sans-serif;font-size:8pt;font-weight:bold;\">September </font></div><div style=\"text-align:center;font-size:8pt;\"><font style=\"font-family:Helvetica,sans-serif;font-size:8pt;font-weight:bold;\">2015</font></div></td><td style=\"vertical-align:bottom;padding-left:2px;padding-top:2px;padding-bottom:2px;padding-right:2px;\"><div style=\"overflow:hidden;font-size:10pt;\"><font style=\"font-family:inherit;font-size:10pt;\"> </font></div></td><td colspan=\"3\" style=\"vertical-align:bottom;border-bottom:1px solid #000000;padding-left:2px;padding-top:2px;padding-bottom:2px;padding-right:2px;\"><div style=\"text-align:center;font-size:8pt;\"><font style=\"font-family:Helvetica,sans-serif;font-size:8pt;font-weight:bold;\">September </font></div><div style=\"text-align:center;font-size:8pt;\"><font style=\"font-family:Helvetica,sans-serif;font-size:8pt;font-weight:bold;\">2016</font></div></td><td style=\"vertical-align:bottom;padding-left:2px;padding-top:2px;padding-bottom:2px;padding-right:2px;\"><div style=\"overflow:hidden;font-size:10pt;\"><font style=\"font-family:inherit;font-size:10pt;\"> </font></div></td><td colspan=\"3\" style=\"vertical-align:bottom;border-bottom:1px solid #000000;padding-left:2px;padding-top:2px;padding-bottom:2px;padding-right:2px;\"><div style=\"text-align:center;font-size:8pt;\"><font style=\"font-family:Helvetica,sans-serif;font-size:8pt;font-weight:bold;\">September </font></div><div style=\"text-align:center;font-size:8pt;\"><font style=\"font-family:Helvetica,sans-serif;font-size:8pt;font-weight:bold;\">2017</font></div></td></tr><tr><td style=\"vertical-align:top;padding-left:2px;padding-top:2px;padding-bottom:2px;padding-right:2px;\"><div style=\"text-align:left;padding-left:12px;text-indent:-12px;font-size:9pt;\"><font style=\"font-family:Helvetica,sans-serif;font-size:9pt;\">Apple Inc.</font></div></td><td style=\"vertical-align:bottom;padding-left:2px;padding-top:2px;padding-bottom:2px;padding-right:2px;\"><div style=\"overflow:hidden;font-size:10pt;\"><font style=\"font-family:inherit;font-size:10pt;\"> </font></div></td><td style=\"vertical-align:bottom;padding-left:2px;padding-top:2px;padding-bottom:2px;\"><div style=\"text-align:left;font-size:9pt;\"><font style=\"font-family:Helvetica,sans-serif;font-size:9pt;\">$</font></div></td><td style=\"vertical-align:bottom;padding-top:2px;padding-bottom:2px;\"><div style=\"text-align:right;font-size:9pt;\"><font style=\"font-family:Helvetica,sans-serif;font-size:9pt;\">100</font></div></td><td style=\"vertical-align:bottom;\"><div style=\"text-align:left;font-size:10pt;\"><font style=\"font-family:inherit;font-size:10pt;\"><br/></font></div></td><td style=\"vertical-align:bottom;padding-left:2px;padding-top:2px;padding-bottom:2px;padding-right:2px;\"><div style=\"overflow:hidden;font-size:10pt;\"><font style=\"font-family:inherit;font-size:10pt;\"> </font></div></td><td style=\"vertical-align:bottom;padding-left:2px;padding-top:2px;padding-bottom:2px;border-top:1px solid #000000;\"><div style=\"text-align:left;font-size:9pt;\"><font style=\"font-family:Helvetica,sans-serif;font-size:9pt;\">$</font></div></td><td style=\"vertical-align:bottom;padding-top:2px;padding-bottom:2px;border-top:1px solid #000000;\"><div style=\"text-align:right;font-size:9pt;\"><font style=\"font-family:Helvetica,sans-serif;font-size:9pt;\">74</font></div></td><td style=\"vertical-align:bottom;border-top:1px solid #000000;\"><div style=\"text-align:left;font-size:10pt;\"><font style=\"font-family:inherit;font-size:10pt;\"><br/></font></div></td><td style=\"vertical-align:bottom;padding-left:2px;padding-top:2px;padding-bottom:2px;padding-right:2px;\"><div style=\"overflow:hidden;font-size:10pt;\"><font style=\"font-family:inherit;font-size:10pt;\"> </font></div></td><td style=\"vertical-align:bottom;padding-left:2px;padding-top:2px;padding-bottom:2px;border-top:1px solid #000000;\"><div style=\"text-align:left;font-size:9pt;\"><font style=\"font-family:Helvetica,sans-serif;font-size:9pt;\">$</font></div></td><td style=\"vertical-align:bottom;padding-top:2px;padding-bottom:2px;border-top:1px solid #000000;\"><div style=\"text-align:right;font-size:9pt;\"><font style=\"font-family:Helvetica,sans-serif;font-size:9pt;\">111</font></div></td><td style=\"vertical-align:bottom;border-top:1px solid #000000;\"><div style=\"text-align:left;font-size:10pt;\"><font style=\"font-family:inherit;font-size:10pt;\"><br/></font></div></td><td style=\"vertical-align:bottom;padding-left:2px;padding-top:2px;padding-bottom:2px;padding-right:2px;\"><div style=\"overflow:hidden;font-size:10pt;\"><font style=\"font-family:inherit;font-size:10pt;\"> </font></div></td><td style=\"vertical-align:bottom;padding-left:2px;padding-top:2px;padding-bottom:2px;border-top:1px solid #000000;\"><div style=\"text-align:left;font-size:9pt;\"><font style=\"font-family:Helvetica,sans-serif;font-size:9pt;\">$</font></div></td><td style=\"vertical-align:bottom;padding-top:2px;padding-bottom:2px;border-top:1px solid #000000;\"><div style=\"text-align:right;font-size:9pt;\"><font style=\"font-family:Helvetica,sans-serif;font-size:9pt;\">128</font></div></td><td style=\"vertical-align:bottom;border-top:1px solid #000000;\"><div style=\"text-align:left;font-size:10pt;\"><font style=\"font-family:inherit;font-size:10pt;\"><br/></font></div></td><td style=\"vertical-align:bottom;padding-left:2px;padding-top:2px;padding-bottom:2px;padding-right:2px;\"><div style=\"overflow:hidden;font-size:10pt;\"><font style=\"font-family:inherit;font-size:10pt;\"> </font></div></td><td style=\"vertical-align:bottom;padding-left:2px;padding-top:2px;padding-bottom:2px;border-top:1px solid #000000;\"><div style=\"text-align:left;font-size:9pt;\"><font style=\"font-family:Helvetica,sans-serif;font-size:9pt;\">$</font></div></td><td style=\"vertical-align:bottom;padding-top:2px;padding-bottom:2px;border-top:1px solid #000000;\"><div style=\"text-align:right;font-size:9pt;\"><font style=\"font-family:Helvetica,sans-serif;font-size:9pt;\">129</font></div></td><td style=\"vertical-align:bottom;border-top:1px solid #000000;\"><div style=\"text-align:left;font-size:10pt;\"><font style=\"font-family:inherit;font-size:10pt;\"><br/></font></div></td><td style=\"vertical-align:bottom;padding-left:2px;padding-top:2px;padding-bottom:2px;padding-right:2px;\"><div style=\"overflow:hidden;font-size:10pt;\"><font style=\"font-family:inherit;font-size:10pt;\"> </font></div></td><td style=\"vertical-align:bottom;padding-left:2px;padding-top:2px;padding-bottom:2px;border-top:1px solid #000000;\"><div style=\"text-align:left;font-size:9pt;\"><font style=\"font-family:Helvetica,sans-serif;font-size:9pt;\">$</font></div></td><td style=\"vertical-align:bottom;padding-top:2px;padding-bottom:2px;border-top:1px solid #000000;\"><div style=\"text-align:right;font-size:9pt;\"><font style=\"font-family:Helvetica,sans-serif;font-size:9pt;\">179</font></div></td><td style=\"vertical-align:bottom;border-top:1px solid #000000;\"><div style=\"text-align:left;font-size:10pt;\"><font style=\"font-family:inherit;font-size:10pt;\"><br/></font></div></td></tr><tr><td style=\"vertical-align:top;background-color:#efefef;padding-left:2px;padding-top:2px;padding-bottom:2px;padding-right:2px;\"><div style=\"text-align:left;padding-left:12px;text-indent:-12px;font-size:9pt;\"><font style=\"font-family:Helvetica,sans-serif;font-size:9pt;\">S&amp;P 500 Index</font></div></td><td style=\"vertical-align:bottom;background-color:#efefef;padding-left:2px;padding-top:2px;padding-bottom:2px;padding-right:2px;\"><div style=\"overflow:hidden;font-size:10pt;\"><font style=\"font-family:inherit;font-size:10pt;\"> </font></div></td><td style=\"vertical-align:bottom;padding-left:2px;padding-top:2px;padding-bottom:2px;background-color:#efefef;\"><div style=\"text-align:left;font-size:9pt;\"><font style=\"font-family:Helvetica,sans-serif;font-size:9pt;\">$</font></div></td><td style=\"vertical-align:bottom;background-color:#efefef;padding-top:2px;padding-bottom:2px;\"><div style=\"text-align:right;font-size:9pt;\"><font style=\"font-family:Helvetica,sans-serif;font-size:9pt;\">100</font></div></td><td style=\"vertical-align:bottom;background-color:#efefef;\"><div style=\"text-align:left;font-size:10pt;\"><font style=\"font-family:inherit;font-size:10pt;\"><br/></font></div></td><td style=\"vertical-align:bottom;background-color:#efefef;padding-left:2px;padding-top:2px;padding-bottom:2px;padding-right:2px;\"><div style=\"overflow:hidden;font-size:10pt;\"><font style=\"font-family:inherit;font-size:10pt;\"> </font></div></td><td style=\"vertical-align:bottom;padding-left:2px;padding-top:2px;padding-bottom:2px;background-color:#efefef;\"><div style=\"text-align:left;font-size:9pt;\"><font style=\"font-family:Helvetica,sans-serif;font-size:9pt;\">$</font></div></td><td style=\"vertical-align:bottom;background-color:#efefef;padding-top:2px;padding-bottom:2px;\"><div style=\"text-align:right;font-size:9pt;\"><font style=\"font-family:Helvetica,sans-serif;font-size:9pt;\">119</font></div></td><td style=\"vertical-align:bottom;background-color:#efefef;\"><div style=\"text-align:left;font-size:10pt;\"><font style=\"font-family:inherit;font-size:10pt;\"><br/></font></div></td><td style=\"vertical-align:bottom;background-color:#efefef;padding-left:2px;padding-top:2px;padding-bottom:2px;padding-right:2px;\"><div style=\"overflow:hidden;font-size:10pt;\"><font style=\"font-family:inherit;font-size:10pt;\"> </font></div></td><td style=\"vertical-align:bottom;padding-left:2px;padding-top:2px;padding-bottom:2px;background-color:#efefef;\"><div style=\"text-align:left;font-size:9pt;\"><font style=\"font-family:Helvetica,sans-serif;font-size:9pt;\">$</font></div></td><td style=\"vertical-align:bottom;background-color:#efefef;padding-top:2px;padding-bottom:2px;\"><div style=\"text-align:right;font-size:9pt;\"><font style=\"font-family:Helvetica,sans-serif;font-size:9pt;\">143</font></div></td><td style=\"vertical-align:bottom;background-color:#efefef;\"><div style=\"text-align:left;font-size:10pt;\"><font style=\"font-family:inherit;font-size:10pt;\"><br/></font></div></td><td style=\"vertical-align:bottom;background-color:#efefef;padding-left:2px;padding-top:2px;padding-bottom:2px;padding-right:2px;\"><div style=\"overflow:hidden;font-size:10pt;\"><font style=\"font-family:inherit;font-size:10pt;\"> </font></div></td><td style=\"vertical-align:bottom;padding-left:2px;padding-top:2px;padding-bottom:2px;background-color:#efefef;\"><div style=\"text-align:left;font-size:9pt;\"><font style=\"font-family:Helvetica,sans-serif;font-size:9pt;\">$</font></div></td><td style=\"vertical-align:bottom;background-color:#efefef;padding-top:2px;padding-bottom:2px;\"><div style=\"text-align:right;font-size:9pt;\"><font style=\"font-family:Helvetica,sans-serif;font-size:9pt;\">142</font></div></td><td style=\"vertical-align:bottom;background-color:#efefef;\"><div style=\"text-align:left;font-size:10pt;\"><font style=\"font-family:inherit;font-size:10pt;\"><br/></font></div></td><td style=\"vertical-align:bottom;background-color:#efefef;padding-left:2px;padding-top:2px;padding-bottom:2px;padding-right:2px;\"><div style=\"overflow:hidden;font-size:10pt;\"><font style=\"font-family:inherit;font-size:10pt;\"> </font></div></td><td style=\"vertical-align:bottom;padding-left:2px;padding-top:2px;padding-bottom:2px;background-color:#efefef;\"><div style=\"text-align:left;font-size:9pt;\"><font style=\"font-family:Helvetica,sans-serif;font-size:9pt;\">$</font></div></td><td style=\"vertical-align:bottom;background-color:#efefef;padding-top:2px;padding-bottom:2px;\"><div style=\"text-align:right;font-size:9pt;\"><font style=\"font-family:Helvetica,sans-serif;font-size:9pt;\">164</font></div></td><td style=\"vertical-align:bottom;background-color:#efefef;\"><div style=\"text-align:left;font-size:10pt;\"><font style=\"font-family:inherit;font-size:10pt;\"><br/></font></div></td><td style=\"vertical-align:bottom;background-color:#efefef;padding-left:2px;padding-top:2px;padding-bottom:2px;padding-right:2px;\"><div style=\"overflow:hidden;font-size:10pt;\"><font style=\"font-family:inherit;font-size:10pt;\"> </font></div></td><td style=\"vertical-align:bottom;padding-left:2px;padding-top:2px;padding-bottom:2px;background-color:#efefef;\"><div style=\"text-align:left;font-size:9pt;\"><font style=\"font-family:Helvetica,sans-serif;font-size:9pt;\">$</font></div></td><td style=\"vertical-align:bottom;background-color:#efefef;padding-top:2px;padding-bottom:2px;\"><div style=\"text-align:right;font-size:9pt;\"><font style=\"font-family:Helvetica,sans-serif;font-size:9pt;\">194</font></div></td><td style=\"vertical-align:bottom;background-color:#efefef;\"><div style=\"text-align:left;font-size:10pt;\"><font style=\"font-family:inherit;font-size:10pt;\"><br/></font></div></td></tr><tr><td style=\"vertical-align:top;padding-left:2px;padding-top:2px;padding-bottom:2px;padding-right:2px;\"><div style=\"text-align:left;padding-left:12px;text-indent:-12px;font-size:9pt;\"><font style=\"font-family:Helvetica,sans-serif;font-size:9pt;\">S&amp;P Information Technology Index</font></div></td><td style=\"vertical-align:bottom;padding-left:2px;padding-top:2px;padding-bottom:2px;padding-right:2px;\"><div style=\"overflow:hidden;font-size:10pt;\"><font style=\"font-family:inherit;font-size:10pt;\"> </font></div></td><td style=\"vertical-align:bottom;padding-left:2px;padding-top:2px;padding-bottom:2px;\"><div style=\"text-align:left;font-size:9pt;\"><font style=\"font-family:Helvetica,sans-serif;font-size:9pt;\">$</font></div></td><td style=\"vertical-align:bottom;padding-top:2px;padding-bottom:2px;\"><div style=\"text-align:right;font-size:9pt;\"><font style=\"font-family:Helvetica,sans-serif;font-size:9pt;\">100</font></div></td><td style=\"vertical-align:bottom;\"><div style=\"text-align:left;font-size:10pt;\"><font style=\"font-family:inherit;font-size:10pt;\"><br/></font></div></td><td style=\"vertical-align:bottom;padding-left:2px;padding-top:2px;padding-bottom:2px;padding-right:2px;\"><div style=\"overflow:hidden;font-size:10pt;\"><font style=\"font-family:inherit;font-size:10pt;\"> </font></div></td><td style=\"vertical-align:bottom;padding-left:2px;padding-top:2px;padding-bottom:2px;\"><div style=\"text-align:left;font-size:9pt;\"><font style=\"font-family:Helvetica,sans-serif;font-size:9pt;\">$</font></div></td><td style=\"vertical-align:bottom;padding-top:2px;padding-bottom:2px;\"><div style=\"text-align:right;font-size:9pt;\"><font style=\"font-family:Helvetica,sans-serif;font-size:9pt;\">107</font></div></td><td style=\"vertical-align:bottom;\"><div style=\"text-align:left;font-size:10pt;\"><font style=\"font-family:inherit;font-size:10pt;\"><br/></font></div></td><td style=\"vertical-align:bottom;padding-left:2px;padding-top:2px;padding-bottom:2px;padding-right:2px;\"><div style=\"overflow:hidden;font-size:10pt;\"><font style=\"font-family:inherit;font-size:10pt;\"> </font></div></td><td style=\"vertical-align:bottom;padding-left:2px;padding-top:2px;padding-bottom:2px;\"><div style=\"text-align:left;font-size:9pt;\"><font style=\"font-family:Helvetica,sans-serif;font-size:9pt;\">$</font></div></td><td style=\"vertical-align:bottom;padding-top:2px;padding-bottom:2px;\"><div style=\"text-align:right;font-size:9pt;\"><font style=\"font-family:Helvetica,sans-serif;font-size:9pt;\">138</font></div></td><td style=\"vertical-align:bottom;\"><div style=\"text-align:left;font-size:10pt;\"><font style=\"font-family:inherit;font-size:10pt;\"><br/></font></div></td><td style=\"vertical-align:bottom;padding-left:2px;padding-top:2px;padding-bottom:2px;padding-right:2px;\"><div style=\"overflow:hidden;font-size:10pt;\"><font style=\"font-family:inherit;font-size:10pt;\"> </font></div></td><td style=\"vertical-align:bottom;padding-left:2px;padding-top:2px;padding-bottom:2px;\"><div style=\"text-align:left;font-size:9pt;\"><font style=\"font-family:Helvetica,sans-serif;font-size:9pt;\">$</font></div></td><td style=\"vertical-align:bottom;padding-top:2px;padding-bottom:2px;\"><div style=\"text-align:right;font-size:9pt;\"><font style=\"font-family:Helvetica,sans-serif;font-size:9pt;\">141</font></div></td><td style=\"vertical-align:bottom;\"><div style=\"text-align:left;font-size:10pt;\"><font style=\"font-family:inherit;font-size:10pt;\"><br/></font></div></td><td style=\"vertical-align:bottom;padding-left:2px;padding-top:2px;padding-bottom:2px;padding-right:2px;\"><div style=\"overflow:hidden;font-size:10pt;\"><font style=\"font-family:inherit;font-size:10pt;\"> </font></div></td><td style=\"vertical-align:bottom;padding-left:2px;padding-top:2px;padding-bottom:2px;\"><div style=\"text-align:left;font-size:9pt;\"><font style=\"font-family:Helvetica,sans-serif;font-size:9pt;\">$</font></div></td><td style=\"vertical-align:bottom;padding-top:2px;padding-bottom:2px;\"><div style=\"text-align:right;font-size:9pt;\"><font style=\"font-family:Helvetica,sans-serif;font-size:9pt;\">173</font></div></td><td style=\"vertical-align:bottom;\"><div style=\"text-align:left;font-size:10pt;\"><font style=\"font-family:inherit;font-size:10pt;\"><br/></font></div></td><td style=\"vertical-align:bottom;padding-left:2px;padding-top:2px;padding-bottom:2px;padding-right:2px;\"><div style=\"overflow:hidden;font-size:10pt;\"><font style=\"font-family:inherit;font-size:10pt;\"> </font></div></td><td style=\"vertical-align:bottom;padding-left:2px;padding-top:2px;padding-bottom:2px;\"><div style=\"text-align:left;font-size:9pt;\"><font style=\"font-family:Helvetica,sans-serif;font-size:9pt;\">$</font></div></td><td style=\"vertical-align:bottom;padding-top:2px;padding-bottom:2px;\"><div style=\"text-align:right;font-size:9pt;\"><font style=\"font-family:Helvetica,sans-serif;font-size:9pt;\">223</font></div></td><td style=\"vertical-align:bottom;\"><div style=\"text-align:left;font-size:10pt;\"><font style=\"font-family:inherit;font-size:10pt;\"><br/></font></div></td></tr><tr><td style=\"vertical-align:top;background-color:#efefef;padding-left:2px;padding-top:2px;padding-bottom:2px;padding-right:2px;\"><div style=\"text-align:left;padding-left:12px;text-indent:-12px;font-size:9pt;\"><font style=\"font-family:Helvetica,sans-serif;font-size:9pt;\">Dow Jones U.S. Technology Supersector Index</font></div></td><td style=\"vertical-align:bottom;background-color:#efefef;padding-left:2px;padding-top:2px;padding-bottom:2px;padding-right:2px;\"><div style=\"overflow:hidden;font-size:10pt;\"><font style=\"font-family:inherit;font-size:10pt;\"> </font></div></td><td style=\"vertical-align:bottom;padding-left:2px;padding-top:2px;padding-bottom:2px;background-color:#efefef;\"><div style=\"text-align:left;font-size:9pt;\"><font style=\"font-family:Helvetica,sans-serif;font-size:9pt;\">$</font></div></td><td style=\"vertical-align:bottom;background-color:#efefef;padding-top:2px;padding-bottom:2px;\"><div style=\"text-align:right;font-size:9pt;\"><font style=\"font-family:Helvetica,sans-serif;font-size:9pt;\">100</font></div></td><td style=\"vertical-align:bottom;background-color:#efefef;\"><div style=\"text-align:left;font-size:10pt;\"><font style=\"font-family:inherit;font-size:10pt;\"><br/></font></div></td><td style=\"vertical-align:bottom;background-color:#efefef;padding-left:2px;padding-top:2px;padding-bottom:2px;padding-right:2px;\"><div style=\"overflow:hidden;font-size:10pt;\"><font style=\"font-family:inherit;font-size:10pt;\"> </font></div></td><td style=\"vertical-align:bottom;padding-left:2px;padding-top:2px;padding-bottom:2px;background-color:#efefef;\"><div style=\"text-align:left;font-size:9pt;\"><font style=\"font-family:Helvetica,sans-serif;font-size:9pt;\">$</font></div></td><td style=\"vertical-align:bottom;background-color:#efefef;padding-top:2px;padding-bottom:2px;\"><div style=\"text-align:right;font-size:9pt;\"><font style=\"font-family:Helvetica,sans-serif;font-size:9pt;\">105</font></div></td><td style=\"vertical-align:bottom;background-color:#efefef;\"><div style=\"text-align:left;font-size:10pt;\"><font style=\"font-family:inherit;font-size:10pt;\"><br/></font></div></td><td style=\"vertical-align:bottom;background-color:#efefef;padding-left:2px;padding-top:2px;padding-bottom:2px;padding-right:2px;\"><div style=\"overflow:hidden;font-size:10pt;\"><font style=\"font-family:inherit;font-size:10pt;\"> </font></div></td><td style=\"vertical-align:bottom;padding-left:2px;padding-top:2px;padding-bottom:2px;background-color:#efefef;\"><div style=\"text-align:left;font-size:9pt;\"><font style=\"font-family:Helvetica,sans-serif;font-size:9pt;\">$</font></div></td><td style=\"vertical-align:bottom;background-color:#efefef;padding-top:2px;padding-bottom:2px;\"><div style=\"text-align:right;font-size:9pt;\"><font style=\"font-family:Helvetica,sans-serif;font-size:9pt;\">137</font></div></td><td style=\"vertical-align:bottom;background-color:#efefef;\"><div style=\"text-align:left;font-size:10pt;\"><font style=\"font-family:inherit;font-size:10pt;\"><br/></font></div></td><td style=\"vertical-align:bottom;background-color:#efefef;padding-left:2px;padding-top:2px;padding-bottom:2px;padding-right:2px;\"><div style=\"overflow:hidden;font-size:10pt;\"><font style=\"font-family:inherit;font-size:10pt;\"> </font></div></td><td style=\"vertical-align:bottom;padding-left:2px;padding-top:2px;padding-bottom:2px;background-color:#efefef;\"><div style=\"text-align:left;font-size:9pt;\"><font style=\"font-family:Helvetica,sans-serif;font-size:9pt;\">$</font></div></td><td style=\"vertical-align:bottom;background-color:#efefef;padding-top:2px;padding-bottom:2px;\"><div style=\"text-align:right;font-size:9pt;\"><font style=\"font-family:Helvetica,sans-serif;font-size:9pt;\">137</font></div></td><td style=\"vertical-align:bottom;background-color:#efefef;\"><div style=\"text-align:left;font-size:10pt;\"><font style=\"font-family:inherit;font-size:10pt;\"><br/></font></div></td><td style=\"vertical-align:bottom;background-color:#efefef;padding-left:2px;padding-top:2px;padding-bottom:2px;padding-right:2px;\"><div style=\"overflow:hidden;font-size:10pt;\"><font style=\"font-family:inherit;font-size:10pt;\"> </font></div></td><td style=\"vertical-align:bottom;padding-left:2px;padding-top:2px;padding-bottom:2px;background-color:#efefef;\"><div style=\"text-align:left;font-size:9pt;\"><font style=\"font-family:Helvetica,sans-serif;font-size:9pt;\">$</font></div></td><td style=\"vertical-align:bottom;background-color:#efefef;padding-top:2px;padding-bottom:2px;\"><div style=\"text-align:right;font-size:9pt;\"><font style=\"font-family:Helvetica,sans-serif;font-size:9pt;\">167</font></div></td><td style=\"vertical-align:bottom;background-color:#efefef;\"><div style=\"text-align:left;font-size:10pt;\"><font style=\"font-family:inherit;font-size:10pt;\"><br/></font></div></td><td style=\"vertical-align:bottom;background-color:#efefef;padding-left:2px;padding-top:2px;padding-bottom:2px;padding-right:2px;\"><div style=\"overflow:hidden;font-size:10pt;\"><font style=\"font-family:inherit;font-size:10pt;\"> </font></div></td><td style=\"vertical-align:bottom;padding-left:2px;padding-top:2px;padding-bottom:2px;background-color:#efefef;\"><div style=\"text-align:left;font-size:9pt;\"><font style=\"font-family:Helvetica,sans-serif;font-size:9pt;\">$</font></div></td><td style=\"vertical-align:bottom;background-color:#efefef;padding-top:2px;padding-bottom:2px;\"><div style=\"text-align:right;font-size:9pt;\"><font style=\"font-family:Helvetica,sans-serif;font-size:9pt;\">214</font></div></td><td style=\"vertical-align:bottom;background-color:#efefef;\"><div style=\"text-align:left;font-size:10pt;\"><font style=\"font-family:inherit;font-size:10pt;\"><br/></font></div></td></tr></table></div></div>\n",
       "\n",
       "<div><br/></div>\n",
       "\n",
       "<div><a name=\"s63EA20E94A5151458E162BF17BAE3A6F\"></a></div>\n",
       "<div></div>\n",
       "<div><br/></div>\n",
       "<table cellpadding=\"0\" cellspacing=\"0\" style=\"font-family:Times New Roman; font-size:10pt;\"><tr><td style=\"width:60px;\"></td><td></td></tr><tr><td style=\"vertical-align:top\"><div style=\"line-height:120%;font-size:9pt;padding-left:0px;\"><font style=\"font-family:Helvetica,sans-serif;font-size:9pt;font-weight:bold;\">Item 6. </font></div></td><td style=\"vertical-align:top;\"><div style=\"line-height:120%;text-align:justify;font-size:9pt;\"><font style=\"font-family:Helvetica,sans-serif;font-size:9pt;font-weight:bold;\">Selected Financial Data</font></div></td></tr></table>\n",
       "<div style=\"line-height:120%;font-size:9pt;padding-left:0px;\"><font style=\"font-family:Helvetica,sans-serif;font-size:9pt;font-weight:bold;\">Item 6. </font></div>\n",
       "</body></html></div>"
      ],
      "text/plain": [
       "<IPython.core.display.HTML object>"
      ]
     },
     "metadata": {},
     "output_type": "display_data"
    }
   ],
   "source": [
    "parser.display_section_html('Item 5')"
   ]
  },
  {
   "cell_type": "markdown",
   "metadata": {},
   "source": [
    "### View section text\n",
    "We can also view in markdown format using the `display_section_text` method. Note that some minor issues remain here, such as bullet points being separated on to two lines. Trying to fix this has proven difficult, as it introduces additional errors."
   ]
  },
  {
   "cell_type": "code",
   "execution_count": 12,
   "metadata": {},
   "outputs": [
    {
     "name": "stdout",
     "output_type": "stream",
     "text": [
      "Removed 5 page footers and copyright statements\n",
      "Processed 4 footnote tables in Item 5\n",
      "Removed 3 duplicate tables from Item 5 in simple format\n",
      "\n",
      "First 500 characters of markdown:\n",
      "**Item 5.**\n",
      "\n",
      "**Market for Registrant’s Common Equity, Related Stockholder Matters and Issuer Purchases of Equity Securities**\n",
      "\n",
      "The Company’s common stock is traded on the Nasdaq Stock Market LLC (“Nasdaq”) under the symbol AAPL.\n",
      "\n",
      " **Price Range of Common Stock**\n",
      "\n",
      "The price range per share of common stock presented below represents the highest and lowest intraday sales prices for the Company’s common stock on the Nasdaq during each quarter of the two most recent years.\n",
      "\n",
      " **Holders**\n",
      "\n",
      "As of Octobe\n",
      "\n",
      "\n"
     ]
    },
    {
     "data": {
      "text/markdown": [
       "**Item 5.**\n",
       "\n",
       "**Market for Registrant’s Common Equity, Related Stockholder Matters and Issuer Purchases of Equity Securities**\n",
       "\n",
       "The Company’s common stock is traded on the Nasdaq Stock Market LLC (“Nasdaq”) under the symbol AAPL.\n",
       "\n",
       " **Price Range of Common Stock**\n",
       "\n",
       "The price range per share of common stock presented below represents the highest and lowest intraday sales prices for the Company’s common stock on the Nasdaq during each quarter of the two most recent years.\n",
       "\n",
       " **Holders**\n",
       "\n",
       "As of October 20,2017 , there were 25,333 shareholders of record.\n",
       "\n",
       " **Dividends**\n",
       "\n",
       "The Company paid a total of $12.6 billion and $12.0 billion in dividends during 2017 and 2016 , respectively, and expects to pay quarterly dividends of $0.63 per common share each quarter, subject to declaration by the Board of Directors. The Company also plans to increase its dividend on an annual basis, subject to declaration by the Board of Directors.\n",
       "\n",
       "**Purchases of Equity Securities by the Issuer and Affiliated Purchasers**\n",
       "\n",
       "Share repurchase activity during the three months ended September 30,2017 was as follows (in millions, except number of shares, which are reflected in thousands, and per share amounts):\n",
       "\n",
       " (1)\n",
       "\n",
       "In May 2017 , the Company’s Board of Directors increased the Company’s share repurchase authorization from $175 billion to $210 billion of the Company’s common stock, of which $166 billion had been utilized as of September 30,2017 . The remaining $44 billion in the table represents the amount available to repurchase shares under the authorized repurchase program as of September 30,2017 . The Company’s share repurchase program does not obligate it to acquire any specific number of shares. Under the program, shares may be repurchased in privately negotiated and/or open market transactions, including under plans complying with Rule 10 b 5-1 under the Exchange Act.\n",
       "\n",
       " (2)\n",
       "\n",
       "In May 2017, the Company entered into an accelerated share repurchase arrangement (“ASR”) to purchase up to $3.0 billion of the Company’s common stock. In August 2017, the purchase period for this ASR ended and an additional 4.5 million shares were delivered and retired. In total, 20.1 million shares were delivered under this ASR at an average repurchase price of $149.20 .\n",
       "\n",
       " (3)\n",
       "\n",
       "In August 2017, the Company entered into a new ASR to purchase up to $3.0 billion of the Company’s common stock. In exchange for an up-front payment of $3.0 billion , the financial institution party to the arrangement committed to deliver shares to the Company during the ASR’s purchase period, which will end in November 2017 . The total number of shares ultimately delivered, and therefore the average price paid per share, will be determined at the end of the applicable purchase period based on the volume-weighted average price of the Company’s common stock during that period.\n",
       "\n",
       " **Company Stock Performance**\n",
       "\n",
       "The following graph shows a comparison of cumulative total shareholder return, calculated on a dividend reinvested basis, for the Company, the S&P 500 Index, the S&P Information Technology Index and the Dow Jones U.S. Technology Supersector Index for the five years ended September 30,2017 . The graph assumes $100 was invested in each of the Company’s common stock, the S&P 500 Index, the S&P Information Technology Index and the Dow Jones U.S. Technology Supersector Index as of the market close on September 28,2012. Note that historic stock price performance is not necessarily indicative of future stock price performance.\n",
       "\n",
       " *\n",
       "\n",
       "$100 invested on 9/28/12 in stock or index, including reinvestment of dividends. Data points are the last day of each fiscal year for the Company’s common stock and September 30 th for indexes.\n",
       "\n",
       " **Item 6.**"
      ],
      "text/plain": [
       "<IPython.core.display.Markdown object>"
      ]
     },
     "metadata": {},
     "output_type": "display_data"
    }
   ],
   "source": [
    "parser.display_section_text('Item 5')"
   ]
  },
  {
   "cell_type": "markdown",
   "metadata": {},
   "source": [
    "### View section tables\n",
    "The `display_section_tables` method can also be used to view all tables from a specific report section.\n",
    "\n",
    "While converting tabular data to markdown format would typically enhance readability and processing, the complex structure of financial tables in SEC 10-K reports presents significant challenges. These tables frequently contain:\n",
    "\n",
    "* Currency symbols in dedicated columns that appear inconsistently across rows\n",
    "* Footnote reference numbers that create irregular cell structures\n",
    "* Multi-level headers and nested relationships\n",
    "* Mixed numeric formats (percentages, dollar amounts, ratios)\n",
    "* Row and column spans that don't translate cleanly to simple markdown\n",
    "* Tables are lacking titles and summary of what they contain which would provide contextual meaning\n",
    "\n",
    "For our RAG pipeline development, we'll maintain these tables in their cleaned HTML format (i.e. after removing most of the HTML formatting). This approach preserves the original structure and relationships between data points, ensuring that when our retrieval system pulls financial information, it maintains the proper context and formatting that financial analysts would expect.\n",
    "\n",
    "In future iterations, we could explore specialized table extraction tools or custom parsers designed specifically for financial tables, but for the current benchmarking objectives, the cleaned HTML representation provides the optimal balance between preservation of information and usability within our system."
   ]
  },
  {
   "cell_type": "code",
   "execution_count": 13,
   "metadata": {},
   "outputs": [
    {
     "name": "stdout",
     "output_type": "stream",
     "text": [
      "Processed 4 footnote tables in Item 5\n",
      "Removed 3 duplicate tables from Item 5\n"
     ]
    },
    {
     "data": {
      "text/html": [
       "\n",
       "    <style>\n",
       "        /* Base document styles */\n",
       "        .sec-document, .sec-wrapper {\n",
       "            font-family: Arial, sans-serif;\n",
       "            line-height: 1.5;\n",
       "            color: #333;\n",
       "            max-width: 100%;\n",
       "            margin: 20px 0;\n",
       "            padding: 20px;\n",
       "            background: white;\n",
       "            border-radius: 8px;\n",
       "            box-shadow: 0 2px 4px rgba(0,0,0,0.1);\n",
       "        }\n",
       "        \n",
       "        /* Table styles */\n",
       "        .table-wrapper, .sec-table-wrapper {\n",
       "            font-family: Arial, sans-serif;\n",
       "            margin: 20px 0;\n",
       "            max-width: 100%;\n",
       "            overflow-x: auto;\n",
       "        }\n",
       "        .table-wrapper table, .sec-table-wrapper table {\n",
       "            border-collapse: collapse;\n",
       "            width: 100%;\n",
       "            background: white;\n",
       "        }\n",
       "        .table-wrapper th, .table-wrapper td,\n",
       "        .sec-table-wrapper th, .sec-table-wrapper td {\n",
       "            border: 1px solid #ddd;\n",
       "            padding: 8px;\n",
       "            text-align: left;\n",
       "        }\n",
       "        .table-wrapper th, .sec-table-wrapper th {\n",
       "            background-color: #f8f9fa;\n",
       "            font-weight: 600;\n",
       "        }\n",
       "        .table-wrapper tr:nth-child(even),\n",
       "        .sec-table-wrapper tr:nth-child(even) {\n",
       "            background-color: #fcfcfc;\n",
       "        }\n",
       "        \n",
       "        /* Section styles */\n",
       "        .section-content, .sec-content {\n",
       "            background: white;\n",
       "            padding: 20px;\n",
       "            border-radius: 4px;\n",
       "            border: 1px solid #eee;\n",
       "            color: #333;\n",
       "            width: 100%;\n",
       "        }\n",
       "        .section-header {\n",
       "            font-size: 1.2em;\n",
       "            font-weight: bold;\n",
       "            margin-bottom: 15px;\n",
       "            padding-bottom: 10px;\n",
       "            border-bottom: 2px solid #eee;\n",
       "        }\n",
       "        \n",
       "        /* Code and pre styles */\n",
       "        pre {\n",
       "            background: #f8f9fa;\n",
       "            padding: 15px;\n",
       "            border-radius: 4px;\n",
       "            overflow-x: auto;\n",
       "            border: 1px solid #eee;\n",
       "            white-space: pre-wrap;\n",
       "        }\n",
       "        \n",
       "        /* Markdown table styles */\n",
       "        .markdown-table {\n",
       "            font-family: monospace;\n",
       "            white-space: pre;\n",
       "            padding: 10px;\n",
       "            background: #f8f9fa;\n",
       "            border-radius: 4px;\n",
       "            margin-top: 10px;\n",
       "            border: 1px solid #eee;\n",
       "            overflow-x: auto;\n",
       "        }\n",
       "        \n",
       "        /* Paragraph styles */\n",
       "        .sec-content p {\n",
       "            margin: 10px 0;\n",
       "            color: #333;\n",
       "        }\n",
       "        \n",
       "        /* Table styles */\n",
       "        .sec-content table {\n",
       "            border-collapse: collapse;\n",
       "            margin: 15px 0;\n",
       "            width: 100%;\n",
       "            background-color: white !important;\n",
       "        }\n",
       "        .sec-content th, .sec-content td {\n",
       "            border: 1px solid #ddd;\n",
       "            padding: 8px;\n",
       "            text-align: left;\n",
       "            color: #333 !important;\n",
       "            background-color: white !important;\n",
       "        }\n",
       "        .sec-content th {\n",
       "            background-color: #f8f9fa !important;\n",
       "            font-weight: 600;\n",
       "        }\n",
       "        .sec-content tr:nth-child(even) td {\n",
       "            background-color: #fcfcfc !important;\n",
       "        }\n",
       "        \n",
       "        /* Additional styles */\n",
       "        .text-content {\n",
       "            margin: 15px 0;\n",
       "            white-space: pre-wrap;\n",
       "        }\n",
       "        .pagination-info {\n",
       "            text-align: center;\n",
       "            margin: 10px 0;\n",
       "            padding: 10px;\n",
       "            color: #444;\n",
       "            font-weight: 500;\n",
       "            border-top: 1px solid #eee;\n",
       "        }\n",
       "    </style>\n",
       "<div class='sec-wrapper'><div class='table-title'>Table 1</div><div class='sec-content'><table cellpadding=\"0\" cellspacing=\"0\" style=\"font-family:Times New Roman;font-size:10pt;width:99.21875%;border-collapse:collapse;text-align:left;\"><tr><td colspan=\"8\"></td></tr><tr><td></td><td></td><td></td><td></td><td></td><td></td><td></td><td></td></tr><tr><td><div><font> </font></div></td><td><div><font>Fourth Quarter</font></div></td><td><div><font> </font></div></td><td><div><font>Third Quarter</font></div></td><td><div><font> </font></div></td><td><div><font>Second Quarter</font></div></td><td><div><font> </font></div></td><td><div><font>First Quarter</font></div></td></tr><tr><td><div><font>2017 price range per share</font></div></td><td><div><font>$164.94 – $142.41</font></div></td><td><div><font> </font></div></td><td><div><font>$156.65 – $140.06</font></div></td><td><div><font> </font></div></td><td><div><font>$144.50 – $114.76</font></div></td><td><div><font> </font></div></td><td><div><font>$118.69 – $104.08</font></div></td></tr><tr><td><div><font>2016 price range per share</font></div></td><td><div><font>$116.18 – $91.50</font></div></td><td><div><font> </font></div></td><td><div><font>$112.39 – $89.47</font></div></td><td><div><font> </font></div></td><td><div><font>$109.43 – $92.39</font></div></td><td><div><font> </font></div></td><td><div><font>$123.82 – $105.57</font></div></td></tr></table></div></div>"
      ],
      "text/plain": [
       "<IPython.core.display.HTML object>"
      ]
     },
     "metadata": {},
     "output_type": "display_data"
    },
    {
     "data": {
      "text/html": [
       "\n",
       "    <style>\n",
       "        /* Base document styles */\n",
       "        .sec-document, .sec-wrapper {\n",
       "            font-family: Arial, sans-serif;\n",
       "            line-height: 1.5;\n",
       "            color: #333;\n",
       "            max-width: 100%;\n",
       "            margin: 20px 0;\n",
       "            padding: 20px;\n",
       "            background: white;\n",
       "            border-radius: 8px;\n",
       "            box-shadow: 0 2px 4px rgba(0,0,0,0.1);\n",
       "        }\n",
       "        \n",
       "        /* Table styles */\n",
       "        .table-wrapper, .sec-table-wrapper {\n",
       "            font-family: Arial, sans-serif;\n",
       "            margin: 20px 0;\n",
       "            max-width: 100%;\n",
       "            overflow-x: auto;\n",
       "        }\n",
       "        .table-wrapper table, .sec-table-wrapper table {\n",
       "            border-collapse: collapse;\n",
       "            width: 100%;\n",
       "            background: white;\n",
       "        }\n",
       "        .table-wrapper th, .table-wrapper td,\n",
       "        .sec-table-wrapper th, .sec-table-wrapper td {\n",
       "            border: 1px solid #ddd;\n",
       "            padding: 8px;\n",
       "            text-align: left;\n",
       "        }\n",
       "        .table-wrapper th, .sec-table-wrapper th {\n",
       "            background-color: #f8f9fa;\n",
       "            font-weight: 600;\n",
       "        }\n",
       "        .table-wrapper tr:nth-child(even),\n",
       "        .sec-table-wrapper tr:nth-child(even) {\n",
       "            background-color: #fcfcfc;\n",
       "        }\n",
       "        \n",
       "        /* Section styles */\n",
       "        .section-content, .sec-content {\n",
       "            background: white;\n",
       "            padding: 20px;\n",
       "            border-radius: 4px;\n",
       "            border: 1px solid #eee;\n",
       "            color: #333;\n",
       "            width: 100%;\n",
       "        }\n",
       "        .section-header {\n",
       "            font-size: 1.2em;\n",
       "            font-weight: bold;\n",
       "            margin-bottom: 15px;\n",
       "            padding-bottom: 10px;\n",
       "            border-bottom: 2px solid #eee;\n",
       "        }\n",
       "        \n",
       "        /* Code and pre styles */\n",
       "        pre {\n",
       "            background: #f8f9fa;\n",
       "            padding: 15px;\n",
       "            border-radius: 4px;\n",
       "            overflow-x: auto;\n",
       "            border: 1px solid #eee;\n",
       "            white-space: pre-wrap;\n",
       "        }\n",
       "        \n",
       "        /* Markdown table styles */\n",
       "        .markdown-table {\n",
       "            font-family: monospace;\n",
       "            white-space: pre;\n",
       "            padding: 10px;\n",
       "            background: #f8f9fa;\n",
       "            border-radius: 4px;\n",
       "            margin-top: 10px;\n",
       "            border: 1px solid #eee;\n",
       "            overflow-x: auto;\n",
       "        }\n",
       "        \n",
       "        /* Paragraph styles */\n",
       "        .sec-content p {\n",
       "            margin: 10px 0;\n",
       "            color: #333;\n",
       "        }\n",
       "        \n",
       "        /* Table styles */\n",
       "        .sec-content table {\n",
       "            border-collapse: collapse;\n",
       "            margin: 15px 0;\n",
       "            width: 100%;\n",
       "            background-color: white !important;\n",
       "        }\n",
       "        .sec-content th, .sec-content td {\n",
       "            border: 1px solid #ddd;\n",
       "            padding: 8px;\n",
       "            text-align: left;\n",
       "            color: #333 !important;\n",
       "            background-color: white !important;\n",
       "        }\n",
       "        .sec-content th {\n",
       "            background-color: #f8f9fa !important;\n",
       "            font-weight: 600;\n",
       "        }\n",
       "        .sec-content tr:nth-child(even) td {\n",
       "            background-color: #fcfcfc !important;\n",
       "        }\n",
       "        \n",
       "        /* Additional styles */\n",
       "        .text-content {\n",
       "            margin: 15px 0;\n",
       "            white-space: pre-wrap;\n",
       "        }\n",
       "        .pagination-info {\n",
       "            text-align: center;\n",
       "            margin: 10px 0;\n",
       "            padding: 10px;\n",
       "            color: #444;\n",
       "            font-weight: 500;\n",
       "            border-top: 1px solid #eee;\n",
       "        }\n",
       "    </style>\n",
       "<div class='sec-wrapper'><div class='table-title'>Table 2</div><div class='sec-content'><table cellpadding=\"0\" cellspacing=\"0\" style=\"font-family:Times New Roman;font-size:10pt;width:100%;border-collapse:collapse;text-align:left;\"><tr><td colspan=\"15\"></td></tr><tr><td></td><td></td><td></td><td></td><td></td><td></td><td></td><td></td><td></td><td></td><td></td><td></td><td></td><td></td><td></td></tr><tr><td><div><font>Periods</font></div></td><td><div><font> </font></div></td><td colspan=\"2\"><div><font>Total Number </font></div><div><font>of Shares Purchased</font></div></td><td><div><font> </font></div></td><td colspan=\"3\"><div><font>Average</font></div><div><font>Price</font></div><div><font>Paid Per Share</font></div></td><td><div><font> </font></div></td><td colspan=\"2\"><div><font>Total Number of Shares </font></div><div><font>Purchased as Part of Publicly </font></div><div><font>Announced Plans or Programs</font></div></td><td><div><font> </font></div></td><td colspan=\"3\"><div><font>Approximate Dollar Value of </font></div><div><font>Shares That May Yet Be Purchased </font></div><div><font>Under the Plans or Programs </font><font><sup>(1)</sup></font></div></td></tr><tr><td><div><font>July 2, 2017 to August 5, 2017:</font></div></td><td><div><font> </font></div></td><td colspan=\"2\"><div><font> </font></div></td><td><div><font> </font></div></td><td colspan=\"3\"><div><font> </font></div></td><td><div><font> </font></div></td><td colspan=\"2\"><div><font> </font></div></td><td><div><font> </font></div></td><td colspan=\"3\"><div><font> </font></div></td></tr><tr><td><div><font>Open market and privately negotiated purchases</font></div></td><td><div><font> </font></div></td><td><div><font>10,076</font></div></td><td><div><font><br/></font></div></td><td><div><font> </font></div></td><td><div><font>$</font></div></td><td><div><font>148.87</font></div></td><td><div><font><br/></font></div></td><td><div><font> </font></div></td><td><div><font>10,076</font></div></td><td><div><font><br/></font></div></td><td><div><font> </font></div></td><td colspan=\"3\"><div><font> </font></div></td></tr><tr><td><div><font> </font></div></td><td><div><font> </font></div></td><td colspan=\"2\"><div><font> </font></div></td><td><div><font> </font></div></td><td colspan=\"3\"><div><font> </font></div></td><td><div><font> </font></div></td><td colspan=\"2\"><div><font> </font></div></td><td><div><font> </font></div></td><td colspan=\"3\"><div><font> </font></div></td></tr><tr><td><div><font>August 6, 2017 to September 2, 2017:</font></div></td><td><div><font> </font></div></td><td colspan=\"2\"><div><font> </font></div></td><td><div><font> </font></div></td><td colspan=\"3\"><div><font> </font></div></td><td><div><font> </font></div></td><td colspan=\"2\"><div><font> </font></div></td><td><div><font> </font></div></td><td colspan=\"3\"><div><font> </font></div></td></tr><tr><td><div><font>May 2017 ASR</font></div></td><td><div><font> </font></div></td><td><div><font>4,510</font></div></td><td><div><font><br/></font></div></td><td><div><font> </font></div></td><td colspan=\"2\"><div><font><sup>(2)</sup> </font></div></td><td><div><font><br/></font></div></td><td><div><font> </font></div></td><td><div><font>4,510</font></div></td><td><div><font><br/></font></div></td><td><div><font> </font></div></td><td colspan=\"3\"><div><font> </font></div></td></tr><tr><td><div><font>August 2017 ASR</font></div></td><td><div><font> </font></div></td><td><div><font>15,069</font></div></td><td><div><font><br/></font></div></td><td><div><font><sup>(3)</sup> </font></div></td><td colspan=\"2\"><div><font><sup>(3)</sup> </font></div></td><td><div><font><br/></font></div></td><td><div><font> </font></div></td><td><div><font>15,069</font></div></td><td><div><font><br/></font></div></td><td><div><font><sup>(3)</sup> </font></div></td><td colspan=\"3\"><div><font> </font></div></td></tr><tr><td><div><font>Open market and privately negotiated purchases</font></div></td><td><div><font> </font></div></td><td><div><font>9,684</font></div></td><td><div><font><br/></font></div></td><td><div><font> </font></div></td><td><div><font>$</font></div></td><td><div><font>160.06</font></div></td><td><div><font><br/></font></div></td><td><div><font> </font></div></td><td><div><font>9,684</font></div></td><td><div><font><br/></font></div></td><td><div><font> </font></div></td><td colspan=\"3\"><div><font> </font></div></td></tr><tr><td><div><font> </font></div></td><td><div><font> </font></div></td><td colspan=\"2\"><div><font> </font></div></td><td><div><font> </font></div></td><td colspan=\"3\"><div><font> </font></div></td><td><div><font> </font></div></td><td colspan=\"2\"><div><font> </font></div></td><td><div><font> </font></div></td><td colspan=\"3\"><div><font> </font></div></td></tr><tr><td><div><font>September 3, 2017 to September 30, 2017:</font></div></td><td><div><font> </font></div></td><td colspan=\"2\"><div><font> </font></div></td><td><div><font> </font></div></td><td colspan=\"3\"><div><font> </font></div></td><td><div><font> </font></div></td><td colspan=\"2\"><div><font> </font></div></td><td><div><font> </font></div></td><td colspan=\"3\"><div><font> </font></div></td></tr><tr><td><div><font>Open market and privately negotiated purchases</font></div></td><td><div><font> </font></div></td><td><div><font>9,313</font></div></td><td><div><font><br/></font></div></td><td><div><font> </font></div></td><td><div><font>$</font></div></td><td><div><font>155.69</font></div></td><td><div><font><br/></font></div></td><td><div><font> </font></div></td><td><div><font>9,313</font></div></td><td><div><font><br/></font></div></td><td><div><font> </font></div></td><td colspan=\"3\"><div><font> </font></div></td></tr><tr><td><div><font>Total</font></div></td><td><div><font> </font></div></td><td><div><font>48,652</font></div></td><td><div><font><br/></font></div></td><td><div><font> </font></div></td><td colspan=\"3\"><div><font> </font></div></td><td><div><font> </font></div></td><td colspan=\"2\"><div><font> </font></div></td><td><div><font> </font></div></td><td><div><font>$</font></div></td><td><div><font>44,023</font></div></td><td><div><font><br/></font></div></td></tr></table></div></div>"
      ],
      "text/plain": [
       "<IPython.core.display.HTML object>"
      ]
     },
     "metadata": {},
     "output_type": "display_data"
    },
    {
     "data": {
      "text/html": [
       "\n",
       "    <style>\n",
       "        /* Base document styles */\n",
       "        .sec-document, .sec-wrapper {\n",
       "            font-family: Arial, sans-serif;\n",
       "            line-height: 1.5;\n",
       "            color: #333;\n",
       "            max-width: 100%;\n",
       "            margin: 20px 0;\n",
       "            padding: 20px;\n",
       "            background: white;\n",
       "            border-radius: 8px;\n",
       "            box-shadow: 0 2px 4px rgba(0,0,0,0.1);\n",
       "        }\n",
       "        \n",
       "        /* Table styles */\n",
       "        .table-wrapper, .sec-table-wrapper {\n",
       "            font-family: Arial, sans-serif;\n",
       "            margin: 20px 0;\n",
       "            max-width: 100%;\n",
       "            overflow-x: auto;\n",
       "        }\n",
       "        .table-wrapper table, .sec-table-wrapper table {\n",
       "            border-collapse: collapse;\n",
       "            width: 100%;\n",
       "            background: white;\n",
       "        }\n",
       "        .table-wrapper th, .table-wrapper td,\n",
       "        .sec-table-wrapper th, .sec-table-wrapper td {\n",
       "            border: 1px solid #ddd;\n",
       "            padding: 8px;\n",
       "            text-align: left;\n",
       "        }\n",
       "        .table-wrapper th, .sec-table-wrapper th {\n",
       "            background-color: #f8f9fa;\n",
       "            font-weight: 600;\n",
       "        }\n",
       "        .table-wrapper tr:nth-child(even),\n",
       "        .sec-table-wrapper tr:nth-child(even) {\n",
       "            background-color: #fcfcfc;\n",
       "        }\n",
       "        \n",
       "        /* Section styles */\n",
       "        .section-content, .sec-content {\n",
       "            background: white;\n",
       "            padding: 20px;\n",
       "            border-radius: 4px;\n",
       "            border: 1px solid #eee;\n",
       "            color: #333;\n",
       "            width: 100%;\n",
       "        }\n",
       "        .section-header {\n",
       "            font-size: 1.2em;\n",
       "            font-weight: bold;\n",
       "            margin-bottom: 15px;\n",
       "            padding-bottom: 10px;\n",
       "            border-bottom: 2px solid #eee;\n",
       "        }\n",
       "        \n",
       "        /* Code and pre styles */\n",
       "        pre {\n",
       "            background: #f8f9fa;\n",
       "            padding: 15px;\n",
       "            border-radius: 4px;\n",
       "            overflow-x: auto;\n",
       "            border: 1px solid #eee;\n",
       "            white-space: pre-wrap;\n",
       "        }\n",
       "        \n",
       "        /* Markdown table styles */\n",
       "        .markdown-table {\n",
       "            font-family: monospace;\n",
       "            white-space: pre;\n",
       "            padding: 10px;\n",
       "            background: #f8f9fa;\n",
       "            border-radius: 4px;\n",
       "            margin-top: 10px;\n",
       "            border: 1px solid #eee;\n",
       "            overflow-x: auto;\n",
       "        }\n",
       "        \n",
       "        /* Paragraph styles */\n",
       "        .sec-content p {\n",
       "            margin: 10px 0;\n",
       "            color: #333;\n",
       "        }\n",
       "        \n",
       "        /* Table styles */\n",
       "        .sec-content table {\n",
       "            border-collapse: collapse;\n",
       "            margin: 15px 0;\n",
       "            width: 100%;\n",
       "            background-color: white !important;\n",
       "        }\n",
       "        .sec-content th, .sec-content td {\n",
       "            border: 1px solid #ddd;\n",
       "            padding: 8px;\n",
       "            text-align: left;\n",
       "            color: #333 !important;\n",
       "            background-color: white !important;\n",
       "        }\n",
       "        .sec-content th {\n",
       "            background-color: #f8f9fa !important;\n",
       "            font-weight: 600;\n",
       "        }\n",
       "        .sec-content tr:nth-child(even) td {\n",
       "            background-color: #fcfcfc !important;\n",
       "        }\n",
       "        \n",
       "        /* Additional styles */\n",
       "        .text-content {\n",
       "            margin: 15px 0;\n",
       "            white-space: pre-wrap;\n",
       "        }\n",
       "        .pagination-info {\n",
       "            text-align: center;\n",
       "            margin: 10px 0;\n",
       "            padding: 10px;\n",
       "            color: #444;\n",
       "            font-weight: 500;\n",
       "            border-top: 1px solid #eee;\n",
       "        }\n",
       "    </style>\n",
       "<div class='sec-wrapper'><div class='table-title'>Table 3</div><div class='sec-content'><table cellpadding=\"0\" cellspacing=\"0\" style=\"font-family:Times New Roman;font-size:10pt;width:100%;border-collapse:collapse;text-align:left;\"><tr><td colspan=\"25\"></td></tr><tr><td></td><td></td><td></td><td></td><td></td><td></td><td></td><td></td><td></td><td></td><td></td><td></td><td></td><td></td><td></td><td></td><td></td><td></td><td></td><td></td><td></td><td></td><td></td><td></td><td></td></tr><tr><td><div><font> </font></div></td><td><div><font> </font></div></td><td colspan=\"3\"><div><font>September </font></div><div><font>2012</font></div></td><td><div><font> </font></div></td><td colspan=\"3\"><div><font>September </font></div><div><font>2013</font></div></td><td><div><font> </font></div></td><td colspan=\"3\"><div><font>September </font></div><div><font>2014</font></div></td><td><div><font> </font></div></td><td colspan=\"3\"><div><font>September </font></div><div><font>2015</font></div></td><td><div><font> </font></div></td><td colspan=\"3\"><div><font>September </font></div><div><font>2016</font></div></td><td><div><font> </font></div></td><td colspan=\"3\"><div><font>September </font></div><div><font>2017</font></div></td></tr><tr><td><div><font>Apple Inc.</font></div></td><td><div><font> </font></div></td><td><div><font>$</font></div></td><td><div><font>100</font></div></td><td><div><font><br/></font></div></td><td><div><font> </font></div></td><td><div><font>$</font></div></td><td><div><font>74</font></div></td><td><div><font><br/></font></div></td><td><div><font> </font></div></td><td><div><font>$</font></div></td><td><div><font>111</font></div></td><td><div><font><br/></font></div></td><td><div><font> </font></div></td><td><div><font>$</font></div></td><td><div><font>128</font></div></td><td><div><font><br/></font></div></td><td><div><font> </font></div></td><td><div><font>$</font></div></td><td><div><font>129</font></div></td><td><div><font><br/></font></div></td><td><div><font> </font></div></td><td><div><font>$</font></div></td><td><div><font>179</font></div></td><td><div><font><br/></font></div></td></tr><tr><td><div><font>S&amp;P 500 Index</font></div></td><td><div><font> </font></div></td><td><div><font>$</font></div></td><td><div><font>100</font></div></td><td><div><font><br/></font></div></td><td><div><font> </font></div></td><td><div><font>$</font></div></td><td><div><font>119</font></div></td><td><div><font><br/></font></div></td><td><div><font> </font></div></td><td><div><font>$</font></div></td><td><div><font>143</font></div></td><td><div><font><br/></font></div></td><td><div><font> </font></div></td><td><div><font>$</font></div></td><td><div><font>142</font></div></td><td><div><font><br/></font></div></td><td><div><font> </font></div></td><td><div><font>$</font></div></td><td><div><font>164</font></div></td><td><div><font><br/></font></div></td><td><div><font> </font></div></td><td><div><font>$</font></div></td><td><div><font>194</font></div></td><td><div><font><br/></font></div></td></tr><tr><td><div><font>S&amp;P Information Technology Index</font></div></td><td><div><font> </font></div></td><td><div><font>$</font></div></td><td><div><font>100</font></div></td><td><div><font><br/></font></div></td><td><div><font> </font></div></td><td><div><font>$</font></div></td><td><div><font>107</font></div></td><td><div><font><br/></font></div></td><td><div><font> </font></div></td><td><div><font>$</font></div></td><td><div><font>138</font></div></td><td><div><font><br/></font></div></td><td><div><font> </font></div></td><td><div><font>$</font></div></td><td><div><font>141</font></div></td><td><div><font><br/></font></div></td><td><div><font> </font></div></td><td><div><font>$</font></div></td><td><div><font>173</font></div></td><td><div><font><br/></font></div></td><td><div><font> </font></div></td><td><div><font>$</font></div></td><td><div><font>223</font></div></td><td><div><font><br/></font></div></td></tr><tr><td><div><font>Dow Jones U.S. Technology Supersector Index</font></div></td><td><div><font> </font></div></td><td><div><font>$</font></div></td><td><div><font>100</font></div></td><td><div><font><br/></font></div></td><td><div><font> </font></div></td><td><div><font>$</font></div></td><td><div><font>105</font></div></td><td><div><font><br/></font></div></td><td><div><font> </font></div></td><td><div><font>$</font></div></td><td><div><font>137</font></div></td><td><div><font><br/></font></div></td><td><div><font> </font></div></td><td><div><font>$</font></div></td><td><div><font>137</font></div></td><td><div><font><br/></font></div></td><td><div><font> </font></div></td><td><div><font>$</font></div></td><td><div><font>167</font></div></td><td><div><font><br/></font></div></td><td><div><font> </font></div></td><td><div><font>$</font></div></td><td><div><font>214</font></div></td><td><div><font><br/></font></div></td></tr></table></div></div>"
      ],
      "text/plain": [
       "<IPython.core.display.HTML object>"
      ]
     },
     "metadata": {},
     "output_type": "display_data"
    },
    {
     "data": {
      "text/html": [
       "\n",
       "    <style>\n",
       "        /* Base document styles */\n",
       "        .sec-document, .sec-wrapper {\n",
       "            font-family: Arial, sans-serif;\n",
       "            line-height: 1.5;\n",
       "            color: #333;\n",
       "            max-width: 100%;\n",
       "            margin: 20px 0;\n",
       "            padding: 20px;\n",
       "            background: white;\n",
       "            border-radius: 8px;\n",
       "            box-shadow: 0 2px 4px rgba(0,0,0,0.1);\n",
       "        }\n",
       "        \n",
       "        /* Table styles */\n",
       "        .table-wrapper, .sec-table-wrapper {\n",
       "            font-family: Arial, sans-serif;\n",
       "            margin: 20px 0;\n",
       "            max-width: 100%;\n",
       "            overflow-x: auto;\n",
       "        }\n",
       "        .table-wrapper table, .sec-table-wrapper table {\n",
       "            border-collapse: collapse;\n",
       "            width: 100%;\n",
       "            background: white;\n",
       "        }\n",
       "        .table-wrapper th, .table-wrapper td,\n",
       "        .sec-table-wrapper th, .sec-table-wrapper td {\n",
       "            border: 1px solid #ddd;\n",
       "            padding: 8px;\n",
       "            text-align: left;\n",
       "        }\n",
       "        .table-wrapper th, .sec-table-wrapper th {\n",
       "            background-color: #f8f9fa;\n",
       "            font-weight: 600;\n",
       "        }\n",
       "        .table-wrapper tr:nth-child(even),\n",
       "        .sec-table-wrapper tr:nth-child(even) {\n",
       "            background-color: #fcfcfc;\n",
       "        }\n",
       "        \n",
       "        /* Section styles */\n",
       "        .section-content, .sec-content {\n",
       "            background: white;\n",
       "            padding: 20px;\n",
       "            border-radius: 4px;\n",
       "            border: 1px solid #eee;\n",
       "            color: #333;\n",
       "            width: 100%;\n",
       "        }\n",
       "        .section-header {\n",
       "            font-size: 1.2em;\n",
       "            font-weight: bold;\n",
       "            margin-bottom: 15px;\n",
       "            padding-bottom: 10px;\n",
       "            border-bottom: 2px solid #eee;\n",
       "        }\n",
       "        \n",
       "        /* Code and pre styles */\n",
       "        pre {\n",
       "            background: #f8f9fa;\n",
       "            padding: 15px;\n",
       "            border-radius: 4px;\n",
       "            overflow-x: auto;\n",
       "            border: 1px solid #eee;\n",
       "            white-space: pre-wrap;\n",
       "        }\n",
       "        \n",
       "        /* Markdown table styles */\n",
       "        .markdown-table {\n",
       "            font-family: monospace;\n",
       "            white-space: pre;\n",
       "            padding: 10px;\n",
       "            background: #f8f9fa;\n",
       "            border-radius: 4px;\n",
       "            margin-top: 10px;\n",
       "            border: 1px solid #eee;\n",
       "            overflow-x: auto;\n",
       "        }\n",
       "        \n",
       "        /* Paragraph styles */\n",
       "        .sec-content p {\n",
       "            margin: 10px 0;\n",
       "            color: #333;\n",
       "        }\n",
       "        \n",
       "        /* Table styles */\n",
       "        .sec-content table {\n",
       "            border-collapse: collapse;\n",
       "            margin: 15px 0;\n",
       "            width: 100%;\n",
       "            background-color: white !important;\n",
       "        }\n",
       "        .sec-content th, .sec-content td {\n",
       "            border: 1px solid #ddd;\n",
       "            padding: 8px;\n",
       "            text-align: left;\n",
       "            color: #333 !important;\n",
       "            background-color: white !important;\n",
       "        }\n",
       "        .sec-content th {\n",
       "            background-color: #f8f9fa !important;\n",
       "            font-weight: 600;\n",
       "        }\n",
       "        .sec-content tr:nth-child(even) td {\n",
       "            background-color: #fcfcfc !important;\n",
       "        }\n",
       "        \n",
       "        /* Additional styles */\n",
       "        .text-content {\n",
       "            margin: 15px 0;\n",
       "            white-space: pre-wrap;\n",
       "        }\n",
       "        .pagination-info {\n",
       "            text-align: center;\n",
       "            margin: 10px 0;\n",
       "            padding: 10px;\n",
       "            color: #444;\n",
       "            font-weight: 500;\n",
       "            border-top: 1px solid #eee;\n",
       "        }\n",
       "    </style>\n",
       "<div class='sec-wrapper'><div class='table-title'>Table 4</div><div class='sec-content'><table cellpadding=\"0\" cellspacing=\"0\" style=\"font-family:Times New Roman; font-size:10pt;\"><tr><td></td><td></td></tr><tr><td><div><font>Item 6. </font></div></td><td><div><font>Selected Financial Data</font></div></td></tr></table></div></div>"
      ],
      "text/plain": [
       "<IPython.core.display.HTML object>"
      ]
     },
     "metadata": {},
     "output_type": "display_data"
    },
    {
     "name": "stdout",
     "output_type": "stream",
     "text": [
      "\n",
      "Footnotes:\n",
      "  (1) InMay 2017, the Company’s Board of Directors increased the Company’s share repurchase authorization from $175 billion to$210 billionof the Company’s common stock, of which$166 billionhad been utilized as ofSeptember 30, 2017. The remaining$44 billionin the table represents the amount available to repurchase shares under the authorized repurchase program as ofSeptember 30, 2017. The Company’s share repurchase program does not obligate it to acquire any specific number of shares. Under the program, shares may be repurchased in privately negotiated and/or open market transactions, including under plans complying with Rule 10b5-1 under the Exchange Act.\n",
      "  (2) In May 2017, the Company entered into an accelerated share repurchase arrangement (“ASR”) to purchase up to$3.0 billionof the Company’s common stock. In August 2017, the purchase period for this ASR ended and an additional4.5 millionshares were delivered and retired. In total,20.1 millionshares were delivered under this ASR at an average repurchase price of$149.20.\n",
      "  (3) In August 2017, the Company entered into a new ASR to purchase up to$3.0 billionof the Company’s common stock. In exchange for an up-front payment of$3.0 billion, the financial institution party to the arrangement committed to deliver shares to the Company during the ASR’s purchase period, which will end inNovember 2017. The total number of shares ultimately delivered, and therefore the average price paid per share, will be determined at the end of the applicable purchase period based on the volume-weighted average price of the Company’s common stock during that period.\n",
      "  * $100 invested on 9/28/12 in stock or index, including reinvestment of dividends. Data points are the last day of each fiscal year for the Company’s common stock and September 30th for indexes.\n"
     ]
    }
   ],
   "source": [
    "# Display all tables from a section\n",
    "parser.display_section_tables('Item 5')"
   ]
  },
  {
   "cell_type": "markdown",
   "metadata": {},
   "source": [
    "### Process section\n",
    "\n",
    "The `parse_section` method is available to process the data into a form suitable for a RAG workflow. "
   ]
  },
  {
   "cell_type": "markdown",
   "metadata": {},
   "source": [
    " Some of the steps applied include:\n",
    "\n",
    " - Removing duplication of tables (unsure why they are duplicated in the first place)\n",
    " - Cleaning tables so only the basic HTML structure remains (e.g. removing formatting)\n",
    " - Removing footers (such as company name and page number)\n",
    " - Text is output in markdown format. Tables are kept in HTML (but most of the formatting is removed)."
   ]
  },
  {
   "cell_type": "code",
   "execution_count": 21,
   "metadata": {},
   "outputs": [
    {
     "name": "stdout",
     "output_type": "stream",
     "text": [
      "Removed 5 page footers and copyright statements\n",
      "Processed 4 footnote tables in Item 5\n",
      "Found 4 unique tables in section Item 5 (removed -1 duplicates, converted 4 footnotes to text)\n"
     ]
    }
   ],
   "source": [
    "# Parse a specific section\n",
    "section_data = parser.parse_section('Item 5', output_format='llm')"
   ]
  },
  {
   "cell_type": "code",
   "execution_count": 22,
   "metadata": {},
   "outputs": [
    {
     "name": "stdout",
     "output_type": "stream",
     "text": [
      "**Item 5.**\n",
      "\n",
      "**Market for Registrant’s Common Equity, Related Stockholder Matters and Issuer Purchases of Equity Securities**\n",
      "\n",
      "The Company’s common stock is traded on the Nasdaq Stock Market LLC (“Nasdaq”) under the symbol AAPL.\n",
      "\n",
      " **Price Range of Common Stock**\n",
      "\n",
      "The price range per share of common stock presented below represents the highest and lowest intraday sales prices for the Company’s common stock on the Nasdaq during each quarter of the two most recent years.\n",
      "\n",
      " \n",
      "\n",
      "<table class=\"cleaned-financial-table\"><tr><td colspan=\"8\"></td></tr><tr><td></td><td></td><td></td><td></td><td></td><td></td><td></td><td></td></tr><tr><td></td><td>Fourth Quarter</td><td></td><td>Third Quarter</td><td></td><td>Second Quarter</td><td></td><td>First Quarter</td></tr><tr><td>2017 price range per share</td><td>$164.94 – $142.41</td><td></td><td>$156.65 – $140.06</td><td></td><td>$144.50 – $114.76</td><td></td><td>$118.69 – $104.08</td></tr><tr><td>2016 price range per share</td><td>$116.18 – $91.50</td><td></td><td>$112.39 – $89.47</td><td></td><td>$109.43 – $92.39</td><td></td><td>$123.82 – $105.57</td></tr></table>\n",
      "\n",
      " **Holders**\n",
      "\n",
      "As of October 20,2017 , there were 25,333 shareholders of record.\n",
      "\n",
      " **Dividends**\n",
      "\n",
      "The Company paid a total of $12.6 billion and $12.0 billion in dividends during 2017 and 2016 , respectively, and expects to pay quarterly dividends of $0.63 per common share each quarter, subject to declaration by the Board of Directors. The Company also plans to increase its dividend on an annual basis, subject to declaration by the Board of Directors.\n",
      "\n",
      "**Purchases of Equity Securities by the Issuer and Affiliated Purchasers**\n",
      "\n",
      "Share repurchase activity during the three months ended September 30,2017 was as follows (in millions, except number of shares, which are reflected in thousands, and per share amounts):\n",
      "\n",
      " \n",
      "\n",
      "<table class=\"cleaned-financial-table\"><tr><td colspan=\"15\"></td></tr><tr><td></td><td></td><td></td><td></td><td></td><td></td><td></td><td></td><td></td><td></td><td></td><td></td><td></td><td></td><td></td></tr><tr><td>Periods</td><td></td><td colspan=\"2\">Total Numberof Shares Purchased</td><td></td><td colspan=\"3\">AveragePricePaid Per Share</td><td></td><td colspan=\"2\">Total Number of SharesPurchased as Part of PubliclyAnnounced Plans or Programs</td><td></td><td colspan=\"3\">Approximate Dollar Value ofShares That May Yet Be PurchasedUnder the Plans or Programs(1)</td></tr><tr><td>July 2, 2017 to August 5, 2017:</td><td></td><td colspan=\"2\"></td><td></td><td colspan=\"3\"></td><td></td><td colspan=\"2\"></td><td></td><td colspan=\"3\"></td></tr><tr><td>Open market and privately negotiated purchases</td><td></td><td>10,076</td><td></td><td></td><td>$</td><td>148.87</td><td></td><td></td><td>10,076</td><td></td><td></td><td colspan=\"3\"></td></tr><tr><td></td><td></td><td colspan=\"2\"></td><td></td><td colspan=\"3\"></td><td></td><td colspan=\"2\"></td><td></td><td colspan=\"3\"></td></tr><tr><td>August 6, 2017 to September 2, 2017:</td><td></td><td colspan=\"2\"></td><td></td><td colspan=\"3\"></td><td></td><td colspan=\"2\"></td><td></td><td colspan=\"3\"></td></tr><tr><td>May 2017 ASR</td><td></td><td>4,510</td><td></td><td></td><td colspan=\"2\">-2</td><td></td><td></td><td>4,510</td><td></td><td></td><td colspan=\"3\"></td></tr><tr><td>August 2017 ASR</td><td></td><td>15,069</td><td></td><td>-3</td><td colspan=\"2\">-3</td><td></td><td></td><td>15,069</td><td></td><td>-3</td><td colspan=\"3\"></td></tr><tr><td>Open market and privately negotiated purchases</td><td></td><td>9,684</td><td></td><td></td><td>$</td><td>160.06</td><td></td><td></td><td>9,684</td><td></td><td></td><td colspan=\"3\"></td></tr><tr><td></td><td></td><td colspan=\"2\"></td><td></td><td colspan=\"3\"></td><td></td><td colspan=\"2\"></td><td></td><td colspan=\"3\"></td></tr><tr><td>September 3, 2017 to September 30, 2017:</td><td></td><td colspan=\"2\"></td><td></td><td colspan=\"3\"></td><td></td><td colspan=\"2\"></td><td></td><td colspan=\"3\"></td></tr><tr><td>Open market and privately negotiated purchases</td><td></td><td>9,313</td><td></td><td></td><td>$</td><td>155.69</td><td></td><td></td><td>9,313</td><td></td><td></td><td colspan=\"3\"></td></tr><tr><td>Total</td><td></td><td>48,652</td><td></td><td></td><td colspan=\"3\"></td><td></td><td colspan=\"2\"></td><td></td><td>$</td><td>44,023</td><td></td></tr></table>\n",
      "\n",
      " (1)\n",
      "\n",
      "In May 2017 , the Company’s Board of Directors increased the Company’s share repurchase authorization from $175 billion to $210 billion of the Company’s common stock, of which $166 billion had been utilized as of September 30,2017 . The remaining $44 billion in the table represents the amount available to repurchase shares under the authorized repurchase program as of September 30,2017 . The Company’s share repurchase program does not obligate it to acquire any specific number of shares. Under the program, shares may be repurchased in privately negotiated and/or open market transactions, including under plans complying with Rule 10 b 5-1 under the Exchange Act.\n",
      "\n",
      " (2)\n",
      "\n",
      "In May 2017, the Company entered into an accelerated share repurchase arrangement (“ASR”) to purchase up to $3.0 billion of the Company’s common stock. In August 2017, the purchase period for this ASR ended and an additional 4.5 million shares were delivered and retired. In total, 20.1 million shares were delivered under this ASR at an average repurchase price of $149.20 .\n",
      "\n",
      " (3)\n",
      "\n",
      "In August 2017, the Company entered into a new ASR to purchase up to $3.0 billion of the Company’s common stock. In exchange for an up-front payment of $3.0 billion , the financial institution party to the arrangement committed to deliver shares to the Company during the ASR’s purchase period, which will end in November 2017 . The total number of shares ultimately delivered, and therefore the average price paid per share, will be determined at the end of the applicable purchase period based on the volume-weighted average price of the Company’s common stock during that period.\n",
      "\n",
      " **Company Stock Performance**\n",
      "\n",
      "The following graph shows a comparison of cumulative total shareholder return, calculated on a dividend reinvested basis, for the Company, the S&P 500 Index, the S&P Information Technology Index and the Dow Jones U.S. Technology Supersector Index for the five years ended September 30,2017 . The graph assumes $100 was invested in each of the Company’s common stock, the S&P 500 Index, the S&P Information Technology Index and the Dow Jones U.S. Technology Supersector Index as of the market close on September 28,2012. Note that historic stock price performance is not necessarily indicative of future stock price performance.\n",
      "\n",
      " *\n",
      "\n",
      "$100 invested on 9/28/12 in stock or index, including reinvestment of dividends. Data points are the last day of each fiscal year for the Company’s common stock and September 30 th for indexes.\n",
      "\n",
      " \n",
      "\n",
      "<table class=\"cleaned-financial-table\"><tr><td colspan=\"25\"></td></tr><tr><td></td><td></td><td></td><td></td><td></td><td></td><td></td><td></td><td></td><td></td><td></td><td></td><td></td><td></td><td></td><td></td><td></td><td></td><td></td><td></td><td></td><td></td><td></td><td></td><td></td></tr><tr><td></td><td></td><td colspan=\"3\">September2012</td><td></td><td colspan=\"3\">September2013</td><td></td><td colspan=\"3\">September2014</td><td></td><td colspan=\"3\">September2015</td><td></td><td colspan=\"3\">September2016</td><td></td><td colspan=\"3\">September2017</td></tr><tr><td>Apple Inc.</td><td></td><td>$</td><td>100</td><td></td><td></td><td>$</td><td>74</td><td></td><td></td><td>$</td><td>111</td><td></td><td></td><td>$</td><td>128</td><td></td><td></td><td>$</td><td>129</td><td></td><td></td><td>$</td><td>179</td><td></td></tr><tr><td>S&amp;P 500 Index</td><td></td><td>$</td><td>100</td><td></td><td></td><td>$</td><td>119</td><td></td><td></td><td>$</td><td>143</td><td></td><td></td><td>$</td><td>142</td><td></td><td></td><td>$</td><td>164</td><td></td><td></td><td>$</td><td>194</td><td></td></tr><tr><td>S&amp;P Information Technology Index</td><td></td><td>$</td><td>100</td><td></td><td></td><td>$</td><td>107</td><td></td><td></td><td>$</td><td>138</td><td></td><td></td><td>$</td><td>141</td><td></td><td></td><td>$</td><td>173</td><td></td><td></td><td>$</td><td>223</td><td></td></tr><tr><td>Dow Jones U.S. Technology Supersector Index</td><td></td><td>$</td><td>100</td><td></td><td></td><td>$</td><td>105</td><td></td><td></td><td>$</td><td>137</td><td></td><td></td><td>$</td><td>137</td><td></td><td></td><td>$</td><td>167</td><td></td><td></td><td>$</td><td>214</td><td></td></tr></table>\n",
      "\n",
      " \n",
      "\n",
      "<table class=\"cleaned-financial-table\"><tr><td></td><td></td></tr><tr><td>Item 6.</td><td>Selected Financial Data</td></tr></table>\n",
      "\n",
      " **Item 6.**\n"
     ]
    }
   ],
   "source": [
    "print(section_data['text'])"
   ]
  },
  {
   "cell_type": "markdown",
   "metadata": {},
   "source": [
    "After the data has been parsed and cleaned, we can check how the tables look to ensure they are still okay:"
   ]
  },
  {
   "cell_type": "code",
   "execution_count": 23,
   "metadata": {},
   "outputs": [
    {
     "name": "stdout",
     "output_type": "stream",
     "text": [
      "Removed 5 page footers and copyright statements\n",
      "Processed 4 footnote tables in Item 5\n",
      "Removed 3 duplicate tables from Item 5 in simple format\n",
      "Found 4 data tables in Item 5:\n",
      "\n",
      "Table 1:\n"
     ]
    },
    {
     "data": {
      "text/html": [
       "\n",
       "    <style>\n",
       "        /* Base document styles */\n",
       "        .sec-document, .sec-wrapper {\n",
       "            font-family: Arial, sans-serif;\n",
       "            line-height: 1.5;\n",
       "            color: #333;\n",
       "            max-width: 100%;\n",
       "            margin: 20px 0;\n",
       "            padding: 20px;\n",
       "            background: white;\n",
       "            border-radius: 8px;\n",
       "            box-shadow: 0 2px 4px rgba(0,0,0,0.1);\n",
       "        }\n",
       "        \n",
       "        /* Table styles */\n",
       "        .table-wrapper, .sec-table-wrapper {\n",
       "            font-family: Arial, sans-serif;\n",
       "            margin: 20px 0;\n",
       "            max-width: 100%;\n",
       "            overflow-x: auto;\n",
       "        }\n",
       "        .table-wrapper table, .sec-table-wrapper table {\n",
       "            border-collapse: collapse;\n",
       "            width: 100%;\n",
       "            background: white;\n",
       "        }\n",
       "        .table-wrapper th, .table-wrapper td,\n",
       "        .sec-table-wrapper th, .sec-table-wrapper td {\n",
       "            border: 1px solid #ddd;\n",
       "            padding: 8px;\n",
       "            text-align: left;\n",
       "        }\n",
       "        .table-wrapper th, .sec-table-wrapper th {\n",
       "            background-color: #f8f9fa;\n",
       "            font-weight: 600;\n",
       "        }\n",
       "        .table-wrapper tr:nth-child(even),\n",
       "        .sec-table-wrapper tr:nth-child(even) {\n",
       "            background-color: #fcfcfc;\n",
       "        }\n",
       "        \n",
       "        /* Section styles */\n",
       "        .section-content, .sec-content {\n",
       "            background: white;\n",
       "            padding: 20px;\n",
       "            border-radius: 4px;\n",
       "            border: 1px solid #eee;\n",
       "            color: #333;\n",
       "            width: 100%;\n",
       "        }\n",
       "        .section-header {\n",
       "            font-size: 1.2em;\n",
       "            font-weight: bold;\n",
       "            margin-bottom: 15px;\n",
       "            padding-bottom: 10px;\n",
       "            border-bottom: 2px solid #eee;\n",
       "        }\n",
       "        \n",
       "        /* Code and pre styles */\n",
       "        pre {\n",
       "            background: #f8f9fa;\n",
       "            padding: 15px;\n",
       "            border-radius: 4px;\n",
       "            overflow-x: auto;\n",
       "            border: 1px solid #eee;\n",
       "            white-space: pre-wrap;\n",
       "        }\n",
       "        \n",
       "        /* Markdown table styles */\n",
       "        .markdown-table {\n",
       "            font-family: monospace;\n",
       "            white-space: pre;\n",
       "            padding: 10px;\n",
       "            background: #f8f9fa;\n",
       "            border-radius: 4px;\n",
       "            margin-top: 10px;\n",
       "            border: 1px solid #eee;\n",
       "            overflow-x: auto;\n",
       "        }\n",
       "        \n",
       "        /* Paragraph styles */\n",
       "        .sec-content p {\n",
       "            margin: 10px 0;\n",
       "            color: #333;\n",
       "        }\n",
       "        \n",
       "        /* Table styles */\n",
       "        .sec-content table {\n",
       "            border-collapse: collapse;\n",
       "            margin: 15px 0;\n",
       "            width: 100%;\n",
       "            background-color: white !important;\n",
       "        }\n",
       "        .sec-content th, .sec-content td {\n",
       "            border: 1px solid #ddd;\n",
       "            padding: 8px;\n",
       "            text-align: left;\n",
       "            color: #333 !important;\n",
       "            background-color: white !important;\n",
       "        }\n",
       "        .sec-content th {\n",
       "            background-color: #f8f9fa !important;\n",
       "            font-weight: 600;\n",
       "        }\n",
       "        .sec-content tr:nth-child(even) td {\n",
       "            background-color: #fcfcfc !important;\n",
       "        }\n",
       "        \n",
       "        /* Additional styles */\n",
       "        .text-content {\n",
       "            margin: 15px 0;\n",
       "            white-space: pre-wrap;\n",
       "        }\n",
       "        .pagination-info {\n",
       "            text-align: center;\n",
       "            margin: 10px 0;\n",
       "            padding: 10px;\n",
       "            color: #444;\n",
       "            font-weight: 500;\n",
       "            border-top: 1px solid #eee;\n",
       "        }\n",
       "    </style>\n",
       "<div class='table-wrapper'><table class=\"cleaned-financial-table\"><tr><td colspan=\"8\"></td></tr><tr><td></td><td></td><td></td><td></td><td></td><td></td><td></td><td></td></tr><tr><td></td><td>Fourth Quarter</td><td></td><td>Third Quarter</td><td></td><td>Second Quarter</td><td></td><td>First Quarter</td></tr><tr><td>2017 price range per share</td><td>$164.94 – $142.41</td><td></td><td>$156.65 – $140.06</td><td></td><td>$144.50 – $114.76</td><td></td><td>$118.69 – $104.08</td></tr><tr><td>2016 price range per share</td><td>$116.18 – $91.50</td><td></td><td>$112.39 – $89.47</td><td></td><td>$109.43 – $92.39</td><td></td><td>$123.82 – $105.57</td></tr></table></div>"
      ],
      "text/plain": [
       "<IPython.core.display.HTML object>"
      ]
     },
     "metadata": {},
     "output_type": "display_data"
    },
    {
     "name": "stdout",
     "output_type": "stream",
     "text": [
      "\n",
      "Table 2:\n"
     ]
    },
    {
     "data": {
      "text/html": [
       "\n",
       "    <style>\n",
       "        /* Base document styles */\n",
       "        .sec-document, .sec-wrapper {\n",
       "            font-family: Arial, sans-serif;\n",
       "            line-height: 1.5;\n",
       "            color: #333;\n",
       "            max-width: 100%;\n",
       "            margin: 20px 0;\n",
       "            padding: 20px;\n",
       "            background: white;\n",
       "            border-radius: 8px;\n",
       "            box-shadow: 0 2px 4px rgba(0,0,0,0.1);\n",
       "        }\n",
       "        \n",
       "        /* Table styles */\n",
       "        .table-wrapper, .sec-table-wrapper {\n",
       "            font-family: Arial, sans-serif;\n",
       "            margin: 20px 0;\n",
       "            max-width: 100%;\n",
       "            overflow-x: auto;\n",
       "        }\n",
       "        .table-wrapper table, .sec-table-wrapper table {\n",
       "            border-collapse: collapse;\n",
       "            width: 100%;\n",
       "            background: white;\n",
       "        }\n",
       "        .table-wrapper th, .table-wrapper td,\n",
       "        .sec-table-wrapper th, .sec-table-wrapper td {\n",
       "            border: 1px solid #ddd;\n",
       "            padding: 8px;\n",
       "            text-align: left;\n",
       "        }\n",
       "        .table-wrapper th, .sec-table-wrapper th {\n",
       "            background-color: #f8f9fa;\n",
       "            font-weight: 600;\n",
       "        }\n",
       "        .table-wrapper tr:nth-child(even),\n",
       "        .sec-table-wrapper tr:nth-child(even) {\n",
       "            background-color: #fcfcfc;\n",
       "        }\n",
       "        \n",
       "        /* Section styles */\n",
       "        .section-content, .sec-content {\n",
       "            background: white;\n",
       "            padding: 20px;\n",
       "            border-radius: 4px;\n",
       "            border: 1px solid #eee;\n",
       "            color: #333;\n",
       "            width: 100%;\n",
       "        }\n",
       "        .section-header {\n",
       "            font-size: 1.2em;\n",
       "            font-weight: bold;\n",
       "            margin-bottom: 15px;\n",
       "            padding-bottom: 10px;\n",
       "            border-bottom: 2px solid #eee;\n",
       "        }\n",
       "        \n",
       "        /* Code and pre styles */\n",
       "        pre {\n",
       "            background: #f8f9fa;\n",
       "            padding: 15px;\n",
       "            border-radius: 4px;\n",
       "            overflow-x: auto;\n",
       "            border: 1px solid #eee;\n",
       "            white-space: pre-wrap;\n",
       "        }\n",
       "        \n",
       "        /* Markdown table styles */\n",
       "        .markdown-table {\n",
       "            font-family: monospace;\n",
       "            white-space: pre;\n",
       "            padding: 10px;\n",
       "            background: #f8f9fa;\n",
       "            border-radius: 4px;\n",
       "            margin-top: 10px;\n",
       "            border: 1px solid #eee;\n",
       "            overflow-x: auto;\n",
       "        }\n",
       "        \n",
       "        /* Paragraph styles */\n",
       "        .sec-content p {\n",
       "            margin: 10px 0;\n",
       "            color: #333;\n",
       "        }\n",
       "        \n",
       "        /* Table styles */\n",
       "        .sec-content table {\n",
       "            border-collapse: collapse;\n",
       "            margin: 15px 0;\n",
       "            width: 100%;\n",
       "            background-color: white !important;\n",
       "        }\n",
       "        .sec-content th, .sec-content td {\n",
       "            border: 1px solid #ddd;\n",
       "            padding: 8px;\n",
       "            text-align: left;\n",
       "            color: #333 !important;\n",
       "            background-color: white !important;\n",
       "        }\n",
       "        .sec-content th {\n",
       "            background-color: #f8f9fa !important;\n",
       "            font-weight: 600;\n",
       "        }\n",
       "        .sec-content tr:nth-child(even) td {\n",
       "            background-color: #fcfcfc !important;\n",
       "        }\n",
       "        \n",
       "        /* Additional styles */\n",
       "        .text-content {\n",
       "            margin: 15px 0;\n",
       "            white-space: pre-wrap;\n",
       "        }\n",
       "        .pagination-info {\n",
       "            text-align: center;\n",
       "            margin: 10px 0;\n",
       "            padding: 10px;\n",
       "            color: #444;\n",
       "            font-weight: 500;\n",
       "            border-top: 1px solid #eee;\n",
       "        }\n",
       "    </style>\n",
       "<div class='table-wrapper'><table class=\"cleaned-financial-table\"><tr><td colspan=\"15\"></td></tr><tr><td></td><td></td><td></td><td></td><td></td><td></td><td></td><td></td><td></td><td></td><td></td><td></td><td></td><td></td><td></td></tr><tr><td>Periods</td><td></td><td colspan=\"2\">Total Numberof Shares Purchased</td><td></td><td colspan=\"3\">AveragePricePaid Per Share</td><td></td><td colspan=\"2\">Total Number of SharesPurchased as Part of PubliclyAnnounced Plans or Programs</td><td></td><td colspan=\"3\">Approximate Dollar Value ofShares That May Yet Be PurchasedUnder the Plans or Programs(1)</td></tr><tr><td>July 2, 2017 to August 5, 2017:</td><td></td><td colspan=\"2\"></td><td></td><td colspan=\"3\"></td><td></td><td colspan=\"2\"></td><td></td><td colspan=\"3\"></td></tr><tr><td>Open market and privately negotiated purchases</td><td></td><td>10,076</td><td></td><td></td><td>$</td><td>148.87</td><td></td><td></td><td>10,076</td><td></td><td></td><td colspan=\"3\"></td></tr><tr><td></td><td></td><td colspan=\"2\"></td><td></td><td colspan=\"3\"></td><td></td><td colspan=\"2\"></td><td></td><td colspan=\"3\"></td></tr><tr><td>August 6, 2017 to September 2, 2017:</td><td></td><td colspan=\"2\"></td><td></td><td colspan=\"3\"></td><td></td><td colspan=\"2\"></td><td></td><td colspan=\"3\"></td></tr><tr><td>May 2017 ASR</td><td></td><td>4,510</td><td></td><td></td><td colspan=\"2\">-2</td><td></td><td></td><td>4,510</td><td></td><td></td><td colspan=\"3\"></td></tr><tr><td>August 2017 ASR</td><td></td><td>15,069</td><td></td><td>-3</td><td colspan=\"2\">-3</td><td></td><td></td><td>15,069</td><td></td><td>-3</td><td colspan=\"3\"></td></tr><tr><td>Open market and privately negotiated purchases</td><td></td><td>9,684</td><td></td><td></td><td>$</td><td>160.06</td><td></td><td></td><td>9,684</td><td></td><td></td><td colspan=\"3\"></td></tr><tr><td></td><td></td><td colspan=\"2\"></td><td></td><td colspan=\"3\"></td><td></td><td colspan=\"2\"></td><td></td><td colspan=\"3\"></td></tr><tr><td>September 3, 2017 to September 30, 2017:</td><td></td><td colspan=\"2\"></td><td></td><td colspan=\"3\"></td><td></td><td colspan=\"2\"></td><td></td><td colspan=\"3\"></td></tr><tr><td>Open market and privately negotiated purchases</td><td></td><td>9,313</td><td></td><td></td><td>$</td><td>155.69</td><td></td><td></td><td>9,313</td><td></td><td></td><td colspan=\"3\"></td></tr><tr><td>Total</td><td></td><td>48,652</td><td></td><td></td><td colspan=\"3\"></td><td></td><td colspan=\"2\"></td><td></td><td>$</td><td>44,023</td><td></td></tr></table></div>"
      ],
      "text/plain": [
       "<IPython.core.display.HTML object>"
      ]
     },
     "metadata": {},
     "output_type": "display_data"
    },
    {
     "name": "stdout",
     "output_type": "stream",
     "text": [
      "\n",
      "Table 3:\n"
     ]
    },
    {
     "data": {
      "text/html": [
       "\n",
       "    <style>\n",
       "        /* Base document styles */\n",
       "        .sec-document, .sec-wrapper {\n",
       "            font-family: Arial, sans-serif;\n",
       "            line-height: 1.5;\n",
       "            color: #333;\n",
       "            max-width: 100%;\n",
       "            margin: 20px 0;\n",
       "            padding: 20px;\n",
       "            background: white;\n",
       "            border-radius: 8px;\n",
       "            box-shadow: 0 2px 4px rgba(0,0,0,0.1);\n",
       "        }\n",
       "        \n",
       "        /* Table styles */\n",
       "        .table-wrapper, .sec-table-wrapper {\n",
       "            font-family: Arial, sans-serif;\n",
       "            margin: 20px 0;\n",
       "            max-width: 100%;\n",
       "            overflow-x: auto;\n",
       "        }\n",
       "        .table-wrapper table, .sec-table-wrapper table {\n",
       "            border-collapse: collapse;\n",
       "            width: 100%;\n",
       "            background: white;\n",
       "        }\n",
       "        .table-wrapper th, .table-wrapper td,\n",
       "        .sec-table-wrapper th, .sec-table-wrapper td {\n",
       "            border: 1px solid #ddd;\n",
       "            padding: 8px;\n",
       "            text-align: left;\n",
       "        }\n",
       "        .table-wrapper th, .sec-table-wrapper th {\n",
       "            background-color: #f8f9fa;\n",
       "            font-weight: 600;\n",
       "        }\n",
       "        .table-wrapper tr:nth-child(even),\n",
       "        .sec-table-wrapper tr:nth-child(even) {\n",
       "            background-color: #fcfcfc;\n",
       "        }\n",
       "        \n",
       "        /* Section styles */\n",
       "        .section-content, .sec-content {\n",
       "            background: white;\n",
       "            padding: 20px;\n",
       "            border-radius: 4px;\n",
       "            border: 1px solid #eee;\n",
       "            color: #333;\n",
       "            width: 100%;\n",
       "        }\n",
       "        .section-header {\n",
       "            font-size: 1.2em;\n",
       "            font-weight: bold;\n",
       "            margin-bottom: 15px;\n",
       "            padding-bottom: 10px;\n",
       "            border-bottom: 2px solid #eee;\n",
       "        }\n",
       "        \n",
       "        /* Code and pre styles */\n",
       "        pre {\n",
       "            background: #f8f9fa;\n",
       "            padding: 15px;\n",
       "            border-radius: 4px;\n",
       "            overflow-x: auto;\n",
       "            border: 1px solid #eee;\n",
       "            white-space: pre-wrap;\n",
       "        }\n",
       "        \n",
       "        /* Markdown table styles */\n",
       "        .markdown-table {\n",
       "            font-family: monospace;\n",
       "            white-space: pre;\n",
       "            padding: 10px;\n",
       "            background: #f8f9fa;\n",
       "            border-radius: 4px;\n",
       "            margin-top: 10px;\n",
       "            border: 1px solid #eee;\n",
       "            overflow-x: auto;\n",
       "        }\n",
       "        \n",
       "        /* Paragraph styles */\n",
       "        .sec-content p {\n",
       "            margin: 10px 0;\n",
       "            color: #333;\n",
       "        }\n",
       "        \n",
       "        /* Table styles */\n",
       "        .sec-content table {\n",
       "            border-collapse: collapse;\n",
       "            margin: 15px 0;\n",
       "            width: 100%;\n",
       "            background-color: white !important;\n",
       "        }\n",
       "        .sec-content th, .sec-content td {\n",
       "            border: 1px solid #ddd;\n",
       "            padding: 8px;\n",
       "            text-align: left;\n",
       "            color: #333 !important;\n",
       "            background-color: white !important;\n",
       "        }\n",
       "        .sec-content th {\n",
       "            background-color: #f8f9fa !important;\n",
       "            font-weight: 600;\n",
       "        }\n",
       "        .sec-content tr:nth-child(even) td {\n",
       "            background-color: #fcfcfc !important;\n",
       "        }\n",
       "        \n",
       "        /* Additional styles */\n",
       "        .text-content {\n",
       "            margin: 15px 0;\n",
       "            white-space: pre-wrap;\n",
       "        }\n",
       "        .pagination-info {\n",
       "            text-align: center;\n",
       "            margin: 10px 0;\n",
       "            padding: 10px;\n",
       "            color: #444;\n",
       "            font-weight: 500;\n",
       "            border-top: 1px solid #eee;\n",
       "        }\n",
       "    </style>\n",
       "<div class='table-wrapper'><table class=\"cleaned-financial-table\"><tr><td colspan=\"25\"></td></tr><tr><td></td><td></td><td></td><td></td><td></td><td></td><td></td><td></td><td></td><td></td><td></td><td></td><td></td><td></td><td></td><td></td><td></td><td></td><td></td><td></td><td></td><td></td><td></td><td></td><td></td></tr><tr><td></td><td></td><td colspan=\"3\">September2012</td><td></td><td colspan=\"3\">September2013</td><td></td><td colspan=\"3\">September2014</td><td></td><td colspan=\"3\">September2015</td><td></td><td colspan=\"3\">September2016</td><td></td><td colspan=\"3\">September2017</td></tr><tr><td>Apple Inc.</td><td></td><td>$</td><td>100</td><td></td><td></td><td>$</td><td>74</td><td></td><td></td><td>$</td><td>111</td><td></td><td></td><td>$</td><td>128</td><td></td><td></td><td>$</td><td>129</td><td></td><td></td><td>$</td><td>179</td><td></td></tr><tr><td>S&amp;P 500 Index</td><td></td><td>$</td><td>100</td><td></td><td></td><td>$</td><td>119</td><td></td><td></td><td>$</td><td>143</td><td></td><td></td><td>$</td><td>142</td><td></td><td></td><td>$</td><td>164</td><td></td><td></td><td>$</td><td>194</td><td></td></tr><tr><td>S&amp;P Information Technology Index</td><td></td><td>$</td><td>100</td><td></td><td></td><td>$</td><td>107</td><td></td><td></td><td>$</td><td>138</td><td></td><td></td><td>$</td><td>141</td><td></td><td></td><td>$</td><td>173</td><td></td><td></td><td>$</td><td>223</td><td></td></tr><tr><td>Dow Jones U.S. Technology Supersector Index</td><td></td><td>$</td><td>100</td><td></td><td></td><td>$</td><td>105</td><td></td><td></td><td>$</td><td>137</td><td></td><td></td><td>$</td><td>137</td><td></td><td></td><td>$</td><td>167</td><td></td><td></td><td>$</td><td>214</td><td></td></tr></table></div>"
      ],
      "text/plain": [
       "<IPython.core.display.HTML object>"
      ]
     },
     "metadata": {},
     "output_type": "display_data"
    },
    {
     "name": "stdout",
     "output_type": "stream",
     "text": [
      "\n",
      "Table 4:\n"
     ]
    },
    {
     "data": {
      "text/html": [
       "\n",
       "    <style>\n",
       "        /* Base document styles */\n",
       "        .sec-document, .sec-wrapper {\n",
       "            font-family: Arial, sans-serif;\n",
       "            line-height: 1.5;\n",
       "            color: #333;\n",
       "            max-width: 100%;\n",
       "            margin: 20px 0;\n",
       "            padding: 20px;\n",
       "            background: white;\n",
       "            border-radius: 8px;\n",
       "            box-shadow: 0 2px 4px rgba(0,0,0,0.1);\n",
       "        }\n",
       "        \n",
       "        /* Table styles */\n",
       "        .table-wrapper, .sec-table-wrapper {\n",
       "            font-family: Arial, sans-serif;\n",
       "            margin: 20px 0;\n",
       "            max-width: 100%;\n",
       "            overflow-x: auto;\n",
       "        }\n",
       "        .table-wrapper table, .sec-table-wrapper table {\n",
       "            border-collapse: collapse;\n",
       "            width: 100%;\n",
       "            background: white;\n",
       "        }\n",
       "        .table-wrapper th, .table-wrapper td,\n",
       "        .sec-table-wrapper th, .sec-table-wrapper td {\n",
       "            border: 1px solid #ddd;\n",
       "            padding: 8px;\n",
       "            text-align: left;\n",
       "        }\n",
       "        .table-wrapper th, .sec-table-wrapper th {\n",
       "            background-color: #f8f9fa;\n",
       "            font-weight: 600;\n",
       "        }\n",
       "        .table-wrapper tr:nth-child(even),\n",
       "        .sec-table-wrapper tr:nth-child(even) {\n",
       "            background-color: #fcfcfc;\n",
       "        }\n",
       "        \n",
       "        /* Section styles */\n",
       "        .section-content, .sec-content {\n",
       "            background: white;\n",
       "            padding: 20px;\n",
       "            border-radius: 4px;\n",
       "            border: 1px solid #eee;\n",
       "            color: #333;\n",
       "            width: 100%;\n",
       "        }\n",
       "        .section-header {\n",
       "            font-size: 1.2em;\n",
       "            font-weight: bold;\n",
       "            margin-bottom: 15px;\n",
       "            padding-bottom: 10px;\n",
       "            border-bottom: 2px solid #eee;\n",
       "        }\n",
       "        \n",
       "        /* Code and pre styles */\n",
       "        pre {\n",
       "            background: #f8f9fa;\n",
       "            padding: 15px;\n",
       "            border-radius: 4px;\n",
       "            overflow-x: auto;\n",
       "            border: 1px solid #eee;\n",
       "            white-space: pre-wrap;\n",
       "        }\n",
       "        \n",
       "        /* Markdown table styles */\n",
       "        .markdown-table {\n",
       "            font-family: monospace;\n",
       "            white-space: pre;\n",
       "            padding: 10px;\n",
       "            background: #f8f9fa;\n",
       "            border-radius: 4px;\n",
       "            margin-top: 10px;\n",
       "            border: 1px solid #eee;\n",
       "            overflow-x: auto;\n",
       "        }\n",
       "        \n",
       "        /* Paragraph styles */\n",
       "        .sec-content p {\n",
       "            margin: 10px 0;\n",
       "            color: #333;\n",
       "        }\n",
       "        \n",
       "        /* Table styles */\n",
       "        .sec-content table {\n",
       "            border-collapse: collapse;\n",
       "            margin: 15px 0;\n",
       "            width: 100%;\n",
       "            background-color: white !important;\n",
       "        }\n",
       "        .sec-content th, .sec-content td {\n",
       "            border: 1px solid #ddd;\n",
       "            padding: 8px;\n",
       "            text-align: left;\n",
       "            color: #333 !important;\n",
       "            background-color: white !important;\n",
       "        }\n",
       "        .sec-content th {\n",
       "            background-color: #f8f9fa !important;\n",
       "            font-weight: 600;\n",
       "        }\n",
       "        .sec-content tr:nth-child(even) td {\n",
       "            background-color: #fcfcfc !important;\n",
       "        }\n",
       "        \n",
       "        /* Additional styles */\n",
       "        .text-content {\n",
       "            margin: 15px 0;\n",
       "            white-space: pre-wrap;\n",
       "        }\n",
       "        .pagination-info {\n",
       "            text-align: center;\n",
       "            margin: 10px 0;\n",
       "            padding: 10px;\n",
       "            color: #444;\n",
       "            font-weight: 500;\n",
       "            border-top: 1px solid #eee;\n",
       "        }\n",
       "    </style>\n",
       "<div class='table-wrapper'><table class=\"cleaned-financial-table\"><tr><td></td><td></td></tr><tr><td>Item 6.</td><td>Selected Financial Data</td></tr></table></div>"
      ],
      "text/plain": [
       "<IPython.core.display.HTML object>"
      ]
     },
     "metadata": {},
     "output_type": "display_data"
    }
   ],
   "source": [
    "# Display all tables from a section\n",
    "parser.display_section_tables_from_parsed('Item 5')"
   ]
  },
  {
   "cell_type": "markdown",
   "metadata": {},
   "source": [
    "# Process all  reports\n",
    "Now we'll process all of the downloaded reports. The full SEC 10-K filing reports include many sections, so to reduce time we'll focus on the Item 1 (business overview), Item 1A (risk factors),  Item 5(company stock), Item 7 (management analysis), Item 7A (quantitative and qualitative disclosures) and Item 8 (financial statements)."
   ]
  },
  {
   "cell_type": "code",
   "execution_count": 14,
   "metadata": {},
   "outputs": [],
   "source": [
    "reports_dir = f\"{RAW_DATA_DIR}/sec-edgar-filings\"\n",
    "sections_to_extract = [\"Item 1\", \"Item 1A\", \"Item 5\", \"Item 7\", \"Item 7A\", \"Item 8\"]"
   ]
  },
  {
   "cell_type": "code",
   "execution_count": 19,
   "metadata": {},
   "outputs": [
    {
     "name": "stdout",
     "output_type": "stream",
     "text": [
      "Finding all company directories...\n",
      "Found 5 company directories\n",
      "Finding all SEC 10-K reports...\n"
     ]
    },
    {
     "name": "stderr",
     "output_type": "stream",
     "text": [
      "Scanning companies: 100%|██████████| 5/5 [00:00<00:00, 7342.97it/s]\n"
     ]
    },
    {
     "name": "stdout",
     "output_type": "stream",
     "text": [
      "Found 50 SEC 10-K reports\n",
      "Processing reports to extract metadata and available sections...\n"
     ]
    },
    {
     "name": "stderr",
     "output_type": "stream",
     "text": [
      "Processing reports:   0%|          | 0/50 [00:00<?, ?it/s]"
     ]
    },
    {
     "name": "stdout",
     "output_type": "stream",
     "text": [
      "Processed 14 footnote tables in Item 1\n",
      "Found 2 unique tables in section Item 1 (removed -6 duplicates, converted 14 footnotes to text)\n",
      "Processed 57 footnote tables in Item 1A\n",
      "Found 2 unique tables in section Item 1A (removed -31 duplicates, converted 57 footnotes to text)\n",
      "Processed 2 footnote tables in Item 5\n",
      "Found 7 unique tables in section Item 5 (removed 11 duplicates, converted 2 footnotes to text)\n",
      "Processed 56 footnote tables in Item 7\n",
      "Found 23 unique tables in section Item 7 (removed -4 duplicates, converted 56 footnotes to text)\n",
      "Found 3 unique tables in section Item 7A (removed 5 duplicates, converted 0 footnotes to text)\n",
      "Processed 30 footnote tables in Item 8\n"
     ]
    },
    {
     "name": "stderr",
     "output_type": "stream",
     "text": [
      "Processing reports:   2%|▏         | 1/50 [00:16<13:07, 16.06s/it]"
     ]
    },
    {
     "name": "stdout",
     "output_type": "stream",
     "text": [
      "Found 53 unique tables in section Item 8 (removed 98 duplicates, converted 30 footnotes to text)\n",
      "Processed 12 footnote tables in Item 1\n",
      "Found 2 unique tables in section Item 1 (removed -4 duplicates, converted 12 footnotes to text)\n",
      "Processed 53 footnote tables in Item 1A\n",
      "Found 2 unique tables in section Item 1A (removed -31 duplicates, converted 53 footnotes to text)\n",
      "Processed 2 footnote tables in Item 5\n",
      "Found 7 unique tables in section Item 5 (removed 7 duplicates, converted 2 footnotes to text)\n",
      "Processed 70 footnote tables in Item 7\n",
      "Found 27 unique tables in section Item 7 (removed -10 duplicates, converted 70 footnotes to text)\n",
      "Found 2 unique tables in section Item 7A (removed 4 duplicates, converted 0 footnotes to text)\n",
      "Processed 30 footnote tables in Item 8\n"
     ]
    },
    {
     "name": "stderr",
     "output_type": "stream",
     "text": [
      "Processing reports:   4%|▍         | 2/50 [00:27<10:47, 13.48s/it]"
     ]
    },
    {
     "name": "stdout",
     "output_type": "stream",
     "text": [
      "Found 68 unique tables in section Item 8 (removed 154 duplicates, converted 30 footnotes to text)\n",
      "Processed 14 footnote tables in Item 1\n",
      "Found 2 unique tables in section Item 1 (removed -6 duplicates, converted 14 footnotes to text)\n",
      "Processed 53 footnote tables in Item 1A\n",
      "Found 2 unique tables in section Item 1A (removed -31 duplicates, converted 53 footnotes to text)\n",
      "Found 6 unique tables in section Item 5 (removed 8 duplicates, converted 0 footnotes to text)\n",
      "Processed 61 footnote tables in Item 7\n",
      "Found 23 unique tables in section Item 7 (removed -13 duplicates, converted 61 footnotes to text)\n",
      "Found 2 unique tables in section Item 7A (removed 4 duplicates, converted 0 footnotes to text)\n",
      "Processed 24 footnote tables in Item 8\n"
     ]
    },
    {
     "name": "stderr",
     "output_type": "stream",
     "text": [
      "Processing reports:   6%|▌         | 3/50 [00:36<08:52, 11.34s/it]"
     ]
    },
    {
     "name": "stdout",
     "output_type": "stream",
     "text": [
      "Found 56 unique tables in section Item 8 (removed 118 duplicates, converted 24 footnotes to text)\n",
      "Found 1 unique tables in section Item 1 (removed 13 duplicates, converted 0 footnotes to text)\n",
      "Found 1 unique tables in section Item 1A (removed 25 duplicates, converted 0 footnotes to text)\n",
      "Found 2 unique tables in section Item 5 (removed 6 duplicates, converted 0 footnotes to text)\n",
      "Found 15 unique tables in section Item 7 (removed 45 duplicates, converted 0 footnotes to text)\n",
      "Found 2 unique tables in section Item 7A (removed 4 duplicates, converted 0 footnotes to text)\n"
     ]
    },
    {
     "name": "stderr",
     "output_type": "stream",
     "text": [
      "Processing reports:   8%|▊         | 4/50 [00:45<07:51, 10.26s/it]"
     ]
    },
    {
     "name": "stdout",
     "output_type": "stream",
     "text": [
      "Found 51 unique tables in section Item 8 (removed 131 duplicates, converted 0 footnotes to text)\n",
      "Found 1 unique tables in section Item 1 (removed 9 duplicates, converted 0 footnotes to text)\n",
      "Found 1 unique tables in section Item 1A (removed 25 duplicates, converted 0 footnotes to text)\n",
      "Found 2 unique tables in section Item 5 (removed 4 duplicates, converted 0 footnotes to text)\n",
      "Found 15 unique tables in section Item 7 (removed 41 duplicates, converted 0 footnotes to text)\n",
      "Found 63 unique tables in section Item 7A (removed 163 duplicates, converted 0 footnotes to text)\n"
     ]
    },
    {
     "name": "stderr",
     "output_type": "stream",
     "text": [
      "Processing reports:  10%|█         | 5/50 [00:56<08:00, 10.68s/it]"
     ]
    },
    {
     "name": "stdout",
     "output_type": "stream",
     "text": [
      "Found 68 unique tables in section Item 8 (removed 180 duplicates, converted 0 footnotes to text)\n",
      "Processed 15 footnote tables in Item 1\n",
      "Found 2 unique tables in section Item 1 (removed -7 duplicates, converted 15 footnotes to text)\n",
      "Processed 52 footnote tables in Item 1A\n",
      "Found 2 unique tables in section Item 1A (removed -26 duplicates, converted 52 footnotes to text)\n",
      "Processed 2 footnote tables in Item 5\n",
      "Found 3 unique tables in section Item 5 (removed 5 duplicates, converted 2 footnotes to text)\n",
      "Processed 53 footnote tables in Item 7\n",
      "Found 22 unique tables in section Item 7 (removed -6 duplicates, converted 53 footnotes to text)\n",
      "Found 3 unique tables in section Item 7A (removed 7 duplicates, converted 0 footnotes to text)\n",
      "Processed 32 footnote tables in Item 8\n"
     ]
    },
    {
     "name": "stderr",
     "output_type": "stream",
     "text": [
      "Processing reports:  12%|█▏        | 6/50 [01:05<07:19,  9.99s/it]"
     ]
    },
    {
     "name": "stdout",
     "output_type": "stream",
     "text": [
      "Found 55 unique tables in section Item 8 (removed 98 duplicates, converted 32 footnotes to text)\n",
      "Found 1 unique tables in section Item 1 (removed 9 duplicates, converted 0 footnotes to text)\n",
      "Found 1 unique tables in section Item 1A (removed 27 duplicates, converted 0 footnotes to text)\n",
      "Found 2 unique tables in section Item 5 (removed 6 duplicates, converted 0 footnotes to text)\n",
      "Found 17 unique tables in section Item 7 (removed 49 duplicates, converted 0 footnotes to text)\n",
      "Found 2 unique tables in section Item 7A (removed 6 duplicates, converted 0 footnotes to text)\n"
     ]
    },
    {
     "name": "stderr",
     "output_type": "stream",
     "text": [
      "Processing reports:  14%|█▍        | 7/50 [01:12<06:27,  9.02s/it]"
     ]
    },
    {
     "name": "stdout",
     "output_type": "stream",
     "text": [
      "Found 55 unique tables in section Item 8 (removed 137 duplicates, converted 0 footnotes to text)\n",
      "Processed 18 footnote tables in Item 1\n",
      "Found 2 unique tables in section Item 1 (removed -15 duplicates, converted 18 footnotes to text)\n",
      "Processed 56 footnote tables in Item 1A\n",
      "Found 2 unique tables in section Item 1A (removed -44 duplicates, converted 56 footnotes to text)\n",
      "Processed 2 footnote tables in Item 5\n",
      "Found 3 unique tables in section Item 5 (removed 0 duplicates, converted 2 footnotes to text)\n",
      "Processed 61 footnote tables in Item 7\n",
      "Found 20 unique tables in section Item 7 (removed -46 duplicates, converted 61 footnotes to text)\n",
      "Found 3 unique tables in section Item 7A (removed 2 duplicates, converted 0 footnotes to text)\n",
      "Processed 29 footnote tables in Item 8\n"
     ]
    },
    {
     "name": "stderr",
     "output_type": "stream",
     "text": [
      "Processing reports:  16%|█▌        | 8/50 [01:21<06:20,  9.05s/it]"
     ]
    },
    {
     "name": "stdout",
     "output_type": "stream",
     "text": [
      "Found 59 unique tables in section Item 8 (removed 14 duplicates, converted 29 footnotes to text)\n",
      "Found 1 unique tables in section Item 1 (removed 11 duplicates, converted 0 footnotes to text)\n",
      "Found 1 unique tables in section Item 1A (removed 27 duplicates, converted 0 footnotes to text)\n",
      "Found 2 unique tables in section Item 5 (removed 4 duplicates, converted 0 footnotes to text)\n",
      "Found 15 unique tables in section Item 7 (removed 41 duplicates, converted 0 footnotes to text)\n",
      "Found 2 unique tables in section Item 7A (removed 6 duplicates, converted 0 footnotes to text)\n"
     ]
    },
    {
     "name": "stderr",
     "output_type": "stream",
     "text": [
      "Processing reports:  18%|█▊        | 9/50 [01:28<05:41,  8.32s/it]"
     ]
    },
    {
     "name": "stdout",
     "output_type": "stream",
     "text": [
      "Found 55 unique tables in section Item 8 (removed 135 duplicates, converted 0 footnotes to text)\n",
      "Found 1 unique tables in section Item 1 (removed 11 duplicates, converted 0 footnotes to text)\n",
      "Found 1 unique tables in section Item 1A (removed 29 duplicates, converted 0 footnotes to text)\n",
      "Found 2 unique tables in section Item 5 (removed 4 duplicates, converted 0 footnotes to text)\n",
      "Found 15 unique tables in section Item 7 (removed 43 duplicates, converted 0 footnotes to text)\n",
      "Found 2 unique tables in section Item 7A (removed 6 duplicates, converted 0 footnotes to text)\n"
     ]
    },
    {
     "name": "stderr",
     "output_type": "stream",
     "text": [
      "Processing reports:  20%|██        | 10/50 [01:36<05:28,  8.22s/it]"
     ]
    },
    {
     "name": "stdout",
     "output_type": "stream",
     "text": [
      "Found 51 unique tables in section Item 8 (removed 133 duplicates, converted 0 footnotes to text)\n",
      "Found 3 unique tables in section Item 1 (removed 3 duplicates, converted 0 footnotes to text)\n",
      "Found 1 unique tables in section Item 1A (removed 1 duplicates, converted 0 footnotes to text)\n",
      "Found 1 unique tables in section Item 5 (removed 1 duplicates, converted 0 footnotes to text)\n",
      "Found 9 unique tables in section Item 7 (removed 9 duplicates, converted 0 footnotes to text)\n",
      "Found 2 unique tables in section Item 7A (removed 2 duplicates, converted 0 footnotes to text)\n"
     ]
    },
    {
     "name": "stderr",
     "output_type": "stream",
     "text": [
      "Processing reports:  22%|██▏       | 11/50 [01:41<04:42,  7.25s/it]"
     ]
    },
    {
     "name": "stdout",
     "output_type": "stream",
     "text": [
      "Found 44 unique tables in section Item 8 (removed 44 duplicates, converted 0 footnotes to text)\n",
      "Found 3 unique tables in section Item 1 (removed 3 duplicates, converted 0 footnotes to text)\n",
      "Processed 58 footnote tables in Item 1A\n",
      "Found 1 unique tables in section Item 1A (removed -57 duplicates, converted 58 footnotes to text)\n",
      "Found 2 unique tables in section Item 5 (removed 2 duplicates, converted 0 footnotes to text)\n",
      "Processed 10 footnote tables in Item 7\n",
      "Found 11 unique tables in section Item 7 (removed 1 duplicates, converted 10 footnotes to text)\n",
      "Found 3 unique tables in section Item 7A (removed 3 duplicates, converted 0 footnotes to text)\n",
      "Processed 31 footnote tables in Item 8\n"
     ]
    },
    {
     "name": "stderr",
     "output_type": "stream",
     "text": [
      "Processing reports:  24%|██▍       | 12/50 [01:47<04:25,  7.00s/it]"
     ]
    },
    {
     "name": "stdout",
     "output_type": "stream",
     "text": [
      "Found 41 unique tables in section Item 8 (removed 10 duplicates, converted 31 footnotes to text)\n",
      "Found 3 unique tables in section Item 1 (removed 0 duplicates, converted 0 footnotes to text)\n",
      "Processed 62 footnote tables in Item 1A\n",
      "Found 1 unique tables in section Item 1A (removed -62 duplicates, converted 62 footnotes to text)\n",
      "Found 1 unique tables in section Item 5 (removed 0 duplicates, converted 0 footnotes to text)\n",
      "Processed 10 footnote tables in Item 7\n",
      "Found 9 unique tables in section Item 7 (removed -10 duplicates, converted 10 footnotes to text)\n",
      "Found 3 unique tables in section Item 7A (removed 0 duplicates, converted 0 footnotes to text)\n",
      "Processed 32 footnote tables in Item 8\n"
     ]
    },
    {
     "name": "stderr",
     "output_type": "stream",
     "text": [
      "Processing reports:  26%|██▌       | 13/50 [01:56<04:36,  7.48s/it]"
     ]
    },
    {
     "name": "stdout",
     "output_type": "stream",
     "text": [
      "Found 44 unique tables in section Item 8 (removed -32 duplicates, converted 32 footnotes to text)\n",
      "Found 3 unique tables in section Item 1 (removed 3 duplicates, converted 0 footnotes to text)\n",
      "Processed 61 footnote tables in Item 1A\n",
      "Found 1 unique tables in section Item 1A (removed -60 duplicates, converted 61 footnotes to text)\n",
      "Found 1 unique tables in section Item 5 (removed 1 duplicates, converted 0 footnotes to text)\n",
      "Processed 8 footnote tables in Item 7\n",
      "Found 9 unique tables in section Item 7 (removed 1 duplicates, converted 8 footnotes to text)\n",
      "Found 3 unique tables in section Item 7A (removed 3 duplicates, converted 0 footnotes to text)\n",
      "Processed 33 footnote tables in Item 8\n"
     ]
    },
    {
     "name": "stderr",
     "output_type": "stream",
     "text": [
      "Processing reports:  28%|██▊       | 14/50 [02:02<04:17,  7.16s/it]"
     ]
    },
    {
     "name": "stdout",
     "output_type": "stream",
     "text": [
      "Found 43 unique tables in section Item 8 (removed 10 duplicates, converted 33 footnotes to text)\n",
      "Found 3 unique tables in section Item 1 (removed 3 duplicates, converted 0 footnotes to text)\n",
      "Found 1 unique tables in section Item 1A (removed 1 duplicates, converted 0 footnotes to text)\n",
      "Found 1 unique tables in section Item 5 (removed 1 duplicates, converted 0 footnotes to text)\n",
      "Found 9 unique tables in section Item 7 (removed 9 duplicates, converted 0 footnotes to text)\n",
      "Found 2 unique tables in section Item 7A (removed 2 duplicates, converted 0 footnotes to text)\n"
     ]
    },
    {
     "name": "stderr",
     "output_type": "stream",
     "text": [
      "Processing reports:  30%|███       | 15/50 [02:07<03:45,  6.43s/it]"
     ]
    },
    {
     "name": "stdout",
     "output_type": "stream",
     "text": [
      "Found 44 unique tables in section Item 8 (removed 44 duplicates, converted 0 footnotes to text)\n",
      "Found 3 unique tables in section Item 1 (removed 3 duplicates, converted 0 footnotes to text)\n",
      "Found 1 unique tables in section Item 1A (removed 1 duplicates, converted 0 footnotes to text)\n",
      "Found 1 unique tables in section Item 5 (removed 1 duplicates, converted 0 footnotes to text)\n",
      "Found 9 unique tables in section Item 7 (removed 9 duplicates, converted 0 footnotes to text)\n",
      "Found 2 unique tables in section Item 7A (removed 2 duplicates, converted 0 footnotes to text)\n"
     ]
    },
    {
     "name": "stderr",
     "output_type": "stream",
     "text": [
      "Processing reports:  32%|███▏      | 16/50 [02:11<03:19,  5.86s/it]"
     ]
    },
    {
     "name": "stdout",
     "output_type": "stream",
     "text": [
      "Found 44 unique tables in section Item 8 (removed 44 duplicates, converted 0 footnotes to text)\n",
      "Found 3 unique tables in section Item 1 (removed 3 duplicates, converted 0 footnotes to text)\n",
      "Processed 58 footnote tables in Item 1A\n",
      "Found 1 unique tables in section Item 1A (removed -57 duplicates, converted 58 footnotes to text)\n",
      "Found 2 unique tables in section Item 5 (removed 2 duplicates, converted 0 footnotes to text)\n",
      "Processed 16 footnote tables in Item 7\n",
      "Found 11 unique tables in section Item 7 (removed -5 duplicates, converted 16 footnotes to text)\n",
      "Found 3 unique tables in section Item 7A (removed 3 duplicates, converted 0 footnotes to text)\n",
      "Processed 28 footnote tables in Item 8\n"
     ]
    },
    {
     "name": "stderr",
     "output_type": "stream",
     "text": [
      "Processing reports:  34%|███▍      | 17/50 [02:18<03:19,  6.06s/it]"
     ]
    },
    {
     "name": "stdout",
     "output_type": "stream",
     "text": [
      "Found 42 unique tables in section Item 8 (removed 14 duplicates, converted 28 footnotes to text)\n",
      "Found 3 unique tables in section Item 1 (removed 3 duplicates, converted 0 footnotes to text)\n",
      "Processed 60 footnote tables in Item 1A\n",
      "Found 1 unique tables in section Item 1A (removed -59 duplicates, converted 60 footnotes to text)\n",
      "Found 2 unique tables in section Item 5 (removed 2 duplicates, converted 0 footnotes to text)\n",
      "Processed 8 footnote tables in Item 7\n",
      "Found 9 unique tables in section Item 7 (removed 1 duplicates, converted 8 footnotes to text)\n",
      "Found 3 unique tables in section Item 7A (removed 3 duplicates, converted 0 footnotes to text)\n",
      "Processed 38 footnote tables in Item 8\n"
     ]
    },
    {
     "name": "stderr",
     "output_type": "stream",
     "text": [
      "Processing reports:  36%|███▌      | 18/50 [02:27<03:40,  6.88s/it]"
     ]
    },
    {
     "name": "stdout",
     "output_type": "stream",
     "text": [
      "Found 42 unique tables in section Item 8 (removed 4 duplicates, converted 38 footnotes to text)\n",
      "Found 3 unique tables in section Item 1 (removed 3 duplicates, converted 0 footnotes to text)\n",
      "Found 1 unique tables in section Item 1A (removed 1 duplicates, converted 0 footnotes to text)\n",
      "Found 1 unique tables in section Item 5 (removed 1 duplicates, converted 0 footnotes to text)\n",
      "Found 9 unique tables in section Item 7 (removed 9 duplicates, converted 0 footnotes to text)\n",
      "Found 2 unique tables in section Item 7A (removed 2 duplicates, converted 0 footnotes to text)\n"
     ]
    },
    {
     "name": "stderr",
     "output_type": "stream",
     "text": [
      "Processing reports:  38%|███▊      | 19/50 [02:32<03:19,  6.42s/it]"
     ]
    },
    {
     "name": "stdout",
     "output_type": "stream",
     "text": [
      "Found 44 unique tables in section Item 8 (removed 44 duplicates, converted 0 footnotes to text)\n",
      "Found 3 unique tables in section Item 1 (removed 3 duplicates, converted 0 footnotes to text)\n",
      "Found 1 unique tables in section Item 1A (removed 1 duplicates, converted 0 footnotes to text)\n",
      "Found 1 unique tables in section Item 5 (removed 1 duplicates, converted 0 footnotes to text)\n",
      "Found 9 unique tables in section Item 7 (removed 9 duplicates, converted 0 footnotes to text)\n",
      "Found 2 unique tables in section Item 7A (removed 2 duplicates, converted 0 footnotes to text)\n"
     ]
    },
    {
     "name": "stderr",
     "output_type": "stream",
     "text": [
      "Processing reports:  40%|████      | 20/50 [02:37<03:02,  6.09s/it]"
     ]
    },
    {
     "name": "stdout",
     "output_type": "stream",
     "text": [
      "Found 42 unique tables in section Item 8 (removed 42 duplicates, converted 0 footnotes to text)\n",
      "Processed 6 footnote tables in Item 1\n",
      "Found 2 unique tables in section Item 1 (removed -4 duplicates, converted 6 footnotes to text)\n",
      "Processed 55 footnote tables in Item 1A\n",
      "Found 0 unique tables in section Item 1A (removed -55 duplicates, converted 55 footnotes to text)\n",
      "Found 2 unique tables in section Item 5 (removed 2 duplicates, converted 0 footnotes to text)\n",
      "Processed 3 footnote tables in Item 7\n"
     ]
    },
    {
     "name": "stderr",
     "output_type": "stream",
     "text": [
      "Processing reports:  42%|████▏     | 21/50 [02:40<02:29,  5.16s/it]"
     ]
    },
    {
     "name": "stdout",
     "output_type": "stream",
     "text": [
      "Found 7 unique tables in section Item 7 (removed 4 duplicates, converted 3 footnotes to text)\n",
      "Found 0 unique tables in section Item 7A (removed 0 duplicates, converted 0 footnotes to text)\n",
      "Found 0 unique tables in section Item 8 (removed 0 duplicates, converted 0 footnotes to text)\n",
      "Found 0 unique tables in section Item 1 (removed 0 duplicates, converted 0 footnotes to text)\n",
      "Found 1 unique tables in section Item 1A (removed 1 duplicates, converted 0 footnotes to text)\n",
      "Found 1 unique tables in section Item 5 (removed 1 duplicates, converted 0 footnotes to text)\n"
     ]
    },
    {
     "name": "stderr",
     "output_type": "stream",
     "text": [
      "Processing reports:  44%|████▍     | 22/50 [02:43<02:01,  4.32s/it]"
     ]
    },
    {
     "name": "stdout",
     "output_type": "stream",
     "text": [
      "Found 6 unique tables in section Item 7 (removed 6 duplicates, converted 0 footnotes to text)\n",
      "Found 0 unique tables in section Item 7A (removed 0 duplicates, converted 0 footnotes to text)\n",
      "Found 0 unique tables in section Item 8 (removed 0 duplicates, converted 0 footnotes to text)\n",
      "Processed 4 footnote tables in Item 1\n",
      "Found 1 unique tables in section Item 1 (removed -3 duplicates, converted 4 footnotes to text)\n",
      "Processed 54 footnote tables in Item 1A\n",
      "Found 1 unique tables in section Item 1A (removed -53 duplicates, converted 54 footnotes to text)\n",
      "Found 3 unique tables in section Item 5 (removed 3 duplicates, converted 0 footnotes to text)\n",
      "Processed 5 footnote tables in Item 7\n"
     ]
    },
    {
     "name": "stderr",
     "output_type": "stream",
     "text": [
      "Processing reports:  46%|████▌     | 23/50 [02:46<01:50,  4.09s/it]"
     ]
    },
    {
     "name": "stdout",
     "output_type": "stream",
     "text": [
      "Found 8 unique tables in section Item 7 (removed 3 duplicates, converted 5 footnotes to text)\n",
      "Found 0 unique tables in section Item 7A (removed 0 duplicates, converted 0 footnotes to text)\n",
      "Found 0 unique tables in section Item 8 (removed 0 duplicates, converted 0 footnotes to text)\n",
      "Processed 7 footnote tables in Item 1\n",
      "Found 2 unique tables in section Item 1 (removed -7 duplicates, converted 7 footnotes to text)\n",
      "Processed 63 footnote tables in Item 1A\n",
      "Found 0 unique tables in section Item 1A (removed -63 duplicates, converted 63 footnotes to text)\n",
      "Found 1 unique tables in section Item 5 (removed 0 duplicates, converted 0 footnotes to text)\n",
      "Processed 3 footnote tables in Item 7\n",
      "Found 7 unique tables in section Item 7 (removed -3 duplicates, converted 3 footnotes to text)\n",
      "Found 0 unique tables in section Item 7A (removed 0 duplicates, converted 0 footnotes to text)\n"
     ]
    },
    {
     "name": "stderr",
     "output_type": "stream",
     "text": [
      "Processing reports:  48%|████▊     | 24/50 [02:49<01:33,  3.59s/it]"
     ]
    },
    {
     "name": "stdout",
     "output_type": "stream",
     "text": [
      "Found 0 unique tables in section Item 8 (removed 0 duplicates, converted 0 footnotes to text)\n",
      "Processed 6 footnote tables in Item 1\n",
      "Found 1 unique tables in section Item 1 (removed -5 duplicates, converted 6 footnotes to text)\n",
      "Processed 58 footnote tables in Item 1A\n",
      "Found 1 unique tables in section Item 1A (removed -57 duplicates, converted 58 footnotes to text)\n",
      "Processed 1 footnote tables in Item 5\n",
      "Found 4 unique tables in section Item 5 (removed 3 duplicates, converted 1 footnotes to text)\n",
      "Processed 9 footnote tables in Item 7\n"
     ]
    },
    {
     "name": "stderr",
     "output_type": "stream",
     "text": [
      "Processing reports:  50%|█████     | 25/50 [02:52<01:28,  3.53s/it]"
     ]
    },
    {
     "name": "stdout",
     "output_type": "stream",
     "text": [
      "Found 9 unique tables in section Item 7 (removed 0 duplicates, converted 9 footnotes to text)\n",
      "Found 0 unique tables in section Item 7A (removed 0 duplicates, converted 0 footnotes to text)\n",
      "Found 0 unique tables in section Item 8 (removed 0 duplicates, converted 0 footnotes to text)\n",
      "Found 0 unique tables in section Item 1 (removed 0 duplicates, converted 0 footnotes to text)\n",
      "Found 1 unique tables in section Item 1A (removed 1 duplicates, converted 0 footnotes to text)\n",
      "Found 2 unique tables in section Item 5 (removed 2 duplicates, converted 0 footnotes to text)\n"
     ]
    },
    {
     "name": "stderr",
     "output_type": "stream",
     "text": [
      "Processing reports:  52%|█████▏    | 26/50 [02:55<01:22,  3.43s/it]"
     ]
    },
    {
     "name": "stdout",
     "output_type": "stream",
     "text": [
      "Found 10 unique tables in section Item 7 (removed 10 duplicates, converted 0 footnotes to text)\n",
      "Found 0 unique tables in section Item 7A (removed 0 duplicates, converted 0 footnotes to text)\n",
      "Found 0 unique tables in section Item 8 (removed 0 duplicates, converted 0 footnotes to text)\n",
      "Found 0 unique tables in section Item 1 (removed 0 duplicates, converted 0 footnotes to text)\n",
      "Found 1 unique tables in section Item 1A (removed 1 duplicates, converted 0 footnotes to text)\n",
      "Found 1 unique tables in section Item 5 (removed 1 duplicates, converted 0 footnotes to text)\n"
     ]
    },
    {
     "name": "stderr",
     "output_type": "stream",
     "text": [
      "Processing reports:  54%|█████▍    | 27/50 [03:00<01:26,  3.74s/it]"
     ]
    },
    {
     "name": "stdout",
     "output_type": "stream",
     "text": [
      "Found 6 unique tables in section Item 7 (removed 6 duplicates, converted 0 footnotes to text)\n",
      "Found 0 unique tables in section Item 7A (removed 0 duplicates, converted 0 footnotes to text)\n",
      "Found 0 unique tables in section Item 8 (removed 0 duplicates, converted 0 footnotes to text)\n",
      "Found 0 unique tables in section Item 1 (removed 0 duplicates, converted 0 footnotes to text)\n",
      "Found 1 unique tables in section Item 1A (removed 1 duplicates, converted 0 footnotes to text)\n",
      "Found 2 unique tables in section Item 5 (removed 2 duplicates, converted 0 footnotes to text)\n"
     ]
    },
    {
     "name": "stderr",
     "output_type": "stream",
     "text": [
      "Processing reports:  56%|█████▌    | 28/50 [03:03<01:17,  3.54s/it]"
     ]
    },
    {
     "name": "stdout",
     "output_type": "stream",
     "text": [
      "Found 9 unique tables in section Item 7 (removed 9 duplicates, converted 0 footnotes to text)\n",
      "Found 0 unique tables in section Item 7A (removed 0 duplicates, converted 0 footnotes to text)\n",
      "Found 0 unique tables in section Item 8 (removed 0 duplicates, converted 0 footnotes to text)\n",
      "Processed 6 footnote tables in Item 1\n",
      "Found 1 unique tables in section Item 1 (removed -5 duplicates, converted 6 footnotes to text)\n",
      "Processed 55 footnote tables in Item 1A\n",
      "Found 1 unique tables in section Item 1A (removed -54 duplicates, converted 55 footnotes to text)\n",
      "Found 2 unique tables in section Item 5 (removed 2 duplicates, converted 0 footnotes to text)\n",
      "Processed 4 footnote tables in Item 7\n"
     ]
    },
    {
     "name": "stderr",
     "output_type": "stream",
     "text": [
      "Processing reports:  58%|█████▊    | 29/50 [03:06<01:11,  3.39s/it]"
     ]
    },
    {
     "name": "stdout",
     "output_type": "stream",
     "text": [
      "Found 7 unique tables in section Item 7 (removed 3 duplicates, converted 4 footnotes to text)\n",
      "Found 0 unique tables in section Item 7A (removed 0 duplicates, converted 0 footnotes to text)\n",
      "Found 0 unique tables in section Item 8 (removed 0 duplicates, converted 0 footnotes to text)\n",
      "Found 0 unique tables in section Item 1 (removed 0 duplicates, converted 0 footnotes to text)\n",
      "Found 1 unique tables in section Item 1A (removed 1 duplicates, converted 0 footnotes to text)\n",
      "Found 2 unique tables in section Item 5 (removed 2 duplicates, converted 0 footnotes to text)\n"
     ]
    },
    {
     "name": "stderr",
     "output_type": "stream",
     "text": [
      "Processing reports:  60%|██████    | 30/50 [03:08<01:03,  3.17s/it]"
     ]
    },
    {
     "name": "stdout",
     "output_type": "stream",
     "text": [
      "Found 8 unique tables in section Item 7 (removed 8 duplicates, converted 0 footnotes to text)\n",
      "Found 0 unique tables in section Item 7A (removed 0 duplicates, converted 0 footnotes to text)\n",
      "Found 0 unique tables in section Item 8 (removed 0 duplicates, converted 0 footnotes to text)\n",
      "Found 1 unique tables in section Item 1 (removed 0 duplicates, converted 0 footnotes to text)\n",
      "Found 1 unique tables in section Item 1A (removed 0 duplicates, converted 0 footnotes to text)\n",
      "Found 7 unique tables in section Item 5 (removed 0 duplicates, converted 0 footnotes to text)\n",
      "Found 22 unique tables in section Item 7 (removed 0 duplicates, converted 0 footnotes to text)\n",
      "Found 1 unique tables in section Item 7A (removed 0 duplicates, converted 0 footnotes to text)\n",
      "Found 50 unique tables in section Item 8 (removed 0 duplicates, converted 0 footnotes to text)\n"
     ]
    },
    {
     "name": "stderr",
     "output_type": "stream",
     "text": [
      "Processing reports:  62%|██████▏   | 31/50 [03:14<01:15,  3.96s/it]"
     ]
    },
    {
     "name": "stdout",
     "output_type": "stream",
     "text": [
      "Removed 4 page footers and copyright statements\n",
      "Found 0 unique tables in section Item 1 (removed 0 duplicates, converted 0 footnotes to text)\n",
      "Removed 10 page footers and copyright statements\n",
      "Found 0 unique tables in section Item 1A (removed 0 duplicates, converted 0 footnotes to text)\n",
      "Removed 3 page footers and copyright statements\n",
      "Found 2 unique tables in section Item 5 (removed 2 duplicates, converted 0 footnotes to text)\n",
      "Removed 8 page footers and copyright statements\n",
      "Found 9 unique tables in section Item 7 (removed 9 duplicates, converted 0 footnotes to text)\n",
      "Removed 2 page footers and copyright statements\n",
      "Found 0 unique tables in section Item 7A (removed 0 duplicates, converted 0 footnotes to text)\n",
      "Removed 32 page footers and copyright statements\n",
      "Processed 2 footnote tables in Item 8\n"
     ]
    },
    {
     "name": "stderr",
     "output_type": "stream",
     "text": [
      "Processing reports:  64%|██████▍   | 32/50 [03:19<01:15,  4.19s/it]"
     ]
    },
    {
     "name": "stdout",
     "output_type": "stream",
     "text": [
      "Found 43 unique tables in section Item 8 (removed 41 duplicates, converted 2 footnotes to text)\n",
      "Removed 7 page footers and copyright statements\n",
      "Found 1 unique tables in section Item 1 (removed 0 duplicates, converted 0 footnotes to text)\n",
      "Removed 8 page footers and copyright statements\n",
      "Found 1 unique tables in section Item 1A (removed 0 duplicates, converted 0 footnotes to text)\n",
      "Removed 5 page footers and copyright statements\n",
      "Processed 4 footnote tables in Item 5\n",
      "Found 4 unique tables in section Item 5 (removed -1 duplicates, converted 4 footnotes to text)\n",
      "Removed 14 page footers and copyright statements\n",
      "Processed 4 footnote tables in Item 7\n",
      "Found 19 unique tables in section Item 7 (removed 14 duplicates, converted 4 footnotes to text)\n",
      "Removed 2 page footers and copyright statements\n",
      "Found 1 unique tables in section Item 7A (removed 0 duplicates, converted 0 footnotes to text)\n",
      "Removed 34 page footers and copyright statements\n",
      "Processed 10 footnote tables in Item 8\n"
     ]
    },
    {
     "name": "stderr",
     "output_type": "stream",
     "text": [
      "Processing reports:  66%|██████▌   | 33/50 [03:26<01:28,  5.19s/it]"
     ]
    },
    {
     "name": "stdout",
     "output_type": "stream",
     "text": [
      "Found 45 unique tables in section Item 8 (removed 36 duplicates, converted 10 footnotes to text)\n",
      "Removed 7 page footers and copyright statements\n",
      "Found 1 unique tables in section Item 1 (removed 0 duplicates, converted 0 footnotes to text)\n",
      "Removed 9 page footers and copyright statements\n",
      "Found 1 unique tables in section Item 1A (removed 0 duplicates, converted 0 footnotes to text)\n",
      "Removed 5 page footers and copyright statements\n",
      "Processed 4 footnote tables in Item 5\n",
      "Found 4 unique tables in section Item 5 (removed -1 duplicates, converted 4 footnotes to text)\n",
      "Removed 14 page footers and copyright statements\n",
      "Processed 3 footnote tables in Item 7\n",
      "Found 19 unique tables in section Item 7 (removed 15 duplicates, converted 3 footnotes to text)\n",
      "Removed 2 page footers and copyright statements\n",
      "Found 1 unique tables in section Item 7A (removed 0 duplicates, converted 0 footnotes to text)\n",
      "Removed 34 page footers and copyright statements\n",
      "Processed 9 footnote tables in Item 8\n"
     ]
    },
    {
     "name": "stderr",
     "output_type": "stream",
     "text": [
      "Processing reports:  68%|██████▊   | 34/50 [03:36<01:42,  6.39s/it]"
     ]
    },
    {
     "name": "stdout",
     "output_type": "stream",
     "text": [
      "Found 43 unique tables in section Item 8 (removed 35 duplicates, converted 9 footnotes to text)\n",
      "Removed 4 page footers and copyright statements\n",
      "Found 0 unique tables in section Item 1 (removed 0 duplicates, converted 0 footnotes to text)\n",
      "Removed 11 page footers and copyright statements\n",
      "Found 0 unique tables in section Item 1A (removed 0 duplicates, converted 0 footnotes to text)\n",
      "Removed 1 page footers and copyright statements\n",
      "Found 2 unique tables in section Item 5 (removed 2 duplicates, converted 0 footnotes to text)\n",
      "Removed 6 page footers and copyright statements\n",
      "Found 6 unique tables in section Item 7 (removed 6 duplicates, converted 0 footnotes to text)\n",
      "Removed 1 page footers and copyright statements\n",
      "Found 1 unique tables in section Item 7A (removed 1 duplicates, converted 0 footnotes to text)\n",
      "Removed 25 page footers and copyright statements\n",
      "Processed 2 footnote tables in Item 8\n"
     ]
    },
    {
     "name": "stderr",
     "output_type": "stream",
     "text": [
      "Processing reports:  70%|███████   | 35/50 [03:40<01:27,  5.83s/it]"
     ]
    },
    {
     "name": "stdout",
     "output_type": "stream",
     "text": [
      "Found 37 unique tables in section Item 8 (removed 35 duplicates, converted 2 footnotes to text)\n",
      "Removed 4 page footers and copyright statements\n",
      "Found 0 unique tables in section Item 1 (removed 0 duplicates, converted 0 footnotes to text)\n",
      "Removed 12 page footers and copyright statements\n",
      "Found 0 unique tables in section Item 1A (removed 0 duplicates, converted 0 footnotes to text)\n",
      "Removed 2 page footers and copyright statements\n",
      "Found 2 unique tables in section Item 5 (removed 2 duplicates, converted 0 footnotes to text)\n",
      "Removed 6 page footers and copyright statements\n",
      "Found 7 unique tables in section Item 7 (removed 7 duplicates, converted 0 footnotes to text)\n",
      "Removed 2 page footers and copyright statements\n",
      "Found 0 unique tables in section Item 7A (removed 0 duplicates, converted 0 footnotes to text)\n",
      "Removed 25 page footers and copyright statements\n",
      "Processed 2 footnote tables in Item 8\n"
     ]
    },
    {
     "name": "stderr",
     "output_type": "stream",
     "text": [
      "Processing reports:  72%|███████▏  | 36/50 [03:44<01:13,  5.27s/it]"
     ]
    },
    {
     "name": "stdout",
     "output_type": "stream",
     "text": [
      "Found 35 unique tables in section Item 8 (removed 33 duplicates, converted 2 footnotes to text)\n",
      "Removed 5 page footers and copyright statements\n",
      "Found 0 unique tables in section Item 1 (removed 0 duplicates, converted 0 footnotes to text)\n",
      "Removed 11 page footers and copyright statements\n",
      "Found 0 unique tables in section Item 1A (removed 0 duplicates, converted 0 footnotes to text)\n",
      "Removed 2 page footers and copyright statements\n",
      "Found 2 unique tables in section Item 5 (removed 2 duplicates, converted 0 footnotes to text)\n",
      "Removed 6 page footers and copyright statements\n",
      "Found 7 unique tables in section Item 7 (removed 7 duplicates, converted 0 footnotes to text)\n",
      "Removed 2 page footers and copyright statements\n",
      "Found 0 unique tables in section Item 7A (removed 0 duplicates, converted 0 footnotes to text)\n",
      "Removed 27 page footers and copyright statements\n",
      "Processed 2 footnote tables in Item 8\n"
     ]
    },
    {
     "name": "stderr",
     "output_type": "stream",
     "text": [
      "Processing reports:  74%|███████▍  | 37/50 [03:48<01:03,  4.90s/it]"
     ]
    },
    {
     "name": "stdout",
     "output_type": "stream",
     "text": [
      "Found 35 unique tables in section Item 8 (removed 33 duplicates, converted 2 footnotes to text)\n",
      "Removed 4 page footers and copyright statements\n",
      "Found 0 unique tables in section Item 1 (removed 0 duplicates, converted 0 footnotes to text)\n",
      "Removed 12 page footers and copyright statements\n",
      "Found 0 unique tables in section Item 1A (removed 0 duplicates, converted 0 footnotes to text)\n",
      "Removed 1 page footers and copyright statements\n",
      "Found 2 unique tables in section Item 5 (removed 2 duplicates, converted 0 footnotes to text)\n",
      "Removed 6 page footers and copyright statements\n",
      "Found 6 unique tables in section Item 7 (removed 6 duplicates, converted 0 footnotes to text)\n",
      "Removed 1 page footers and copyright statements\n",
      "Found 1 unique tables in section Item 7A (removed 1 duplicates, converted 0 footnotes to text)\n",
      "Removed 23 page footers and copyright statements\n",
      "Processed 2 footnote tables in Item 8\n"
     ]
    },
    {
     "name": "stderr",
     "output_type": "stream",
     "text": [
      "Processing reports:  76%|███████▌  | 38/50 [03:53<00:57,  4.77s/it]"
     ]
    },
    {
     "name": "stdout",
     "output_type": "stream",
     "text": [
      "Found 34 unique tables in section Item 8 (removed 32 duplicates, converted 2 footnotes to text)\n",
      "Removed 7 page footers and copyright statements\n",
      "Found 1 unique tables in section Item 1 (removed 0 duplicates, converted 0 footnotes to text)\n",
      "Removed 9 page footers and copyright statements\n",
      "Found 1 unique tables in section Item 1A (removed 0 duplicates, converted 0 footnotes to text)\n",
      "Removed 3 page footers and copyright statements\n",
      "Processed 2 footnote tables in Item 5\n",
      "Found 3 unique tables in section Item 5 (removed 0 duplicates, converted 2 footnotes to text)\n",
      "Removed 13 page footers and copyright statements\n",
      "Processed 6 footnote tables in Item 7\n",
      "Found 17 unique tables in section Item 7 (removed 10 duplicates, converted 6 footnotes to text)\n",
      "Removed 2 page footers and copyright statements\n",
      "Found 1 unique tables in section Item 7A (removed 0 duplicates, converted 0 footnotes to text)\n",
      "Removed 30 page footers and copyright statements\n",
      "Processed 11 footnote tables in Item 8\n"
     ]
    },
    {
     "name": "stderr",
     "output_type": "stream",
     "text": [
      "Processing reports:  78%|███████▊  | 39/50 [03:59<00:58,  5.30s/it]"
     ]
    },
    {
     "name": "stdout",
     "output_type": "stream",
     "text": [
      "Found 40 unique tables in section Item 8 (removed 28 duplicates, converted 11 footnotes to text)\n",
      "Removed 4 page footers and copyright statements\n",
      "Found 1 unique tables in section Item 1 (removed 0 duplicates, converted 0 footnotes to text)\n",
      "Removed 9 page footers and copyright statements\n",
      "Found 1 unique tables in section Item 1A (removed 0 duplicates, converted 0 footnotes to text)\n",
      "Removed 3 page footers and copyright statements\n",
      "Processed 3 footnote tables in Item 5\n",
      "Found 3 unique tables in section Item 5 (removed -1 duplicates, converted 3 footnotes to text)\n",
      "Removed 8 page footers and copyright statements\n",
      "Processed 5 footnote tables in Item 7\n",
      "Found 9 unique tables in section Item 7 (removed 3 duplicates, converted 5 footnotes to text)\n",
      "Removed 2 page footers and copyright statements\n",
      "Found 1 unique tables in section Item 7A (removed 0 duplicates, converted 0 footnotes to text)\n",
      "Removed 31 page footers and copyright statements\n",
      "Processed 12 footnote tables in Item 8\n"
     ]
    },
    {
     "name": "stderr",
     "output_type": "stream",
     "text": [
      "Processing reports:  80%|████████  | 40/50 [04:08<01:04,  6.45s/it]"
     ]
    },
    {
     "name": "stdout",
     "output_type": "stream",
     "text": [
      "Found 44 unique tables in section Item 8 (removed 31 duplicates, converted 12 footnotes to text)\n",
      "Found 38 unique tables in section Item 1 (removed 38 duplicates, converted 0 footnotes to text)\n",
      "Found 16 unique tables in section Item 1A (removed 16 duplicates, converted 0 footnotes to text)\n",
      "Found 2 unique tables in section Item 5 (removed 2 duplicates, converted 0 footnotes to text)\n",
      "Processed 12 footnote tables in Item 7\n",
      "Found 54 unique tables in section Item 7 (removed 44 duplicates, converted 12 footnotes to text)\n",
      "Found 1 unique tables in section Item 7A (removed 1 duplicates, converted 0 footnotes to text)\n",
      "Processed 44 footnote tables in Item 8\n",
      "Found 76 unique tables in section Item 8 (removed 32 duplicates, converted 44 footnotes to text)\n"
     ]
    },
    {
     "name": "stderr",
     "output_type": "stream",
     "text": [
      "Processing reports:  82%|████████▏ | 41/50 [04:24<01:21,  9.08s/it]"
     ]
    },
    {
     "name": "stdout",
     "output_type": "stream",
     "text": [
      "Found 1 unique tables in section Item 1 (removed 0 duplicates, converted 0 footnotes to text)\n",
      "Found 0 unique tables in section Item 1A (removed 0 duplicates, converted 0 footnotes to text)\n",
      "Found 2 unique tables in section Item 5 (removed 0 duplicates, converted 0 footnotes to text)\n",
      "Found 13 unique tables in section Item 7 (removed 0 duplicates, converted 0 footnotes to text)\n",
      "Found 1 unique tables in section Item 7A (removed 0 duplicates, converted 0 footnotes to text)\n",
      "Found 57 unique tables in section Item 8 (removed 51 duplicates, converted 0 footnotes to text)\n"
     ]
    },
    {
     "name": "stderr",
     "output_type": "stream",
     "text": [
      "Processing reports:  84%|████████▍ | 42/50 [04:38<01:24, 10.56s/it]"
     ]
    },
    {
     "name": "stdout",
     "output_type": "stream",
     "text": [
      "Found 1 unique tables in section Item 1 (removed 0 duplicates, converted 0 footnotes to text)\n",
      "Found 0 unique tables in section Item 1A (removed 0 duplicates, converted 0 footnotes to text)\n",
      "Found 2 unique tables in section Item 5 (removed 0 duplicates, converted 0 footnotes to text)\n",
      "Found 13 unique tables in section Item 7 (removed 0 duplicates, converted 0 footnotes to text)\n",
      "Found 1 unique tables in section Item 7A (removed 0 duplicates, converted 0 footnotes to text)\n",
      "Found 58 unique tables in section Item 8 (removed 53 duplicates, converted 0 footnotes to text)\n"
     ]
    },
    {
     "name": "stderr",
     "output_type": "stream",
     "text": [
      "Processing reports:  86%|████████▌ | 43/50 [04:53<01:23, 12.00s/it]"
     ]
    },
    {
     "name": "stdout",
     "output_type": "stream",
     "text": [
      "Found 38 unique tables in section Item 1 (removed 38 duplicates, converted 0 footnotes to text)\n",
      "Found 18 unique tables in section Item 1A (removed 18 duplicates, converted 0 footnotes to text)\n",
      "Found 2 unique tables in section Item 5 (removed 2 duplicates, converted 0 footnotes to text)\n",
      "Processed 12 footnote tables in Item 7\n",
      "Found 65 unique tables in section Item 7 (removed 53 duplicates, converted 12 footnotes to text)\n",
      "Found 1 unique tables in section Item 7A (removed 1 duplicates, converted 0 footnotes to text)\n",
      "Processed 22 footnote tables in Item 8\n",
      "Found 77 unique tables in section Item 8 (removed 57 duplicates, converted 22 footnotes to text)\n"
     ]
    },
    {
     "name": "stderr",
     "output_type": "stream",
     "text": [
      "Processing reports:  88%|████████▊ | 44/50 [05:10<01:20, 13.46s/it]"
     ]
    },
    {
     "name": "stdout",
     "output_type": "stream",
     "text": [
      "Found 39 unique tables in section Item 1 (removed 39 duplicates, converted 0 footnotes to text)\n",
      "Found 18 unique tables in section Item 1A (removed 18 duplicates, converted 0 footnotes to text)\n",
      "Found 2 unique tables in section Item 5 (removed 2 duplicates, converted 0 footnotes to text)\n",
      "Processed 12 footnote tables in Item 7\n",
      "Found 63 unique tables in section Item 7 (removed 53 duplicates, converted 12 footnotes to text)\n",
      "Found 1 unique tables in section Item 7A (removed 1 duplicates, converted 0 footnotes to text)\n",
      "Processed 24 footnote tables in Item 8\n",
      "Found 92 unique tables in section Item 8 (removed 70 duplicates, converted 24 footnotes to text)\n"
     ]
    },
    {
     "name": "stderr",
     "output_type": "stream",
     "text": [
      "Processing reports:  90%|█████████ | 45/50 [05:27<01:12, 14.58s/it]"
     ]
    },
    {
     "name": "stdout",
     "output_type": "stream",
     "text": [
      "Found 53 unique tables in section Item 1 (removed 53 duplicates, converted 0 footnotes to text)\n",
      "Found 24 unique tables in section Item 1A (removed 24 duplicates, converted 0 footnotes to text)\n",
      "Found 2 unique tables in section Item 5 (removed 2 duplicates, converted 0 footnotes to text)\n",
      "Processed 12 footnote tables in Item 7\n",
      "Found 44 unique tables in section Item 7 (removed 34 duplicates, converted 12 footnotes to text)\n",
      "Found 1 unique tables in section Item 7A (removed 1 duplicates, converted 0 footnotes to text)\n",
      "Processed 14 footnote tables in Item 8\n",
      "Found 86 unique tables in section Item 8 (removed 72 duplicates, converted 14 footnotes to text)\n"
     ]
    },
    {
     "name": "stderr",
     "output_type": "stream",
     "text": [
      "Processing reports:  92%|█████████▏| 46/50 [05:42<00:58, 14.75s/it]"
     ]
    },
    {
     "name": "stdout",
     "output_type": "stream",
     "text": [
      "Found 35 unique tables in section Item 1 (removed 0 duplicates, converted 0 footnotes to text)\n",
      "Found 16 unique tables in section Item 1A (removed 0 duplicates, converted 0 footnotes to text)\n",
      "Found 2 unique tables in section Item 5 (removed 0 duplicates, converted 0 footnotes to text)\n",
      "Found 1 unique tables in section Item 7A (removed 0 duplicates, converted 0 footnotes to text)\n",
      "Processed 16 footnote tables in Item 8\n",
      "Found 69 unique tables in section Item 8 (removed -16 duplicates, converted 16 footnotes to text)\n"
     ]
    },
    {
     "name": "stderr",
     "output_type": "stream",
     "text": [
      "Processing reports:  94%|█████████▍| 47/50 [05:50<00:38, 12.78s/it]"
     ]
    },
    {
     "name": "stdout",
     "output_type": "stream",
     "text": [
      "Found 64 unique tables in section Item 1 (removed 64 duplicates, converted 0 footnotes to text)\n",
      "Found 25 unique tables in section Item 1A (removed 25 duplicates, converted 0 footnotes to text)\n",
      "Found 2 unique tables in section Item 5 (removed 2 duplicates, converted 0 footnotes to text)\n",
      "Processed 8 footnote tables in Item 7\n",
      "Found 45 unique tables in section Item 7 (removed 39 duplicates, converted 8 footnotes to text)\n",
      "Found 1 unique tables in section Item 7A (removed 1 duplicates, converted 0 footnotes to text)\n",
      "Processed 22 footnote tables in Item 8\n",
      "Found 86 unique tables in section Item 8 (removed 64 duplicates, converted 22 footnotes to text)\n"
     ]
    },
    {
     "name": "stderr",
     "output_type": "stream",
     "text": [
      "Processing reports:  96%|█████████▌| 48/50 [06:05<00:26, 13.49s/it]"
     ]
    },
    {
     "name": "stdout",
     "output_type": "stream",
     "text": [
      "Found 26 unique tables in section Item 1 (removed 0 duplicates, converted 0 footnotes to text)\n",
      "Found 17 unique tables in section Item 1A (removed 0 duplicates, converted 0 footnotes to text)\n",
      "Found 2 unique tables in section Item 5 (removed 0 duplicates, converted 0 footnotes to text)\n",
      "Processed 6 footnote tables in Item 7\n",
      "Found 36 unique tables in section Item 7 (removed -6 duplicates, converted 6 footnotes to text)\n",
      "Found 1 unique tables in section Item 7A (removed 0 duplicates, converted 0 footnotes to text)\n",
      "Processed 17 footnote tables in Item 8\n",
      "Found 78 unique tables in section Item 8 (removed -17 duplicates, converted 17 footnotes to text)\n"
     ]
    },
    {
     "name": "stderr",
     "output_type": "stream",
     "text": [
      "Processing reports:  98%|█████████▊| 49/50 [06:16<00:12, 12.68s/it]"
     ]
    },
    {
     "name": "stdout",
     "output_type": "stream",
     "text": [
      "Found 39 unique tables in section Item 1 (removed 39 duplicates, converted 0 footnotes to text)\n",
      "Found 24 unique tables in section Item 1A (removed 24 duplicates, converted 0 footnotes to text)\n",
      "Found 2 unique tables in section Item 5 (removed 2 duplicates, converted 0 footnotes to text)\n",
      "Processed 12 footnote tables in Item 7\n",
      "Found 64 unique tables in section Item 7 (removed 54 duplicates, converted 12 footnotes to text)\n",
      "Found 1 unique tables in section Item 7A (removed 1 duplicates, converted 0 footnotes to text)\n",
      "Processed 18 footnote tables in Item 8\n",
      "Found 85 unique tables in section Item 8 (removed 67 duplicates, converted 18 footnotes to text)\n"
     ]
    },
    {
     "name": "stderr",
     "output_type": "stream",
     "text": [
      "Processing reports: 100%|██████████| 50/50 [06:32<00:00,  7.85s/it]"
     ]
    },
    {
     "name": "stdout",
     "output_type": "stream",
     "text": [
      "Found 50 valid reports with parseable sections\n",
      "\n",
      "=== PROCESSING SUMMARY ===\n",
      "Total reports processed: 50\n",
      "Reports with at least one valid section: 50 (100.0%)\n",
      "Reports with no valid sections: 0 (0.0%)\n",
      "\n",
      "=== SECTION SUCCESS RATES ===\n",
      "Item 1: 50/50 successful (100.0%)\n",
      "Item 1A: 50/50 successful (100.0%)\n",
      "Item 5: 50/50 successful (100.0%)\n",
      "Item 7: 49/50 successful (98.0%)\n",
      "Item 7A: 49/50 successful (98.0%)\n",
      "Item 8: 49/50 successful (98.0%)\n",
      "\n",
      "=== SECTION STATISTICS ===\n",
      "\n",
      "Item 1 statistics (50 sections):\n",
      "  Word count: avg=2666.7, median=2141, min=6, max=5931\n",
      "  Token count: avg=3780.4, median=3599, min=38, max=7963\n",
      "  Table count: avg=7.8, median=2, min=0, max=64\n",
      "\n",
      "Item 1A statistics (50 sections):\n",
      "  Word count: avg=7449.8, median=7864, min=8, max=19226\n",
      "  Token count: avg=9021.2, median=9283, min=41, max=23522\n",
      "  Table count: avg=3.9, median=1, min=0, max=25\n",
      "\n",
      "Item 5 statistics (50 sections):\n",
      "  Word count: avg=462.5, median=525, min=9, max=1403\n",
      "  Token count: avg=1782.5, median=1956, min=63, max=4723\n",
      "  Table count: avg=2.4, median=2, min=1, max=7\n",
      "\n",
      "Item 7 statistics (49 sections):\n",
      "  Word count: avg=5922.9, median=7309, min=360, max=11636\n",
      "  Token count: avg=14031.8, median=14233, min=3287, max=31973\n",
      "  Table count: avg=18.0, median=11, min=6, max=65\n",
      "\n",
      "Item 7A statistics (49 sections):\n",
      "  Word count: avg=1181.7, median=1007, min=10, max=22133\n",
      "  Token count: avg=3068.9, median=1221, min=41, max=68223\n",
      "  Table count: avg=2.6, median=1, min=0, max=63\n",
      "\n",
      "Item 8 statistics (49 sections):\n",
      "  Word count: avg=12655.0, median=14665, min=45, max=28756\n",
      "  Token count: avg=64192.4, median=70556, min=61, max=118347\n",
      "  Table count: avg=44.3, median=44, min=0, max=92\n",
      "\n",
      "=== TOP FAILURE REASONS BY SECTION ===\n",
      "\n",
      "Item 7 failures (1 total):\n",
      "  - empty_or_short_content: 1 occurrences (100.0%)\n",
      "\n",
      "Item 7A failures (1 total):\n",
      "  - empty_or_short_content: 1 occurrences (100.0%)\n",
      "\n",
      "Item 8 failures (1 total):\n",
      "  - empty_or_short_content: 1 occurrences (100.0%)\n",
      "\n",
      "Final summary saved to ./data/processed/sec_report_processing_final_summary.json\n",
      "All processing results saved to ./data/processed\n"
     ]
    },
    {
     "name": "stderr",
     "output_type": "stream",
     "text": [
      "\n"
     ]
    }
   ],
   "source": [
    "#| output: false\n",
    "output_dir = process_all_sec_reports(base_dir=reports_dir, sections_to_extract=sections_to_extract, output_dir=PROCESSED_DATA_DIR)"
   ]
  },
  {
   "cell_type": "markdown",
   "metadata": {},
   "source": [
    "The processed reports are too long to display fully here, but you can find an example report under the `examples` folder in the repository (file named `report_GOOG_2016.json`).\n",
    "\n",
    "Let's check the processing summary that was output along with the reports:"
   ]
  },
  {
   "cell_type": "code",
   "execution_count": 10,
   "metadata": {},
   "outputs": [
    {
     "name": "stdout",
     "output_type": "stream",
     "text": [
      "SEC Report Processing Summary:\n",
      "==============================\n",
      "{'timestamp': '2025-03-12 13:59:24',\n",
      " 'summary': {'total_reports': 50,\n",
      "             'successful_reports': 50,\n",
      "             'failed_reports': 0,\n",
      "             'section_failures': {'Item 1': {'count': 0, 'errors': {}},\n",
      "                                  'Item 1A': {'count': 0, 'errors': {}},\n",
      "                                  'Item 5': {'count': 0, 'errors': {}},\n",
      "                                  'Item 7': {'count': 1, 'errors': {'empty_or_short_content': 1}},\n",
      "                                  'Item 7A': {'count': 1, 'errors': {'empty_or_short_content': 1}},\n",
      "                                  'Item 8': {'count': 1, 'errors': {'empty_or_short_content': 1}}},\n",
      "             'section_success_rates': {'Item 1': {'success_count': 50,\n",
      "                                                  'failure_count': 0,\n",
      "                                                  'success_rate': 100.0},\n",
      "                                       'Item 1A': {'success_count': 50,\n",
      "                                                   'failure_count': 0,\n",
      "                                                   'success_rate': 100.0},\n",
      "                                       'Item 5': {'success_count': 50,\n",
      "                                                  'failure_count': 0,\n",
      "                                                  'success_rate': 100.0},\n",
      "                                       'Item 7': {'success_count': 49,\n",
      "                                                  'failure_count': 1,\n",
      "                                                  'success_rate': 98.0},\n",
      "                                       'Item 7A': {'success_count': 49,\n",
      "                                                   'failure_count': 1,\n",
      "                                                   'success_rate': 98.0},\n",
      "                                       'Item 8': {'success_count': 49,\n",
      "                                                  'failure_count': 1,\n",
      "                                                  'success_rate': 98.0}}},\n",
      " 'section_statistics': {'Item 1': {'word_count': {'min': 6,\n",
      "                                                  'max': 5931,\n",
      "                                                  'avg': 2666.66,\n",
      "                                                  'median': 2141,\n",
      "                                                  'total': 133333},\n",
      "                                   'token_count': {'min': 38,\n",
      "                                                   'max': 7963,\n",
      "                                                   'avg': 3780.44,\n",
      "                                                   'median': 3599,\n",
      "                                                   'total': 189022},\n",
      "                                   'table_count': {'min': 0,\n",
      "                                                   'max': 64,\n",
      "                                                   'avg': 7.82,\n",
      "                                                   'median': 2,\n",
      "                                                   'total': 391},\n",
      "                                   'count': 50},\n",
      "                        'Item 1A': {'word_count': {'min': 8,\n",
      "                                                   'max': 19226,\n",
      "                                                   'avg': 7449.84,\n",
      "                                                   'median': 7864,\n",
      "                                                   'total': 372492},\n",
      "                                    'token_count': {'min': 41,\n",
      "                                                    'max': 23522,\n",
      "                                                    'avg': 9021.24,\n",
      "                                                    'median': 9283,\n",
      "                                                    'total': 451062},\n",
      "                                    'table_count': {'min': 0,\n",
      "                                                    'max': 25,\n",
      "                                                    'avg': 3.92,\n",
      "                                                    'median': 1,\n",
      "                                                    'total': 196},\n",
      "                                    'count': 50},\n",
      "                        'Item 5': {'word_count': {'min': 9,\n",
      "                                                  'max': 1403,\n",
      "                                                  'avg': 462.5,\n",
      "                                                  'median': 525,\n",
      "                                                  'total': 23125},\n",
      "                                   'token_count': {'min': 63,\n",
      "                                                   'max': 4723,\n",
      "                                                   'avg': 1782.48,\n",
      "                                                   'median': 1956,\n",
      "                                                   'total': 89124},\n",
      "                                   'table_count': {'min': 1,\n",
      "                                                   'max': 7,\n",
      "                                                   'avg': 2.4,\n",
      "                                                   'median': 2,\n",
      "                                                   'total': 120},\n",
      "                                   'count': 50},\n",
      "                        'Item 7': {'word_count': {'min': 360,\n",
      "                                                  'max': 11636,\n",
      "                                                  'avg': 5922.918367346939,\n",
      "                                                  'median': 7309,\n",
      "                                                  'total': 290223},\n",
      "                                   'token_count': {'min': 3287,\n",
      "                                                   'max': 31973,\n",
      "                                                   'avg': 14031.836734693878,\n",
      "                                                   'median': 14233,\n",
      "                                                   'total': 687560},\n",
      "                                   'table_count': {'min': 6,\n",
      "                                                   'max': 65,\n",
      "                                                   'avg': 17.979591836734695,\n",
      "                                                   'median': 11,\n",
      "                                                   'total': 881},\n",
      "                                   'count': 49},\n",
      "                        'Item 7A': {'word_count': {'min': 10,\n",
      "                                                   'max': 22133,\n",
      "                                                   'avg': 1181.6530612244899,\n",
      "                                                   'median': 1007,\n",
      "                                                   'total': 57901},\n",
      "                                    'token_count': {'min': 41,\n",
      "                                                    'max': 68223,\n",
      "                                                    'avg': 3068.938775510204,\n",
      "                                                    'median': 1221,\n",
      "                                                    'total': 150378},\n",
      "                                    'table_count': {'min': 0,\n",
      "                                                    'max': 63,\n",
      "                                                    'avg': 2.5714285714285716,\n",
      "                                                    'median': 1,\n",
      "                                                    'total': 126},\n",
      "                                    'count': 49},\n",
      "                        'Item 8': {'word_count': {'min': 45,\n",
      "                                                  'max': 28756,\n",
      "                                                  'avg': 12655.040816326531,\n",
      "                                                  'median': 14665,\n",
      "                                                  'total': 620097},\n",
      "                                   'token_count': {'min': 61,\n",
      "                                                   'max': 118347,\n",
      "                                                   'avg': 64192.38775510204,\n",
      "                                                   'median': 70556,\n",
      "                                                   'total': 3145427},\n",
      "                                   'table_count': {'min': 0,\n",
      "                                                   'max': 92,\n",
      "                                                   'avg': 44.30612244897959,\n",
      "                                                   'median': 44,\n",
      "                                                   'total': 2171},\n",
      "                                   'count': 49}}}\n"
     ]
    }
   ],
   "source": [
    "#| echo: false\n",
    "import json\n",
    "from pprint import pprint\n",
    "\n",
    "# Load the summary JSON file\n",
    "with open('./data/processed/sec_report_processing_final_summary.json', 'r') as f:\n",
    "    summary = json.load(f)\n",
    "\n",
    "# Print the summary in a nicely formatted way\n",
    "print(\"SEC Report Processing Summary:\")\n",
    "print(\"==============================\")\n",
    "pprint(summary, width=100, sort_dicts=False)"
   ]
  },
  {
   "cell_type": "markdown",
   "metadata": {},
   "source": [
    "There are a few things that we should take notice of here, particularly for Item 8. We can see that this particular section contains a lot of tables (44 on average) and also uses a lot of tokens (64192 on average). This will make it difficult to work with this section (if we include the tabular data) and we may struggle to pass Item 8 from multiple reports to an LLM to generate synthetic questions for us."
   ]
  },
  {
   "cell_type": "markdown",
   "metadata": {},
   "source": [
    "# Summary"
   ]
  },
  {
   "cell_type": "markdown",
   "metadata": {},
   "source": [
    "In this notebook, we've established the foundation for our RAG benchmarking system by collecting and processing SEC 10-K annual reports. Here's what we've accomplished:\n",
    "\n",
    "- **Data Collection**: We've implemented a systematic approach to download 10-K reports from the SEC EDGAR database, focusing on major technology companies across multiple years to ensure a diverse and representative dataset.\n",
    "- **Document Parsing**: We've developed parsing techniques to handle the HTML/XML structure of SEC filings, extracting the textual content while preserving important structural elements.\n",
    "- **Metadata Enrichment**: We've added valuable metadata to each document, including company identifiers, filing dates, and section information, which will be crucial for our retrieval system.\n",
    "- **Storage Optimization**: We've organized the processed documents in a structured JSON format that preserves the hierarchical nature of the reports while making them easily accessible for our RAG pipeline.\n",
    "\n",
    "This processed dataset provides us with a clean, structured collection of financial documents that will serve as the knowledge base for our RAG system. The standardized format will allow for consistent chunking and embedding in subsequent steps.\n",
    "\n",
    "In the next notebook, we'll build upon this foundation to develop a comprehensive benchmarking dataset. We'll create challenging questions that require synthesizing information from multiple sections or reports, establish ground truth answers with clear source attributions, and design evaluation metrics tailored to the financial domain. This benchmarking dataset will be instrumental in rigorously evaluating different RAG pipeline configurations to identify optimal approaches for financial document analysis."
   ]
  },
  {
   "cell_type": "markdown",
   "metadata": {},
   "source": []
  }
 ],
 "metadata": {
  "kernelspec": {
   "display_name": ".venv",
   "language": "python",
   "name": "python3"
  },
  "language_info": {
   "codemirror_mode": {
    "name": "ipython",
    "version": 3
   },
   "file_extension": ".py",
   "mimetype": "text/x-python",
   "name": "python",
   "nbconvert_exporter": "python",
   "pygments_lexer": "ipython3",
   "version": "3.10.12"
  }
 },
 "nbformat": 4,
 "nbformat_minor": 4
}
