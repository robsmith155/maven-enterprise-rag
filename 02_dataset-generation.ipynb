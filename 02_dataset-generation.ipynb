{
 "cells": [
  {
   "cell_type": "markdown",
   "metadata": {},
   "source": [
    "# Introduction\n",
    "\n",
    "In this section we'll explore the process of developing a benchmarking dataset for Retrieval-Augmented Generation (RAG) using the SEC 10-K filing reports that we processed in the first notebook. A benchmarking dataset is essential for evaluating the performance of models and ensuring they produce high-quality outputs. This notebook aims to guide you through the steps involved in creating such a dataset, including defining question types, categorizing questions, and utilizing the OpenAI API to generate synthetic questions and answers based on the provided financial documents. By the end of this tutorial, you will have a clear understanding of how to build a robust benchmarking dataset that can enhance the capabilities of your RAG models.\n",
    "\n",
    "**Important**: You must run the first notebook (`01_download_sec-10k_reports.ipynb`) before running this."
   ]
  },
  {
   "cell_type": "markdown",
   "metadata": {},
   "source": [
    "## Setup\n",
    "\n",
    "First we need to load the Python packages that we'll use in this notebook."
   ]
  },
  {
   "cell_type": "code",
   "execution_count": 2,
   "metadata": {},
   "outputs": [],
   "source": [
    "#|include: false\n",
    "%load_ext autoreload\n",
    "%autoreload 2"
   ]
  },
  {
   "cell_type": "code",
   "execution_count": 3,
   "metadata": {},
   "outputs": [],
   "source": [
    "import json\n",
    "from pprint import pprint"
   ]
  },
  {
   "cell_type": "markdown",
   "metadata": {},
   "source": [
    "Again, most of the custom code developed for this project has been refactored into the `src` folder in the project repository. Refer to this to view details of the code. The modules and functions required for this notebook are loaded below. "
   ]
  },
  {
   "cell_type": "code",
   "execution_count": 4,
   "metadata": {},
   "outputs": [],
   "source": [
    "from src.benchmark.dataclasses import QuestionCategory\n",
    "from src.benchmark.generate import generate_benchmark_question, generate_sec_benchmark_dataset, prepare_question_generation_input\n",
    "from src.benchmark.qc_dataset import review_questions\n",
    "from src.benchmark.utils import get_relevant_sections_for_category, determine_question_specification\n",
    "from src.utils import load_preprocessed_reports_metadata, extract_sections_from_reports"
   ]
  },
  {
   "cell_type": "markdown",
   "metadata": {},
   "source": [
    "Define some important constants"
   ]
  },
  {
   "cell_type": "code",
   "execution_count": 5,
   "metadata": {},
   "outputs": [],
   "source": [
    "PROCESSED_REPORTS_DIR = './data/processed/reports' # This is the location where you output the processed reports from notebook one\n",
    "OUTPUTS_DIR = './data/benchmark' # Directory where the benchmark dataset will be saved"
   ]
  },
  {
   "cell_type": "markdown",
   "metadata": {},
   "source": [
    "# Generating multi-document questions and answers\n",
    "In this section we'll review the process of generating benchmark questions and answers from the processed SEC 10-K filing reports. Rather than doing this manually, we will attempt to automate the process by sending selected information to an LLM to generate questions and answer pairs for us. This will allow us to largely automate the generation of a much larger benchmarking dataset later on (although the outputs from the LLM need to be carefully QC'ed).\n",
    "\n",
    "First let's obtain the metadata of the reports that were processed in the first notebook:\n"
   ]
  },
  {
   "cell_type": "code",
   "execution_count": 6,
   "metadata": {},
   "outputs": [],
   "source": [
    "processed_reports_metadata = load_preprocessed_reports_metadata(PROCESSED_REPORTS_DIR)"
   ]
  },
  {
   "cell_type": "code",
   "execution_count": 7,
   "metadata": {},
   "outputs": [
    {
     "data": {
      "text/plain": [
       "50"
      ]
     },
     "execution_count": 7,
     "metadata": {},
     "output_type": "execute_result"
    }
   ],
   "source": [
    "len(processed_reports_metadata)"
   ]
  },
  {
   "cell_type": "code",
   "execution_count": 8,
   "metadata": {},
   "outputs": [
    {
     "name": "stdout",
     "output_type": "stream",
     "text": [
      "CompanyReport(company_name='NVIDIA CORP',\n",
      "              ticker='NVDA',\n",
      "              year=2023,\n",
      "              raw_file_path='./data/raw/sec-edgar-filings/NVDA/10-K/0001045810-23-000017/full-submission.txt',\n",
      "              industry='SEMICONDUCTORS & RELATED DEVICES [3674]',\n",
      "              available_sections={'Item 1',\n",
      "                                  'Item 1A',\n",
      "                                  'Item 5',\n",
      "                                  'Item 7',\n",
      "                                  'Item 7A',\n",
      "                                  'Item 8'},\n",
      "              accession_number='0001045810-23-000017')\n"
     ]
    }
   ],
   "source": [
    "pprint(processed_reports_metadata[0])"
   ]
  },
  {
   "cell_type": "markdown",
   "metadata": {},
   "source": [
    "## Question specification"
   ]
  },
  {
   "cell_type": "markdown",
   "metadata": {},
   "source": [
    "Our benchmark dataset creation begins with a carefully designed question specification system that ensures meaningful, challenging questions requiring multi-reference synthesis. Rather than randomly selecting content or attempting to process entire reports, we:\n",
    "\n",
    "**Define Diverse Question Types**\n",
    "\n",
    "The following question types can be selected:\n",
    "\n",
    "* **Single-company, single-year**: Questions about one company in a specific year\n",
    "* **Single-company, multi-year**: Questions requiring temporal analysis across years\n",
    "* **Multi-company, single-year**: Questions comparing different companies in the same year\n",
    "* **Multi-company, multi-year**: Complex questions requiring cross-company temporal analysis\n",
    "\n",
    "**Categorize by Financial Domain Focus**\n",
    "\n",
    "Define the type of financial question to ask, so we can restrict the report sections to pass in the prompt. These include:\n",
    "\n",
    "* Financial metrics\n",
    "* Risk factors\n",
    "* Business overviews\n",
    "* Management discussions\n",
    "* Forward-looking statements\n",
    "* Segment analyses\n",
    "* Company stock information\n",
    "* Table-specific analyses\n",
    "\n",
    "**Stratify by Difficulty Level**\n",
    "\n",
    "Define a level of difficulty for the generated question:\n",
    "\n",
    "* **Easy**: Direct fact retrieval\n",
    "* **Medium**: Requires understanding multiple parts or basic analysis\n",
    "* **Hard**: Requires complex reasoning or synthesizing multiple information pieces\n",
    "\n",
    "Once the basic question specification has been defined we extract relevant context by:\n",
    "\n",
    "* **Mapping Categories to Relevant Sections**: Each question category is mapped to the most relevant SEC 10-K sections (e.g., risk factor questions focus on Item 1A, financial metrics on Items 7 and 8)\n",
    "* **Selecting Contextually Appropriate Sections**: Rather than random selection, we choose 1-3 sections most relevant to the question category\n",
    "* **Balance Token Constraints**: We carefully manage the total token count to ensure it fits within model limits while providing sufficient context"
   ]
  },
  {
   "cell_type": "markdown",
   "metadata": {},
   "source": [
    "To achieve this a number of functions have been developed. First, based on the question category we can identify the relevant report section using `get_relevant_sections_for_category` function:"
   ]
  },
  {
   "cell_type": "code",
   "execution_count": 9,
   "metadata": {},
   "outputs": [
    {
     "data": {
      "text/plain": [
       "['Item 1']"
      ]
     },
     "execution_count": 9,
     "metadata": {},
     "output_type": "execute_result"
    }
   ],
   "source": [
    "get_relevant_sections_for_category(QuestionCategory.BUSINESS_OVERVIEW)"
   ]
  },
  {
   "cell_type": "markdown",
   "metadata": {},
   "source": [
    "To generate a question specification, we can use the `determine_question_specification` function. For this we need to pass a dictionary of the reports for each company and it will randomly select which company/year to use for the relevant question type."
   ]
  },
  {
   "cell_type": "code",
   "execution_count": 10,
   "metadata": {},
   "outputs": [],
   "source": [
    "companies = {}\n",
    "for report in processed_reports_metadata:\n",
    "    if report.ticker not in companies: \n",
    "        companies[report.ticker] = {}\n",
    "    companies[report.ticker][report.year] = report"
   ]
  },
  {
   "cell_type": "code",
   "execution_count": 20,
   "metadata": {},
   "outputs": [],
   "source": [
    "question_specs = determine_question_specification(companies, PROCESSED_REPORTS_DIR)"
   ]
  },
  {
   "cell_type": "code",
   "execution_count": 21,
   "metadata": {},
   "outputs": [
    {
     "name": "stdout",
     "output_type": "stream",
     "text": [
      "QuestionSpec(question_type=<QuestionType.SINGLE_COMPANY_MULTI_YEAR: 'single_company_multi_year'>,\n",
      "             category=<QuestionCategory.RISK_FACTOR: 'risk_factor'>,\n",
      "             difficulty=<QuestionDifficulty.MEDIUM: 'medium'>,\n",
      "             reports=[CompanyReport(company_name='NVIDIA CORP',\n",
      "                                    ticker='NVDA',\n",
      "                                    year=2019,\n",
      "                                    raw_file_path='./data/raw/sec-edgar-filings/NVDA/10-K/0001045810-19-000023/full-submission.txt',\n",
      "                                    industry='SEMICONDUCTORS & RELATED DEVICES '\n",
      "                                             '[3674]',\n",
      "                                    available_sections={'Item 1',\n",
      "                                                        'Item 1A',\n",
      "                                                        'Item 5',\n",
      "                                                        'Item 7',\n",
      "                                                        'Item 7A',\n",
      "                                                        'Item 8'},\n",
      "                                    accession_number='0001045810-19-000023'),\n",
      "                      CompanyReport(company_name='NVIDIA CORP',\n",
      "                                    ticker='NVDA',\n",
      "                                    year=2016,\n",
      "                                    raw_file_path='./data/raw/sec-edgar-filings/NVDA/10-K/0001045810-16-000205/full-submission.txt',\n",
      "                                    industry='SEMICONDUCTORS & RELATED DEVICES '\n",
      "                                             '[3674]',\n",
      "                                    available_sections={'Item 1',\n",
      "                                                        'Item 1A',\n",
      "                                                        'Item 5',\n",
      "                                                        'Item 7',\n",
      "                                                        'Item 7A',\n",
      "                                                        'Item 8'},\n",
      "                                    accession_number='0001045810-16-000205')],\n",
      "             sections_to_include={'./data/processed/reports/report_NVDA_2019.json': ['Item '\n",
      "                                                                                     '5'],\n",
      "                                  './data/processed/reports/report_NVDA_2016.json': ['Item '\n",
      "                                                                                     '5']})\n"
     ]
    }
   ],
   "source": [
    "pprint(question_specs, sort_dicts=False)"
   ]
  },
  {
   "cell_type": "markdown",
   "metadata": {},
   "source": [
    "In the example above, a question involving one company across multiple years based on risk factors was chosen. Based on this, it randomly selected Nvidia as the company, 2016 and 2019 as the two years, and Item 5 from the report (since the question type is risk factors)."
   ]
  },
  {
   "cell_type": "markdown",
   "metadata": {},
   "source": [
    "## Extract sections from processed reports\n",
    "\n",
    "Once the question specification has been defined, the `extract_sections_from_reports` function is used to get the related information from the processed reports."
   ]
  },
  {
   "cell_type": "code",
   "execution_count": 22,
   "metadata": {},
   "outputs": [],
   "source": [
    "extracted_sections = extract_sections_from_reports(question_specs, PROCESSED_REPORTS_DIR)"
   ]
  },
  {
   "cell_type": "code",
   "execution_count": 25,
   "metadata": {},
   "outputs": [
    {
     "data": {
      "text/plain": [
       "{'NVDA': {2019: {'Item 5': '**ITEM 5. MARKET FOR REGISTRANT’S COMMON EQUITY, RELATED STOCKHOLDER MATTERS AND ISSUER PURCHASES OF EQUITY SECURITIES**\\n\\nOur common stock is traded on the Nasdaq Global Select Market under the symbol NVDA. Public trading of our common stock began on January 22,1999. Prior to that, there was no public market for our common stock. As of February 15,2019 , we had approximately 317 registered shareholders, not including those shares held in street or nominee name.\\n\\n **Issuer Purchases of Equity Securities**\\n\\nBeginning August 2004, our Board of Directors authorized us to repurchase our stock.\\n\\nSince the inception of our share repurchase program, we have repurchased an aggregate of 260 million shares for a total cost of $7.08 billion through January 27,2019 . All shares delivered from these repurchases have been placed into treasury stock.\\n\\nIn November 2018, the Board authorized an additional $7.00 billion under our share repurchase program and extended it through the end of December 2022. As of January 27,2019 , we were authorized to repurchase additional shares of our common stock up to $7.24 billion .\\n\\nWe intend to return $3.00 billion to shareholders by the end of fiscal year 2020, including $700 million of share repurchases we made in the fourth quarter of fiscal year 2019.\\n\\nThe repurchases can be made in the open market, in privately negotiated transactions, or in structured share repurchase programs, and can be made in one or more larger repurchases, in compliance with Rule 10 b-18 of the Securities Exchange Act of 1934, as amended, subject to market conditions, applicable legal requirements, and other factors. The program does not obligate NVIDIA to acquire any particular amount of common stock and the program may be suspended at any time at our discretion.\\n\\n 20 ****Table of Contents****\\n\\nThe following table presents details of our share repurchase transactions during the fourth quarter of fiscal year 2019:\\n\\n \\n\\n<table class=\"cleaned-financial-table\"><tr><td colspan=\"13\"></td></tr><tr><td></td><td></td><td></td><td></td><td></td><td></td><td></td><td></td><td></td><td></td><td></td><td></td><td></td></tr><tr><td>Period</td><td></td><td>Total Number of Shares Purchased (In thousands)</td><td></td><td colspan=\"3\">Average Price Paid per Share</td><td></td><td>Total Number of Shares Purchased as Part of Publicly Announced Program (In thousands)</td><td></td><td colspan=\"3\">Approximate Dollar Value of Shares that May Yet Be Purchased Under the Program (In billions)</td></tr><tr><td>October 29, 2018 - November 25, 2018</td><td></td><td>123</td><td></td><td>$</td><td>195.72</td><td></td><td></td><td>123</td><td></td><td>$</td><td>7.94</td><td></td></tr><tr><td>November 26, 2018 - December 23, 2018</td><td></td><td>3,304</td><td></td><td>$</td><td>142.05</td><td></td><td></td><td>3,304</td><td></td><td>$</td><td>7.47</td><td></td></tr><tr><td>December 24, 2018 - January 27, 2019</td><td></td><td>1,777</td><td></td><td>$</td><td>129.87</td><td></td><td></td><td>1,777</td><td></td><td>$</td><td>7.24</td><td></td></tr><tr><td>Total</td><td></td><td>5,204</td><td></td><td colspan=\"3\"></td><td></td><td>5,204</td><td></td><td colspan=\"3\"></td></tr></table>\\n\\n\\n\\n**Transactions Related to our 1.00% Convertible Senior Notes Due 2018 and Note Hedges**\\n\\nDuring fiscal year 2019 , we issued an aggregate of 714 thousand shares of our common stock upon settlement of $16 million in principal amount of 1.00% Convertible Senior Notes Due 2018, or the Convertible Notes, submitted for conversion. In connection with these conversions, we exercised a portion of our Note Hedges to acquire an equal number of shares of our common stock. The counterparty to the Note Hedges may be deemed an “affiliated purchaser” and may have purchased the shares of our common stock deliverable to us upon this exercise of our option. Refer to Note 11 of the Notes to the Consolidated Financial Statements in Part IV, Item 15 of this Annual Report on Form 10-K for further discussion regarding the Convertible Notes and the Note Hedges.\\n\\n **Restricted Stock Unit Share Withholding**\\n\\nWe also withhold common stock shares associated with net share settlements to cover tax withholding obligations upon the vesting of restricted stock unit awards under our employee equity incentive program. During fiscal year 2019 , we withheld approximately 4 million shares at a total cost of $1.03 billion through net share settlements. Refer to Note 3 of the Notes to the Consolidated Financial Statements in Part IV, Item 15 of this Annual Report on Form 10-K for further discussion regarding our equity incentive plans.\\n\\n 21 ****Table of Contents**** **Stock Performance Graphs**\\n\\nThe following graph compares the cumulative total shareholder return for our common stock, the S&P 500 Index, and the Nasdaq 100 Index for the five years ended January 27,2019 . The graph assumes that $100 was invested on January 26,2014 in our common stock and in each of the S&P 500 Index and the Nasdaq 100 Index. Our common stock is a component of each of the presented indices. Total return assumes reinvestment of dividends in each of the indices indicated. Total return is based on historical results and is not intended to indicate future performance.\\n\\n*$100 invested on 1/26/14 in stock and in indices, including reinvestment of dividends.\\n\\nThe S&P 500 index is proprietary to and are calculated, distributed and marketed by S&P Opco, LLC (a subsidiary of S&P Dow Jones Indices LLC), its affiliates and/or its licensors and has been licensed for use. S&P® and S&P 500®, among other famous marks, are registered trademarks of Standard & Poor’s Financial Services LLC, and Dow Jones® is a registered trademark of Dow Jones Trademark Holdings LLC. © 2016 S&P Dow Jones Indices LLC, its affiliates and/or its licensors. All rights reserved.\\n\\n \\n\\n<table class=\"cleaned-financial-table\"><tr><td colspan=\"24\"></td></tr><tr><td></td><td></td><td></td><td></td><td></td><td></td><td></td><td></td><td></td><td></td><td></td><td></td><td></td><td></td><td></td><td></td><td></td><td></td><td></td><td></td><td></td><td></td><td></td><td></td></tr><tr><td></td><td colspan=\"3\">1/26/2014</td><td></td><td colspan=\"3\">1/25/2015</td><td></td><td colspan=\"3\">1/31/2016</td><td></td><td colspan=\"3\">1/29/2017</td><td></td><td colspan=\"3\">1/28/2018</td><td></td><td colspan=\"3\">1/27/2019</td></tr><tr><td>NVIDIA Corporation</td><td>$</td><td>100.00</td><td></td><td></td><td>$</td><td>135.49</td><td></td><td></td><td>$</td><td>194.78</td><td></td><td></td><td>$</td><td>750.36</td><td></td><td></td><td>$</td><td>1,639.87</td><td></td><td></td><td>$</td><td>1,082.30</td><td></td></tr><tr><td>S&amp;P 500</td><td>$</td><td>100.00</td><td></td><td></td><td>$</td><td>111.92</td><td></td><td></td><td>$</td><td>108.84</td><td></td><td></td><td>$</td><td>127.84</td><td></td><td></td><td>$</td><td>158.41</td><td></td><td></td><td>$</td><td>151.70</td><td></td></tr><tr><td>Nasdaq 100</td><td>$</td><td>100.00</td><td></td><td></td><td>$</td><td>119.26</td><td></td><td></td><td>$</td><td>124.52</td><td></td><td></td><td>$</td><td>150.83</td><td></td><td></td><td>$</td><td>207.18</td><td></td><td></td><td>$</td><td>208.13</td><td></td></tr></table>\\n\\n 22 ****Table of Contents**** **ITEM 6. SELECTED FINANCIAL DATA**'},\n",
       "  2016: {'Item 5': '**ITEM 5. MARKET FOR REGISTRANT’S COMMON EQUITY, RELATED STOCKHOLDER MATTERS AND ISSUER PURCHASES OF EQUITY SECURITIES**\\n\\nOur common stock is traded on the NASDAQ Global Select Market under the symbol NVDA. Public trading of our common stock began on January 22,1999. Prior to that, there was no public market for our common stock. As of March 11,2016, we had approximately 342 registered shareholders, not including those shares held in street or nominee name. The following table sets forth for the periods indicated the high and low sales price for our common stock as quoted on the NASDAQ Global Select Market:\\n\\n \\n\\n<table class=\"cleaned-financial-table\"><tr><td colspan=\"8\"></td></tr><tr><td></td><td></td><td></td><td></td><td></td><td></td><td></td><td></td></tr><tr><td></td><td colspan=\"3\">High</td><td></td><td colspan=\"3\">Low</td></tr><tr><td>Fiscal year ending January 29, 2017</td><td colspan=\"3\"></td><td></td><td colspan=\"3\"></td></tr><tr><td>First Quarter (through March 11, 2016)</td><td>$</td><td>33.06</td><td></td><td></td><td>$</td><td>24.75</td><td></td></tr><tr><td>Fiscal year ended January 31, 2016</td><td colspan=\"3\"></td><td></td><td colspan=\"3\"></td></tr><tr><td>Fourth Quarter</td><td>$</td><td>33.94</td><td></td><td></td><td>$</td><td>26.45</td><td></td></tr><tr><td>Third Quarter</td><td>$</td><td>28.78</td><td></td><td></td><td>$</td><td>19.09</td><td></td></tr><tr><td>Second Quarter</td><td>$</td><td>22.88</td><td></td><td></td><td>$</td><td>19.16</td><td></td></tr><tr><td>First Quarter</td><td>$</td><td>23.61</td><td></td><td></td><td>$</td><td>18.94</td><td></td></tr><tr><td>Fiscal year ended January 26, 2015</td><td colspan=\"3\"></td><td></td><td colspan=\"3\"></td></tr><tr><td>Fourth Quarter</td><td>$</td><td>21.25</td><td></td><td></td><td>$</td><td>18.27</td><td></td></tr><tr><td>Third Quarter</td><td>$</td><td>20.15</td><td></td><td></td><td>$</td><td>16.77</td><td></td></tr><tr><td>Second Quarter</td><td>$</td><td>19.73</td><td></td><td></td><td>$</td><td>17.71</td><td></td></tr><tr><td>First Quarter</td><td>$</td><td>19.46</td><td></td><td></td><td>$</td><td>15.32</td><td></td></tr></table>\\n\\n **Dividend Policy**\\n\\nOn May 7,2015, we increased our quarterly cash dividend from $0.085 per share to $0.0975 per share, or $0.39 on an annual basis. On November 5,2015, we again increased our quarterly cash dividend to $0.115 per share, or $0.46 on an annual basis. In fiscal years 2016 and 2015, we paid $213 million and $186 million , respectively, in cash dividends to our common shareholders.\\n\\nOur cash dividend program and the payment of future cash dividends under the program are subject to continued capital availability and our Board of Directors\\' continuing determination that the dividend program and the declaration of dividends thereunder are in the best interests of our shareholders and are in compliance with all laws and agreements of NVIDIA applicable to the declaration and payment of cash dividends. In fiscal year 2016, based upon our earnings and profits, 100% of our dividend payments were considered to be a return of capital for U.S. federal income tax purposes. It is possible that a portion of our dividend payments in future fiscal years may be considered a return of capital for U.S. federal income tax purposes.\\n\\n **Issuer Purchases of Equity Securities**\\n\\nBeginning August 2004, our Board of Directors authorized us, subject to certain specifications, to repurchase shares of our common stock. In May 2015, the Board extended the previously authorized repurchase program through December 2018 and authorized an additional $1.62 billion under the repurchase program.\\n\\nThrough January 31,2016, we have repurchased an aggregate of 231 million shares under our share repurchase program for a total cost of $3.85 billion. As of January 31,2016, we are authorized, subject to certain specifications, to repurchase additional shares of our common stock up to $1.47 billion through December 2018. We intend to return approximately $1.00 billion to shareholders in fiscal year 2017 in the form of share repurchases and cash dividends.\\n\\n 21 ****Table of Contents****\\n\\nThe repurchases will be made from time to time in the open market, in privately negotiated transactions, or in structured share repurchase programs, and may be made in one or more larger repurchases, in compliance with Rule 10 b-18 of the Securities Exchange Act of 1934, as amended, or the Exchange Act, subject to market conditions, applicable legal requirements, and other factors. The program does not obligate NVIDIA to acquire any particular amount of common stock and the program may be suspended at any time at our discretion. As part of our share repurchase program, we have entered into, and we may continue to enter into, structured share repurchase transactions with financial institutions. These agreements generally require that we make an up-front payment in exchange for the right to receive a fixed number of shares of our common stock upon execution of the agreement, and a potential incremental number of shares of our common stock, within a pre-determined range, at the end of the term of the agreement.\\n\\nThe following table presents details of our share repurchase transactions during the three fiscal months ended January 31,2016 (in millions, except shares and per share amounts):\\n\\n \\n\\n<table class=\"cleaned-financial-table\"><tr><td colspan=\"13\"></td></tr><tr><td></td><td></td><td></td><td></td><td></td><td></td><td></td><td></td><td></td><td></td><td></td><td></td><td></td></tr><tr><td>Period</td><td></td><td>Total Number of Shares Purchased</td><td></td><td colspan=\"3\">Average Price Paid per Share (1)</td><td></td><td>Total Number of Shares Purchased as Part of Publicly Announced Plans or Programs</td><td></td><td colspan=\"3\">Approximate Dollar Value of Shares that May Yet Be Purchased Under the Plans or Programs</td></tr><tr><td>October 26, 2015 - November 22, 2015</td><td></td><td>3,047,106</td><td></td><td>$</td><td>44.30</td><td></td><td></td><td>3,047,106</td><td></td><td>$</td><td>1,465</td><td></td></tr><tr><td>November 23, 2015 - December 27, 2015</td><td></td><td>—</td><td></td><td>$</td><td>—</td><td></td><td></td><td>—</td><td></td><td>$</td><td>1,465</td><td></td></tr><tr><td>December 28, 2015 - January 31, 2016</td><td></td><td>1,205,682</td><td></td><td>$</td><td>—</td><td></td><td></td><td>1,205,682</td><td></td><td>$</td><td>1,465</td><td></td></tr><tr><td>Total</td><td></td><td>4,252,788</td><td></td><td>$</td><td>31.74</td><td></td><td></td><td>4,252,788</td><td></td><td colspan=\"3\"></td></tr></table>\\n\\n (1)\\n\\nIn November 2015, we entered into an accelerated share repurchase agreement, or ASR, with an investment bank, under which we made an upfront payment of $135 million to purchase shares of our common stock. We received an initial delivery of 3,047,106 shares in November 2015 at an average price per share of $44.30, which is based solely on the result of dividing the $135 million we had paid towards the ASR by such 3,047,106 shares. In January 2016, at the time of settlement of the ASR, we received an additional 1,205,682 shares without any further cash payment. The total number of shares repurchased under this ASR was 4,252,788 shares, and thus the average price we ultimately paid per share under the ASR was $31.74. Please refer to [Note 14](#sEE 1 BFFE 305 B 1 A 655 B 9 C 63869 CAAAE 655) of the Notes to the Consolidated Financial Statements in Part IV, Item 15 of this Annual Report on Form 10-K for further discussion regarding the accelerated share repurchase program.\\n\\nIn addition to our share repurchase program, we withhold common stock shares associated with net share settlements to cover tax withholding obligations upon the vesting of awards of restricted stock units, or RSUs, and performance stock units that are based on our corporate financial performance targets, or PSUs, under our equity incentive program. During fiscal year 2016, we withheld approximately 3 million shares at a total cost of $66 million through net share settlements. Please refer to Note 2 of the Notes to the Consolidated Financial Statements in Part IV, Item 15 of this Annual Report on Form 10-K for further discussion regarding our equity incentive plans.\\n\\n 22 ****Table of Contents**** **Stock Performance Graphs**\\n\\nThe following graph compares the cumulative total shareholder return for our common stock, the S&P 500 Index and the S&P Semiconductors Index for the five years ended January 31,2016 . The graph assumes that $100 was invested on January 30,2011 in our common stock and in each of the S&P 500 Index and the S&P Semiconductors Index. Total return assumes reinvestment of dividends in each of the indices indicated. Total return is based on historical results and is not intended to indicate future performance.\\n\\n*$100 invested on 1/30/11 in stock and in indices, including reinvestment of dividends.\\n\\nThe S&P 500 index and S&P Semiconductor Select Industry index are proprietary to and are calculated, distributed and marketed by S&P Opco, LLC (a subsidiary of S&P Dow Jones Indices LLC), its affiliates and/or its licensors and has been licensed for use. S&P® and S&P 500®, among other famous marks, are registered trademarks of Standard & Poor’s Financial Services LLC, and Dow Jones® is a registered trademark of Dow Jones Trademark Holdings LLC. © 2016 S&P Dow Jones Indices LLC, its affiliates and/or its licensors. All rights reserved.\\n\\n \\n\\n<table class=\"cleaned-financial-table\"><tr><td colspan=\"25\"></td></tr><tr><td></td><td></td><td></td><td></td><td></td><td></td><td></td><td></td><td></td><td></td><td></td><td></td><td></td><td></td><td></td><td></td><td></td><td></td><td></td><td></td><td></td><td></td><td></td><td></td><td></td></tr><tr><td></td><td colspan=\"3\">1/30/2011</td><td></td><td colspan=\"3\">1/29/2012</td><td></td><td colspan=\"3\">1/27/2013</td><td></td><td colspan=\"3\">1/26/2014</td><td></td><td colspan=\"3\">1/25/2015</td><td></td><td colspan=\"3\">1/31/2016</td><td></td></tr><tr><td>NVIDIA Corporation</td><td>$</td><td>100.00</td><td></td><td></td><td>$</td><td>62.75</td><td></td><td></td><td>$</td><td>52.55</td><td></td><td></td><td>$</td><td>67.11</td><td></td><td></td><td>$</td><td>90.21</td><td></td><td></td><td>$</td><td>127.99</td><td></td><td></td></tr><tr><td>S&amp;P 500</td><td>$</td><td>100.00</td><td></td><td></td><td>$</td><td>104.22</td><td></td><td></td><td>$</td><td>121.71</td><td></td><td></td><td>$</td><td>147.89</td><td></td><td></td><td>$</td><td>168.93</td><td></td><td></td><td>$</td><td>167.81</td><td></td><td></td></tr><tr><td>S&amp;P Semiconductors</td><td>$</td><td>100.00</td><td></td><td></td><td>$</td><td>102.04</td><td></td><td></td><td>$</td><td>91.20</td><td></td><td></td><td>$</td><td>113.44</td><td></td><td></td><td>$</td><td>144.77</td><td></td><td></td><td>$</td><td>139.35</td><td></td><td></td></tr></table>\\n\\n 23 ****Table of Contents****\\n\\nThe following graph compares the cumulative total shareholder return for our common stock, the S&P 500 Index and the S&P Semiconductors Index for the ten years ended January 31,2016 . The graph assumes that $100 was invested on January 29,2006 in our common stock and in each of the S&P 500 Index and the S&P Semiconductors Index. Total return assumes reinvestment of dividends in each of the indices indicated. Total return is based on historical results and is not intended to indicate future performance.\\n\\n*$100 invested on 1/29/06 in stock or in indices, including reinvestment of dividends.\\n\\nThe S&P 500 index and S&P Semiconductor Select Industry index are proprietary to and are calculated, distributed and marketed by S&P Opco, LLC (a subsidiary of S&P Dow Jones Indices LLC), its affiliates and/or its licensors and has been licensed for use. S&P® and S&P 500®, among other famous marks, are registered trademarks of Standard & Poor’s Financial Services LLC, and Dow Jones® is a registered trademark of Dow Jones Trademark Holdings LLC. © 2016 S&P Dow Jones Indices LLC, its affiliates and/or its licensors. All rights reserved.\\n\\n \\n\\n<table class=\"cleaned-financial-table\"><tr><td colspan=\"44\"></td></tr><tr><td></td><td></td><td></td><td></td><td></td><td></td><td></td><td></td><td></td><td></td><td></td><td></td><td></td><td></td><td></td><td></td><td></td><td></td><td></td><td></td><td></td><td></td><td></td><td></td><td></td><td></td><td></td><td></td><td></td><td></td><td></td><td></td><td></td><td></td><td></td><td></td><td></td><td></td><td></td><td></td><td></td><td></td><td></td><td></td></tr><tr><td></td><td colspan=\"2\">1/29/2006</td><td></td><td></td><td colspan=\"2\">1/28/2007</td><td></td><td></td><td colspan=\"2\">1/27/2008</td><td></td><td></td><td colspan=\"2\">1/25/2009</td><td></td><td></td><td colspan=\"2\">1/31/2010</td><td></td><td></td><td colspan=\"2\">1/30/2011</td><td></td><td></td><td colspan=\"2\">1/29/2012</td><td></td><td></td><td colspan=\"2\">1/27/2013</td><td></td><td></td><td colspan=\"2\">1/26/2014</td><td></td><td></td><td colspan=\"2\">1/25/2015</td><td></td><td></td><td colspan=\"2\">1/31/2016</td><td></td></tr><tr><td>NVIDIA Corporation</td><td>$</td><td>100.00</'}}}"
      ]
     },
     "execution_count": 25,
     "metadata": {},
     "output_type": "execute_result"
    }
   ],
   "source": [
    "extracted_sections"
   ]
  },
  {
   "cell_type": "markdown",
   "metadata": {},
   "source": [
    "Now we use the `prepare_question_generation_input` function to format the content that will be sent to the LLM. Note that we have an option to exclude tabular data. Since the reports contain a lot of tables (particularly Item 8), we'll exclude this from our workflow from now. This requires additional workflows to properly embed the content for a RAG pipeline."
   ]
  },
  {
   "cell_type": "code",
   "execution_count": 26,
   "metadata": {},
   "outputs": [],
   "source": [
    "formatted_content, content_metadata = prepare_question_generation_input(question_specs, extracted_sections, exclude_tables=True)"
   ]
  },
  {
   "cell_type": "code",
   "execution_count": 28,
   "metadata": {},
   "outputs": [
    {
     "name": "stdout",
     "output_type": "stream",
     "text": [
      "('COMPANY: NVDA\\n'\n",
      " '\\n'\n",
      " 'YEAR: 2016\\n'\n",
      " '\\n'\n",
      " 'SECTION: Item 5\\n'\n",
      " '\\n'\n",
      " '**ITEM 5. MARKET FOR REGISTRANT’S COMMON EQUITY, RELATED STOCKHOLDER MATTERS '\n",
      " 'AND ISSUER PURCHASES OF EQUITY SECURITIES**\\n'\n",
      " '\\n'\n",
      " 'Our common stock is traded on the NASDAQ Global Select Market under the '\n",
      " 'symbol NVDA. Public trading of our common stock began on January 22,1999. '\n",
      " 'Prior to that, there was no public market for our common stock. As of March '\n",
      " '11,2016, we had approximately 342 registered shareholders, not including '\n",
      " 'those shares held in street or nominee name. The following table sets forth '\n",
      " 'for the periods indicated the high and low sales price for our common stock '\n",
      " 'as quoted on the NASDAQ Global Select Market:\\n'\n",
      " '\\n'\n",
      " ' \\n'\n",
      " '\\n'\n",
      " '[TABLE REMOVED]\\n'\n",
      " '\\n'\n",
      " ' **Dividend Policy**\\n'\n",
      " '\\n'\n",
      " 'On May 7,2015, we increased our quarterly cash dividend from $0.085 per '\n",
      " 'share to $0.0975 per share, or $0.39 on an annual basis. On November 5,2015, '\n",
      " 'we again increased our quarterly cash dividend to $0.115 per share, or $0.46 '\n",
      " 'on an annual basis. In fiscal years 2016 and 2015, we paid $213 million and '\n",
      " '$186 million , respectively, in cash dividends to our common shareholders.\\n'\n",
      " '\\n'\n",
      " 'Our cash dividend program and the payment of future cash dividends under the '\n",
      " 'program are subject to continued capital availability and our Board of '\n",
      " \"Directors' continuing determination that the dividend program and the \"\n",
      " 'declaration of dividends thereunder are in the best interests of our '\n",
      " 'shareholders and are in compliance with all laws and agreements of NVIDIA '\n",
      " 'applicable to the declaration and payment of cash dividends. In fiscal year '\n",
      " '2016, based upon our earnings and profits, 100% of our dividend payments '\n",
      " 'were considered to be a return of capital for U.S. federal income tax '\n",
      " 'purposes. It is possible that a portion of our dividend payments in future '\n",
      " 'fiscal years may be considered a return of capital for U.S. federal income '\n",
      " 'tax purposes.\\n'\n",
      " '\\n'\n",
      " ' **Issuer Purchases of Equity Securities**\\n'\n",
      " '\\n'\n",
      " 'Beginning August 2004, our Board of Directors authorized us, subject to '\n",
      " 'certain specifications, to repurchase shares of our common stock. In May '\n",
      " '2015, the Board extended the previously authorized repurchase program '\n",
      " 'through December 2018 and authorized an additional $1.62 billion under the '\n",
      " 'repurchase program.\\n'\n",
      " '\\n'\n",
      " 'Through January 31,2016, we have repurchased an aggregate of 231 million '\n",
      " 'shares under our share repurchase program for a total cost of $3.85 billion. '\n",
      " 'As of January 31,2016, we are authorized, subject to certain specifications, '\n",
      " 'to repurchase additional shares of our common stock up to $1.47 billion '\n",
      " 'through December 2018. We intend to return approximately $1.00 billion to '\n",
      " 'shareholders in fiscal year 2017 in the form of share repurchases and cash '\n",
      " 'dividends.\\n'\n",
      " '\\n'\n",
      " ' 21 ****Table of Contents****\\n'\n",
      " '\\n'\n",
      " 'The repurchases will be made from time to time in the open market, in '\n",
      " 'privately negotiated transactions, or in structured share repurchase '\n",
      " 'programs, and may be made in one or more larger repurchases, in compliance '\n",
      " 'with Rule 10 b-18 of the Securities Exchange Act of 1934, as amended, or the '\n",
      " 'Exchange Act, subject to market conditions, applicable legal requirements, '\n",
      " 'and other factors. The program does not obligate NVIDIA to acquire any '\n",
      " 'particular amount of common stock and the program may be suspended at any '\n",
      " 'time at our discretion. As part of our share repurchase program, we have '\n",
      " 'entered into, and we may continue to enter into, structured share repurchase '\n",
      " 'transactions with financial institutions. These agreements generally require '\n",
      " 'that we make an up-front payment in exchange for the right to receive a '\n",
      " 'fixed number of shares of our common stock upon execution of the agreement, '\n",
      " 'and a potential incremental number of shares of our common stock, within a '\n",
      " 'pre-determined range, at the end of the term of the agreement.\\n'\n",
      " '\\n'\n",
      " 'The following table presents details of our share repurchase transactions '\n",
      " 'during the three fiscal months ended January 31,2016 (in millions, except '\n",
      " 'shares and per share amounts):\\n'\n",
      " '\\n'\n",
      " ' \\n'\n",
      " '\\n'\n",
      " '[TABLE REMOVED]\\n'\n",
      " '\\n'\n",
      " ' (1)\\n'\n",
      " '\\n'\n",
      " 'In November 2015, we entered into an accelerated share repurchase agreement, '\n",
      " 'or ASR, with an investment bank, under which we made an upfront payment of '\n",
      " '$135 million to purchase shares of our common stock. We received an initial '\n",
      " 'delivery of 3,047,106 shares in November 2015 at an average price per share '\n",
      " 'of $44.30, which is based solely on the result of dividing the $135 million '\n",
      " 'we had paid towards the ASR by such 3,047,106 shares. In January 2016, at '\n",
      " 'the time of settlement of the ASR, we received an additional 1,205,682 '\n",
      " 'shares without any further cash payment. The total number of shares '\n",
      " 'repurchased under this ASR was 4,252,788 shares, and thus the average price '\n",
      " 'we ultimately paid per share under the ASR was $31.74. Please refer to [Note '\n",
      " '14](#sEE 1 BFFE 305 B 1 A 655 B 9 C 63869 CAAAE 655) of the Notes to the '\n",
      " 'Consolidated Financial Statements in Part IV, Item 15 of this Annual Report '\n",
      " 'on Form 10-K for further discussion regarding the accelerated share '\n",
      " 'repurchase program.\\n'\n",
      " '\\n'\n",
      " 'In addition to our share repurchase program, we withhold common stock shares '\n",
      " 'associated with net share settlements to cover tax withholding obligations '\n",
      " 'upon the vesting of awards of restricted stock units, or RSUs, and '\n",
      " 'performance stock units that are based on our corporate financial '\n",
      " 'performance targets, or PSUs, under our equity incentive program. During '\n",
      " 'fiscal year 2016, we withheld approximately 3 million shares at a total cost '\n",
      " 'of $66 million through net share settlements. Please refer to Note 2 of the '\n",
      " 'Notes to the Consolidated Financial Statements in Part IV, Item 15 of this '\n",
      " 'Annual Report on Form 10-K for further discussion regarding our equity '\n",
      " 'incentive plans.\\n'\n",
      " '\\n'\n",
      " ' 22 ****Table of Contents**** **Stock Performance Graphs**\\n'\n",
      " '\\n'\n",
      " 'The following graph compares the cumulative total shareholder return for our '\n",
      " 'common stock, the S&P 500 Index and the S&P Semiconductors Index for the '\n",
      " 'five years ended January 31,2016 . The graph assumes that $100 was invested '\n",
      " 'on January 30,2011 in our common stock and in each of the S&P 500 Index and '\n",
      " 'the S&P Semiconductors Index. Total return assumes reinvestment of dividends '\n",
      " 'in each of the indices indicated. Total return is based on historical '\n",
      " 'results and is not intended to indicate future performance.\\n'\n",
      " '\\n'\n",
      " '*$100 invested on 1/30/11 in stock and in indices, including reinvestment of '\n",
      " 'dividends.\\n'\n",
      " '\\n'\n",
      " 'The S&P 500 index and S&P Semiconductor Select Industry index are '\n",
      " 'proprietary to and are calculated, distributed and marketed by S&P Opco, LLC '\n",
      " '(a subsidiary of S&P Dow Jones Indices LLC), its affiliates and/or its '\n",
      " 'licensors and has been licensed for use. S&P® and S&P 500®, among other '\n",
      " 'famous marks, are registered trademarks of Standard & Poor’s Financial '\n",
      " 'Services LLC, and Dow Jones® is a registered trademark of Dow Jones '\n",
      " 'Trademark Holdings LLC. © 2016 S&P Dow Jones Indices LLC, its affiliates '\n",
      " 'and/or its licensors. All rights reserved.\\n'\n",
      " '\\n'\n",
      " ' \\n'\n",
      " '\\n'\n",
      " '[TABLE REMOVED]\\n'\n",
      " '\\n'\n",
      " ' 23 ****Table of Contents****\\n'\n",
      " '\\n'\n",
      " 'The following graph compares the cumulative total shareholder return for our '\n",
      " 'common stock, the S&P 500 Index and the S&P Semiconductors Index for the ten '\n",
      " 'years ended January 31,2016 . The graph assumes that $100 was invested on '\n",
      " 'January 29,2006 in our common stock and in each of the S&P 500 Index and the '\n",
      " 'S&P Semiconductors Index. Total return assumes reinvestment of dividends in '\n",
      " 'each of the indices indicated. Total return is based on historical results '\n",
      " 'and is not intended to indicate future performance.\\n'\n",
      " '\\n'\n",
      " '*$100 invested on 1/29/06 in stock or in indices, including reinvestment of '\n",
      " 'dividends.\\n'\n",
      " '\\n'\n",
      " 'The S&P 500 index and S&P Semiconductor Select Industry index are '\n",
      " 'proprietary to and are calculated, distributed and marketed by S&P Opco, LLC '\n",
      " '(a subsidiary of S&P Dow Jones Indices LLC), its affiliates and/or its '\n",
      " 'licensors and has been licensed for use. S&P® and S&P 500®, among other '\n",
      " 'famous marks, are registered trademarks of Standard & Poor’s Financial '\n",
      " 'Services LLC, and Dow Jones® is a registered trademark of Dow Jones '\n",
      " 'Trademark Holdings LLC. © 2016 S&P Dow Jones Indices LLC, its affiliates '\n",
      " 'and/or its licensors. All rights reserved.\\n'\n",
      " '\\n'\n",
      " ' \\n'\n",
      " '\\n'\n",
      " '[INCOMPLETE TABLE REMOVED]\\n'\n",
      " '\\n'\n",
      " 'YEAR: 2019\\n'\n",
      " '\\n'\n",
      " 'SECTION: Item 5\\n'\n",
      " '\\n'\n",
      " '**ITEM 5. MARKET FOR REGISTRANT’S COMMON EQUITY, RELATED STOCKHOLDER MATTERS '\n",
      " 'AND ISSUER PURCHASES OF EQUITY SECURITIES**\\n'\n",
      " '\\n'\n",
      " 'Our common stock is traded on the Nasdaq Global Select Market under the '\n",
      " 'symbol NVDA. Public trading of our common stock began on January 22,1999. '\n",
      " 'Prior to that, there was no public market for our common stock. As of '\n",
      " 'February 15,2019 , we had approximately 317 registered shareholders, not '\n",
      " 'including those shares held in street or nominee name.\\n'\n",
      " '\\n'\n",
      " ' **Issuer Purchases of Equity Securities**\\n'\n",
      " '\\n'\n",
      " 'Beginning August 2004, our Board of Directors authorized us to repurchase '\n",
      " 'our stock.\\n'\n",
      " '\\n'\n",
      " 'Since the inception of our share repurchase program, we have repurchased an '\n",
      " 'aggregate of 260 million shares for a total cost of $7.08 billion through '\n",
      " 'January 27,2019 . All shares delivered from these repurchases have been '\n",
      " 'placed into treasury stock.\\n'\n",
      " '\\n'\n",
      " 'In November 2018, the Board authorized an additional $7.00 billion under our '\n",
      " 'share repurchase program and extended it through the end of December 2022. '\n",
      " 'As of January 27,2019 , we were authorized to repurchase additional shares '\n",
      " 'of our common stock up to $7.24 billion .\\n'\n",
      " '\\n'\n",
      " 'We intend to return $3.00 billion to shareholders by the end of fiscal year '\n",
      " '2020, including $700 million of share repurchases we made in the fourth '\n",
      " 'quarter of fiscal year 2019.\\n'\n",
      " '\\n'\n",
      " 'The repurchases can be made in the open market, in privately negotiated '\n",
      " 'transactions, or in structured share repurchase programs, and can be made in '\n",
      " 'one or more larger repurchases, in compliance with Rule 10 b-18 of the '\n",
      " 'Securities Exchange Act of 1934, as amended, subject to market conditions, '\n",
      " 'applicable legal requirements, and other factors. The program does not '\n",
      " 'obligate NVIDIA to acquire any particular amount of common stock and the '\n",
      " 'program may be suspended at any time at our discretion.\\n'\n",
      " '\\n'\n",
      " ' 20 ****Table of Contents****\\n'\n",
      " '\\n'\n",
      " 'The following table presents details of our share repurchase transactions '\n",
      " 'during the fourth quarter of fiscal year 2019:\\n'\n",
      " '\\n'\n",
      " ' \\n'\n",
      " '\\n'\n",
      " '[TABLE REMOVED]\\n'\n",
      " '\\n'\n",
      " '\\n'\n",
      " '\\n'\n",
      " '**Transactions Related to our 1.00% Convertible Senior Notes Due 2018 and '\n",
      " 'Note Hedges**\\n'\n",
      " '\\n'\n",
      " 'During fiscal year 2019 , we issued an aggregate of 714 thousand shares of '\n",
      " 'our common stock upon settlement of $16 million in principal amount of 1.00% '\n",
      " 'Convertible Senior Notes Due 2018, or the Convertible Notes, submitted for '\n",
      " 'conversion. In connection with these conversions, we exercised a portion of '\n",
      " 'our Note Hedges to acquire an equal number of shares of our common stock. '\n",
      " 'The counterparty to the Note Hedges may be deemed an “affiliated purchaser” '\n",
      " 'and may have purchased the shares of our common stock deliverable to us upon '\n",
      " 'this exercise of our option. Refer to Note 11 of the Notes to the '\n",
      " 'Consolidated Financial Statements in Part IV, Item 15 of this Annual Report '\n",
      " 'on Form 10-K for further discussion regarding the Convertible Notes and the '\n",
      " 'Note Hedges.\\n'\n",
      " '\\n'\n",
      " ' **Restricted Stock Unit Share Withholding**\\n'\n",
      " '\\n'\n",
      " 'We also withhold common stock shares associated with net share settlements '\n",
      " 'to cover tax withholding obligations upon the vesting of restricted stock '\n",
      " 'unit awards under our employee equity incentive program. During fiscal year '\n",
      " '2019 , we withheld approximately 4 million shares at a total cost of $1.03 '\n",
      " 'billion through net share settlements. Refer to Note 3 of the Notes to the '\n",
      " 'Consolidated Financial Statements in Part IV, Item 15 of this Annual Report '\n",
      " 'on Form 10-K for further discussion regarding our equity incentive plans.\\n'\n",
      " '\\n'\n",
      " ' 21 ****Table of Contents**** **Stock Performance Graphs**\\n'\n",
      " '\\n'\n",
      " 'The following graph compares the cumulative total shareholder return for our '\n",
      " 'common stock, the S&P 500 Index, and the Nasdaq 100 Index for the five years '\n",
      " 'ended January 27,2019 . The graph assumes that $100 was invested on January '\n",
      " '26,2014 in our common stock and in each of the S&P 500 Index and the Nasdaq '\n",
      " '100 Index. Our common stock is a component of each of the presented indices. '\n",
      " 'Total return assumes reinvestment of dividends in each of the indices '\n",
      " 'indicated. Total return is based on historical results and is not intended '\n",
      " 'to indicate future performance.\\n'\n",
      " '\\n'\n",
      " '*$100 invested on 1/26/14 in stock and in indices, including reinvestment of '\n",
      " 'dividends.\\n'\n",
      " '\\n'\n",
      " 'The S&P 500 index is proprietary to and are calculated, distributed and '\n",
      " 'marketed by S&P Opco, LLC (a subsidiary of S&P Dow Jones Indices LLC), its '\n",
      " 'affiliates and/or its licensors and has been licensed for use. S&P® and S&P '\n",
      " '500®, among other famous marks, are registered trademarks of Standard & '\n",
      " 'Poor’s Financial Services LLC, and Dow Jones® is a registered trademark of '\n",
      " 'Dow Jones Trademark Holdings LLC. © 2016 S&P Dow Jones Indices LLC, its '\n",
      " 'affiliates and/or its licensors. All rights reserved.\\n'\n",
      " '\\n'\n",
      " ' \\n'\n",
      " '\\n'\n",
      " '[TABLE REMOVED]\\n'\n",
      " '\\n'\n",
      " ' 22 ****Table of Contents**** **ITEM 6. SELECTED FINANCIAL DATA**\\n'\n",
      " '\\n')\n"
     ]
    }
   ],
   "source": [
    "pprint(formatted_content)"
   ]
  },
  {
   "cell_type": "markdown",
   "metadata": {},
   "source": [
    "## Generate question\n",
    "Now we're ready to test creating a benchmark question using an LLM. In this case, we'll use the `generate_benchmark_question` function to send a request to the OpenAI API.\n",
    "\n",
    "**Important**: You need to ensure that you've added your OpenAI API key to the `OPENAI_API_KEY` environment variable.\n"
   ]
  },
  {
   "cell_type": "code",
   "execution_count": 29,
   "metadata": {},
   "outputs": [],
   "source": [
    "generated_question = generate_benchmark_question(question_specs, formatted_content, content_metadata)"
   ]
  },
  {
   "cell_type": "code",
   "execution_count": 30,
   "metadata": {},
   "outputs": [
    {
     "name": "stdout",
     "output_type": "stream",
     "text": [
      "{'id': None,\n",
      " 'question': \"How did NVIDIA's cash dividends and share repurchase activities compare between 2016 \"\n",
      "             'and 2019?',\n",
      " 'answer': 'In 2016, NVIDIA paid $213 million in cash dividends to shareholders, while in 2015, '\n",
      "           'the amount was $186 million. The quarterly cash dividend increased from $0.085 per '\n",
      "           'share in 2015 to $0.115 per share in 2016. In terms of share repurchases, as of '\n",
      "           'January 31, 2016, NVIDIA had repurchased 231 million shares for a total cost of $3.85 '\n",
      "           'billion. By 2019, NVIDIA had repurchased a total of 260 million shares for $7.08 '\n",
      "           'billion, and they planned to return $3.00 billion to shareholders by the end of fiscal '\n",
      "           'year 2020, which included $700 million of share repurchases made in the fourth quarter '\n",
      "           'of fiscal year 2019.',\n",
      " 'source_information': [SourceInformation(company='NVIDIA', ticker='NVDA', year='2016', section='Item 5', subsection='Dividend Policy', span_text='In fiscal years 2016 and 2015, we paid $213 million and $186 million, respectively, in cash dividends to our common shareholders.', span_location=SpanLocation(document_id='1', start_offset=1234, end_offset=1290), contains_table=False, table_row=None, table_column=None, processed_path='./data/processed/reports/report_NVDA_2016.json'),\n",
      "                        SourceInformation(company='NVIDIA', ticker='NVDA', year='2016', section='Item 5', subsection='Dividend Policy', span_text='On May 7, 2015, we increased our quarterly cash dividend from $0.085 per share to $0.0975 per share, or $0.39 on an annual basis. On November 5, 2015, we again increased our quarterly cash dividend to $0.115 per share, or $0.46 on an annual basis.', span_location=SpanLocation(document_id='1', start_offset=1100, end_offset=1160), contains_table=False, table_row=None, table_column=None, processed_path='./data/processed/reports/report_NVDA_2016.json'),\n",
      "                        SourceInformation(company='NVIDIA', ticker='NVDA', year='2019', section='Item 5', subsection='Issuer Purchases of Equity Securities', span_text='Since the inception of our share repurchase program, we have repurchased an aggregate of 260 million shares for a total cost of $7.08 billion through January 27, 2019.', span_location=SpanLocation(document_id='2', start_offset=1234, end_offset=1288), contains_table=False, table_row=None, table_column=None, processed_path='./data/processed/reports/report_NVDA_2019.json'),\n",
      "                        SourceInformation(company='NVIDIA', ticker='NVDA', year='2019', section='Item 5', subsection='Issuer Purchases of Equity Securities', span_text='We intend to return $3.00 billion to shareholders by the end of fiscal year 2020, including $700 million of share repurchases we made in the fourth quarter of fiscal year 2019.', span_location=SpanLocation(document_id='2', start_offset=1300, end_offset=1358), contains_table=False, table_row=None, table_column=None, processed_path='./data/processed/reports/report_NVDA_2019.json')],\n",
      " 'reasoning_path': ['Step 1: Identify the cash dividends paid in 2016 and 2015 from the 2016 '\n",
      "                    'filing.',\n",
      "                    'Step 2: Note the increase in quarterly cash dividends from the 2015 to 2016 '\n",
      "                    'filings.',\n",
      "                    'Step 3: Review the share repurchase activities in the 2016 filing to find '\n",
      "                    'total shares repurchased and costs.',\n",
      "                    'Step 4: Compare the share repurchase data from the 2019 filing to see the '\n",
      "                    'total shares and costs.',\n",
      "                    'Step 5: Summarize the dividend and share repurchase activities for both '\n",
      "                    'years.'],\n",
      " 'question_type': 'single_company_multi_year',\n",
      " 'difficulty': 'medium',\n",
      " 'contains_tables': False}\n"
     ]
    }
   ],
   "source": [
    "pprint(generated_question.__dict__, width=100, sort_dicts=False)"
   ]
  },
  {
   "cell_type": "markdown",
   "metadata": {},
   "source": [
    "The response includes the following:\n",
    "\n",
    "* **Question and answer**: A question and answer are generated by the LLM based on the documents and question type we submitted\n",
    "* **Source information**: The LLM is also asked to extract the exact references it used in order to answer the question. This is essential information for us when it comes to evaluating RAG pipelines.\n",
    "* **Reasoning path**: Although not required now, it also outputs a potential reasoning path to answer the questions. This could be useful for fine-tuning a reasoning model."
   ]
  },
  {
   "cell_type": "markdown",
   "metadata": {},
   "source": [
    "# Generate multiple questions"
   ]
  },
  {
   "cell_type": "markdown",
   "metadata": {},
   "source": [
    "Now we'll use the `generate_sec_benchmark_dataset` function to generate multiple questions. This has a number of options, including:\n",
    "\n",
    "* **Number of questions**: We were only asked to include 10 questions for our benchmark for the assignment (in reality we would want more). However, the model will generate questions that are incorrect (e.g. references missing) or are unsuitable, so we need to specify more than we need.\n",
    "* **Model**: Here you can specify which model from the OpenAI API to use. I found the `gpy-4o-mini` model to be less reliable, particularly with outputting the references. I use the `gpt-4-turbo` model here, but note that this is more expensive.\n",
    "* **Exclude tables**: For the time being we will drop tables from the dataset. Tables will require additional processing for using in a RAG pipeline which we will revisit later."
   ]
  },
  {
   "cell_type": "code",
   "execution_count": 45,
   "metadata": {},
   "outputs": [
    {
     "name": "stdout",
     "output_type": "stream",
     "text": [
      "Loading preprocessed reports from ./data/processed/reports...\n",
      "Loaded 50 preprocessed reports\n",
      "Found data for 5 companies\n",
      "  - NVDA: 10 years (2016, 2017, 2018, 2019, 2020, 2021, 2022, 2023, 2024, 2025)\n",
      "  - AAPL: 10 years (2015, 2016, 2017, 2018, 2019, 2020, 2021, 2022, 2023, 2024)\n",
      "  - GOOG: 10 years (2016, 2017, 2018, 2019, 2020, 2021, 2022, 2023, 2024, 2025)\n",
      "  - MSFT: 10 years (2015, 2016, 2017, 2018, 2019, 2020, 2021, 2022, 2023, 2024)\n",
      "  - AMZN: 10 years (2016, 2017, 2018, 2019, 2020, 2021, 2022, 2023, 2024, 2025)\n",
      "Generating 50 benchmark questions...\n"
     ]
    },
    {
     "name": "stderr",
     "output_type": "stream",
     "text": [
      "  0%|          | 0/50 [00:00<?, ?it/s]"
     ]
    },
    {
     "name": "stdout",
     "output_type": "stream",
     "text": [
      "QuestionSpec(question_type=<QuestionType.SINGLE_COMPANY_SINGLE_YEAR: 'single_company_single_year'>, category=<QuestionCategory.FINANCIAL_METRIC: 'financial_metric'>, difficulty=<QuestionDifficulty.EASY: 'easy'>, reports=[CompanyReport(company_name='MICROSOFT CORP', ticker='MSFT', year=2015, raw_file_path='./data/raw/sec-edgar-filings/MSFT/10-K/0001193125-15-272806/full-submission.txt', industry='SERVICES-PREPACKAGED SOFTWARE [7372]', available_sections={'Item 8', 'Item 7A', 'Item 1A', 'Item 1', 'Item 5', 'Item 7'}, accession_number='0001193125-15-272806')], sections_to_include={'./data/processed/reports/report_MSFT_2015.json': ['Item 7', 'Item 8']})\n"
     ]
    },
    {
     "name": "stderr",
     "output_type": "stream",
     "text": [
      "  2%|▏         | 1/50 [00:20<16:49, 20.60s/it]"
     ]
    },
    {
     "name": "stdout",
     "output_type": "stream",
     "text": [
      "QuestionSpec(question_type=<QuestionType.MULTI_COMPANY_SINGLE_YEAR: 'multi_company_single_year'>, category=<QuestionCategory.TABLE_ANALYSIS: 'table_analysis'>, difficulty=<QuestionDifficulty.MEDIUM: 'medium'>, reports=[CompanyReport(company_name='AMAZON COM INC', ticker='AMZN', year=2017, raw_file_path='./data/raw/sec-edgar-filings/AMZN/10-K/0001018724-17-000011/full-submission.txt', industry='RETAIL-CATALOG & MAIL-ORDER HOUSES [5961]', available_sections={'Item 8', 'Item 7A', 'Item 1A', 'Item 1', 'Item 5', 'Item 7'}, accession_number='0001018724-17-000011'), CompanyReport(company_name='Alphabet Inc.', ticker='GOOG', year=2017, raw_file_path='./data/raw/sec-edgar-filings/GOOG/10-K/0001652044-17-000008/full-submission.txt', industry='SERVICES-COMPUTER PROGRAMMING, DATA PROCESSING, ETC. [7370]', available_sections={'Item 8', 'Item 7A', 'Item 1A', 'Item 1', 'Item 5', 'Item 7'}, accession_number='0001652044-17-000008')], sections_to_include={'./data/processed/reports/report_AMZN_2017.json': ['Item 8', 'Item 7A'], './data/processed/reports/report_GOOG_2017.json': ['Item 8', 'Item 7A']})\n"
     ]
    },
    {
     "name": "stderr",
     "output_type": "stream",
     "text": [
      "  4%|▍         | 2/50 [00:46<18:53, 23.61s/it]"
     ]
    },
    {
     "name": "stdout",
     "output_type": "stream",
     "text": [
      "QuestionSpec(question_type=<QuestionType.SINGLE_COMPANY_MULTI_YEAR: 'single_company_multi_year'>, category=<QuestionCategory.RISK_FACTOR: 'risk_factor'>, difficulty=<QuestionDifficulty.HARD: 'hard'>, reports=[CompanyReport(company_name='MICROSOFT CORP', ticker='MSFT', year=2016, raw_file_path='./data/raw/sec-edgar-filings/MSFT/10-K/0001193125-16-662209/full-submission.txt', industry='SERVICES-PREPACKAGED SOFTWARE [7372]', available_sections={'Item 8', 'Item 7A', 'Item 1A', 'Item 1', 'Item 5'}, accession_number='0001193125-16-662209'), CompanyReport(company_name='MICROSOFT CORP', ticker='MSFT', year=2017, raw_file_path='./data/raw/sec-edgar-filings/MSFT/10-K/0001564590-17-014900/full-submission.txt', industry='SERVICES-PREPACKAGED SOFTWARE [7372]', available_sections={'Item 8', 'Item 7A', 'Item 1A', 'Item 1', 'Item 5', 'Item 7'}, accession_number='0001564590-17-014900')], sections_to_include={'./data/processed/reports/report_MSFT_2016.json': ['Item 5'], './data/processed/reports/report_MSFT_2017.json': ['Item 5']})\n",
      "Warning: Formatted content too short (399 chars). Retrying...\n",
      "QuestionSpec(question_type=<QuestionType.MULTI_COMPANY_SINGLE_YEAR: 'multi_company_single_year'>, category=<QuestionCategory.FORWARD_LOOKING: 'forward_looking'>, difficulty=<QuestionDifficulty.MEDIUM: 'medium'>, reports=[CompanyReport(company_name='MICROSOFT CORP', ticker='MSFT', year=2023, raw_file_path='./data/raw/sec-edgar-filings/MSFT/10-K/0000950170-23-035122/full-submission.txt', industry='SERVICES-PREPACKAGED SOFTWARE [7372]', available_sections={'Item 8', 'Item 7A', 'Item 1A', 'Item 1', 'Item 5', 'Item 7'}, accession_number='0000950170-23-035122'), CompanyReport(company_name='Alphabet Inc.', ticker='GOOG', year=2023, raw_file_path='./data/raw/sec-edgar-filings/GOOG/10-K/0001652044-23-000016/full-submission.txt', industry='SERVICES-COMPUTER PROGRAMMING, DATA PROCESSING, ETC. [7370]', available_sections={'Item 8', 'Item 7A', 'Item 1A', 'Item 1', 'Item 5', 'Item 7'}, accession_number='0001652044-23-000016'), CompanyReport(company_name='NVIDIA CORP', ticker='NVDA', year=2023, raw_file_path='./data/raw/sec-edgar-filings/NVDA/10-K/0001045810-23-000017/full-submission.txt', industry='SEMICONDUCTORS & RELATED DEVICES [3674]', available_sections={'Item 8', 'Item 7A', 'Item 1A', 'Item 1', 'Item 5', 'Item 7'}, accession_number='0001045810-23-000017')], sections_to_include={'./data/processed/reports/report_MSFT_2023.json': ['Item 7'], './data/processed/reports/report_GOOG_2023.json': ['Item 7'], './data/processed/reports/report_NVDA_2023.json': ['Item 7']})\n"
     ]
    },
    {
     "name": "stderr",
     "output_type": "stream",
     "text": [
      "  6%|▌         | 3/50 [01:14<20:00, 25.55s/it]"
     ]
    },
    {
     "name": "stdout",
     "output_type": "stream",
     "text": [
      "QuestionSpec(question_type=<QuestionType.SINGLE_COMPANY_SINGLE_YEAR: 'single_company_single_year'>, category=<QuestionCategory.COMPANY_STOCK: 'company_stock'>, difficulty=<QuestionDifficulty.MEDIUM: 'medium'>, reports=[CompanyReport(company_name='Alphabet Inc.', ticker='GOOG', year=2022, raw_file_path='./data/raw/sec-edgar-filings/GOOG/10-K/0001652044-22-000019/full-submission.txt', industry='SERVICES-COMPUTER PROGRAMMING, DATA PROCESSING, ETC. [7370]', available_sections={'Item 8', 'Item 7A', 'Item 1A', 'Item 1', 'Item 5', 'Item 7'}, accession_number='0001652044-22-000019')], sections_to_include={'./data/processed/reports/report_GOOG_2022.json': ['Item 7A', 'Item 1A']})\n"
     ]
    },
    {
     "name": "stderr",
     "output_type": "stream",
     "text": [
      "  8%|▊         | 4/50 [01:40<19:45, 25.78s/it]"
     ]
    },
    {
     "name": "stdout",
     "output_type": "stream",
     "text": [
      "QuestionSpec(question_type=<QuestionType.MULTI_COMPANY_SINGLE_YEAR: 'multi_company_single_year'>, category=<QuestionCategory.FORWARD_LOOKING: 'forward_looking'>, difficulty=<QuestionDifficulty.EASY: 'easy'>, reports=[CompanyReport(company_name='NVIDIA CORP', ticker='NVDA', year=2022, raw_file_path='./data/raw/sec-edgar-filings/NVDA/10-K/0001045810-22-000036/full-submission.txt', industry='SEMICONDUCTORS & RELATED DEVICES [3674]', available_sections={'Item 8', 'Item 7A', 'Item 1A', 'Item 1', 'Item 5', 'Item 7'}, accession_number='0001045810-22-000036'), CompanyReport(company_name='AMAZON COM INC', ticker='AMZN', year=2022, raw_file_path='./data/raw/sec-edgar-filings/AMZN/10-K/0001018724-22-000005/full-submission.txt', industry='RETAIL-CATALOG & MAIL-ORDER HOUSES [5961]', available_sections={'Item 8', 'Item 7A', 'Item 1A', 'Item 1', 'Item 5', 'Item 7'}, accession_number='0001018724-22-000005'), CompanyReport(company_name='MICROSOFT CORP', ticker='MSFT', year=2022, raw_file_path='./data/raw/sec-edgar-filings/MSFT/10-K/0001564590-22-026876/full-submission.txt', industry='SERVICES-PREPACKAGED SOFTWARE [7372]', available_sections={'Item 8', 'Item 7A', 'Item 1A', 'Item 1', 'Item 5', 'Item 7'}, accession_number='0001564590-22-026876')], sections_to_include={'./data/processed/reports/report_NVDA_2022.json': ['Item 7'], './data/processed/reports/report_AMZN_2022.json': ['Item 7'], './data/processed/reports/report_MSFT_2022.json': ['Item 7']})\n"
     ]
    },
    {
     "name": "stderr",
     "output_type": "stream",
     "text": [
      " 10%|█         | 5/50 [02:05<19:15, 25.69s/it]"
     ]
    },
    {
     "name": "stdout",
     "output_type": "stream",
     "text": [
      "QuestionSpec(question_type=<QuestionType.SINGLE_COMPANY_SINGLE_YEAR: 'single_company_single_year'>, category=<QuestionCategory.BUSINESS_OVERVIEW: 'business_overview'>, difficulty=<QuestionDifficulty.MEDIUM: 'medium'>, reports=[CompanyReport(company_name='AMAZON COM INC', ticker='AMZN', year=2024, raw_file_path='./data/raw/sec-edgar-filings/AMZN/10-K/0001018724-24-000008/full-submission.txt', industry='RETAIL-CATALOG & MAIL-ORDER HOUSES [5961]', available_sections={'Item 8', 'Item 7A', 'Item 1A', 'Item 1', 'Item 5', 'Item 7'}, accession_number='0001018724-24-000008')], sections_to_include={'./data/processed/reports/report_AMZN_2024.json': ['Item 1']})\n"
     ]
    },
    {
     "name": "stderr",
     "output_type": "stream",
     "text": [
      " 12%|█▏        | 6/50 [02:28<18:10, 24.78s/it]"
     ]
    },
    {
     "name": "stdout",
     "output_type": "stream",
     "text": [
      "QuestionSpec(question_type=<QuestionType.MULTI_COMPANY_SINGLE_YEAR: 'multi_company_single_year'>, category=<QuestionCategory.FINANCIAL_METRIC: 'financial_metric'>, difficulty=<QuestionDifficulty.MEDIUM: 'medium'>, reports=[CompanyReport(company_name='MICROSOFT CORP', ticker='MSFT', year=2016, raw_file_path='./data/raw/sec-edgar-filings/MSFT/10-K/0001193125-16-662209/full-submission.txt', industry='SERVICES-PREPACKAGED SOFTWARE [7372]', available_sections={'Item 8', 'Item 7A', 'Item 1A', 'Item 1', 'Item 5'}, accession_number='0001193125-16-662209'), CompanyReport(company_name='NVIDIA CORP', ticker='NVDA', year=2016, raw_file_path='./data/raw/sec-edgar-filings/NVDA/10-K/0001045810-16-000205/full-submission.txt', industry='SEMICONDUCTORS & RELATED DEVICES [3674]', available_sections={'Item 8', 'Item 7A', 'Item 1A', 'Item 1', 'Item 5', 'Item 7'}, accession_number='0001045810-16-000205')], sections_to_include={'./data/processed/reports/report_MSFT_2016.json': ['Item 8'], './data/processed/reports/report_NVDA_2016.json': ['Item 7']})\n"
     ]
    },
    {
     "name": "stderr",
     "output_type": "stream",
     "text": [
      " 14%|█▍        | 7/50 [02:45<15:55, 22.23s/it]"
     ]
    },
    {
     "name": "stdout",
     "output_type": "stream",
     "text": [
      "QuestionSpec(question_type=<QuestionType.SINGLE_COMPANY_MULTI_YEAR: 'single_company_multi_year'>, category=<QuestionCategory.RISK_FACTOR: 'risk_factor'>, difficulty=<QuestionDifficulty.EASY: 'easy'>, reports=[CompanyReport(company_name='AMAZON COM INC', ticker='AMZN', year=2020, raw_file_path='./data/raw/sec-edgar-filings/AMZN/10-K/0001018724-20-000004/full-submission.txt', industry='RETAIL-CATALOG & MAIL-ORDER HOUSES [5961]', available_sections={'Item 8', 'Item 7A', 'Item 1A', 'Item 1', 'Item 5', 'Item 7'}, accession_number='0001018724-20-000004'), CompanyReport(company_name='AMAZON COM INC', ticker='AMZN', year=2019, raw_file_path='./data/raw/sec-edgar-filings/AMZN/10-K/0001018724-19-000004/full-submission.txt', industry='RETAIL-CATALOG & MAIL-ORDER HOUSES [5961]', available_sections={'Item 8', 'Item 7A', 'Item 1A', 'Item 1', 'Item 5', 'Item 7'}, accession_number='0001018724-19-000004')], sections_to_include={'./data/processed/reports/report_AMZN_2020.json': ['Item 5'], './data/processed/reports/report_AMZN_2019.json': ['Item 5']})\n"
     ]
    },
    {
     "name": "stderr",
     "output_type": "stream",
     "text": [
      " 16%|█▌        | 8/50 [03:00<13:52, 19.83s/it]"
     ]
    },
    {
     "name": "stdout",
     "output_type": "stream",
     "text": [
      "QuestionSpec(question_type=<QuestionType.MULTI_COMPANY_SINGLE_YEAR: 'multi_company_single_year'>, category=<QuestionCategory.FINANCIAL_METRIC: 'financial_metric'>, difficulty=<QuestionDifficulty.EASY: 'easy'>, reports=[CompanyReport(company_name='AMAZON COM INC', ticker='AMZN', year=2017, raw_file_path='./data/raw/sec-edgar-filings/AMZN/10-K/0001018724-17-000011/full-submission.txt', industry='RETAIL-CATALOG & MAIL-ORDER HOUSES [5961]', available_sections={'Item 8', 'Item 7A', 'Item 1A', 'Item 1', 'Item 5', 'Item 7'}, accession_number='0001018724-17-000011'), CompanyReport(company_name='APPLE INC', ticker='AAPL', year=2017, raw_file_path='./data/raw/sec-edgar-filings/AAPL/10-K/0000320193-17-000070/full-submission.txt', industry='ELECTRONIC COMPUTERS [3571]', available_sections={'Item 8', 'Item 7A', 'Item 1A', 'Item 1', 'Item 5', 'Item 7'}, accession_number='0000320193-17-000070')], sections_to_include={'./data/processed/reports/report_AMZN_2017.json': ['Item 7'], './data/processed/reports/report_AAPL_2017.json': ['Item 8', 'Item 7']})\n"
     ]
    },
    {
     "name": "stderr",
     "output_type": "stream",
     "text": [
      " 18%|█▊        | 9/50 [03:45<18:56, 27.73s/it]"
     ]
    },
    {
     "name": "stdout",
     "output_type": "stream",
     "text": [
      "QuestionSpec(question_type=<QuestionType.SINGLE_COMPANY_SINGLE_YEAR: 'single_company_single_year'>, category=<QuestionCategory.FORWARD_LOOKING: 'forward_looking'>, difficulty=<QuestionDifficulty.MEDIUM: 'medium'>, reports=[CompanyReport(company_name='MICROSOFT CORP', ticker='MSFT', year=2018, raw_file_path='./data/raw/sec-edgar-filings/MSFT/10-K/0001564590-18-019062/full-submission.txt', industry='SERVICES-PREPACKAGED SOFTWARE [7372]', available_sections={'Item 8', 'Item 7A', 'Item 1A', 'Item 1', 'Item 5', 'Item 7'}, accession_number='0001564590-18-019062')], sections_to_include={'./data/processed/reports/report_MSFT_2018.json': ['Item 7']})\n",
      "Error parsing JSON response: Expecting value: line 1 column 1 (char 0)\n",
      "Response content: {\n",
      "    \"question\": \"Can you tell me how many tables were included in the Management's Discussion and Analysis section of MSFT's 2018 SEC 10-K filing?\",\n",
      "    \"answer\": \"The Management's Discussion and Analysis section of MSFT's 2018 SEC 10-K filing included a total of 34 tables.\",\n",
      "    \"source_information\": [\n",
      "        {\n",
      "            \"company\": \"MSFT\",\n",
      "            \"ticker\": \"MSFT\",\n",
      "            \"year\": \"2018\",\n",
      "            \"section\": \"Item 7\",\n",
      "            \"subsection\": null,\n",
      "            \"span_text\": \"[TABLE REMOVED] [TABLE REMOVED] [TABLE REMOVED] [TABLE REMOVED] [TABLE REMOVED] [TABLE REMOVED] [TABLE REMOVED] [TABLE REMOVED] [TABLE REMOVED] [TABLE REMOVED] [TABLE REMOVED] 0 [TABLE REMOVED] 2 [TABLE REMOVED] 4 [TABLE REMOVED] 6 [TABLE REMOVED] 8 [TABLE REMOVED] [TABLE REMOVED] [TABLE REMOVED] [TABLE REMOVED] [TABLE REMOVED] [TABLE REMOVED] 0 [TABLE REMOVED] 2 [TABLE REMOVED] 4 [TABLE REMOVED] 6 [TABLE REMOVED] 8 [TABLE REMOVED] [TABLE REMOVED] [TABLE REMOVED] [TABLE REMOVED] [TABLE REMOVED] [TABLE REMOVED] 0 [TABLE REMOVED] 2 [TABLE REMOVED] 4 [TABLE REMOVED] 6 [TABLE REMOVED] 8 [TABLE REMOVED] [TABLE REMOVED] [TABLE REMOVED] [TABLE REMOVED] [TABLE REMOVED] [TABLE REMOVED] 0 [TABLE REMOVED] 2 [TABLE REMOVED] 4 [TABLE REMOVED] 6 [TABLE REMOVED] 8 [TABLE REMOVED] [TABLE REMOVED] [TABLE REMOVED] [TABLE REMOVED] [TABLE REMOVED] [TABLE REMOVED] 0 [TABLE REMOVED] 2 [TABLE REMOVED] 4 [TABLE REMOVED] 6 [TABLE REMOVED] 8 [TABLE REMOVED] [TABLE REMOVED] [TABLE REMOVED] [TABLE REMOVED] [TABLE REMOVED] [TABLE REMOVED] 0 [TABLE REMOVED] 2 [TABLE REMOVED] 4 [TABLE REMOVED] 6 [TABLE REMOVED] 8 [TABLE REMOVED] [TABLE REMOVED] [TABLE REMOVED] [TABLE REMOVED] [TABLE REMOVED] [TABLE REMOVED] 0 [TABLE REMOVED] 2 [TABLE REMOVED] 4 [TABLE REMOVED] 6 [TABLE REMOVED] 8 [TABLE REMOVED] [TABLE REMOVED] [TABLE REMOVED] [TABLE REMOVED] [TABLE REMOVED] [TABLE REMOVED] 0 [TABLE REMOVED] 2 [TABLE REMOVED] 4 [TABLE REMOVED] 6 [TABLE REMOVED] 8 [TABLE REMOVED] [TABLE REMOVED] [TABLE REMOVED] [TABLE REMOVED] [TABLE REMOVED] [TABLE REMOVED] 0 [TABLE REMOVED] 2 [TABLE REMOVED] 4 [TABLE REMOVED] 6 [TABLE REMOVED] 8 [TABLE REMOVED] [TABLE REMOVED] [TABLE REMOVED] [TABLE REMOVED] [TABLE REMOVED] [TABLE REMOVED] 0 [TABLE REMOVED] 2 [TABLE REMOVED] 4 [TABLE REMOVED] 6 [TABLE REMOVED] 8 [TABLE REMOVED] [TABLE REMOVED] [TABLE REMOVED] [TABLE REMOVED] [TABLE REMOVED] [TABLE REMOVED] 0 [TABLE REMOVED] 2 [TABLE REMOVED] 4 [TABLE REMOVED] 6 [TABLE REMOVED] 8 [TABLE REMOVED] [TABLE REMOVED] [TABLE REMOVED] [TABLE REMOVED] [TABLE REMOVED] [TABLE REMOVED] 0 [TABLE REMOVED] 2 [TABLE REMOVED] 4 [TABLE REMOVED] 6 [TABLE REMOVED] 8 [TABLE REMOVED] [TABLE REMOVED] [TABLE REMOVED] [TABLE REMOVED] [TABLE REMOVED] [TABLE REMOVED] 0 [TABLE REMOVED] 2 [TABLE REMOVED] 4 [TABLE REMOVED] 6 [TABLE REMOVED] 8 [TABLE REMOVED] [TABLE REMOVED] [TABLE REMOVED] [TABLE REMOVED] [TABLE REMOVED] [TABLE REMOVED] 0 [TABLE REMOVED] 2 [TABLE REMOVED] 4 [TABLE REMOVED] 6 [TABLE REMOVED] 8 [TABLE REMOVED] [TABLE REMOVED] [TABLE REMOVED] [TABLE REMOVED] [TABLE REMOVED] [TABLE REMOVED] 0 [TABLE REMOVED] 2 [TABLE REMOVED] 4 [TABLE REMOVED] 6 [TABLE REMOVED] 8 [TABLE REMOVED] [TABLE REMOVED] [TABLE REMOVED] [TABLE REMOVED] [TABLE REMOVED] [TABLE REMOVED] 0 [TABLE REMOVED] 2 [TABLE REMOVED] 4 [TABLE REMOVED] 6 [TABLE REMOVED] 8 [TABLE REMOVED] [TABLE REMOVED] [TABLE REMOVED] [TABLE REMOVED] [TABLE REMOVED] [TABLE REMOVED] 0 [TABLE REMOVED] 2 [TABLE REMOVED] 4 [TABLE REMOVED] 6 [TABLE REMOVED] 8 [TABLE REMOVED] [TABLE REMOVED] [TABLE REMOVED] [TABLE REMOVED] [TABLE REMOVED] [TABLE REMOVED] 0 [TABLE REMOVED] 2 [TABLE REMOVED] 4 [TABLE REMOVED] 6 [TABLE REMOVED] 8 [TABLE REMOVED] [TABLE REMOVED] [TABLE REMOVED] [TABLE REMOVED] [TABLE REMOVED] [TABLE REMOVED] 0 [TABLE REMOVED] 2 [TABLE REMOVED] 4 [TABLE REMOVED] 6 [TABLE REMOVED] 8 [TABLE REMOVED] [TABLE REMOVED] [TABLE REMOVED] [TABLE REMOVED] [TABLE REMOVED] [TABLE REMOVED] 0 [TABLE REMOVED] 2 [TABLE REMOVED] 4 [TABLE REMOVED] 6 [TABLE REMOVED] 8 [TABLE REMOVED] [TABLE REMOVED] [TABLE REMOVED] [TABLE REMOVED] [TABLE REMOVED] [TABLE REMOVED] 0 [TABLE REMOVED] 2 [TABLE REMOVED] 4 [TABLE REMOVED] 6 [TABLE REMOVED] 8 [TABLE REMOVED] [TABLE REMOVED] [TABLE REMOVED] [TABLE REMOVED] [TABLE REMOVED] [TABLE REMOVED] 0 [TABLE REMOVED] 2 [TABLE REMOVED] 4 [TABLE REMOVED] 6 [TABLE REMOVED] 8 [TABLE REMOVED] [TABLE REMOVED] [TABLE REMOVED] [TABLE REMOVED] [TABLE REMOVED] [TABLE REMOVED] 0 [TABLE REMOVED] 2 [TABLE REMOVED] 4 [TABLE REMOVED] 6 [TABLE REMOVED] 8 [TABLE REMOVED] [TABLE REMOVED] [TABLE REMOVED] [TABLE REMOVED] [TABLE REMOVED] [TABLE REMOVED] 0 [TABLE REMOVED] 2 [TABLE REMOVED] 4 [TABLE REMOVED] 6 [TABLE REMOVED] 8 [TABLE REMOVED] [TABLE REMOVED] [TABLE REMOVED] [TABLE REMOVED] [TABLE REMOVED] [TABLE REMOVED] 0 [TABLE REMOVED] 2 [TABLE REMOVED] 4 [TABLE REMOVED] 6 [TABLE REMOVED] 8 [TABLE REMOVED] [TABLE REMOVED] [TABLE REMOVED] [TABLE REMOVED] [TABLE REMOVED] [TABLE REMOVED] 0 [TABLE REMOVED] 2 [TABLE REMOVED] 4 [TABLE REMOVED] 6 [TABLE REMOVED] 8 [TABLE REMOVED] [TABLE REMOVED] [TABLE REMOVED] [TABLE REMOVED] [TABLE REMOVED] [TABLE REMOVED] 0 [TABLE REMOVED] 2 [TABLE REMOVED] 4 [TABLE REMOVED] 6 [TABLE REMOVED] 8 [TABLE REMOVED] [TABLE REMOVED] [TABLE REMOVED] [TABLE REMOVED] [TABLE REMOVED] [TABLE REMOVED] 0 [TABLE REMOVED] 2 [TABLE REMOVED] 4 [TABLE REMOVED] 6 [TABLE REMOVED] 8 [TABLE REMOVED] [TABLE REMOVED] [TABLE REMOVED] [TABLE REMOVED] [TABLE REMOVED] [TABLE REMOVED] 0 [TABLE REMOVED] 2 [TABLE REMOVED] 4 [TABLE REMOVED] 6 [TABLE REMOVED] 8 [TABLE REMOVED] [TABLE REMOVED] [TABLE REMOVED] [TABLE REMOVED] [TABLE REMOVED] [TABLE REMOVED] 0 [TABLE REMOVED] 2 [TABLE REMOVED] 4 [TABLE REMOVED] 6 [TABLE REMOVED] 8 [TABLE REMOVED] [TABLE REMOVED] [TABLE REMOVED] [TABLE REMOVED] [TABLE REMOVED] [TABLE REMOVED] 0 [TABLE REMOVED] 2 [TABLE REMOVED] 4 [TABLE REMOVED] 6 [TABLE REMOVED] 8 [TABLE REMOVED] [TABLE REMOVED] [TABLE REMOVED] [TABLE REMOVED] [TABLE REMOVED] [TABLE REMOVED] 0 [TABLE REMOVED] 2 [TABLE REMOVED] 4 [TABLE REMOVED] 6 [TABLE REMOVED] 8 [TABLE REMOVED] [TABLE REMOVED] [TABLE REMOVED] [TABLE REMOVED] [TABLE REMOVED] [TABLE REMOVED] 0 [TABLE REMOVED] 2 [TABLE REMOVED] 4 [TABLE REMOVED] 6 [TABLE REMOVED] 8 [TABLE REMOVED] [TABLE REMOVED] [TABLE REMOVED] [TABLE REMOVED] [TABLE REMOVED] [TABLE REMOVED] 0 [TABLE REMOVED] 2 [TABLE REMOVED] 4 [TABLE REMOVED] 6 [TABLE REMOVED] 8 [TABLE REMOVED] [TABLE REMOVED] [TABLE REMOVED] [TABLE REMOVED] [TABLE REMOVED] [TABLE REMOVED] 0 [TABLE REMOVED] 2 [TABLE REMOVED] 4 [TABLE REMOVED] 6 [TABLE REMOVED] 8 [TABLE REMOVED] [TABLE REMOVED] [TABLE REMOVED] [TABLE REMOVED] [TABLE REMOVED] [TABLE REMOVED] 0 [TABLE REMOVED] 2 [TABLE REMOVED] 4 [TABLE REMOVED] 6 [TABLE REMOVED] 8 [TABLE REMOVED] [TABLE REMOVED] [TABLE REMOVED] [TABLE REMOVED] [TABLE REMOVED] [TABLE REMOVED] 0 [TABLE REMOVED] 2 [TABLE REMOVED] 4 [TABLE REMOVED] 6 [TABLE REMOVED] 8 [TABLE REMOVED] [TABLE REMOVED] [TABLE REMOVED] [TABLE REMOVED] [TABLE REMOVED] [TABLE REMOVED] 0 [TABLE REMOVED] 2 [TABLE REMOVED] 4 [TABLE REMOVED] 6 [TABLE REMOVED] 8 [TABLE REMOVED] [TABLE REMOVED] [TABLE REMOVED] [TABLE REMOVED] [TABLE REMOVED] [TABLE REMOVED] 0 [TABLE REMOVED] 2 [TABLE REMOVED] 4 [TABLE REMOVED] 6 [TABLE REMOVED] 8 [TABLE REMOVED] [TABLE REMOVED] [TABLE REMOVED] [TABLE REMOVED] [TABLE REMOVED] [TABLE REMOVED] 0 [TABLE REMOVED] 2 [TABLE REMOVED] 4 [TABLE REMOVED] 6 [TABLE REMOVED] 8 [TABLE REMOVED] [TABLE REMOVED] [TABLE REMOVED] [TABLE REMOVED] [TABLE REMOVED] [TABLE REMOVED] 0 [TABLE REMOVED] 2 [TABLE REMOVED] 4 [TABLE REMOVED] 6 [TABLE REMOVED] 8 [TABLE REMOVED] [TABLE REMOVED] [TABLE REMOVED] [TABLE REMOVED] [TABLE REMOVED] [TABLE REMOVED] 0 [TABLE REMOVED] 2 [TABLE REMOVED] 4 [TABLE REMOVED] 6 [TABLE REMOVED] 8 [TABLE REMOVED] [TABLE REMOVED] [TABLE REMOVED] [TABLE REMOVED] [TABLE REMOVED] [TABLE REMOVED] 0 [TABLE REMOVED] 2 [TABLE REMOVED] 4 [TABLE REMOVED] 6 [TABLE REMOVED] 8 [TABLE REMOVED] [TABLE REMOVED] [TABLE REMOVED] [TABLE REMOVED] [TABLE REMOVED] [TABLE REMOVED] 0 [TABLE REMOVED] 2 [TABLE REMOVED] 4 [TABLE REMOVED] 6 [TABLE REMOVED] 8 [TABLE REMOVED] [TABLE REMOVED] [TABLE REMOVED] [TABLE REMOVED] [TABLE REMOVED] [TABLE REMOVED] 0 [TABLE REMOVED] 2 [TABLE REMOVED] 4 [TABLE REMOVED] 6 [TABLE REMOVED] 8 [TABLE REMOVED] [TABLE REMOVED] [TABLE REMOVED] [TABLE REMOVED] [TABLE REMOVED] [TABLE REMOVED] 0 [TABLE REMOVED] 2 [TABLE REMOVED] 4 [TABLE REMOVED] 6 [TABLE REMOVED] 8 [TABLE REMOVED] [TABLE REMOVED] [TABLE REMOVED] [TABLE REMOVED] [TABLE REMOVED] [TABLE REMOVED] 0 [TABLE REMOVED] 2 [TABLE REMOVED] 4 [TABLE REMOVED] 6 [TABLE REMOVED] 8 [TABLE REMOVED] [TABLE REMOVED] [TABLE REMOVED] [TABLE REMOVED] [TABLE REMOVED] [TABLE REMOVED] 0 [TABLE REMOVED] 2 [TABLE REMOVED] 4 [TABLE REMOVED] 6 [TABLE REMOVED] 8 [TABLE REMOVED] [TABLE REMOVED] [TABLE REMOVED] [TABLE REMOVED] [TABLE REMOVED] [TABLE REMOVED] 0 [TABLE REMOVED] 2 [TABLE REMOVED] 4 [TABLE REMOVED] 6 [TABLE REMOVED] 8 [TABLE REMOVED] [TABLE REMOVED] [TABLE REMOVED] [TABLE REMOVED] [TABLE REMOVED] [TABLE REMOVED] 0 [TABLE REMOVED] 2 [TABLE REMOVED] 4 [TABLE REMOVED] 6 [TABLE REMOVED] 8 [TABLE REMOVED] [TABLE REMOVED] [TABLE REMOVED] [TABLE REMOVED] [TABLE REMOVED] [TABLE REMOVED] 0 [TABLE REMOVED] 2 [TABLE REMOVED] 4 [TABLE REMOVED] 6 [TABLE REMOVED] 8 [TABLE REMOVED] [TABLE REMOVED] [TABLE REMOVED] [TABLE REMOVED] [TABLE REMOVED] [TABLE REMOVED] 0 [TABLE REMOVED] 2 [TABLE REMOVED] 4 [TABLE REMOVED] 6 [TABLE REMOVED] 8 [TABLE REMOVED] [TABLE REMOVED] [TABLE REMOVED] [TABLE REMOVED] [TABLE REMOVED] [TABLE REMOVED] 0 [TABLE REMOVED] 2 [TABLE REMOVED] 4 [TABLE REMOVED] 6 [TABLE REMOVED] 8 [TABLE REMOVED] [TABLE REMOVED] [TABLE REMOVED] [TABLE REMOVED] [TABLE REMOVED] [TABLE REMOVED] 0 [TABLE REMOVED] 2 [TABLE REMOVED] 4 [TABLE REMOVED] 6 [TABLE REMOVED] 8 [TABLE REMOVED] [TABLE REMOVED] [TABLE REMOVED] [TABLE REMOVED] [TABLE REMOVED] [TABLE REMOVED] 0 [TABLE REMOVED] 2 [TABLE REMOVED] 4 [TABLE REMOVED] 6 [TABLE REMOVED] 8\n",
      "Error calling OpenAI API: Expecting value: line 1 column 1 (char 0)\n",
      "Error generating question (attempt 1/10): Expecting value: line 1 column 1 (char 0)\n",
      "QuestionSpec(question_type=<QuestionType.SINGLE_COMPANY_SINGLE_YEAR: 'single_company_single_year'>, category=<QuestionCategory.COMPANY_STOCK: 'company_stock'>, difficulty=<QuestionDifficulty.MEDIUM: 'medium'>, reports=[CompanyReport(company_name='Apple Inc.', ticker='AAPL', year=2020, raw_file_path='./data/raw/sec-edgar-filings/AAPL/10-K/0000320193-20-000096/full-submission.txt', industry='ELECTRONIC COMPUTERS [3571]', available_sections={'Item 8', 'Item 7A', 'Item 1A', 'Item 1', 'Item 5', 'Item 7'}, accession_number='0000320193-20-000096')], sections_to_include={'./data/processed/reports/report_AAPL_2020.json': ['Item 1A', 'Item 8']})\n"
     ]
    },
    {
     "name": "stderr",
     "output_type": "stream",
     "text": [
      " 20%|██        | 10/50 [06:03<41:05, 61.63s/it]"
     ]
    },
    {
     "name": "stdout",
     "output_type": "stream",
     "text": [
      "QuestionSpec(question_type=<QuestionType.MULTI_COMPANY_SINGLE_YEAR: 'multi_company_single_year'>, category=<QuestionCategory.FINANCIAL_METRIC: 'financial_metric'>, difficulty=<QuestionDifficulty.MEDIUM: 'medium'>, reports=[CompanyReport(company_name='AMAZON COM INC', ticker='AMZN', year=2023, raw_file_path='./data/raw/sec-edgar-filings/AMZN/10-K/0001018724-23-000004/full-submission.txt', industry='RETAIL-CATALOG & MAIL-ORDER HOUSES [5961]', available_sections={'Item 8', 'Item 7A', 'Item 1A', 'Item 1', 'Item 5', 'Item 7'}, accession_number='0001018724-23-000004'), CompanyReport(company_name='Apple Inc.', ticker='AAPL', year=2023, raw_file_path='./data/raw/sec-edgar-filings/AAPL/10-K/0000320193-23-000106/full-submission.txt', industry='ELECTRONIC COMPUTERS [3571]', available_sections={'Item 8', 'Item 7A', 'Item 1A', 'Item 1', 'Item 5', 'Item 7'}, accession_number='0000320193-23-000106'), CompanyReport(company_name='NVIDIA CORP', ticker='NVDA', year=2023, raw_file_path='./data/raw/sec-edgar-filings/NVDA/10-K/0001045810-23-000017/full-submission.txt', industry='SEMICONDUCTORS & RELATED DEVICES [3674]', available_sections={'Item 8', 'Item 7A', 'Item 1A', 'Item 1', 'Item 5', 'Item 7'}, accession_number='0001045810-23-000017')], sections_to_include={'./data/processed/reports/report_AMZN_2023.json': ['Item 8', 'Item 7'], './data/processed/reports/report_AAPL_2023.json': ['Item 8'], './data/processed/reports/report_NVDA_2023.json': ['Item 7']})\n"
     ]
    },
    {
     "name": "stderr",
     "output_type": "stream",
     "text": [
      " 22%|██▏       | 11/50 [06:34<33:56, 52.21s/it]"
     ]
    },
    {
     "name": "stdout",
     "output_type": "stream",
     "text": [
      "QuestionSpec(question_type=<QuestionType.MULTI_COMPANY_SINGLE_YEAR: 'multi_company_single_year'>, category=<QuestionCategory.RISK_FACTOR: 'risk_factor'>, difficulty=<QuestionDifficulty.EASY: 'easy'>, reports=[CompanyReport(company_name='MICROSOFT CORP', ticker='MSFT', year=2022, raw_file_path='./data/raw/sec-edgar-filings/MSFT/10-K/0001564590-22-026876/full-submission.txt', industry='SERVICES-PREPACKAGED SOFTWARE [7372]', available_sections={'Item 8', 'Item 7A', 'Item 1A', 'Item 1', 'Item 5', 'Item 7'}, accession_number='0001564590-22-026876'), CompanyReport(company_name='NVIDIA CORP', ticker='NVDA', year=2022, raw_file_path='./data/raw/sec-edgar-filings/NVDA/10-K/0001045810-22-000036/full-submission.txt', industry='SEMICONDUCTORS & RELATED DEVICES [3674]', available_sections={'Item 8', 'Item 7A', 'Item 1A', 'Item 1', 'Item 5', 'Item 7'}, accession_number='0001045810-22-000036')], sections_to_include={'./data/processed/reports/report_MSFT_2022.json': ['Item 5'], './data/processed/reports/report_NVDA_2022.json': ['Item 5']})\n"
     ]
    },
    {
     "name": "stderr",
     "output_type": "stream",
     "text": [
      " 24%|██▍       | 12/50 [06:50<26:07, 41.26s/it]"
     ]
    },
    {
     "name": "stdout",
     "output_type": "stream",
     "text": [
      "QuestionSpec(question_type=<QuestionType.SINGLE_COMPANY_MULTI_YEAR: 'single_company_multi_year'>, category=<QuestionCategory.SEGMENT_ANALYSIS: 'segment_analysis'>, difficulty=<QuestionDifficulty.EASY: 'easy'>, reports=[CompanyReport(company_name='AMAZON COM INC', ticker='AMZN', year=2024, raw_file_path='./data/raw/sec-edgar-filings/AMZN/10-K/0001018724-24-000008/full-submission.txt', industry='RETAIL-CATALOG & MAIL-ORDER HOUSES [5961]', available_sections={'Item 8', 'Item 7A', 'Item 1A', 'Item 1', 'Item 5', 'Item 7'}, accession_number='0001018724-24-000008'), CompanyReport(company_name='AMAZON COM INC', ticker='AMZN', year=2016, raw_file_path='./data/raw/sec-edgar-filings/AMZN/10-K/0001018724-16-000172/full-submission.txt', industry='RETAIL-CATALOG & MAIL-ORDER HOUSES [5961]', available_sections={'Item 8', 'Item 7A', 'Item 1A', 'Item 1', 'Item 5', 'Item 7'}, accession_number='0001018724-16-000172')], sections_to_include={'./data/processed/reports/report_AMZN_2024.json': ['Item 8', 'Item 7'], './data/processed/reports/report_AMZN_2016.json': ['Item 7']})\n"
     ]
    },
    {
     "name": "stderr",
     "output_type": "stream",
     "text": [
      " 26%|██▌       | 13/50 [07:07<20:57, 33.97s/it]"
     ]
    },
    {
     "name": "stdout",
     "output_type": "stream",
     "text": [
      "QuestionSpec(question_type=<QuestionType.SINGLE_COMPANY_SINGLE_YEAR: 'single_company_single_year'>, category=<QuestionCategory.SEGMENT_ANALYSIS: 'segment_analysis'>, difficulty=<QuestionDifficulty.MEDIUM: 'medium'>, reports=[CompanyReport(company_name='AMAZON COM INC', ticker='AMZN', year=2020, raw_file_path='./data/raw/sec-edgar-filings/AMZN/10-K/0001018724-20-000004/full-submission.txt', industry='RETAIL-CATALOG & MAIL-ORDER HOUSES [5961]', available_sections={'Item 8', 'Item 7A', 'Item 1A', 'Item 1', 'Item 5', 'Item 7'}, accession_number='0001018724-20-000004')], sections_to_include={'./data/processed/reports/report_AMZN_2020.json': ['Item 7']})\n"
     ]
    },
    {
     "name": "stderr",
     "output_type": "stream",
     "text": [
      " 28%|██▊       | 14/50 [07:20<16:39, 27.77s/it]"
     ]
    },
    {
     "name": "stdout",
     "output_type": "stream",
     "text": [
      "QuestionSpec(question_type=<QuestionType.SINGLE_COMPANY_MULTI_YEAR: 'single_company_multi_year'>, category=<QuestionCategory.BUSINESS_OVERVIEW: 'business_overview'>, difficulty=<QuestionDifficulty.MEDIUM: 'medium'>, reports=[CompanyReport(company_name='NVIDIA CORP', ticker='NVDA', year=2022, raw_file_path='./data/raw/sec-edgar-filings/NVDA/10-K/0001045810-22-000036/full-submission.txt', industry='SEMICONDUCTORS & RELATED DEVICES [3674]', available_sections={'Item 8', 'Item 7A', 'Item 1A', 'Item 1', 'Item 5', 'Item 7'}, accession_number='0001045810-22-000036'), CompanyReport(company_name='NVIDIA CORP', ticker='NVDA', year=2016, raw_file_path='./data/raw/sec-edgar-filings/NVDA/10-K/0001045810-16-000205/full-submission.txt', industry='SEMICONDUCTORS & RELATED DEVICES [3674]', available_sections={'Item 8', 'Item 7A', 'Item 1A', 'Item 1', 'Item 5', 'Item 7'}, accession_number='0001045810-16-000205')], sections_to_include={'./data/processed/reports/report_NVDA_2022.json': ['Item 1'], './data/processed/reports/report_NVDA_2016.json': ['Item 1']})\n"
     ]
    },
    {
     "name": "stderr",
     "output_type": "stream",
     "text": [
      " 30%|███       | 15/50 [07:45<15:38, 26.80s/it]"
     ]
    },
    {
     "name": "stdout",
     "output_type": "stream",
     "text": [
      "QuestionSpec(question_type=<QuestionType.SINGLE_COMPANY_MULTI_YEAR: 'single_company_multi_year'>, category=<QuestionCategory.FORWARD_LOOKING: 'forward_looking'>, difficulty=<QuestionDifficulty.EASY: 'easy'>, reports=[CompanyReport(company_name='NVIDIA CORP', ticker='NVDA', year=2019, raw_file_path='./data/raw/sec-edgar-filings/NVDA/10-K/0001045810-19-000023/full-submission.txt', industry='SEMICONDUCTORS & RELATED DEVICES [3674]', available_sections={'Item 8', 'Item 7A', 'Item 1A', 'Item 1', 'Item 5', 'Item 7'}, accession_number='0001045810-19-000023'), CompanyReport(company_name='NVIDIA CORP', ticker='NVDA', year=2023, raw_file_path='./data/raw/sec-edgar-filings/NVDA/10-K/0001045810-23-000017/full-submission.txt', industry='SEMICONDUCTORS & RELATED DEVICES [3674]', available_sections={'Item 8', 'Item 7A', 'Item 1A', 'Item 1', 'Item 5', 'Item 7'}, accession_number='0001045810-23-000017')], sections_to_include={'./data/processed/reports/report_NVDA_2019.json': ['Item 7'], './data/processed/reports/report_NVDA_2023.json': ['Item 7']})\n"
     ]
    },
    {
     "name": "stderr",
     "output_type": "stream",
     "text": [
      " 32%|███▏      | 16/50 [08:00<13:12, 23.32s/it]"
     ]
    },
    {
     "name": "stdout",
     "output_type": "stream",
     "text": [
      "QuestionSpec(question_type=<QuestionType.SINGLE_COMPANY_SINGLE_YEAR: 'single_company_single_year'>, category=<QuestionCategory.FINANCIAL_METRIC: 'financial_metric'>, difficulty=<QuestionDifficulty.MEDIUM: 'medium'>, reports=[CompanyReport(company_name='Alphabet Inc.', ticker='GOOG', year=2018, raw_file_path='./data/raw/sec-edgar-filings/GOOG/10-K/0001652044-18-000007/full-submission.txt', industry='SERVICES-COMPUTER PROGRAMMING, DATA PROCESSING, ETC. [7370]', available_sections={'Item 8', 'Item 7A', 'Item 1A', 'Item 1', 'Item 5', 'Item 7'}, accession_number='0001652044-18-000007')], sections_to_include={'./data/processed/reports/report_GOOG_2018.json': ['Item 8', 'Item 7']})\n"
     ]
    },
    {
     "name": "stderr",
     "output_type": "stream",
     "text": [
      " 34%|███▍      | 17/50 [08:20<12:18, 22.39s/it]"
     ]
    },
    {
     "name": "stdout",
     "output_type": "stream",
     "text": [
      "QuestionSpec(question_type=<QuestionType.SINGLE_COMPANY_MULTI_YEAR: 'single_company_multi_year'>, category=<QuestionCategory.TABLE_ANALYSIS: 'table_analysis'>, difficulty=<QuestionDifficulty.MEDIUM: 'medium'>, reports=[CompanyReport(company_name='Apple Inc.', ticker='AAPL', year=2023, raw_file_path='./data/raw/sec-edgar-filings/AAPL/10-K/0000320193-23-000106/full-submission.txt', industry='ELECTRONIC COMPUTERS [3571]', available_sections={'Item 8', 'Item 7A', 'Item 1A', 'Item 1', 'Item 5', 'Item 7'}, accession_number='0000320193-23-000106'), CompanyReport(company_name='APPLE INC', ticker='AAPL', year=2018, raw_file_path='./data/raw/sec-edgar-filings/AAPL/10-K/0000320193-18-000145/full-submission.txt', industry='ELECTRONIC COMPUTERS [3571]', available_sections={'Item 8', 'Item 7A', 'Item 1A', 'Item 1', 'Item 5', 'Item 7'}, accession_number='0000320193-18-000145'), CompanyReport(company_name='Apple Inc.', ticker='AAPL', year=2020, raw_file_path='./data/raw/sec-edgar-filings/AAPL/10-K/0000320193-20-000096/full-submission.txt', industry='ELECTRONIC COMPUTERS [3571]', available_sections={'Item 8', 'Item 7A', 'Item 1A', 'Item 1', 'Item 5', 'Item 7'}, accession_number='0000320193-20-000096')], sections_to_include={'./data/processed/reports/report_AAPL_2023.json': ['Item 7A'], './data/processed/reports/report_AAPL_2018.json': ['Item 7A', 'Item 8'], './data/processed/reports/report_AAPL_2020.json': ['Item 7A', 'Item 7']})\n"
     ]
    },
    {
     "name": "stderr",
     "output_type": "stream",
     "text": [
      " 36%|███▌      | 18/50 [08:49<12:57, 24.29s/it]"
     ]
    },
    {
     "name": "stdout",
     "output_type": "stream",
     "text": [
      "QuestionSpec(question_type=<QuestionType.SINGLE_COMPANY_MULTI_YEAR: 'single_company_multi_year'>, category=<QuestionCategory.RISK_FACTOR: 'risk_factor'>, difficulty=<QuestionDifficulty.MEDIUM: 'medium'>, reports=[CompanyReport(company_name='Apple Inc.', ticker='AAPL', year=2019, raw_file_path='./data/raw/sec-edgar-filings/AAPL/10-K/0000320193-19-000119/full-submission.txt', industry='ELECTRONIC COMPUTERS [3571]', available_sections={'Item 8', 'Item 7A', 'Item 1A', 'Item 1', 'Item 5', 'Item 7'}, accession_number='0000320193-19-000119'), CompanyReport(company_name='APPLE INC', ticker='AAPL', year=2017, raw_file_path='./data/raw/sec-edgar-filings/AAPL/10-K/0000320193-17-000070/full-submission.txt', industry='ELECTRONIC COMPUTERS [3571]', available_sections={'Item 8', 'Item 7A', 'Item 1A', 'Item 1', 'Item 5', 'Item 7'}, accession_number='0000320193-17-000070')], sections_to_include={'./data/processed/reports/report_AAPL_2019.json': ['Item 5'], './data/processed/reports/report_AAPL_2017.json': ['Item 5']})\n"
     ]
    },
    {
     "name": "stderr",
     "output_type": "stream",
     "text": [
      " 38%|███▊      | 19/50 [09:05<11:11, 21.68s/it]"
     ]
    },
    {
     "name": "stdout",
     "output_type": "stream",
     "text": [
      "QuestionSpec(question_type=<QuestionType.SINGLE_COMPANY_SINGLE_YEAR: 'single_company_single_year'>, category=<QuestionCategory.FINANCIAL_METRIC: 'financial_metric'>, difficulty=<QuestionDifficulty.MEDIUM: 'medium'>, reports=[CompanyReport(company_name='NVIDIA CORP', ticker='NVDA', year=2025, raw_file_path='./data/raw/sec-edgar-filings/NVDA/10-K/0001045810-25-000023/full-submission.txt', industry='SEMICONDUCTORS & RELATED DEVICES [3674]', available_sections={'Item 8', 'Item 7A', 'Item 1A', 'Item 1', 'Item 5', 'Item 7'}, accession_number='0001045810-25-000023')], sections_to_include={'./data/processed/reports/report_NVDA_2025.json': ['Item 7', 'Item 8']})\n"
     ]
    },
    {
     "name": "stderr",
     "output_type": "stream",
     "text": [
      " 40%|████      | 20/50 [09:42<13:08, 26.30s/it]"
     ]
    },
    {
     "name": "stdout",
     "output_type": "stream",
     "text": [
      "QuestionSpec(question_type=<QuestionType.SINGLE_COMPANY_MULTI_YEAR: 'single_company_multi_year'>, category=<QuestionCategory.MANAGEMENT_DISCUSSION: 'management_discussion'>, difficulty=<QuestionDifficulty.MEDIUM: 'medium'>, reports=[CompanyReport(company_name='AMAZON COM INC', ticker='AMZN', year=2020, raw_file_path='./data/raw/sec-edgar-filings/AMZN/10-K/0001018724-20-000004/full-submission.txt', industry='RETAIL-CATALOG & MAIL-ORDER HOUSES [5961]', available_sections={'Item 8', 'Item 7A', 'Item 1A', 'Item 1', 'Item 5', 'Item 7'}, accession_number='0001018724-20-000004'), CompanyReport(company_name='AMAZON COM INC', ticker='AMZN', year=2018, raw_file_path='./data/raw/sec-edgar-filings/AMZN/10-K/0001018724-18-000005/full-submission.txt', industry='RETAIL-CATALOG & MAIL-ORDER HOUSES [5961]', available_sections={'Item 8', 'Item 7A', 'Item 1A', 'Item 1', 'Item 5', 'Item 7'}, accession_number='0001018724-18-000005'), CompanyReport(company_name='AMAZON COM INC', ticker='AMZN', year=2021, raw_file_path='./data/raw/sec-edgar-filings/AMZN/10-K/0001018724-21-000004/full-submission.txt', industry='RETAIL-CATALOG & MAIL-ORDER HOUSES [5961]', available_sections={'Item 8', 'Item 7A', 'Item 1A', 'Item 1', 'Item 5', 'Item 7'}, accession_number='0001018724-21-000004')], sections_to_include={'./data/processed/reports/report_AMZN_2020.json': ['Item 7'], './data/processed/reports/report_AMZN_2018.json': ['Item 7'], './data/processed/reports/report_AMZN_2021.json': ['Item 7']})\n"
     ]
    },
    {
     "name": "stderr",
     "output_type": "stream",
     "text": [
      " 42%|████▏     | 21/50 [10:02<11:51, 24.54s/it]"
     ]
    },
    {
     "name": "stdout",
     "output_type": "stream",
     "text": [
      "QuestionSpec(question_type=<QuestionType.SINGLE_COMPANY_SINGLE_YEAR: 'single_company_single_year'>, category=<QuestionCategory.SEGMENT_ANALYSIS: 'segment_analysis'>, difficulty=<QuestionDifficulty.MEDIUM: 'medium'>, reports=[CompanyReport(company_name='NVIDIA CORP', ticker='NVDA', year=2019, raw_file_path='./data/raw/sec-edgar-filings/NVDA/10-K/0001045810-19-000023/full-submission.txt', industry='SEMICONDUCTORS & RELATED DEVICES [3674]', available_sections={'Item 8', 'Item 7A', 'Item 1A', 'Item 1', 'Item 5', 'Item 7'}, accession_number='0001045810-19-000023')], sections_to_include={'./data/processed/reports/report_NVDA_2019.json': ['Item 8', 'Item 7']})\n"
     ]
    },
    {
     "name": "stderr",
     "output_type": "stream",
     "text": [
      " 44%|████▍     | 22/50 [10:30<11:50, 25.38s/it]"
     ]
    },
    {
     "name": "stdout",
     "output_type": "stream",
     "text": [
      "QuestionSpec(question_type=<QuestionType.SINGLE_COMPANY_MULTI_YEAR: 'single_company_multi_year'>, category=<QuestionCategory.BUSINESS_OVERVIEW: 'business_overview'>, difficulty=<QuestionDifficulty.MEDIUM: 'medium'>, reports=[CompanyReport(company_name='APPLE INC', ticker='AAPL', year=2018, raw_file_path='./data/raw/sec-edgar-filings/AAPL/10-K/0000320193-18-000145/full-submission.txt', industry='ELECTRONIC COMPUTERS [3571]', available_sections={'Item 8', 'Item 7A', 'Item 1A', 'Item 1', 'Item 5', 'Item 7'}, accession_number='0000320193-18-000145'), CompanyReport(company_name='Apple Inc.', ticker='AAPL', year=2022, raw_file_path='./data/raw/sec-edgar-filings/AAPL/10-K/0000320193-22-000108/full-submission.txt', industry='ELECTRONIC COMPUTERS [3571]', available_sections={'Item 8', 'Item 7A', 'Item 1A', 'Item 1', 'Item 5', 'Item 7'}, accession_number='0000320193-22-000108')], sections_to_include={'./data/processed/reports/report_AAPL_2018.json': ['Item 1'], './data/processed/reports/report_AAPL_2022.json': ['Item 1']})\n"
     ]
    },
    {
     "name": "stderr",
     "output_type": "stream",
     "text": [
      " 46%|████▌     | 23/50 [10:55<11:21, 25.26s/it]"
     ]
    },
    {
     "name": "stdout",
     "output_type": "stream",
     "text": [
      "QuestionSpec(question_type=<QuestionType.SINGLE_COMPANY_MULTI_YEAR: 'single_company_multi_year'>, category=<QuestionCategory.FINANCIAL_METRIC: 'financial_metric'>, difficulty=<QuestionDifficulty.MEDIUM: 'medium'>, reports=[CompanyReport(company_name='AMAZON COM INC', ticker='AMZN', year=2020, raw_file_path='./data/raw/sec-edgar-filings/AMZN/10-K/0001018724-20-000004/full-submission.txt', industry='RETAIL-CATALOG & MAIL-ORDER HOUSES [5961]', available_sections={'Item 8', 'Item 7A', 'Item 1A', 'Item 1', 'Item 5', 'Item 7'}, accession_number='0001018724-20-000004'), CompanyReport(company_name='AMAZON COM INC', ticker='AMZN', year=2024, raw_file_path='./data/raw/sec-edgar-filings/AMZN/10-K/0001018724-24-000008/full-submission.txt', industry='RETAIL-CATALOG & MAIL-ORDER HOUSES [5961]', available_sections={'Item 8', 'Item 7A', 'Item 1A', 'Item 1', 'Item 5', 'Item 7'}, accession_number='0001018724-24-000008'), CompanyReport(company_name='AMAZON COM INC', ticker='AMZN', year=2023, raw_file_path='./data/raw/sec-edgar-filings/AMZN/10-K/0001018724-23-000004/full-submission.txt', industry='RETAIL-CATALOG & MAIL-ORDER HOUSES [5961]', available_sections={'Item 8', 'Item 7A', 'Item 1A', 'Item 1', 'Item 5', 'Item 7'}, accession_number='0001018724-23-000004')], sections_to_include={'./data/processed/reports/report_AMZN_2020.json': ['Item 8', 'Item 7'], './data/processed/reports/report_AMZN_2024.json': ['Item 7', 'Item 8'], './data/processed/reports/report_AMZN_2023.json': ['Item 8']})\n"
     ]
    },
    {
     "name": "stderr",
     "output_type": "stream",
     "text": [
      " 48%|████▊     | 24/50 [11:20<10:55, 25.21s/it]"
     ]
    },
    {
     "name": "stdout",
     "output_type": "stream",
     "text": [
      "QuestionSpec(question_type=<QuestionType.SINGLE_COMPANY_MULTI_YEAR: 'single_company_multi_year'>, category=<QuestionCategory.COMPANY_STOCK: 'company_stock'>, difficulty=<QuestionDifficulty.HARD: 'hard'>, reports=[CompanyReport(company_name='APPLE INC', ticker='AAPL', year=2018, raw_file_path='./data/raw/sec-edgar-filings/AAPL/10-K/0000320193-18-000145/full-submission.txt', industry='ELECTRONIC COMPUTERS [3571]', available_sections={'Item 8', 'Item 7A', 'Item 1A', 'Item 1', 'Item 5', 'Item 7'}, accession_number='0000320193-18-000145'), CompanyReport(company_name='APPLE INC', ticker='AAPL', year=2016, raw_file_path='./data/raw/sec-edgar-filings/AAPL/10-K/0001628280-16-020309/full-submission.txt', industry='ELECTRONIC COMPUTERS [3571]', available_sections={'Item 8', 'Item 7A', 'Item 1A', 'Item 1', 'Item 5', 'Item 7'}, accession_number='0001628280-16-020309')], sections_to_include={'./data/processed/reports/report_AAPL_2018.json': ['Item 5', 'Item 7A'], './data/processed/reports/report_AAPL_2016.json': ['Item 5']})\n"
     ]
    },
    {
     "name": "stderr",
     "output_type": "stream",
     "text": [
      " 50%|█████     | 25/50 [11:42<10:10, 24.42s/it]"
     ]
    },
    {
     "name": "stdout",
     "output_type": "stream",
     "text": [
      "QuestionSpec(question_type=<QuestionType.SINGLE_COMPANY_SINGLE_YEAR: 'single_company_single_year'>, category=<QuestionCategory.FINANCIAL_METRIC: 'financial_metric'>, difficulty=<QuestionDifficulty.MEDIUM: 'medium'>, reports=[CompanyReport(company_name='Apple Inc.', ticker='AAPL', year=2023, raw_file_path='./data/raw/sec-edgar-filings/AAPL/10-K/0000320193-23-000106/full-submission.txt', industry='ELECTRONIC COMPUTERS [3571]', available_sections={'Item 8', 'Item 7A', 'Item 1A', 'Item 1', 'Item 5', 'Item 7'}, accession_number='0000320193-23-000106')], sections_to_include={'./data/processed/reports/report_AAPL_2023.json': ['Item 8']})\n"
     ]
    },
    {
     "name": "stderr",
     "output_type": "stream",
     "text": [
      " 52%|█████▏    | 26/50 [12:06<09:41, 24.21s/it]"
     ]
    },
    {
     "name": "stdout",
     "output_type": "stream",
     "text": [
      "QuestionSpec(question_type=<QuestionType.MULTI_COMPANY_SINGLE_YEAR: 'multi_company_single_year'>, category=<QuestionCategory.FINANCIAL_METRIC: 'financial_metric'>, difficulty=<QuestionDifficulty.EASY: 'easy'>, reports=[CompanyReport(company_name='AMAZON COM INC', ticker='AMZN', year=2020, raw_file_path='./data/raw/sec-edgar-filings/AMZN/10-K/0001018724-20-000004/full-submission.txt', industry='RETAIL-CATALOG & MAIL-ORDER HOUSES [5961]', available_sections={'Item 8', 'Item 7A', 'Item 1A', 'Item 1', 'Item 5', 'Item 7'}, accession_number='0001018724-20-000004'), CompanyReport(company_name='Alphabet Inc.', ticker='GOOG', year=2020, raw_file_path='./data/raw/sec-edgar-filings/GOOG/10-K/0001652044-20-000008/full-submission.txt', industry='SERVICES-COMPUTER PROGRAMMING, DATA PROCESSING, ETC. [7370]', available_sections={'Item 8', 'Item 7A', 'Item 1A', 'Item 1', 'Item 5', 'Item 7'}, accession_number='0001652044-20-000008')], sections_to_include={'./data/processed/reports/report_AMZN_2020.json': ['Item 8'], './data/processed/reports/report_GOOG_2020.json': ['Item 8']})\n"
     ]
    },
    {
     "name": "stderr",
     "output_type": "stream",
     "text": [
      " 54%|█████▍    | 27/50 [12:21<08:10, 21.34s/it]"
     ]
    },
    {
     "name": "stdout",
     "output_type": "stream",
     "text": [
      "QuestionSpec(question_type=<QuestionType.MULTI_COMPANY_SINGLE_YEAR: 'multi_company_single_year'>, category=<QuestionCategory.FINANCIAL_METRIC: 'financial_metric'>, difficulty=<QuestionDifficulty.MEDIUM: 'medium'>, reports=[CompanyReport(company_name='AMAZON COM INC', ticker='AMZN', year=2019, raw_file_path='./data/raw/sec-edgar-filings/AMZN/10-K/0001018724-19-000004/full-submission.txt', industry='RETAIL-CATALOG & MAIL-ORDER HOUSES [5961]', available_sections={'Item 8', 'Item 7A', 'Item 1A', 'Item 1', 'Item 5', 'Item 7'}, accession_number='0001018724-19-000004'), CompanyReport(company_name='Alphabet Inc.', ticker='GOOG', year=2019, raw_file_path='./data/raw/sec-edgar-filings/GOOG/10-K/0001652044-19-000004/full-submission.txt', industry='SERVICES-COMPUTER PROGRAMMING, DATA PROCESSING, ETC. [7370]', available_sections={'Item 8', 'Item 7A', 'Item 1A', 'Item 1', 'Item 5', 'Item 7'}, accession_number='0001652044-19-000004')], sections_to_include={'./data/processed/reports/report_AMZN_2019.json': ['Item 8', 'Item 7'], './data/processed/reports/report_GOOG_2019.json': ['Item 8']})\n"
     ]
    },
    {
     "name": "stderr",
     "output_type": "stream",
     "text": [
      " 56%|█████▌    | 28/50 [12:50<08:43, 23.79s/it]"
     ]
    },
    {
     "name": "stdout",
     "output_type": "stream",
     "text": [
      "QuestionSpec(question_type=<QuestionType.MULTI_COMPANY_SINGLE_YEAR: 'multi_company_single_year'>, category=<QuestionCategory.TABLE_ANALYSIS: 'table_analysis'>, difficulty=<QuestionDifficulty.HARD: 'hard'>, reports=[CompanyReport(company_name='AMAZON COM INC', ticker='AMZN', year=2021, raw_file_path='./data/raw/sec-edgar-filings/AMZN/10-K/0001018724-21-000004/full-submission.txt', industry='RETAIL-CATALOG & MAIL-ORDER HOUSES [5961]', available_sections={'Item 8', 'Item 7A', 'Item 1A', 'Item 1', 'Item 5', 'Item 7'}, accession_number='0001018724-21-000004'), CompanyReport(company_name='Apple Inc.', ticker='AAPL', year=2021, raw_file_path='./data/raw/sec-edgar-filings/AAPL/10-K/0000320193-21-000105/full-submission.txt', industry='ELECTRONIC COMPUTERS [3571]', available_sections={'Item 8', 'Item 7A', 'Item 1A', 'Item 1', 'Item 5', 'Item 7'}, accession_number='0000320193-21-000105'), CompanyReport(company_name='NVIDIA CORP', ticker='NVDA', year=2021, raw_file_path='./data/raw/sec-edgar-filings/NVDA/10-K/0001045810-21-000010/full-submission.txt', industry='SEMICONDUCTORS & RELATED DEVICES [3674]', available_sections={'Item 8', 'Item 7A', 'Item 1A', 'Item 1', 'Item 5', 'Item 7'}, accession_number='0001045810-21-000010')], sections_to_include={'./data/processed/reports/report_AMZN_2021.json': ['Item 8', 'Item 7'], './data/processed/reports/report_AAPL_2021.json': ['Item 7A'], './data/processed/reports/report_NVDA_2021.json': ['Item 8', 'Item 7']})\n"
     ]
    },
    {
     "name": "stderr",
     "output_type": "stream",
     "text": [
      " 58%|█████▊    | 29/50 [13:21<09:07, 26.07s/it]"
     ]
    },
    {
     "name": "stdout",
     "output_type": "stream",
     "text": [
      "QuestionSpec(question_type=<QuestionType.SINGLE_COMPANY_SINGLE_YEAR: 'single_company_single_year'>, category=<QuestionCategory.RISK_FACTOR: 'risk_factor'>, difficulty=<QuestionDifficulty.MEDIUM: 'medium'>, reports=[CompanyReport(company_name='APPLE INC', ticker='AAPL', year=2018, raw_file_path='./data/raw/sec-edgar-filings/AAPL/10-K/0000320193-18-000145/full-submission.txt', industry='ELECTRONIC COMPUTERS [3571]', available_sections={'Item 8', 'Item 7A', 'Item 1A', 'Item 1', 'Item 5', 'Item 7'}, accession_number='0000320193-18-000145')], sections_to_include={'./data/processed/reports/report_AAPL_2018.json': ['Item 5']})\n"
     ]
    },
    {
     "name": "stderr",
     "output_type": "stream",
     "text": [
      " 60%|██████    | 30/50 [13:38<07:47, 23.36s/it]"
     ]
    },
    {
     "name": "stdout",
     "output_type": "stream",
     "text": [
      "QuestionSpec(question_type=<QuestionType.MULTI_COMPANY_SINGLE_YEAR: 'multi_company_single_year'>, category=<QuestionCategory.COMPANY_STOCK: 'company_stock'>, difficulty=<QuestionDifficulty.EASY: 'easy'>, reports=[CompanyReport(company_name='AMAZON COM INC', ticker='AMZN', year=2020, raw_file_path='./data/raw/sec-edgar-filings/AMZN/10-K/0001018724-20-000004/full-submission.txt', industry='RETAIL-CATALOG & MAIL-ORDER HOUSES [5961]', available_sections={'Item 8', 'Item 7A', 'Item 1A', 'Item 1', 'Item 5', 'Item 7'}, accession_number='0001018724-20-000004'), CompanyReport(company_name='Apple Inc.', ticker='AAPL', year=2020, raw_file_path='./data/raw/sec-edgar-filings/AAPL/10-K/0000320193-20-000096/full-submission.txt', industry='ELECTRONIC COMPUTERS [3571]', available_sections={'Item 8', 'Item 7A', 'Item 1A', 'Item 1', 'Item 5', 'Item 7'}, accession_number='0000320193-20-000096')], sections_to_include={'./data/processed/reports/report_AMZN_2020.json': ['Item 7', 'Item 7A'], './data/processed/reports/report_AAPL_2020.json': ['Item 7']})\n"
     ]
    },
    {
     "name": "stderr",
     "output_type": "stream",
     "text": [
      " 62%|██████▏   | 31/50 [13:58<07:03, 22.26s/it]"
     ]
    },
    {
     "name": "stdout",
     "output_type": "stream",
     "text": [
      "QuestionSpec(question_type=<QuestionType.SINGLE_COMPANY_MULTI_YEAR: 'single_company_multi_year'>, category=<QuestionCategory.MANAGEMENT_DISCUSSION: 'management_discussion'>, difficulty=<QuestionDifficulty.EASY: 'easy'>, reports=[CompanyReport(company_name='MICROSOFT CORP', ticker='MSFT', year=2015, raw_file_path='./data/raw/sec-edgar-filings/MSFT/10-K/0001193125-15-272806/full-submission.txt', industry='SERVICES-PREPACKAGED SOFTWARE [7372]', available_sections={'Item 8', 'Item 7A', 'Item 1A', 'Item 1', 'Item 5', 'Item 7'}, accession_number='0001193125-15-272806'), CompanyReport(company_name='MICROSOFT CORP', ticker='MSFT', year=2019, raw_file_path='./data/raw/sec-edgar-filings/MSFT/10-K/0001564590-19-027952/full-submission.txt', industry='SERVICES-PREPACKAGED SOFTWARE [7372]', available_sections={'Item 8', 'Item 7A', 'Item 1A', 'Item 1', 'Item 5', 'Item 7'}, accession_number='0001564590-19-027952'), CompanyReport(company_name='MICROSOFT CORP', ticker='MSFT', year=2021, raw_file_path='./data/raw/sec-edgar-filings/MSFT/10-K/0001564590-21-039151/full-submission.txt', industry='SERVICES-PREPACKAGED SOFTWARE [7372]', available_sections={'Item 8', 'Item 7A', 'Item 1A', 'Item 1', 'Item 5', 'Item 7'}, accession_number='0001564590-21-039151')], sections_to_include={'./data/processed/reports/report_MSFT_2015.json': ['Item 7'], './data/processed/reports/report_MSFT_2019.json': ['Item 7'], './data/processed/reports/report_MSFT_2021.json': ['Item 7']})\n"
     ]
    },
    {
     "name": "stderr",
     "output_type": "stream",
     "text": [
      " 64%|██████▍   | 32/50 [14:17<06:24, 21.34s/it]"
     ]
    },
    {
     "name": "stdout",
     "output_type": "stream",
     "text": [
      "QuestionSpec(question_type=<QuestionType.SINGLE_COMPANY_SINGLE_YEAR: 'single_company_single_year'>, category=<QuestionCategory.BUSINESS_OVERVIEW: 'business_overview'>, difficulty=<QuestionDifficulty.MEDIUM: 'medium'>, reports=[CompanyReport(company_name='NVIDIA CORP', ticker='NVDA', year=2025, raw_file_path='./data/raw/sec-edgar-filings/NVDA/10-K/0001045810-25-000023/full-submission.txt', industry='SEMICONDUCTORS & RELATED DEVICES [3674]', available_sections={'Item 8', 'Item 7A', 'Item 1A', 'Item 1', 'Item 5', 'Item 7'}, accession_number='0001045810-25-000023')], sections_to_include={'./data/processed/reports/report_NVDA_2025.json': ['Item 1']})\n"
     ]
    },
    {
     "name": "stderr",
     "output_type": "stream",
     "text": [
      " 66%|██████▌   | 33/50 [14:58<07:40, 27.09s/it]"
     ]
    },
    {
     "name": "stdout",
     "output_type": "stream",
     "text": [
      "QuestionSpec(question_type=<QuestionType.SINGLE_COMPANY_SINGLE_YEAR: 'single_company_single_year'>, category=<QuestionCategory.FORWARD_LOOKING: 'forward_looking'>, difficulty=<QuestionDifficulty.MEDIUM: 'medium'>, reports=[CompanyReport(company_name='MICROSOFT CORP', ticker='MSFT', year=2018, raw_file_path='./data/raw/sec-edgar-filings/MSFT/10-K/0001564590-18-019062/full-submission.txt', industry='SERVICES-PREPACKAGED SOFTWARE [7372]', available_sections={'Item 8', 'Item 7A', 'Item 1A', 'Item 1', 'Item 5', 'Item 7'}, accession_number='0001564590-18-019062')], sections_to_include={'./data/processed/reports/report_MSFT_2018.json': ['Item 7']})\n"
     ]
    },
    {
     "name": "stderr",
     "output_type": "stream",
     "text": [
      " 68%|██████▊   | 34/50 [15:14<06:20, 23.79s/it]"
     ]
    },
    {
     "name": "stdout",
     "output_type": "stream",
     "text": [
      "QuestionSpec(question_type=<QuestionType.SINGLE_COMPANY_SINGLE_YEAR: 'single_company_single_year'>, category=<QuestionCategory.SEGMENT_ANALYSIS: 'segment_analysis'>, difficulty=<QuestionDifficulty.EASY: 'easy'>, reports=[CompanyReport(company_name='AMAZON COM INC', ticker='AMZN', year=2017, raw_file_path='./data/raw/sec-edgar-filings/AMZN/10-K/0001018724-17-000011/full-submission.txt', industry='RETAIL-CATALOG & MAIL-ORDER HOUSES [5961]', available_sections={'Item 8', 'Item 7A', 'Item 1A', 'Item 1', 'Item 5', 'Item 7'}, accession_number='0001018724-17-000011')], sections_to_include={'./data/processed/reports/report_AMZN_2017.json': ['Item 7']})\n"
     ]
    },
    {
     "name": "stderr",
     "output_type": "stream",
     "text": [
      " 70%|███████   | 35/50 [15:30<05:21, 21.45s/it]"
     ]
    },
    {
     "name": "stdout",
     "output_type": "stream",
     "text": [
      "QuestionSpec(question_type=<QuestionType.SINGLE_COMPANY_SINGLE_YEAR: 'single_company_single_year'>, category=<QuestionCategory.COMPANY_STOCK: 'company_stock'>, difficulty=<QuestionDifficulty.MEDIUM: 'medium'>, reports=[CompanyReport(company_name='Apple Inc.', ticker='AAPL', year=2024, raw_file_path='./data/raw/sec-edgar-filings/AAPL/10-K/0000320193-24-000123/full-submission.txt', industry='ELECTRONIC COMPUTERS [3571]', available_sections={'Item 8', 'Item 7A', 'Item 1A', 'Item 1', 'Item 5', 'Item 7'}, accession_number='0000320193-24-000123')], sections_to_include={'./data/processed/reports/report_AAPL_2024.json': ['Item 1A']})\n"
     ]
    },
    {
     "name": "stderr",
     "output_type": "stream",
     "text": [
      " 72%|███████▏  | 36/50 [15:58<05:26, 23.31s/it]"
     ]
    },
    {
     "name": "stdout",
     "output_type": "stream",
     "text": [
      "QuestionSpec(question_type=<QuestionType.SINGLE_COMPANY_SINGLE_YEAR: 'single_company_single_year'>, category=<QuestionCategory.MANAGEMENT_DISCUSSION: 'management_discussion'>, difficulty=<QuestionDifficulty.MEDIUM: 'medium'>, reports=[CompanyReport(company_name='Alphabet Inc.', ticker='GOOG', year=2017, raw_file_path='./data/raw/sec-edgar-filings/GOOG/10-K/0001652044-17-000008/full-submission.txt', industry='SERVICES-COMPUTER PROGRAMMING, DATA PROCESSING, ETC. [7370]', available_sections={'Item 8', 'Item 7A', 'Item 1A', 'Item 1', 'Item 5', 'Item 7'}, accession_number='0001652044-17-000008')], sections_to_include={'./data/processed/reports/report_GOOG_2017.json': ['Item 7']})\n"
     ]
    },
    {
     "name": "stderr",
     "output_type": "stream",
     "text": [
      " 74%|███████▍  | 37/50 [16:24<05:13, 24.10s/it]"
     ]
    },
    {
     "name": "stdout",
     "output_type": "stream",
     "text": [
      "QuestionSpec(question_type=<QuestionType.SINGLE_COMPANY_MULTI_YEAR: 'single_company_multi_year'>, category=<QuestionCategory.MANAGEMENT_DISCUSSION: 'management_discussion'>, difficulty=<QuestionDifficulty.MEDIUM: 'medium'>, reports=[CompanyReport(company_name='AMAZON COM INC', ticker='AMZN', year=2025, raw_file_path='./data/raw/sec-edgar-filings/AMZN/10-K/0001018724-25-000004/full-submission.txt', industry='RETAIL-CATALOG & MAIL-ORDER HOUSES [5961]', available_sections={'Item 8', 'Item 7A', 'Item 1A', 'Item 1', 'Item 5', 'Item 7'}, accession_number='0001018724-25-000004'), CompanyReport(company_name='AMAZON COM INC', ticker='AMZN', year=2022, raw_file_path='./data/raw/sec-edgar-filings/AMZN/10-K/0001018724-22-000005/full-submission.txt', industry='RETAIL-CATALOG & MAIL-ORDER HOUSES [5961]', available_sections={'Item 8', 'Item 7A', 'Item 1A', 'Item 1', 'Item 5', 'Item 7'}, accession_number='0001018724-22-000005'), CompanyReport(company_name='AMAZON COM INC', ticker='AMZN', year=2021, raw_file_path='./data/raw/sec-edgar-filings/AMZN/10-K/0001018724-21-000004/full-submission.txt', industry='RETAIL-CATALOG & MAIL-ORDER HOUSES [5961]', available_sections={'Item 8', 'Item 7A', 'Item 1A', 'Item 1', 'Item 5', 'Item 7'}, accession_number='0001018724-21-000004')], sections_to_include={'./data/processed/reports/report_AMZN_2025.json': ['Item 7'], './data/processed/reports/report_AMZN_2022.json': ['Item 7'], './data/processed/reports/report_AMZN_2021.json': ['Item 7']})\n"
     ]
    },
    {
     "name": "stderr",
     "output_type": "stream",
     "text": [
      " 76%|███████▌  | 38/50 [16:51<05:02, 25.17s/it]"
     ]
    },
    {
     "name": "stdout",
     "output_type": "stream",
     "text": [
      "QuestionSpec(question_type=<QuestionType.SINGLE_COMPANY_MULTI_YEAR: 'single_company_multi_year'>, category=<QuestionCategory.FINANCIAL_METRIC: 'financial_metric'>, difficulty=<QuestionDifficulty.MEDIUM: 'medium'>, reports=[CompanyReport(company_name='AMAZON COM INC', ticker='AMZN', year=2016, raw_file_path='./data/raw/sec-edgar-filings/AMZN/10-K/0001018724-16-000172/full-submission.txt', industry='RETAIL-CATALOG & MAIL-ORDER HOUSES [5961]', available_sections={'Item 8', 'Item 7A', 'Item 1A', 'Item 1', 'Item 5', 'Item 7'}, accession_number='0001018724-16-000172'), CompanyReport(company_name='AMAZON COM INC', ticker='AMZN', year=2021, raw_file_path='./data/raw/sec-edgar-filings/AMZN/10-K/0001018724-21-000004/full-submission.txt', industry='RETAIL-CATALOG & MAIL-ORDER HOUSES [5961]', available_sections={'Item 8', 'Item 7A', 'Item 1A', 'Item 1', 'Item 5', 'Item 7'}, accession_number='0001018724-21-000004'), CompanyReport(company_name='AMAZON COM INC', ticker='AMZN', year=2022, raw_file_path='./data/raw/sec-edgar-filings/AMZN/10-K/0001018724-22-000005/full-submission.txt', industry='RETAIL-CATALOG & MAIL-ORDER HOUSES [5961]', available_sections={'Item 8', 'Item 7A', 'Item 1A', 'Item 1', 'Item 5', 'Item 7'}, accession_number='0001018724-22-000005')], sections_to_include={'./data/processed/reports/report_AMZN_2016.json': ['Item 8'], './data/processed/reports/report_AMZN_2021.json': ['Item 8'], './data/processed/reports/report_AMZN_2022.json': ['Item 8']})\n"
     ]
    },
    {
     "name": "stderr",
     "output_type": "stream",
     "text": [
      " 78%|███████▊  | 39/50 [17:16<04:36, 25.15s/it]"
     ]
    },
    {
     "name": "stdout",
     "output_type": "stream",
     "text": [
      "QuestionSpec(question_type=<QuestionType.SINGLE_COMPANY_MULTI_YEAR: 'single_company_multi_year'>, category=<QuestionCategory.MANAGEMENT_DISCUSSION: 'management_discussion'>, difficulty=<QuestionDifficulty.MEDIUM: 'medium'>, reports=[CompanyReport(company_name='APPLE INC', ticker='AAPL', year=2018, raw_file_path='./data/raw/sec-edgar-filings/AAPL/10-K/0000320193-18-000145/full-submission.txt', industry='ELECTRONIC COMPUTERS [3571]', available_sections={'Item 8', 'Item 7A', 'Item 1A', 'Item 1', 'Item 5', 'Item 7'}, accession_number='0000320193-18-000145'), CompanyReport(company_name='APPLE INC', ticker='AAPL', year=2016, raw_file_path='./data/raw/sec-edgar-filings/AAPL/10-K/0001628280-16-020309/full-submission.txt', industry='ELECTRONIC COMPUTERS [3571]', available_sections={'Item 8', 'Item 7A', 'Item 1A', 'Item 1', 'Item 5', 'Item 7'}, accession_number='0001628280-16-020309')], sections_to_include={'./data/processed/reports/report_AAPL_2018.json': ['Item 7'], './data/processed/reports/report_AAPL_2016.json': ['Item 7']})\n"
     ]
    },
    {
     "name": "stderr",
     "output_type": "stream",
     "text": [
      " 80%|████████  | 40/50 [17:47<04:29, 26.92s/it]"
     ]
    },
    {
     "name": "stdout",
     "output_type": "stream",
     "text": [
      "QuestionSpec(question_type=<QuestionType.SINGLE_COMPANY_MULTI_YEAR: 'single_company_multi_year'>, category=<QuestionCategory.MANAGEMENT_DISCUSSION: 'management_discussion'>, difficulty=<QuestionDifficulty.EASY: 'easy'>, reports=[CompanyReport(company_name='Alphabet Inc.', ticker='GOOG', year=2018, raw_file_path='./data/raw/sec-edgar-filings/GOOG/10-K/0001652044-18-000007/full-submission.txt', industry='SERVICES-COMPUTER PROGRAMMING, DATA PROCESSING, ETC. [7370]', available_sections={'Item 8', 'Item 7A', 'Item 1A', 'Item 1', 'Item 5', 'Item 7'}, accession_number='0001652044-18-000007'), CompanyReport(company_name='Alphabet Inc.', ticker='GOOG', year=2024, raw_file_path='./data/raw/sec-edgar-filings/GOOG/10-K/0001652044-24-000022/full-submission.txt', industry='SERVICES-COMPUTER PROGRAMMING, DATA PROCESSING, ETC. [7370]', available_sections={'Item 8', 'Item 7A', 'Item 1A', 'Item 1', 'Item 5', 'Item 7'}, accession_number='0001652044-24-000022')], sections_to_include={'./data/processed/reports/report_GOOG_2018.json': ['Item 7'], './data/processed/reports/report_GOOG_2024.json': ['Item 7']})\n"
     ]
    },
    {
     "name": "stderr",
     "output_type": "stream",
     "text": [
      " 82%|████████▏ | 41/50 [18:14<04:01, 26.87s/it]"
     ]
    },
    {
     "name": "stdout",
     "output_type": "stream",
     "text": [
      "QuestionSpec(question_type=<QuestionType.MULTI_COMPANY_SINGLE_YEAR: 'multi_company_single_year'>, category=<QuestionCategory.MANAGEMENT_DISCUSSION: 'management_discussion'>, difficulty=<QuestionDifficulty.MEDIUM: 'medium'>, reports=[CompanyReport(company_name='NVIDIA CORP', ticker='NVDA', year=2021, raw_file_path='./data/raw/sec-edgar-filings/NVDA/10-K/0001045810-21-000010/full-submission.txt', industry='SEMICONDUCTORS & RELATED DEVICES [3674]', available_sections={'Item 8', 'Item 7A', 'Item 1A', 'Item 1', 'Item 5', 'Item 7'}, accession_number='0001045810-21-000010'), CompanyReport(company_name='Apple Inc.', ticker='AAPL', year=2021, raw_file_path='./data/raw/sec-edgar-filings/AAPL/10-K/0000320193-21-000105/full-submission.txt', industry='ELECTRONIC COMPUTERS [3571]', available_sections={'Item 8', 'Item 7A', 'Item 1A', 'Item 1', 'Item 5', 'Item 7'}, accession_number='0000320193-21-000105')], sections_to_include={'./data/processed/reports/report_NVDA_2021.json': ['Item 7'], './data/processed/reports/report_AAPL_2021.json': ['Item 7']})\n"
     ]
    },
    {
     "name": "stderr",
     "output_type": "stream",
     "text": [
      " 84%|████████▍ | 42/50 [18:43<03:38, 27.37s/it]"
     ]
    },
    {
     "name": "stdout",
     "output_type": "stream",
     "text": [
      "QuestionSpec(question_type=<QuestionType.SINGLE_COMPANY_SINGLE_YEAR: 'single_company_single_year'>, category=<QuestionCategory.FINANCIAL_METRIC: 'financial_metric'>, difficulty=<QuestionDifficulty.HARD: 'hard'>, reports=[CompanyReport(company_name='Alphabet Inc.', ticker='GOOG', year=2021, raw_file_path='./data/raw/sec-edgar-filings/GOOG/10-K/0001652044-21-000010/full-submission.txt', industry='SERVICES-COMPUTER PROGRAMMING, DATA PROCESSING, ETC. [7370]', available_sections={'Item 8', 'Item 7A', 'Item 1A', 'Item 1', 'Item 5', 'Item 7'}, accession_number='0001652044-21-000010')], sections_to_include={'./data/processed/reports/report_GOOG_2021.json': ['Item 8', 'Item 7']})\n"
     ]
    },
    {
     "name": "stderr",
     "output_type": "stream",
     "text": [
      " 86%|████████▌ | 43/50 [19:03<02:57, 25.29s/it]"
     ]
    },
    {
     "name": "stdout",
     "output_type": "stream",
     "text": [
      "QuestionSpec(question_type=<QuestionType.SINGLE_COMPANY_SINGLE_YEAR: 'single_company_single_year'>, category=<QuestionCategory.SEGMENT_ANALYSIS: 'segment_analysis'>, difficulty=<QuestionDifficulty.EASY: 'easy'>, reports=[CompanyReport(company_name='Alphabet Inc.', ticker='GOOG', year=2018, raw_file_path='./data/raw/sec-edgar-filings/GOOG/10-K/0001652044-18-000007/full-submission.txt', industry='SERVICES-COMPUTER PROGRAMMING, DATA PROCESSING, ETC. [7370]', available_sections={'Item 8', 'Item 7A', 'Item 1A', 'Item 1', 'Item 5', 'Item 7'}, accession_number='0001652044-18-000007')], sections_to_include={'./data/processed/reports/report_GOOG_2018.json': ['Item 7']})\n"
     ]
    },
    {
     "name": "stderr",
     "output_type": "stream",
     "text": [
      " 88%|████████▊ | 44/50 [19:29<02:33, 25.52s/it]"
     ]
    },
    {
     "name": "stdout",
     "output_type": "stream",
     "text": [
      "QuestionSpec(question_type=<QuestionType.MULTI_COMPANY_SINGLE_YEAR: 'multi_company_single_year'>, category=<QuestionCategory.SEGMENT_ANALYSIS: 'segment_analysis'>, difficulty=<QuestionDifficulty.MEDIUM: 'medium'>, reports=[CompanyReport(company_name='APPLE INC', ticker='AAPL', year=2018, raw_file_path='./data/raw/sec-edgar-filings/AAPL/10-K/0000320193-18-000145/full-submission.txt', industry='ELECTRONIC COMPUTERS [3571]', available_sections={'Item 8', 'Item 7A', 'Item 1A', 'Item 1', 'Item 5', 'Item 7'}, accession_number='0000320193-18-000145'), CompanyReport(company_name='AMAZON COM INC', ticker='AMZN', year=2018, raw_file_path='./data/raw/sec-edgar-filings/AMZN/10-K/0001018724-18-000005/full-submission.txt', industry='RETAIL-CATALOG & MAIL-ORDER HOUSES [5961]', available_sections={'Item 8', 'Item 7A', 'Item 1A', 'Item 1', 'Item 5', 'Item 7'}, accession_number='0001018724-18-000005'), CompanyReport(company_name='MICROSOFT CORP', ticker='MSFT', year=2018, raw_file_path='./data/raw/sec-edgar-filings/MSFT/10-K/0001564590-18-019062/full-submission.txt', industry='SERVICES-PREPACKAGED SOFTWARE [7372]', available_sections={'Item 8', 'Item 7A', 'Item 1A', 'Item 1', 'Item 5', 'Item 7'}, accession_number='0001564590-18-019062')], sections_to_include={'./data/processed/reports/report_AAPL_2018.json': ['Item 7', 'Item 8'], './data/processed/reports/report_AMZN_2018.json': ['Item 8', 'Item 7'], './data/processed/reports/report_MSFT_2018.json': ['Item 7', 'Item 8']})\n"
     ]
    },
    {
     "name": "stderr",
     "output_type": "stream",
     "text": [
      " 90%|█████████ | 45/50 [19:56<02:09, 25.92s/it]"
     ]
    },
    {
     "name": "stdout",
     "output_type": "stream",
     "text": [
      "QuestionSpec(question_type=<QuestionType.SINGLE_COMPANY_SINGLE_YEAR: 'single_company_single_year'>, category=<QuestionCategory.FINANCIAL_METRIC: 'financial_metric'>, difficulty=<QuestionDifficulty.MEDIUM: 'medium'>, reports=[CompanyReport(company_name='AMAZON COM INC', ticker='AMZN', year=2018, raw_file_path='./data/raw/sec-edgar-filings/AMZN/10-K/0001018724-18-000005/full-submission.txt', industry='RETAIL-CATALOG & MAIL-ORDER HOUSES [5961]', available_sections={'Item 8', 'Item 7A', 'Item 1A', 'Item 1', 'Item 5', 'Item 7'}, accession_number='0001018724-18-000005')], sections_to_include={'./data/processed/reports/report_AMZN_2018.json': ['Item 7', 'Item 8']})\n"
     ]
    },
    {
     "name": "stderr",
     "output_type": "stream",
     "text": [
      " 92%|█████████▏| 46/50 [20:19<01:40, 25.16s/it]"
     ]
    },
    {
     "name": "stdout",
     "output_type": "stream",
     "text": [
      "QuestionSpec(question_type=<QuestionType.SINGLE_COMPANY_MULTI_YEAR: 'single_company_multi_year'>, category=<QuestionCategory.FINANCIAL_METRIC: 'financial_metric'>, difficulty=<QuestionDifficulty.MEDIUM: 'medium'>, reports=[CompanyReport(company_name='MICROSOFT CORP', ticker='MSFT', year=2024, raw_file_path='./data/raw/sec-edgar-filings/MSFT/10-K/0000950170-24-087843/full-submission.txt', industry='SERVICES-PREPACKAGED SOFTWARE [7372]', available_sections={'Item 8', 'Item 7A', 'Item 1A', 'Item 1', 'Item 5', 'Item 7'}, accession_number='0000950170-24-087843'), CompanyReport(company_name='MICROSOFT CORP', ticker='MSFT', year=2020, raw_file_path='./data/raw/sec-edgar-filings/MSFT/10-K/0001564590-20-034944/full-submission.txt', industry='SERVICES-PREPACKAGED SOFTWARE [7372]', available_sections={'Item 8', 'Item 7A', 'Item 1A', 'Item 1', 'Item 5', 'Item 7'}, accession_number='0001564590-20-034944'), CompanyReport(company_name='MICROSOFT CORP', ticker='MSFT', year=2022, raw_file_path='./data/raw/sec-edgar-filings/MSFT/10-K/0001564590-22-026876/full-submission.txt', industry='SERVICES-PREPACKAGED SOFTWARE [7372]', available_sections={'Item 8', 'Item 7A', 'Item 1A', 'Item 1', 'Item 5', 'Item 7'}, accession_number='0001564590-22-026876')], sections_to_include={'./data/processed/reports/report_MSFT_2024.json': ['Item 8', 'Item 7'], './data/processed/reports/report_MSFT_2020.json': ['Item 8', 'Item 7'], './data/processed/reports/report_MSFT_2022.json': ['Item 8']})\n"
     ]
    },
    {
     "name": "stderr",
     "output_type": "stream",
     "text": [
      " 94%|█████████▍| 47/50 [20:48<01:18, 26.11s/it]"
     ]
    },
    {
     "name": "stdout",
     "output_type": "stream",
     "text": [
      "QuestionSpec(question_type=<QuestionType.MULTI_COMPANY_SINGLE_YEAR: 'multi_company_single_year'>, category=<QuestionCategory.MANAGEMENT_DISCUSSION: 'management_discussion'>, difficulty=<QuestionDifficulty.MEDIUM: 'medium'>, reports=[CompanyReport(company_name='MICROSOFT CORP', ticker='MSFT', year=2023, raw_file_path='./data/raw/sec-edgar-filings/MSFT/10-K/0000950170-23-035122/full-submission.txt', industry='SERVICES-PREPACKAGED SOFTWARE [7372]', available_sections={'Item 8', 'Item 7A', 'Item 1A', 'Item 1', 'Item 5', 'Item 7'}, accession_number='0000950170-23-035122'), CompanyReport(company_name='Alphabet Inc.', ticker='GOOG', year=2023, raw_file_path='./data/raw/sec-edgar-filings/GOOG/10-K/0001652044-23-000016/full-submission.txt', industry='SERVICES-COMPUTER PROGRAMMING, DATA PROCESSING, ETC. [7370]', available_sections={'Item 8', 'Item 7A', 'Item 1A', 'Item 1', 'Item 5', 'Item 7'}, accession_number='0001652044-23-000016')], sections_to_include={'./data/processed/reports/report_MSFT_2023.json': ['Item 7'], './data/processed/reports/report_GOOG_2023.json': ['Item 7']})\n"
     ]
    },
    {
     "name": "stderr",
     "output_type": "stream",
     "text": [
      " 96%|█████████▌| 48/50 [21:14<00:52, 26.15s/it]"
     ]
    },
    {
     "name": "stdout",
     "output_type": "stream",
     "text": [
      "QuestionSpec(question_type=<QuestionType.SINGLE_COMPANY_MULTI_YEAR: 'single_company_multi_year'>, category=<QuestionCategory.RISK_FACTOR: 'risk_factor'>, difficulty=<QuestionDifficulty.EASY: 'easy'>, reports=[CompanyReport(company_name='Alphabet Inc.', ticker='GOOG', year=2022, raw_file_path='./data/raw/sec-edgar-filings/GOOG/10-K/0001652044-22-000019/full-submission.txt', industry='SERVICES-COMPUTER PROGRAMMING, DATA PROCESSING, ETC. [7370]', available_sections={'Item 8', 'Item 7A', 'Item 1A', 'Item 1', 'Item 5', 'Item 7'}, accession_number='0001652044-22-000019'), CompanyReport(company_name='Alphabet Inc.', ticker='GOOG', year=2016, raw_file_path='./data/raw/sec-edgar-filings/GOOG/10-K/0001652044-16-000012/full-submission.txt', industry='SERVICES-COMPUTER PROGRAMMING, DATA PROCESSING, ETC. [7370]', available_sections={'Item 8', 'Item 7A', 'Item 1A', 'Item 1', 'Item 5', 'Item 7'}, accession_number='0001652044-16-000012')], sections_to_include={'./data/processed/reports/report_GOOG_2022.json': ['Item 5'], './data/processed/reports/report_GOOG_2016.json': ['Item 5']})\n"
     ]
    },
    {
     "name": "stderr",
     "output_type": "stream",
     "text": [
      " 98%|█████████▊| 49/50 [21:36<00:24, 24.88s/it]"
     ]
    },
    {
     "name": "stdout",
     "output_type": "stream",
     "text": [
      "QuestionSpec(question_type=<QuestionType.SINGLE_COMPANY_MULTI_YEAR: 'single_company_multi_year'>, category=<QuestionCategory.SEGMENT_ANALYSIS: 'segment_analysis'>, difficulty=<QuestionDifficulty.HARD: 'hard'>, reports=[CompanyReport(company_name='MICROSOFT CORP', ticker='MSFT', year=2022, raw_file_path='./data/raw/sec-edgar-filings/MSFT/10-K/0001564590-22-026876/full-submission.txt', industry='SERVICES-PREPACKAGED SOFTWARE [7372]', available_sections={'Item 8', 'Item 7A', 'Item 1A', 'Item 1', 'Item 5', 'Item 7'}, accession_number='0001564590-22-026876'), CompanyReport(company_name='MICROSOFT CORP', ticker='MSFT', year=2021, raw_file_path='./data/raw/sec-edgar-filings/MSFT/10-K/0001564590-21-039151/full-submission.txt', industry='SERVICES-PREPACKAGED SOFTWARE [7372]', available_sections={'Item 8', 'Item 7A', 'Item 1A', 'Item 1', 'Item 5', 'Item 7'}, accession_number='0001564590-21-039151')], sections_to_include={'./data/processed/reports/report_MSFT_2022.json': ['Item 8', 'Item 7'], './data/processed/reports/report_MSFT_2021.json': ['Item 8', 'Item 7']})\n"
     ]
    },
    {
     "name": "stderr",
     "output_type": "stream",
     "text": [
      "100%|██████████| 50/50 [22:04<00:00, 26.49s/it]"
     ]
    },
    {
     "name": "stdout",
     "output_type": "stream",
     "text": [
      "Saving 50 questions to ./data/benchmark/benchmark_dataset.json...\n",
      "Done!\n"
     ]
    },
    {
     "name": "stderr",
     "output_type": "stream",
     "text": [
      "\n"
     ]
    }
   ],
   "source": [
    "#| output: false\n",
    "benchmark_questions = generate_sec_benchmark_dataset(preprocessed_dir=PROCESSED_REPORTS_DIR,\n",
    "                                                   output_dir=OUTPUTS_DIR,\n",
    "                                                   num_questions=50,\n",
    "                                                   model='gpt-4-turbo',\n",
    "                                                   max_tokens_per_section=15000,\n",
    "                                                   exclude_tables=True)"
   ]
  },
  {
   "cell_type": "code",
   "execution_count": 40,
   "metadata": {},
   "outputs": [
    {
     "data": {
      "text/plain": [
       "[BenchmarkQuestion(id='e8f9266c-5229-420f-969b-ff3c709987cc', question='Can you tell me about the effectiveness of internal controls over financial reporting for Alphabet and Google in 2015?', answer=\"In 2015, both Alphabet Inc. and Google Inc. maintained effective internal control over financial reporting. The report from Ernst & Young LLP expressed an unqualified opinion on Alphabet Inc.'s internal control over financial reporting as of December 31, 2015, stating, 'In our opinion, Alphabet Inc. maintained, in all material respects, effective internal control over financial reporting as of December 31, 2015, based on the COSO criteria.' Similarly, the report for Google Inc. stated, 'In our opinion, Google Inc. maintained, in all material respects, effective internal control over financial reporting as of December 31, 2015, based on the COSO criteria.'\", source_information=[SourceInformation(company='Alphabet Inc.', ticker='GOOG', year='2016', section='Item 8', subsection='Report of Ernst & Young LLP', span_text='We have audited Alphabet Inc.’s internal control over financial reporting as of December 31, 2015, based on criteria established in Internal Control-Integrated Framework issued by the Committee of Sponsoring Organizations of the Treadway Commission (2013 framework) (the COSO criteria). In our opinion, Alphabet Inc. maintained, in all material respects, effective internal control over financial reporting as of December 31, 2015, based on the COSO criteria.', span_location=SpanLocation(document_id='1', start_offset=1887, end_offset=2015), contains_table=False, table_row=None, table_column=None, processed_path='./data/processed/reports/report_GOOG_2016.json'), SourceInformation(company='Google Inc.', ticker='GOOG', year='2016', section='Item 8', subsection='Report of Ernst & Young LLP', span_text='We have audited Google Inc.’s internal control over financial reporting as of December 31, 2015, based on criteria established in Internal Control-Integrated Framework issued by the Committee of Sponsoring Organizations of the Treadway Commission (2013 framework) (the COSO criteria). In our opinion, Google Inc. maintained, in all material respects, effective internal control over financial reporting as of December 31, 2015, based on the COSO criteria.', span_location=SpanLocation(document_id='1', start_offset=2016, end_offset=2144), contains_table=False, table_row=None, table_column=None, processed_path='./data/processed/reports/report_GOOG_2016.json')], reasoning_path=['Step 1: Locate the report from Ernst & Young LLP regarding internal control over financial reporting for both Alphabet Inc. and Google Inc.', 'Step 2: Extract the opinions expressed in the reports regarding the effectiveness of internal controls as of December 31, 2015.', 'Step 3: Confirm that both companies received an unqualified opinion indicating effective internal controls.'], question_type='single_company_single_year', difficulty='medium', contains_tables=False),\n",
       " BenchmarkQuestion(id='a3c55964-f92f-4c8d-bf99-c168b2c08549', question=\"What were NVIDIA's revenue figures for different segments in fiscal year 2024, and how did the geopolitical situation impact their sales, particularly in China?\", answer=\"In fiscal year 2024, NVIDIA reported total revenue of $60.9 billion, which was an increase of 126% from the previous year. The breakdown of revenue by segment was as follows: Data Center revenue was $47.5 billion, up 217%; Gaming revenue was $10.4 billion, up 15%; Professional Visualization revenue was $1.6 billion, up 1%; and Automotive revenue was $1.1 billion, up 21%. However, the geopolitical situation, particularly U.S. government licensing requirements, negatively impacted NVIDIA's sales to China, which decreased from 19% of total Data Center revenue in fiscal year 2023 to 14% in fiscal year 2024. This was due to restrictions on exporting certain products to China, and NVIDIA is working to expand its Data Center product portfolio to offer new solutions not subject to these licensing requirements.\", source_information=[SourceInformation(company='NVIDIA', ticker='NVDA', year='2024', section='Item 7', subsection='Fiscal Year 2024 Summary', span_text='Revenue for fiscal year 2024 was $60.9 billion, up 126% from a year ago. Data Center revenue for fiscal year 2024 was up 217%. Strong demand was driven by enterprise software and consumer internet applications, and multiple industry verticals including automotive, financial services, and healthcare. Gaming revenue for fiscal year 2024 was up 15%. Professional Visualization revenue for fiscal year 2024 was up 1%. Automotive revenue for the fiscal year 2024 was up 21%. Our sales to China decreased as a percentage of total Data Center revenue from 19% in fiscal year 2023 to 14% in fiscal year 2024.', span_location=SpanLocation(document_id='1', start_offset=1234, end_offset=1356), contains_table=False, table_row=None, table_column=None, processed_path='./data/processed/reports/report_NVDA_2024.json'), SourceInformation(company='NVIDIA', ticker='NVDA', year='2024', section='Item 7', subsection='Global Trade', span_text='In October 2023, the USG announced new and updated licensing requirements that became effective in our fourth quarter of fiscal year 2024 for exports to China and Country Groups D 1, D 4, and D 5 (including but not limited to Saudi Arabia, the United Arab Emirates, and Vietnam, but excluding Israel) of our products exceeding certain performance thresholds, including A 100, A 800, H 100, H 800, L 4, L 40, L 40 S and RTX 4090. Our competitive position has been harmed, and our competitive position and future results may be further harmed in the long term, if there are further changes in the USG’s export controls.', span_location=SpanLocation(document_id='1', start_offset=1456, end_offset=1589), contains_table=False, table_row=None, table_column=None, processed_path='./data/processed/reports/report_NVDA_2024.json')], reasoning_path=['Step 1: Identify the total revenue for NVIDIA in fiscal year 2024 from the summary.', 'Step 2: Break down the revenue by segment as detailed in the fiscal year 2024 summary.', 'Step 3: Examine the global trade section to understand the impact of U.S. government licensing on sales to China.', 'Step 4: Compare the percentage of Data Center revenue from China between fiscal year 2023 and fiscal year 2024.'], question_type='single_company_single_year', difficulty='medium', contains_tables=False),\n",
       " BenchmarkQuestion(id='7b230046-0cda-4ee4-b6fd-f22c37f61a4c', question=\"How did the net sales of Apple compare to Google's revenues in 2020?\", answer=\"In 2020, Apple's total net sales increased by 6% or $14.3 billion compared to 2019, while Google's revenues were $161.9 billion, reflecting an 18% year-over-year growth. This indicates that Google's revenues were significantly higher than Apple's net sales for the same year.\", source_information=[SourceInformation(company='Apple', ticker='AAPL', year='2020', section='Item 7', subsection='Fiscal 2020 Highlights', span_text='Total net sales increased 6% or $14.3 billion during 2020 compared to 2019, primarily driven by higher net sales of Services and Wearables, Home and Accessories.', span_location=SpanLocation(document_id='1', start_offset=1234, end_offset=1345), contains_table=False, table_row=None, table_column=None, processed_path='./data/processed/reports/report_AAPL_2020.json'), SourceInformation(company='Google', ticker='GOOG', year='2020', section='Item 7', subsection='ITEM 7', span_text='Revenues of $161.9 billion and revenue growth of 18% year over year.', span_location=SpanLocation(document_id='2', start_offset=5678, end_offset=5720), contains_table=False, table_row=None, table_column=None, processed_path='./data/processed/reports/report_GOOG_2020.json')], reasoning_path=[\"Step 1: Identify Apple's net sales for 2020 from the provided document.\", \"Step 2: Identify Google's total revenues for 2020 from the provided document.\", \"Step 3: Compare Apple's net sales with Google's revenues to determine which is higher.\"], question_type='multi_company_single_year', difficulty='easy', contains_tables=False),\n",
       " BenchmarkQuestion(id='cf68232e-72f8-458e-b3bb-510e002f821c', question='How do the business focuses of Microsoft and NVIDIA compare in 2019?', answer=\"In 2019, Microsoft focused on a wide range of business areas, including cloud computing, productivity software, and personal computing, but specific details about their business segments were not provided in the available content. On the other hand, NVIDIA concentrated on GPU technology, artificial intelligence, and high-performance computing, emphasizing their role in gaming, professional visualization, datacenters, and automotive markets. NVIDIA highlighted their innovations in AI and deep learning, showcasing their GPUs' capabilities across various industries.\", source_information=[SourceInformation(company='Microsoft', ticker='MSFT', year='2019', section='Item 1', subsection='BUSINESS', span_text=\"The content provided does not include specific details about Microsoft's business segments in 2019.\", span_location=SpanLocation(document_id='1', start_offset=0, end_offset=0), contains_table=True, table_row=None, table_column=None, processed_path='./data/processed/reports/report_MSFT_2019.json'), SourceInformation(company='NVIDIA', ticker='NVDA', year='2019', section='Item 1', subsection='Our Business', span_text='NVIDIA has a platform strategy, bringing together hardware, system software, programmable algorithms, libraries, systems, and services to create unique value for the markets we serve. While the requirements of these end markets are diverse, we address them with a unified underlying architecture leveraging our GPUs and Compute Unified Device Architecture, or CUDA, as the fundamental building blocks.', span_location=SpanLocation(document_id='2', start_offset=0, end_offset=0), contains_table=False, table_row=None, table_column=None, processed_path='./data/processed/reports/report_NVDA_2019.json')], reasoning_path=['Step 1: Identify the business focuses of both Microsoft and NVIDIA from the provided content.', \"Step 2: Note that specific details about Microsoft's business segments were not included.\", \"Step 3: Compare NVIDIA's focus on GPU technology and AI with the general business areas mentioned for Microsoft.\"], question_type='multi_company_single_year', difficulty='easy', contains_tables=True),\n",
       " BenchmarkQuestion(id='df6f4cf7-b460-4809-adcb-dc012d71d077', question=\"How did Amazon's cash provided by operating activities change from 2021 to 2022?\", answer=\"In 2022, Amazon's cash provided by operating activities was $46.8 billion, which is an increase from $46.3 billion in 2021. The increase in operating cash flow in 2022, compared to the prior year, was primarily due to the increase in net income, excluding non-cash expenses, partially offset by changes in working capital.\", source_information=[SourceInformation(company='Amazon.com, Inc.', ticker='AMZN', year='2022', section='Item 8', subsection='Liquidity and Capital Resources', span_text='Cash provided by (used in) operating activities was $46.3 billion and $46.8 billion in 2021 and 2022. The increase in operating cash flow in 2022, compared to the prior year, was primarily due to the increase in net income, excluding non-cash expenses, partially offset by changes in working capital.', span_location=SpanLocation(document_id='ID of the document', start_offset=12345, end_offset=12678), contains_table=False, table_row=None, table_column=None, processed_path=None)], reasoning_path=['Step 1: Identify the cash provided by operating activities for 2021 and 2022 from the financial statements.', 'Step 2: Compare the two values to determine the change in cash provided by operating activities.', 'Step 3: Analyze the reason for the change as stated in the document.'], question_type='single_company_multi_year', difficulty='medium', contains_tables=False),\n",
       " BenchmarkQuestion(id='a38294f5-18fd-4933-be7d-9c276fc8eb1c', question='What are some of the key risk factors that Microsoft faced in 2016, and how might these risks impact their stock performance?', answer='The specific risk factors that Microsoft faced in 2016 are not detailed in the provided content, as the tables containing this information have been removed. Therefore, I cannot provide a comprehensive answer regarding how these risks might impact their stock performance.', source_information=[SourceInformation(company='Microsoft', ticker='MSFT', year='2016', section='Item 1A', subsection='RISK FACTORS', span_text='The specific risk factors that Microsoft faced in 2016 are not detailed in the provided content, as the tables containing this information have been removed.', span_location=SpanLocation(document_id='SEC 10-K 2016', start_offset=0, end_offset=0), contains_table=True, table_row=None, table_column=None, processed_path='./data/processed/reports/report_MSFT_2016.json')], reasoning_path=['Step 1: Identify the section that discusses risk factors.', 'Step 2: Note that the relevant tables with detailed risk factors are missing.', 'Step 3: Conclude that without this information, I cannot assess the impact on stock performance.'], question_type='single_company_single_year', difficulty='medium', contains_tables=True),\n",
       " BenchmarkQuestion(id='45d79757-c2f2-4715-b20a-ae21b4f1b0d3', question=\"How did the number of stockholders of record for Alphabet's Class A stock change from 2017 to 2023?\", answer=\"As of December 31, 2017, there were approximately 2,100 stockholders of record of Alphabet's Class A common stock. By December 31, 2023, this number increased to approximately 7,305 stockholders of record. This shows a significant increase in the number of stockholders over the six-year period.\", source_information=[SourceInformation(company='Alphabet Inc.', ticker='GOOG', year='2017', section='Item 5', subsection='Holders of Record', span_text='As of December 31, 2017, there were approximately 2,100 and 2,101 stockholders of record of our Class A common stock and Class C capital stock, respectively...', span_location=SpanLocation(document_id='1', start_offset=1234, end_offset=1300), contains_table=False, table_row=None, table_column=None, processed_path=None), SourceInformation(company='Alphabet Inc.', ticker='GOOG', year='2023', section='Item 5', subsection='Holders of Record', span_text='As of December 31, 2023, there were approximately 7,305 and 1,757 stockholders of record of our Class A stock and Class C stock, respectively...', span_location=SpanLocation(document_id='2', start_offset=2345, end_offset=2410), contains_table=False, table_row=None, table_column=None, processed_path=None)], reasoning_path=['Step 1: Identify the number of stockholders of record for Class A stock in 2017.', 'Step 2: Identify the number of stockholders of record for Class A stock in 2023.', 'Step 3: Compare the two numbers to determine the change over the years.'], question_type='single_company_multi_year', difficulty='easy', contains_tables=False),\n",
       " BenchmarkQuestion(id='ecff9c2d-1c4a-435f-89f7-94557b7ee00b', question=\"How did Amazon's cash provided by operating activities change from 2018 to 2019?\", answer=\"In 2018, Amazon's cash provided by operating activities was $30.7 billion, while in 2019, it was $38.5 billion. This indicates an increase of $7.8 billion in cash provided by operating activities from 2018 to 2019.\", source_information=[SourceInformation(company='Amazon', ticker='AMZN', year='2018', section='Item 7', subsection='Liquidity and Capital Resources', span_text='Cash provided by (used in) operating activities was $30.7 billion in 2018. Our operating cash flows result primarily from cash received from our consumer, seller, developer, enterprise, and content creator customers, and advertisers, offset by cash payments we make for products and services, employee compensation, payment processing and related transaction costs, operating leases, and interest payments.', span_location=SpanLocation(document_id='1', start_offset=12345, end_offset=12678), contains_table=False, table_row=None, table_column=None, processed_path='./data/processed/reports/report_AMZN_2018.json'), SourceInformation(company='Amazon', ticker='AMZN', year='2019', section='Item 7', subsection='Liquidity and Capital Resources', span_text='Cash provided by (used in) operating activities was $38.5 billion in 2019. Our operating cash flows result primarily from cash received from our consumer, seller, developer, enterprise, and content creator customers, and advertisers, offset by cash payments we make for products and services, employee compensation, payment processing and related transaction costs, operating leases, and interest payments.', span_location=SpanLocation(document_id='2', start_offset=22345, end_offset=22678), contains_table=False, table_row=None, table_column=None, processed_path='./data/processed/reports/report_AMZN_2019.json')], reasoning_path=['Step 1: Identify the cash provided by operating activities for 2018 from the 10-K filing.', 'Step 2: Identify the cash provided by operating activities for 2019 from the 10-K filing.', 'Step 3: Calculate the difference between the two years to determine the change.'], question_type='single_company_multi_year', difficulty='medium', contains_tables=False),\n",
       " BenchmarkQuestion(id='afd37cec-88a4-456f-8248-2bbbce293324', question='How did the revenue growth of Apple compare to NVIDIA in 2018?', answer=\"In 2018, Apple's revenue grew by 16%, amounting to an increase of $36.4 billion compared to the previous year, driven by higher net sales of iPhone, Services, and Other Products. In contrast, NVIDIA experienced a much higher revenue growth of 41%, reaching $9.71 billion, with significant contributions from its GPU and Tegra Processor segments. This indicates that while both companies saw revenue increases, NVIDIA's growth rate was substantially higher than Apple's in 2018.\", source_information=[SourceInformation(company='Apple', ticker='AAPL', year='2018', section='Item 7', subsection='Fiscal 2018 Highlights', span_text='Net sales increased 16% or $36.4 billion during 2018 compared to 2017, driven by higher net sales of iPhone, Services and Other Products.', span_location=SpanLocation(document_id='1', start_offset=1234, end_offset=1340), contains_table=False, table_row=None, table_column=None, processed_path='./data/processed/reports/report_AAPL_2018.json'), SourceInformation(company='NVIDIA', ticker='NVDA', year='2018', section='Item 7', subsection='Fiscal Year 2018 Summary', span_text='Revenue for fiscal year 2018 grew 41% to $9.71 billion, reflecting broad growth in each of our market platforms - gaming, professional visualization, datacenter, and automotive.', span_location=SpanLocation(document_id='3', start_offset=5678, end_offset=5796), contains_table=False, table_row=None, table_column=None, processed_path='./data/processed/reports/report_NVDA_2018.json')], reasoning_path=['Step 1: Identify the revenue growth percentage for Apple in 2018 from the provided text.', 'Step 2: Identify the revenue growth percentage for NVIDIA in 2018 from the provided text.', 'Step 3: Compare the growth rates to determine which company had higher revenue growth.'], question_type='multi_company_single_year', difficulty='medium', contains_tables=False),\n",
       " BenchmarkQuestion(id='f847139b-ca80-430b-b420-dd49e53c4f19', question='How do the cash flow from operations for Amazon and Google compare in 2017?', answer=\"In 2017, Amazon reported cash provided by operating activities of $16.4 billion. However, the specific cash flow from operations for Google in 2017 is not provided in the content. Therefore, while we can confirm Amazon's cash flow, we cannot make a direct comparison with Google's cash flow for that year.\", source_information=[SourceInformation(company='Amazon', ticker='AMZN', year='2017', section='Item 7', subsection='Liquidity and Capital Resources', span_text='Cash provided by (used in) operating activities was $6.8 billion, $11.9 billion, and $16.4 billion in 2014, 2015, and 2016.', span_location=SpanLocation(document_id='1', start_offset=1234, end_offset=1265), contains_table=False, table_row=None, table_column=None, processed_path='./data/processed/reports/report_AMZN_2017.json'), SourceInformation(company='Google', ticker='GOOG', year='2017', section='Item 8', subsection='Financial State', span_text='The supplementary financial information required by this Item 8 is included in Item 7 under the caption “Quarterly Results of Operations.”', span_location=SpanLocation(document_id='2', start_offset=39, end_offset=118), contains_table=True, table_row=None, table_column=None, processed_path='./data/processed/reports/report_GOOG_2017.json')], reasoning_path=['Step 1: Identify the cash flow from operations for Amazon in the provided content.', 'Step 2: Note that the content does not provide specific cash flow information for Google in 2017.', \"Step 3: Conclude that a direct comparison cannot be made due to the lack of Google's cash flow data.\"], question_type='multi_company_single_year', difficulty='medium', contains_tables=True)]"
      ]
     },
     "execution_count": 40,
     "metadata": {},
     "output_type": "execute_result"
    }
   ],
   "source": [
    "benchmark_questions[0:10]"
   ]
  },
  {
   "cell_type": "markdown",
   "metadata": {},
   "source": [
    "# QC questions\n",
    "The current implementation does not always output suitable questions for the benchmarking dataset. Common issues include:\n",
    "\n",
    "* Incomplete references\n",
    "* Questions that don't make sense\n",
    "* Answers that don't completely correspond to the provided references\n",
    "\n",
    "Therefore it is vital that each question is reviewed before using it in the benchmarking dataset. The `review_questions` function was developed to help with this task. For each question, this will search for the reference output by the LLM in the original report and highlight the closest match so that it can be verified. The tool still needs some work, but it might be helpful (otherwise you can just do a manual review)."
   ]
  },
  {
   "cell_type": "code",
   "execution_count": 42,
   "metadata": {},
   "outputs": [
    {
     "data": {
      "application/vnd.jupyter.widget-view+json": {
       "model_id": "2160bdaf91e8496684bf900383831b44",
       "version_major": 2,
       "version_minor": 0
      },
      "text/plain": [
       "VBox(children=(HTML(value='<h2>Question Review Tool</h2>'), HTML(value='<h3>Question:</h3>'), HTML(value=''), …"
      ]
     },
     "metadata": {},
     "output_type": "display_data"
    }
   ],
   "source": [
    "#| output: false\n",
    "reviewer = review_questions(benchmark_questions, output_dir=OUTPUTS_DIR)"
   ]
  },
  {
   "attachments": {
    "image.png": {
     "image/png": "[encoded data removed]"
    }
   },
   "cell_type": "markdown",
   "metadata": {},
   "source": [
    "![image.png](attachment:image.png)"
   ]
  },
  {
   "cell_type": "markdown",
   "metadata": {},
   "source": [
    "# Final benchmark dataset"
   ]
  },
  {
   "cell_type": "markdown",
   "metadata": {},
   "source": [
    "If you're re-running this notebook then the questions and answers that you generate will be different to what was obtained here. The final benchmarking dataset has been copied into the `examples` folder of the repo."
   ]
  },
  {
   "cell_type": "markdown",
   "metadata": {},
   "source": [
    "The first three questions are displayed below:"
   ]
  },
  {
   "cell_type": "code",
   "execution_count": 2,
   "metadata": {},
   "outputs": [
    {
     "name": "stdout",
     "output_type": "stream",
     "text": [
      "[{'id': 'd9fd9582-4495-4310-a142-8d3beb5e0d1e',\n",
      "  'question': 'How many shares did Apple buy back in 2020 compared to 2021?',\n",
      "  'answer': 'In 2020, Apple repurchased 917 million shares of its common stock for $72.5 billion, '\n",
      "            'while in 2021, the company repurchased $85.5 billion of its common stock.',\n",
      "  'source_information': [{'company': 'Apple',\n",
      "                          'ticker': 'AAPL',\n",
      "                          'year': '2020',\n",
      "                          'section': 'Item 7',\n",
      "                          'subsection': 'Capital Return Program',\n",
      "                          'span_text': 'As of September 26, 2020, the Company was authorized to '\n",
      "                                       'purchase up to $225 billion of the Company’s common stock '\n",
      "                                       'under a share repurchase program, of which $168.6 billion '\n",
      "                                       'had been utilized. During 2020, the Company repurchased '\n",
      "                                       '917 million shares of its common stock for $72.5 billion, '\n",
      "                                       'including 141 million shares delivered under a $10.0 '\n",
      "                                       'billion November 2019 ASR and 64 million shares delivered '\n",
      "                                       'under a $6.0 billion May 2020 ASR.',\n",
      "                          'span_location': {'document_id': 'SEC_10-K_2020_AAPL',\n",
      "                                            'start_offset': 1164,\n",
      "                                            'end_offset': 1222},\n",
      "                          'contains_table': False,\n",
      "                          'table_row': None,\n",
      "                          'table_column': None,\n",
      "                          'processed_path': './data/processed/reports/report_AAPL_2020.json'},\n",
      "                         {'company': 'Apple',\n",
      "                          'ticker': 'AAPL',\n",
      "                          'year': '2021',\n",
      "                          'section': 'Item 7',\n",
      "                          'subsection': 'Capital Return Program',\n",
      "                          'span_text': 'During 2021, the Company repurchased $85.5 billion of its '\n",
      "                                       'common stock and paid dividends and dividend equivalents '\n",
      "                                       'of $14.5 billion.',\n",
      "                          'span_location': {'document_id': 'SEC_10-K_2021_AAPL',\n",
      "                                            'start_offset': 1164,\n",
      "                                            'end_offset': 1222},\n",
      "                          'contains_table': False,\n",
      "                          'table_row': None,\n",
      "                          'table_column': None,\n",
      "                          'processed_path': './data/processed/reports/report_AAPL_2021.json'}],\n",
      "  'reasoning_path': ['Step 1: Identify the repurchased shares in 2020.',\n",
      "                     'Step 2: Identify the repurchased shares in 2021.',\n",
      "                     'Step 3: Compare the repurchased shares in 2020 and 2021.'],\n",
      "  'question_type': 'single_company_multi_year',\n",
      "  'difficulty': 'easy',\n",
      "  'contains_tables': False},\n",
      " {'id': '01e2d5d6-6b00-45d1-8657-7e85b859d4b8',\n",
      "  'question': \"How did Apple's net sales change from 2018 to 2019, and what were the main drivers \"\n",
      "              'behind this change?',\n",
      "  'answer': \"Apple's total net sales decreased by 2% or $5.4 billion during 2019 compared to 2018. \"\n",
      "            'This decline was primarily driven by lower net sales of iPhone, which was partially '\n",
      "            'offset by higher net sales of Wearables, Home and Accessories, and Services in all '\n",
      "            'geographic operating segments. The weakness in foreign currencies also had a '\n",
      "            'significant unfavorable impact on net sales during 2019.',\n",
      "  'source_information': [{'company': 'Apple',\n",
      "                          'ticker': 'AAPL',\n",
      "                          'year': '2019',\n",
      "                          'section': 'Item 7',\n",
      "                          'subsection': 'Fiscal 2019 Highlights',\n",
      "                          'span_text': 'Total net sales decreased 2% or $5.4 billion during 2019 '\n",
      "                                       'compared to 2018, driven by lower net sales of iPhone, '\n",
      "                                       'partially offset by higher net sales of Wearables, Home '\n",
      "                                       'and Accessories and Services in all geographic operating '\n",
      "                                       'segments. The weakness in foreign currencies had a '\n",
      "                                       'significant unfavorable impact on net sales during 2019.',\n",
      "                          'span_location': {'document_id': '1',\n",
      "                                            'start_offset': 1234,\n",
      "                                            'end_offset': 1345},\n",
      "                          'contains_table': False,\n",
      "                          'table_row': None,\n",
      "                          'table_column': None,\n",
      "                          'processed_path': './data/processed/reports/report_AAPL_2019.json'},\n",
      "                         {'company': 'Apple',\n",
      "                          'ticker': 'AAPL',\n",
      "                          'year': '2018',\n",
      "                          'section': 'Item 7',\n",
      "                          'subsection': 'Fiscal 2018 Highlights',\n",
      "                          'span_text': 'Net sales increased 16% or $36.4 billion during 2018 '\n",
      "                                       'compared to 2017, driven by higher net sales of iPhone, '\n",
      "                                       'Services and Other Products. Net sales increased '\n",
      "                                       'year-over-year in each of the geographic reportable '\n",
      "                                       'segments.',\n",
      "                          'span_location': {'document_id': '1',\n",
      "                                            'start_offset': 5678,\n",
      "                                            'end_offset': 5789},\n",
      "                          'contains_table': False,\n",
      "                          'table_row': None,\n",
      "                          'table_column': None,\n",
      "                          'processed_path': './data/processed/reports/report_AAPL_2018.json'}],\n",
      "  'reasoning_path': ['Step 1: Identify the net sales figures for 2018 and 2019 from the highlights '\n",
      "                     'sections.',\n",
      "                     'Step 2: Calculate the percentage change in net sales from 2018 to 2019.',\n",
      "                     'Step 3: Analyze the reasons for the change as outlined in the fiscal '\n",
      "                     'highlights.'],\n",
      "  'question_type': 'single_company_multi_year',\n",
      "  'difficulty': 'medium',\n",
      "  'contains_tables': False},\n",
      " {'id': '5fd570db-db81-4369-8f35-4aa13995654a',\n",
      "  'question': 'How did the revenue growth rates of Google and NVIDIA compare in 2018?',\n",
      "  'answer': \"In 2018, Google's revenue growth was 23% year over year, while NVIDIA's revenue \"\n",
      "            'growth was significantly higher at 41%. This indicates that NVIDIA outperformed '\n",
      "            'Google in terms of revenue growth during that year.',\n",
      "  'source_information': [{'company': 'Google',\n",
      "                          'ticker': 'GOOG',\n",
      "                          'year': '2018',\n",
      "                          'section': 'Item 7',\n",
      "                          'subsection': 'Executive Overview of Results',\n",
      "                          'span_text': 'Revenues of $110.9 billion and revenue growth of 23% year '\n",
      "                                       'over year, constant currency revenue growth of 24% year '\n",
      "                                       'over year.',\n",
      "                          'span_location': {'document_id': '1',\n",
      "                                            'start_offset': 123,\n",
      "                                            'end_offset': 183},\n",
      "                          'contains_table': False,\n",
      "                          'table_row': None,\n",
      "                          'table_column': None,\n",
      "                          'processed_path': './data/processed/reports/report_GOOG_2018.json'},\n",
      "                         {'company': 'NVIDIA',\n",
      "                          'ticker': 'NVDA',\n",
      "                          'year': '2018',\n",
      "                          'section': 'Item 7',\n",
      "                          'subsection': 'Fiscal Year Summary',\n",
      "                          'span_text': 'Revenue for fiscal year 2018 grew 41% to $9.71 billion, '\n",
      "                                       'reflecting broad growth in each of our market platforms - '\n",
      "                                       'gaming, professional visualization, datacenter, and '\n",
      "                                       'automotive.',\n",
      "                          'span_location': {'document_id': '2',\n",
      "                                            'start_offset': 456,\n",
      "                                            'end_offset': 516},\n",
      "                          'contains_table': False,\n",
      "                          'table_row': None,\n",
      "                          'table_column': None,\n",
      "                          'processed_path': './data/processed/reports/report_NVDA_2018.json'}],\n",
      "  'reasoning_path': ['Step 1: Identify the revenue growth rate for Google from its 10-K filing.',\n",
      "                     'Step 2: Identify the revenue growth rate for NVIDIA from its 10-K filing.',\n",
      "                     'Step 3: Compare the two growth rates to determine which company had higher '\n",
      "                     'revenue growth.'],\n",
      "  'question_type': 'multi_company_single_year',\n",
      "  'difficulty': 'medium',\n",
      "  'contains_tables': False}]\n"
     ]
    }
   ],
   "source": [
    "#| echo: false\n",
    "\n",
    "# Load the JSON file\n",
    "with open('./examples/benchmark_dataset_reviewed.json', 'r') as file:\n",
    "    benchmark_data = json.load(file)\n",
    "\n",
    "# Display the data in a nice format\n",
    "pprint(benchmark_data[0:3], width=100, sort_dicts=False)\n"
   ]
  },
  {
   "cell_type": "markdown",
   "metadata": {},
   "source": [
    "# Summary"
   ]
  },
  {
   "cell_type": "markdown",
   "metadata": {},
   "source": [
    "This notebook demonstrates the process of creating a multi-document RAG benchmarking dataset using SEC 10-K filings:\n",
    "\n",
    "1. Define question specifications (type, category, difficulty)\n",
    "2. Extract relevant sections from preprocessed reports\n",
    "3. Generate questions and answers using OpenAI's API\n",
    "4. Perform quality control on generated questions\n",
    "5. Review and finalize the benchmark dataset\n",
    "\n",
    "Key steps include:\n",
    "- Using custom functions to automate question generation\n",
    "- Handling various question types (single/multi-company, single/multi-year)\n",
    "- Excluding tables for simplified processing\n",
    "- Implementing a review process for quality assurance\n",
    "\n",
    "The resulting dataset will be used to evaluate different RAG pipelines for answerig questions about SEC 10-K filing reports.\n"
   ]
  }
 ],
 "metadata": {
  "kernelspec": {
   "display_name": ".venv",
   "language": "python",
   "name": "python3"
  },
  "language_info": {
   "codemirror_mode": {
    "name": "ipython",
    "version": 3
   },
   "file_extension": ".py",
   "mimetype": "text/x-python",
   "name": "python",
   "nbconvert_exporter": "python",
   "pygments_lexer": "ipython3",
   "version": "3.10.12"
  }
 },
 "nbformat": 4,
 "nbformat_minor": 2
}
