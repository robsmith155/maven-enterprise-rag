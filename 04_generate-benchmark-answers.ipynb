{
 "cells": [
  {
   "cell_type": "markdown",
   "metadata": {},
   "source": [
    "# RAG-Enhanced Question Answering for SEC-10K Filings\n",
    "\n",
    "In this notebook, we implement and test a question-answering system that leverages our optimized RAG retrieval pipeline from the previous analysis. Building on our comprehensive evaluation of retrieval strategies, we now focus on the end-to-end performance of the system in answering specific financial questions.\n",
    "\n",
    "Our previous evaluation demonstrated that a combination of hybrid search (with metadata filtering) and reranking produces the most effective retrieval results. This approach successfully addresses the challenge of maintaining global context (such as company names and reporting periods) that is often lost during standard chunking and embedding processes.\n",
    "\n",
    "The question-answering system we develop here follows a straightforward but powerful approach:\n",
    "\n",
    "1. Process a user query\n",
    "2. Retrieve the most relevant document chunks using our optimized pipeline\n",
    "3. Inject these chunks into a carefully crafted prompt\n",
    "4. Generate an answer using a large language model (LLM)\n",
    "\n",
    "We'll test this system against our benchmarking dataset of financial questions, which provides a realistic evaluation of the system's capabilities in extracting and synthesizing information from SEC filing reports.\n",
    "\n",
    "For this initial implementation, we'll focus on qualitative evaluation through manual inspection of the generated answers. This allows us to gain insights into the system's strengths and weaknesses before developing more formal evaluation metrics. While future work will incorporate automated evaluation, it's worth noting that the retrieval component—which we've already rigorously evaluated—represents the critical foundation of the system. Without effective retrieval of relevant context, even the most sophisticated LLM would be unable to provide accurate answers to specific financial questions.\n",
    "\n",
    "Let's begin by setting up our question-answering pipeline and examining its performance on real-world financial queries.\n",
    "\n",
    "**Pre-requisites**: You need to have run the previous three notebooks before this one. Also make sure that you've added your OpenAI API key as an environment variable.\n",
    "\n",
    "## Setup\n",
    "\n",
    "First let's import the required libraries and define the best pipeline configuration to use."
   ]
  },
  {
   "cell_type": "code",
   "execution_count": 1,
   "metadata": {},
   "outputs": [],
   "source": [
    "#|include: false\n",
    "%load_ext autoreload\n",
    "%autoreload 2"
   ]
  },
  {
   "cell_type": "code",
   "execution_count": 2,
   "metadata": {},
   "outputs": [],
   "source": [
    "import json"
   ]
  },
  {
   "cell_type": "markdown",
   "metadata": {},
   "source": [
    "The code developed for this section is stored in the `src/rag` module."
   ]
  },
  {
   "cell_type": "code",
   "execution_count": 3,
   "metadata": {},
   "outputs": [],
   "source": [
    "from src.rag.benchmark import display_benchmark_results, evaluate_best_pipeline\n",
    "from src.rag.chatbot import create_rag_chatbot, rag_with_openai"
   ]
  },
  {
   "cell_type": "markdown",
   "metadata": {},
   "source": [
    "Below we set the locations of the pipeline to use, benchmark dataset file, and output directory. For this analysis, we'll use the retrieval pipeline that produced the best evaluation results. This pipeline consisted of:\n",
    "\n",
    "- Late-binding chunking with maximum of 200 tokens\n",
    "- Small embedding model (`bge-small-en-v1.5`)\n",
    "- Use of hybrid search and reranking"
   ]
  },
  {
   "cell_type": "code",
   "execution_count": 4,
   "metadata": {},
   "outputs": [],
   "source": [
    "RUN_DIR = \"pipelines/run_20250314_220111/\" # Update to match the run directory name created in notebook 3\n",
    "CONFIG_NAME = \"late_chunk200_bge-small-en-v1.5_no_tables/with_reranking_hybrid\"  # Adjust to your best config\n",
    "BENCHMARK_PATH = \"./data/benchmark/benchmark_dataset_reviewed.json\"\n",
    "OUTPUT_DIR = \"./outputs/llm_evaluation_results\""
   ]
  },
  {
   "cell_type": "markdown",
   "metadata": {},
   "source": [
    "# Benchmark question answering\n",
    "Now we'll run all the questions from the benchmark dataset through the best retrieval pipeline using the `evaluate_best_pipeline` function. Here we'll pass the top 20 chunks to the LLM and ask it to answer the question based on this information. For this test we'll use the OpenAI API.\n",
    "\n",
    "**Note:** The `gpt-4-turbo` model is used below. Change this to `gpt-4o-mini` if you want to use a cheaper model."
   ]
  },
  {
   "cell_type": "code",
   "execution_count": 6,
   "metadata": {},
   "outputs": [
    {
     "name": "stderr",
     "output_type": "stream",
     "text": [
      "/home/robsmith155/github/maven-enterprise-rag/.venv/lib/python3.10/site-packages/chonkie/embeddings/auto.py:80: UserWarning: Failed to load embeddings via registry: No matching embeddings implementation found for BAAI/bge-small-en-v1.5. Falling back to SentenceTransformerEmbeddings.\n",
      "  warnings.warn(f\"Failed to load embeddings via registry: {error}. Falling back to SentenceTransformerEmbeddings.\")\n",
      "2025-03-16 18:51:21,025 - sentence_transformers.SentenceTransformer - INFO - Use pytorch device_name: cuda\n",
      "2025-03-16 18:51:21,026 - sentence_transformers.SentenceTransformer - INFO - Load pretrained SentenceTransformer: BAAI/bge-small-en-v1.5\n"
     ]
    },
    {
     "name": "stdout",
     "output_type": "stream",
     "text": [
      "Loading pipeline from pipelines/run_20250314_220111/, config: late_chunk200_bge-small-en-v1.5_no_tables/with_reranking_hybrid\n",
      "Looking for pipeline directory: pipelines/run_20250314_220111/late_chunk200_bge-small-en-v1.5_no_tables/with_reranking_hybrid\n",
      "Checking output directory: pipelines/run_20250314_220111/late_chunk200_bge-small-en-v1.5_no_tables/with_reranking_hybrid/output\n",
      "Checking vectorstore path: pipelines/run_20250314_220111/late_chunk200_bge-small-en-v1.5_no_tables/vectorstore\n",
      "Vectorstore directory contents: ['sec_filings.lance']\n",
      "Looking for config file: pipelines/run_20250314_220111/late_chunk200_bge-small-en-v1.5_no_tables/with_reranking_hybrid/output/pipeline_config.json\n",
      "Loaded configuration data: {'data_dir': '.', 'reports_dir': './data/processed/reports', 'output_dir': 'pipelines/run_20250314_220111/late_chunk200_bge-small-en-v1.5_no_tables/with_reranking_hybrid/output', 'chunker_type': 'late', 'chunk_size': 200, 'chunk_overlap': 50, 'embedding_provider': 'sentence_transformers', 'embedding_model': 'BAAI/bge-small-en-v1.5', 'embedding_batch_size': 200, 'embedding_device': 'cuda', 'embedding_dimensions': None, 'vector_db_path': '../../vectorstore', 'table_name': 'sec_filings', 'process_tables': False, 'remove_html_tables': True, 'max_documents': None, 'use_hybrid_search': True, 'use_reranker': True, 'reranker_model': 'BAAI/bge-reranker-v2-m3', 'reranker_provider': 'sentence_transformers', 'reranker_top_k': 100, 'rerank_all_results': True}\n",
      "  Set data_dir = .\n",
      "  Set reports_dir = ./data/processed/reports\n",
      "  Set output_dir = pipelines/run_20250314_220111/late_chunk200_bge-small-en-v1.5_no_tables/with_reranking_hybrid/output\n",
      "  Set chunker_type = late\n",
      "  Set chunk_size = 200\n",
      "  Set chunk_overlap = 50\n",
      "  Set embedding_provider = sentence_transformers\n",
      "  Set embedding_model = BAAI/bge-small-en-v1.5\n",
      "  Set embedding_batch_size = 200\n",
      "  Set embedding_device = cuda\n",
      "  Set embedding_dimensions = None\n",
      "  Set vector_db_path = ../../vectorstore\n",
      "  Set table_name = sec_filings\n",
      "  Set process_tables = False\n",
      "  Set remove_html_tables = True\n",
      "  Set max_documents = None\n",
      "  Set use_hybrid_search = True\n",
      "  Set use_reranker = True\n",
      "  Set reranker_model = BAAI/bge-reranker-v2-m3\n",
      "  Set reranker_provider = sentence_transformers\n",
      "  Set reranker_top_k = 100\n",
      "  Set rerank_all_results = True\n",
      "Final configuration:\n",
      "  vector_db_path: ../../vectorstore\n",
      "  output_dir: pipelines/run_20250314_220111/late_chunk200_bge-small-en-v1.5_no_tables/with_reranking_hybrid/output\n",
      "  table_name: sec_filings\n",
      "Creating RAGPipeline with configuration...\n"
     ]
    },
    {
     "name": "stderr",
     "output_type": "stream",
     "text": [
      "2025-03-16 18:51:32,669 - sentence_transformers.SentenceTransformer - INFO - Load pretrained SentenceTransformer: BAAI/bge-small-en-v1.5\n",
      "2025-03-16 18:51:36,462 - src.rag.pipeline - INFO - Initializing reranker model: BAAI/bge-reranker-v2-m3\n",
      "2025-03-16 18:51:39,610 - src.rag.pipeline - INFO - Reranker initialized successfully\n"
     ]
    },
    {
     "name": "stdout",
     "output_type": "stream",
     "text": [
      "Connecting to LanceDB at pipelines/run_20250314_220111/late_chunk200_bge-small-en-v1.5_no_tables/vectorstore\n",
      "Available tables in the database: ['sec_filings']\n",
      "Looking for table: sec_filings\n",
      "Opening table: sec_filings\n",
      "Error checking table contents: 'LanceTable' object has no attribute 'count'\n",
      "Successfully loaded existing table: sec_filings\n",
      "Updating reranker...\n",
      "Loaded pipeline from pipelines/run_20250314_220111/late_chunk200_bge-small-en-v1.5_no_tables/with_reranking_hybrid with configuration from late_chunk200_bge-small-en-v1.5_no_tables/with_reranking_hybrid\n",
      "Running benchmark evaluation. Results will be saved to ./outputs/llm_evaluation_results/llm_eval_late_chunk200_bge-small-en-v1.5_no_tables/with_reranking_hybrid_20250316_185139\n"
     ]
    },
    {
     "name": "stderr",
     "output_type": "stream",
     "text": [
      "Processing questions:   0%|          | 0/9 [00:00<?, ?it/s]2025-03-16 18:51:39,618 - src.rag.pipeline - INFO - Searching for: How many shares did Apple buy back in 2020 compared to 2021?\n",
      "2025-03-16 18:51:39,618 - src.rag.pipeline - INFO - Generating query embedding...\n",
      "2025-03-16 18:51:39,631 - src.rag.pipeline - INFO - Extracted metadata filters: {'ticker': ['AAPL'], 'year': [2020, 2021, 2022]}\n",
      "2025-03-16 18:51:39,632 - src.rag.pipeline - INFO - Performing hybrid search with metadata filters: {'ticker': ['AAPL'], 'year': [2020, 2021, 2022]}\n",
      "2025-03-16 18:51:39,654 - src.rag.pipeline - INFO - Found 180 results with hybrid search\n",
      "2025-03-16 18:51:39,655 - src.rag.pipeline - INFO - Applying reranking with model: BAAI/bge-reranker-v2-m3\n",
      "2025-03-16 18:51:39,655 - src.rag.pipeline - INFO - Reranking top 100 of 180 results (reranker_top_k=100)\n"
     ]
    },
    {
     "data": {
      "application/vnd.jupyter.widget-view+json": {
       "model_id": "b32ca029d97b444bae9db6de92c5e4aa",
       "version_major": 2,
       "version_minor": 0
      },
      "text/plain": [
       "Batches:   0%|          | 0/4 [00:00<?, ?it/s]"
      ]
     },
     "metadata": {},
     "output_type": "display_data"
    },
    {
     "name": "stderr",
     "output_type": "stream",
     "text": [
      "2025-03-16 18:51:42,242 - src.rag.pipeline - INFO - Reranked results, returning top 60\n",
      "2025-03-16 18:51:51,793 - httpx - INFO - HTTP Request: POST https://api.openai.com/v1/chat/completions \"HTTP/1.1 200 OK\"\n",
      "Processing questions:  11%|█         | 1/9 [00:12<01:37, 12.18s/it]2025-03-16 18:51:51,796 - src.rag.pipeline - INFO - Searching for: How did Apple's net sales change from 2018 to 2019, and what were the main drivers behind this change?\n",
      "2025-03-16 18:51:51,796 - src.rag.pipeline - INFO - Generating query embedding...\n",
      "2025-03-16 18:51:51,818 - src.rag.pipeline - INFO - Extracted metadata filters: {'ticker': ['GE', 'AAPL'], 'year': [2018, 2019, 2020]}\n",
      "2025-03-16 18:51:51,819 - src.rag.pipeline - INFO - Performing hybrid search with metadata filters: {'ticker': ['GE', 'AAPL'], 'year': [2018, 2019, 2020]}\n",
      "2025-03-16 18:51:51,832 - src.rag.pipeline - INFO - Found 180 results with hybrid search\n",
      "2025-03-16 18:51:51,833 - src.rag.pipeline - INFO - Applying reranking with model: BAAI/bge-reranker-v2-m3\n",
      "2025-03-16 18:51:51,833 - src.rag.pipeline - INFO - Reranking top 100 of 180 results (reranker_top_k=100)\n"
     ]
    },
    {
     "data": {
      "application/vnd.jupyter.widget-view+json": {
       "model_id": "a0c2e0f092f34efcba256cfb061ad782",
       "version_major": 2,
       "version_minor": 0
      },
      "text/plain": [
       "Batches:   0%|          | 0/4 [00:00<?, ?it/s]"
      ]
     },
     "metadata": {},
     "output_type": "display_data"
    },
    {
     "name": "stderr",
     "output_type": "stream",
     "text": [
      "2025-03-16 18:51:54,675 - src.rag.pipeline - INFO - Reranked results, returning top 60\n",
      "2025-03-16 18:52:12,483 - httpx - INFO - HTTP Request: POST https://api.openai.com/v1/chat/completions \"HTTP/1.1 200 OK\"\n",
      "Processing questions:  22%|██▏       | 2/9 [00:32<02:00, 17.18s/it]2025-03-16 18:52:12,486 - src.rag.pipeline - INFO - Searching for: How did the revenue growth rates of Google and NVIDIA compare in 2018?\n",
      "2025-03-16 18:52:12,486 - src.rag.pipeline - INFO - Generating query embedding...\n",
      "2025-03-16 18:52:12,517 - src.rag.pipeline - INFO - Extracted metadata filters: {'ticker': ['GOOG', 'NVDA'], 'year': [2018, 2019]}\n",
      "2025-03-16 18:52:12,517 - src.rag.pipeline - INFO - Performing hybrid search with metadata filters: {'ticker': ['GOOG', 'NVDA'], 'year': [2018, 2019]}\n",
      "2025-03-16 18:52:12,529 - src.rag.pipeline - INFO - Found 180 results with hybrid search\n",
      "2025-03-16 18:52:12,529 - src.rag.pipeline - INFO - Applying reranking with model: BAAI/bge-reranker-v2-m3\n",
      "2025-03-16 18:52:12,529 - src.rag.pipeline - INFO - Reranking top 100 of 180 results (reranker_top_k=100)\n"
     ]
    },
    {
     "data": {
      "application/vnd.jupyter.widget-view+json": {
       "model_id": "330831b2f29347b7b3d0be9eee17b441",
       "version_major": 2,
       "version_minor": 0
      },
      "text/plain": [
       "Batches:   0%|          | 0/4 [00:00<?, ?it/s]"
      ]
     },
     "metadata": {},
     "output_type": "display_data"
    },
    {
     "name": "stderr",
     "output_type": "stream",
     "text": [
      "2025-03-16 18:52:15,061 - src.rag.pipeline - INFO - Reranked results, returning top 60\n",
      "2025-03-16 18:52:24,963 - httpx - INFO - HTTP Request: POST https://api.openai.com/v1/chat/completions \"HTTP/1.1 200 OK\"\n",
      "Processing questions:  33%|███▎      | 3/9 [00:45<01:30, 15.04s/it]2025-03-16 18:52:24,966 - src.rag.pipeline - INFO - Searching for: How did Microsoft calculate their annualized run rate in 2015, and what specific financial commitments did they exclude from their reported amounts?\n",
      "2025-03-16 18:52:24,966 - src.rag.pipeline - INFO - Generating query embedding...\n",
      "2025-03-16 18:52:24,990 - src.rag.pipeline - INFO - Extracted metadata filters: {'ticker': ['MSFT'], 'year': [2016, 2015]}\n",
      "2025-03-16 18:52:24,991 - src.rag.pipeline - INFO - Performing hybrid search with metadata filters: {'ticker': ['MSFT'], 'year': [2016, 2015]}\n",
      "2025-03-16 18:52:24,998 - src.rag.pipeline - INFO - Found 28 results with hybrid search\n",
      "2025-03-16 18:52:24,999 - src.rag.pipeline - INFO - Applying reranking with model: BAAI/bge-reranker-v2-m3\n",
      "2025-03-16 18:52:24,999 - src.rag.pipeline - INFO - Reranking top 28 of 28 results (reranker_top_k=100)\n",
      "2025-03-16 18:52:24,999 - src.rag.pipeline - INFO - Reranking all 28 results...\n"
     ]
    },
    {
     "data": {
      "application/vnd.jupyter.widget-view+json": {
       "model_id": "9b89233d6e354f9daf67ac92dac7d459",
       "version_major": 2,
       "version_minor": 0
      },
      "text/plain": [
       "Batches:   0%|          | 0/1 [00:00<?, ?it/s]"
      ]
     },
     "metadata": {},
     "output_type": "display_data"
    },
    {
     "name": "stderr",
     "output_type": "stream",
     "text": [
      "2025-03-16 18:52:26,269 - src.rag.pipeline - INFO - Reranked results, returning top 28\n",
      "2025-03-16 18:52:40,359 - httpx - INFO - HTTP Request: POST https://api.openai.com/v1/chat/completions \"HTTP/1.1 200 OK\"\n",
      "Processing questions:  44%|████▍     | 4/9 [01:00<01:15, 15.18s/it]2025-03-16 18:52:40,362 - src.rag.pipeline - INFO - Searching for: How does Google manage the risks associated with fluctuations in foreign currency exchange rates and what were the potential impacts on their income before taxes for the years 2020 and 2021?\n",
      "2025-03-16 18:52:40,362 - src.rag.pipeline - INFO - Generating query embedding...\n",
      "2025-03-16 18:52:40,385 - src.rag.pipeline - INFO - Extracted metadata filters: {'ticker': ['GOOG', 'GE'], 'year': [2020, 2021, 2022]}\n",
      "2025-03-16 18:52:40,386 - src.rag.pipeline - INFO - Performing hybrid search with metadata filters: {'ticker': ['GOOG', 'GE'], 'year': [2020, 2021, 2022]}\n",
      "2025-03-16 18:52:40,397 - src.rag.pipeline - INFO - Found 180 results with hybrid search\n",
      "2025-03-16 18:52:40,398 - src.rag.pipeline - INFO - Applying reranking with model: BAAI/bge-reranker-v2-m3\n",
      "2025-03-16 18:52:40,399 - src.rag.pipeline - INFO - Reranking top 100 of 180 results (reranker_top_k=100)\n"
     ]
    },
    {
     "data": {
      "application/vnd.jupyter.widget-view+json": {
       "model_id": "5d6881ec249549028bc9446304fdefe9",
       "version_major": 2,
       "version_minor": 0
      },
      "text/plain": [
       "Batches:   0%|          | 0/4 [00:00<?, ?it/s]"
      ]
     },
     "metadata": {},
     "output_type": "display_data"
    },
    {
     "name": "stderr",
     "output_type": "stream",
     "text": [
      "2025-03-16 18:52:43,123 - src.rag.pipeline - INFO - Reranked results, returning top 60\n",
      "2025-03-16 18:53:02,452 - httpx - INFO - HTTP Request: POST https://api.openai.com/v1/chat/completions \"HTTP/1.1 200 OK\"\n",
      "Processing questions:  56%|█████▌    | 5/9 [01:22<01:10, 17.67s/it]2025-03-16 18:53:02,455 - src.rag.pipeline - INFO - Searching for: How has NVIDIA's investment in research and development changed from 2016 to 2022?\n",
      "2025-03-16 18:53:02,455 - src.rag.pipeline - INFO - Generating query embedding...\n",
      "2025-03-16 18:53:02,476 - src.rag.pipeline - INFO - Extracted metadata filters: {'ticker': ['GE', 'NVDA'], 'year': [2016, 2017, 2022, 2023]}\n",
      "2025-03-16 18:53:02,477 - src.rag.pipeline - INFO - Performing hybrid search with metadata filters: {'ticker': ['GE', 'NVDA'], 'year': [2016, 2017, 2022, 2023]}\n",
      "2025-03-16 18:53:02,490 - src.rag.pipeline - INFO - Found 180 results with hybrid search\n",
      "2025-03-16 18:53:02,491 - src.rag.pipeline - INFO - Applying reranking with model: BAAI/bge-reranker-v2-m3\n",
      "2025-03-16 18:53:02,492 - src.rag.pipeline - INFO - Reranking top 100 of 180 results (reranker_top_k=100)\n"
     ]
    },
    {
     "data": {
      "application/vnd.jupyter.widget-view+json": {
       "model_id": "fbf699d87d1d4b32a7d45470fee93cb5",
       "version_major": 2,
       "version_minor": 0
      },
      "text/plain": [
       "Batches:   0%|          | 0/4 [00:00<?, ?it/s]"
      ]
     },
     "metadata": {},
     "output_type": "display_data"
    },
    {
     "name": "stderr",
     "output_type": "stream",
     "text": [
      "2025-03-16 18:53:05,212 - src.rag.pipeline - INFO - Reranked results, returning top 60\n",
      "2025-03-16 18:53:17,745 - httpx - INFO - HTTP Request: POST https://api.openai.com/v1/chat/completions \"HTTP/1.1 200 OK\"\n",
      "Processing questions:  67%|██████▋   | 6/9 [01:38<00:50, 16.86s/it]2025-03-16 18:53:17,748 - src.rag.pipeline - INFO - Searching for: How did the potential impact of a hypothetical 100 basis point increase in interest rates on Apple's investment portfolio change from 2018 to 2020?\n",
      "2025-03-16 18:53:17,748 - src.rag.pipeline - INFO - Generating query embedding...\n",
      "2025-03-16 18:53:17,771 - src.rag.pipeline - INFO - Extracted metadata filters: {'ticker': ['GE', 'AAPL'], 'year': [2018, 2019, 2020, 2021]}\n",
      "2025-03-16 18:53:17,772 - src.rag.pipeline - INFO - Performing hybrid search with metadata filters: {'ticker': ['GE', 'AAPL'], 'year': [2018, 2019, 2020, 2021]}\n",
      "2025-03-16 18:53:17,783 - src.rag.pipeline - INFO - Found 180 results with hybrid search\n",
      "2025-03-16 18:53:17,784 - src.rag.pipeline - INFO - Applying reranking with model: BAAI/bge-reranker-v2-m3\n",
      "2025-03-16 18:53:17,784 - src.rag.pipeline - INFO - Reranking top 100 of 180 results (reranker_top_k=100)\n"
     ]
    },
    {
     "data": {
      "application/vnd.jupyter.widget-view+json": {
       "model_id": "3b796b98cd0b4a50a06d1b88ff022061",
       "version_major": 2,
       "version_minor": 0
      },
      "text/plain": [
       "Batches:   0%|          | 0/4 [00:00<?, ?it/s]"
      ]
     },
     "metadata": {},
     "output_type": "display_data"
    },
    {
     "name": "stderr",
     "output_type": "stream",
     "text": [
      "2025-03-16 18:53:20,427 - src.rag.pipeline - INFO - Reranked results, returning top 60\n",
      "2025-03-16 18:53:33,149 - httpx - INFO - HTTP Request: POST https://api.openai.com/v1/chat/completions \"HTTP/1.1 200 OK\"\n",
      "Processing questions:  78%|███████▊  | 7/9 [01:53<00:32, 16.39s/it]2025-03-16 18:53:33,152 - src.rag.pipeline - INFO - Searching for: How did the number of shareholders of record for Apple change from 2017 to 2019?\n",
      "2025-03-16 18:53:33,153 - src.rag.pipeline - INFO - Generating query embedding...\n",
      "2025-03-16 18:53:33,174 - src.rag.pipeline - INFO - Extracted metadata filters: {'ticker': ['GE', 'AAPL'], 'year': [2017, 2018, 2019, 2020]}\n",
      "2025-03-16 18:53:33,175 - src.rag.pipeline - INFO - Performing hybrid search with metadata filters: {'ticker': ['GE', 'AAPL'], 'year': [2017, 2018, 2019, 2020]}\n",
      "2025-03-16 18:53:33,185 - src.rag.pipeline - INFO - Found 180 results with hybrid search\n",
      "2025-03-16 18:53:33,186 - src.rag.pipeline - INFO - Applying reranking with model: BAAI/bge-reranker-v2-m3\n",
      "2025-03-16 18:53:33,186 - src.rag.pipeline - INFO - Reranking top 100 of 180 results (reranker_top_k=100)\n"
     ]
    },
    {
     "data": {
      "application/vnd.jupyter.widget-view+json": {
       "model_id": "75e7d8bca3034153a32d11f4d763bdf2",
       "version_major": 2,
       "version_minor": 0
      },
      "text/plain": [
       "Batches:   0%|          | 0/4 [00:00<?, ?it/s]"
      ]
     },
     "metadata": {},
     "output_type": "display_data"
    },
    {
     "name": "stderr",
     "output_type": "stream",
     "text": [
      "2025-03-16 18:53:35,712 - src.rag.pipeline - INFO - Reranked results, returning top 60\n",
      "2025-03-16 18:53:47,502 - httpx - INFO - HTTP Request: POST https://api.openai.com/v1/chat/completions \"HTTP/1.1 200 OK\"\n",
      "Processing questions:  89%|████████▉ | 8/9 [02:07<00:15, 15.74s/it]2025-03-16 18:53:47,505 - src.rag.pipeline - INFO - Searching for: How did NVIDIA's revenue growth in 2016 compare to 2021 compare, and what were the main drivers behind their revenue changes?\n",
      "2025-03-16 18:53:47,505 - src.rag.pipeline - INFO - Generating query embedding...\n",
      "2025-03-16 18:53:47,527 - src.rag.pipeline - INFO - Extracted metadata filters: {'ticker': ['GE', 'NVDA'], 'year': [2016, 2017, 2021, 2022]}\n",
      "2025-03-16 18:53:47,528 - src.rag.pipeline - INFO - Performing hybrid search with metadata filters: {'ticker': ['GE', 'NVDA'], 'year': [2016, 2017, 2021, 2022]}\n",
      "2025-03-16 18:53:47,546 - src.rag.pipeline - INFO - Found 180 results with hybrid search\n",
      "2025-03-16 18:53:47,547 - src.rag.pipeline - INFO - Applying reranking with model: BAAI/bge-reranker-v2-m3\n",
      "2025-03-16 18:53:47,547 - src.rag.pipeline - INFO - Reranking top 100 of 180 results (reranker_top_k=100)\n"
     ]
    },
    {
     "data": {
      "application/vnd.jupyter.widget-view+json": {
       "model_id": "7d20aea039f744f3898e5ad78402f727",
       "version_major": 2,
       "version_minor": 0
      },
      "text/plain": [
       "Batches:   0%|          | 0/4 [00:00<?, ?it/s]"
      ]
     },
     "metadata": {},
     "output_type": "display_data"
    },
    {
     "name": "stderr",
     "output_type": "stream",
     "text": [
      "2025-03-16 18:53:50,445 - src.rag.pipeline - INFO - Reranked results, returning top 60\n",
      "2025-03-16 18:54:06,709 - httpx - INFO - HTTP Request: POST https://api.openai.com/v1/chat/completions \"HTTP/1.1 200 OK\"\n",
      "Processing questions: 100%|██████████| 9/9 [02:27<00:00, 16.34s/it]"
     ]
    },
    {
     "name": "stdout",
     "output_type": "stream",
     "text": [
      "Evaluation completed. Results saved to ./outputs/llm_evaluation_results/llm_eval_late_chunk200_bge-small-en-v1.5_no_tables/with_reranking_hybrid_20250316_185139\n",
      "Total questions processed: 9\n"
     ]
    },
    {
     "name": "stderr",
     "output_type": "stream",
     "text": [
      "\n"
     ]
    }
   ],
   "source": [
    "#| output: false\n",
    "\n",
    "# Run the evaluation with your best configuration\n",
    "output_path = evaluate_best_pipeline(\n",
    "    run_dir=RUN_DIR,\n",
    "    config_name=CONFIG_NAME,\n",
    "    benchmark_path=BENCHMARK_PATH,\n",
    "    output_dir=OUTPUT_DIR,\n",
    "    model=\"gpt-4-turbo\",\n",
    "    max_tokens=1000,\n",
    "    temperature=0.0,\n",
    "    top_k=20, # Will pass the top 20 chunks to the LLM\n",
    "    initial_retrieval_multiplier=3\n",
    ")"
   ]
  },
  {
   "cell_type": "markdown",
   "metadata": {},
   "source": [
    "## Display generated answers\n",
    "Below the generated answers are compared to the answers included in the benchmark dataset."
   ]
  },
  {
   "cell_type": "code",
   "execution_count": 7,
   "metadata": {},
   "outputs": [
    {
     "name": "stdout",
     "output_type": "stream",
     "text": [
      "Benchmark Results Summary:\n",
      "Model: gpt-4-turbo\n",
      "Top-k: 20\n",
      "Number of questions: 9\n",
      "Total tokens used: 47413\n",
      "Average processing time: 16.34 seconds\n",
      "\n",
      "\n"
     ]
    },
    {
     "data": {
      "text/html": [
       "\n",
       "        <div style=\"margin-bottom: 30px; border: 1px solid #ddd; padding: 15px; border-radius: 5px;\">\n",
       "            <h3>Question 1: d9fd9582-4495-4310-a142-8d3beb5e0d1e</h3>\n",
       "            <div style=\"margin-bottom: 10px;\"><strong>Question:</strong> How many shares did Apple buy back in 2020 compared to 2021?</div>\n",
       "            \n",
       "            <div style=\"display: flex; margin-bottom: 15px;\">\n",
       "                <div style=\"flex: 1; padding-right: 10px;\">\n",
       "                    <h4>Reference Answer:</h4>\n",
       "                    <div style=\"background-color: #f5f5f5; padding: 10px; border-radius: 5px;\">\n",
       "                        In 2020, Apple repurchased 917 million shares of its common stock for $72.5 billion, while in 2021, the company repurchased $85.5 billion of its common stock.\n",
       "                    </div>\n",
       "                </div>\n",
       "                <div style=\"flex: 1; padding-left: 10px;\">\n",
       "                    <h4>Model Answer:</h4>\n",
       "                    <div style=\"background-color: #f0f8ff; padding: 10px; border-radius: 5px;\">\n",
       "                        In 2020, Apple repurchased 917 million shares of its common stock for $72.5 billion [3]. In comparison, during 2021, Apple repurchased 656 million shares of its common stock for $85.5 billion [1].<br><br>References:<br>[1] Document: AAPL 2021 SEC Filing (ID: AAPL_2021), Chunk ID: 211cb98e-9903-4d68-ae90-90a4883f2e62<br>[3] Document: AAPL 2020 SEC Filing (ID: AAPL_2020), Chunk ID: 2046d21a-35e4-411f-8632-a4be21fa967e\n",
       "                    </div>\n",
       "                </div>\n",
       "            </div>\n",
       "            \n",
       "            <div><strong>Processing Time:</strong> 12.18 seconds</div>\n",
       "            <div><strong>Total Tokens:</strong> 5042</div>\n",
       "        </div>\n",
       "        "
      ],
      "text/plain": [
       "<IPython.core.display.HTML object>"
      ]
     },
     "metadata": {},
     "output_type": "display_data"
    },
    {
     "data": {
      "text/html": [
       "\n",
       "        <div style=\"margin-bottom: 30px; border: 1px solid #ddd; padding: 15px; border-radius: 5px;\">\n",
       "            <h3>Question 2: f8285225-6cf4-4984-b71c-510455c295cf</h3>\n",
       "            <div style=\"margin-bottom: 10px;\"><strong>Question:</strong> How does Google manage the risks associated with fluctuations in foreign currency exchange rates and what were the potential impacts on their income before taxes for the years 2020 and 2021?</div>\n",
       "            \n",
       "            <div style=\"display: flex; margin-bottom: 15px;\">\n",
       "                <div style=\"flex: 1; padding-right: 10px;\">\n",
       "                    <h4>Reference Answer:</h4>\n",
       "                    <div style=\"background-color: #f5f5f5; padding: 10px; border-radius: 5px;\">\n",
       "                        Google manages the risks associated with fluctuations in foreign currency exchange rates by using foreign exchange forward contracts and option contracts, including collars, to offset the foreign exchange risk on assets, liabilities, and forecasted U.S. dollar-equivalent earnings. These contracts reduce, but do not entirely eliminate, the effect of foreign currency exchange rate movements. For the years 2020 and 2021, if an adverse 10% foreign currency exchange rate change was applied to total monetary assets, liabilities, and commitments, it would have resulted in an adverse effect on income before income taxes of approximately $497 million and $285 million, respectively.\n",
       "                    </div>\n",
       "                </div>\n",
       "                <div style=\"flex: 1; padding-left: 10px;\">\n",
       "                    <h4>Model Answer:</h4>\n",
       "                    <div style=\"background-color: #f0f8ff; padding: 10px; border-radius: 5px;\">\n",
       "                        Google manages the risks associated with fluctuations in foreign currency exchange rates through a foreign exchange risk management program that includes the use of foreign currency forwards and option contracts, including collars. This program is designed to reduce, but not entirely eliminate, the impact of foreign currency exchange rate movements on Google's assets, liabilities, and income [1][2][3][4][5][6][8][9][10][12].<br><br>The potential impacts of these fluctuations on Google's income before taxes for the years 2020 and 2021 were significant. If an adverse 10% foreign currency exchange rate change had occurred, it would have resulted in an adverse effect on income before income taxes of approximately $497 million for the year 2020 and $285 million for the year 2021, after considering the effect of foreign exchange contracts in place [2].<br><br>References:<br>[1] GOOG 2022 SEC Filing (ID: GOOG_2022), Chunk ID: ac4ddf68-5362-46bb-9d30-e59444af0433<br>[2] GOOG 2022 SEC Filing (ID: GOOG_2022), Chunk ID: e9838825-d133-48ff-b3a4-9af641d0c017<br>[3] GOOG 2022 SEC Filing (ID: GOOG_2022), Chunk ID: 881c2771-8f45-41ec-b484-b4bf1808357a<br>[4] GOOG 2021 SEC Filing (ID: GOOG_2021), Chunk ID: 4244f650-4539-478c-b0c6-3f6408c3b81e<br>[5] GOOG 2021 SEC Filing (ID: GOOG_2021), Chunk ID: ec1387c0-8d13-4523-83ee-a8b8dd87b7ba<br>[6] GOOG 2021 SEC Filing (ID: GOOG_2021), Chunk ID: c61b0066-6a68-4425-b24a-a7205b7141b9<br>[8] GOOG 2022 SEC Filing (ID: GOOG_2022), Chunk ID: 3a7af559-3840-4919-a21e-b75983f27f44<br>[9] GOOG 2021 SEC Filing (ID: GOOG_2021), Chunk ID: b86197e6-3c18-42d0-9c01-0164aed27235<br>[10] GOOG 2022 SEC Filing (ID: GOOG_2022), Chunk ID: a7bb584a-c343-456d-acbc-b11d7d72a110<br>[12] GOOG 2022 SEC Filing (ID: GOOG_2022), Chunk ID: 4e1551a0-483e-416a-9c05-bdb760a6255d\n",
       "                    </div>\n",
       "                </div>\n",
       "            </div>\n",
       "            \n",
       "            <div><strong>Processing Time:</strong> 22.09 seconds</div>\n",
       "            <div><strong>Total Tokens:</strong> 5564</div>\n",
       "        </div>\n",
       "        "
      ],
      "text/plain": [
       "<IPython.core.display.HTML object>"
      ]
     },
     "metadata": {},
     "output_type": "display_data"
    },
    {
     "data": {
      "text/html": [
       "\n",
       "        <div style=\"margin-bottom: 30px; border: 1px solid #ddd; padding: 15px; border-radius: 5px;\">\n",
       "            <h3>Question 3: 01e2d5d6-6b00-45d1-8657-7e85b859d4b8</h3>\n",
       "            <div style=\"margin-bottom: 10px;\"><strong>Question:</strong> How did Apple's net sales change from 2018 to 2019, and what were the main drivers behind this change?</div>\n",
       "            \n",
       "            <div style=\"display: flex; margin-bottom: 15px;\">\n",
       "                <div style=\"flex: 1; padding-right: 10px;\">\n",
       "                    <h4>Reference Answer:</h4>\n",
       "                    <div style=\"background-color: #f5f5f5; padding: 10px; border-radius: 5px;\">\n",
       "                        Apple's total net sales decreased by 2% or $5.4 billion during 2019 compared to 2018. This decline was primarily driven by lower net sales of iPhone, which was partially offset by higher net sales of Wearables, Home and Accessories, and Services in all geographic operating segments. The weakness in foreign currencies also had a significant unfavorable impact on net sales during 2019.\n",
       "                    </div>\n",
       "                </div>\n",
       "                <div style=\"flex: 1; padding-left: 10px;\">\n",
       "                    <h4>Model Answer:</h4>\n",
       "                    <div style=\"background-color: #f0f8ff; padding: 10px; border-radius: 5px;\">\n",
       "                        Apple's net sales decreased by 2% or $5.4 billion in fiscal year 2019 compared to 2018. The primary drivers behind this change were:<br><br>1. **Decrease in iPhone Sales**: The most significant factor contributing to the decline in net sales was the decrease in iPhone sales. The lower iPhone unit sales were a major contributor to the overall reduction in net sales [1], [3].<br><br>2. **Increase in Other Product Categories**: This decrease was partially offset by increases in other areas. There was a rise in net sales of Wearables, Home and Accessories, driven primarily by higher sales of AirPods and Apple Watch [2], [3]. Additionally, the Services segment saw an increase, primarily due to higher net sales from the App Store, licensing, and AppleCare [2].<br><br>3. **Currency Fluctuations**: The weakness in foreign currencies relative to the U.S. dollar had a significant unfavorable impact on net sales in 2019. This currency effect negatively influenced net sales across various geographic segments including Europe, Greater China, and the Rest of Asia Pacific [1], [5].<br><br>4. **Geographic Performance Variations**: While there were increases in some geographic areas, these were not enough to offset the decreases in others. For instance, net sales in Greater China and Japan decreased primarily due to lower iPhone sales, despite increases in Services and Wearables, Home and Accessories sales [5].<br><br>These factors combined led to the overall decrease in Apple's net sales from 2018 to 2019.<br><br>References:<br>[1] Document: AAPL 2019 SEC Filing (ID: AAPL_2019), Chunk ID: 46ac772e-cb47-421b-a2a8-fbed8ac0d919<br>[2] Document: AAPL 2019 SEC Filing (ID: AAPL_2019), Chunk ID: a9881923-2fa7-4fee-83f3-e99774105303<br>[3] Document: AAPL 2019 SEC Filing (ID: AAPL_2019), Chunk ID: c65319f4-ef25-4692-96b0-7d4474907d19<br>[5] Document: AAPL 2019 SEC Filing (ID: AAPL_2019), Chunk ID: c09d9f31-cf4b-4f72-bdfe-be525c663f45\n",
       "                    </div>\n",
       "                </div>\n",
       "            </div>\n",
       "            \n",
       "            <div><strong>Processing Time:</strong> 20.69 seconds</div>\n",
       "            <div><strong>Total Tokens:</strong> 5530</div>\n",
       "        </div>\n",
       "        "
      ],
      "text/plain": [
       "<IPython.core.display.HTML object>"
      ]
     },
     "metadata": {},
     "output_type": "display_data"
    },
    {
     "data": {
      "text/html": [
       "\n",
       "        <div style=\"margin-bottom: 30px; border: 1px solid #ddd; padding: 15px; border-radius: 5px;\">\n",
       "            <h3>Question 4: f3f4f98c-c82e-4a68-85a1-de18787135a2</h3>\n",
       "            <div style=\"margin-bottom: 10px;\"><strong>Question:</strong> How has NVIDIA's investment in research and development changed from 2016 to 2022?</div>\n",
       "            \n",
       "            <div style=\"display: flex; margin-bottom: 15px;\">\n",
       "                <div style=\"flex: 1; padding-right: 10px;\">\n",
       "                    <h4>Reference Answer:</h4>\n",
       "                    <div style=\"background-color: #f5f5f5; padding: 10px; border-radius: 5px;\">\n",
       "                        NVIDIA's investment in research and development significantly increased from 2016 to 2022. In 2016, the company had invested $12 billion in research and development since its inception. By 2022, this investment had more than doubled, reaching over $29 billion.\n",
       "                    </div>\n",
       "                </div>\n",
       "                <div style=\"flex: 1; padding-left: 10px;\">\n",
       "                    <h4>Model Answer:</h4>\n",
       "                    <div style=\"background-color: #f0f8ff; padding: 10px; border-radius: 5px;\">\n",
       "                        NVIDIA's investment in research and development (R&D) has shown significant growth from 2016 to 2022. Here is a summary of the R&D investments over these years:<br><br>- In 2016, NVIDIA invested $12 billion in R&D since its inception [3].<br>- By 2017, this investment increased to over $13 billion [2].<br>- In 2022, the cumulative R&D investment reached over $29 billion [4].<br>- By 2023, NVIDIA had invested over $37 billion in R&D since its inception [1].<br><br>This data indicates a substantial increase in R&D investment over the period, reflecting NVIDIA's ongoing commitment to innovation and development in its field.<br><br>References:<br>[1] NVDA 2023 SEC Filing (ID: NVDA_2023)<br>[2] NVDA 2017 SEC Filing (ID: NVDA_2017)<br>[3] NVDA 2016 SEC Filing (ID: NVDA_2016)<br>[4] NVDA 2022 SEC Filing (ID: NVDA_2022)\n",
       "                    </div>\n",
       "                </div>\n",
       "            </div>\n",
       "            \n",
       "            <div><strong>Processing Time:</strong> 15.29 seconds</div>\n",
       "            <div><strong>Total Tokens:</strong> 5041</div>\n",
       "        </div>\n",
       "        "
      ],
      "text/plain": [
       "<IPython.core.display.HTML object>"
      ]
     },
     "metadata": {},
     "output_type": "display_data"
    },
    {
     "data": {
      "text/html": [
       "\n",
       "        <div style=\"margin-bottom: 30px; border: 1px solid #ddd; padding: 15px; border-radius: 5px;\">\n",
       "            <h3>Question 5: cf1d017d-b6f2-48e2-b6a0-fad75fec4807</h3>\n",
       "            <div style=\"margin-bottom: 10px;\"><strong>Question:</strong> How did the potential impact of a hypothetical 100 basis point increase in interest rates on Apple's investment portfolio change from 2018 to 2020?</div>\n",
       "            \n",
       "            <div style=\"display: flex; margin-bottom: 15px;\">\n",
       "                <div style=\"flex: 1; padding-right: 10px;\">\n",
       "                    <h4>Reference Answer:</h4>\n",
       "                    <div style=\"background-color: #f5f5f5; padding: 10px; border-radius: 5px;\">\n",
       "                        In 2018, a hypothetical 100 basis point increase in interest rates would have resulted in a $4.9 billion decline in the fair market value of Apple's investment portfolio. By 2020, the impact of a similar increase in interest rates would have led to a $3.1 billion decline in the fair market value of the portfolio.\n",
       "                    </div>\n",
       "                </div>\n",
       "                <div style=\"flex: 1; padding-left: 10px;\">\n",
       "                    <h4>Model Answer:</h4>\n",
       "                    <div style=\"background-color: #f0f8ff; padding: 10px; border-radius: 5px;\">\n",
       "                        The potential impact of a hypothetical 100 basis point increase in interest rates on Apple's investment portfolio changed as follows from 2018 to 2020:<br><br>- In 2018, a 100 basis point increase would have resulted in a $4.9 billion decline in the fair market value of the investment portfolio [3].<br>- In 2019, the impact of a 100 basis point increase would have resulted in a $2.8 billion decline in the fair market value of the investment portfolio [4].<br>- In 2020, the impact of a 100 basis point increase would have resulted in a $3.1 billion decline in the fair market value of the investment portfolio [1].<br><br>From 2018 to 2019, the potential impact decreased from $4.9 billion to $2.8 billion, indicating a reduced sensitivity to interest rate increases. However, from 2019 to 2020, the potential impact increased slightly from $2.8 billion to $3.1 billion.<br><br>References:<br>[1] AAPL 2020 SEC Filing (ID: AAPL_2020)<br>[3] AAPL 2018 SEC Filing (ID: AAPL_2018)<br>[4] AAPL 2019 SEC Filing (ID: AAPL_2019)\n",
       "                    </div>\n",
       "                </div>\n",
       "            </div>\n",
       "            \n",
       "            <div><strong>Processing Time:</strong> 15.40 seconds</div>\n",
       "            <div><strong>Total Tokens:</strong> 5056</div>\n",
       "        </div>\n",
       "        "
      ],
      "text/plain": [
       "<IPython.core.display.HTML object>"
      ]
     },
     "metadata": {},
     "output_type": "display_data"
    },
    {
     "data": {
      "text/html": [
       "\n",
       "        <div style=\"margin-bottom: 30px; border: 1px solid #ddd; padding: 15px; border-radius: 5px;\">\n",
       "            <h3>Question 6: dd218ea8-e6c1-432f-8194-c78beef2c044</h3>\n",
       "            <div style=\"margin-bottom: 10px;\"><strong>Question:</strong> How did Microsoft calculate their annualized run rate in 2015, and what specific financial commitments did they exclude from their reported amounts?</div>\n",
       "            \n",
       "            <div style=\"display: flex; margin-bottom: 15px;\">\n",
       "                <div style=\"flex: 1; padding-right: 10px;\">\n",
       "                    <h4>Reference Answer:</h4>\n",
       "                    <div style=\"background-color: #f5f5f5; padding: 10px; border-radius: 5px;\">\n",
       "                        In 2015, Microsoft calculated their annualized run rate by multiplying their June 2015 revenue by twelve months. They excluded long-term tax contingencies, other tax liabilities, deferred income taxes, and long-term pension liabilities totaling $15.2 billion from the reported amounts.\n",
       "                    </div>\n",
       "                </div>\n",
       "                <div style=\"flex: 1; padding-left: 10px;\">\n",
       "                    <h4>Model Answer:</h4>\n",
       "                    <div style=\"background-color: #f0f8ff; padding: 10px; border-radius: 5px;\">\n",
       "                        Microsoft calculated their annualized run rate in 2015 by multiplying the revenue of June 2015 by twelve months [1]. This method projects the annual revenue based on the revenue of a single month, assuming that the revenue generation rate remains constant throughout the year.<br><br>From the reported financial commitments, Microsoft excluded several items. Specifically, they excluded long-term tax contingencies, other tax liabilities, deferred income taxes, and long-term pension liabilities totaling $15.2 billion [4]. Additionally, unearned revenue and non-cash items were also excluded from the reported amounts [4][6].<br><br>References:<br>[1] MSFT 2015 SEC Filing (ID: MSFT_2015), Chunk ID: 12f9a3d0-3026-4c1d-9c0c-f19dd8e266c6<br>[4] MSFT 2015 SEC Filing (ID: MSFT_2015), Chunk ID: 980aac15-7caf-42d2-87f9-ddc38bc3493d<br>[6] MSFT 2016 SEC Filing (ID: MSFT_2016), Chunk ID: 264bd0cf-58b2-49aa-9a41-2b3a129173d9\n",
       "                    </div>\n",
       "                </div>\n",
       "            </div>\n",
       "            \n",
       "            <div><strong>Processing Time:</strong> 15.39 seconds</div>\n",
       "            <div><strong>Total Tokens:</strong> 5556</div>\n",
       "        </div>\n",
       "        "
      ],
      "text/plain": [
       "<IPython.core.display.HTML object>"
      ]
     },
     "metadata": {},
     "output_type": "display_data"
    },
    {
     "data": {
      "text/html": [
       "\n",
       "        <div style=\"margin-bottom: 30px; border: 1px solid #ddd; padding: 15px; border-radius: 5px;\">\n",
       "            <h3>Question 7: 5fd570db-db81-4369-8f35-4aa13995654a</h3>\n",
       "            <div style=\"margin-bottom: 10px;\"><strong>Question:</strong> How did the revenue growth rates of Google and NVIDIA compare in 2018?</div>\n",
       "            \n",
       "            <div style=\"display: flex; margin-bottom: 15px;\">\n",
       "                <div style=\"flex: 1; padding-right: 10px;\">\n",
       "                    <h4>Reference Answer:</h4>\n",
       "                    <div style=\"background-color: #f5f5f5; padding: 10px; border-radius: 5px;\">\n",
       "                        In 2018, Google's revenue growth was 23% year over year, while NVIDIA's revenue growth was significantly higher at 41%. This indicates that NVIDIA outperformed Google in terms of revenue growth during that year.\n",
       "                    </div>\n",
       "                </div>\n",
       "                <div style=\"flex: 1; padding-left: 10px;\">\n",
       "                    <h4>Model Answer:</h4>\n",
       "                    <div style=\"background-color: #f0f8ff; padding: 10px; border-radius: 5px;\">\n",
       "                        In 2018, Google's revenue growth rate was 23% [1], while NVIDIA's revenue growth rate was 41% [3]. Therefore, NVIDIA experienced a higher revenue growth rate compared to Google in that year.<br><br>References:<br>[1] Document: GOOG 2019 SEC Filing (ID: GOOG_2019), Chunk ID: f01ad5bc-8207-4a94-901a-4eb33a632560<br>[3] Document: NVDA 2018 SEC Filing (ID: NVDA_2018), Chunk ID: db204d56-5139-4f88-8a9d-e218d4e93899\n",
       "                    </div>\n",
       "                </div>\n",
       "            </div>\n",
       "            \n",
       "            <div><strong>Processing Time:</strong> 12.48 seconds</div>\n",
       "            <div><strong>Total Tokens:</strong> 5092</div>\n",
       "        </div>\n",
       "        "
      ],
      "text/plain": [
       "<IPython.core.display.HTML object>"
      ]
     },
     "metadata": {},
     "output_type": "display_data"
    },
    {
     "data": {
      "text/html": [
       "\n",
       "        <div style=\"margin-bottom: 30px; border: 1px solid #ddd; padding: 15px; border-radius: 5px;\">\n",
       "            <h3>Question 8: ed50c67e-ae38-47b7-9983-98e2af1d03eb</h3>\n",
       "            <div style=\"margin-bottom: 10px;\"><strong>Question:</strong> How did NVIDIA's revenue growth in 2016 compare to 2021 compare, and what were the main drivers behind their revenue changes?</div>\n",
       "            \n",
       "            <div style=\"display: flex; margin-bottom: 15px;\">\n",
       "                <div style=\"flex: 1; padding-right: 10px;\">\n",
       "                    <h4>Reference Answer:</h4>\n",
       "                    <div style=\"background-color: #f5f5f5; padding: 10px; border-radius: 5px;\">\n",
       "                        In 2016, NVIDIA's revenue grew 7% to a record $5.01 billion, driven by growth in GeForce GPUs for gaming and Tesla products for datacenter. In 2021, NVIDIA's revenue was $16.68 billion, marking a 53% increase from the previous year. The main drivers for NVIDIA's revenue growth were higher sales across desktop and laptop GPUs for gaming, and game-console SOCs, as well as the ramp of the NVIDIA Ampere GPU architecture and the inclusion of Mellanox revenue.\n",
       "                    </div>\n",
       "                </div>\n",
       "                <div style=\"flex: 1; padding-left: 10px;\">\n",
       "                    <h4>Model Answer:</h4>\n",
       "                    <div style=\"background-color: #f0f8ff; padding: 10px; border-radius: 5px;\">\n",
       "                        NVIDIA's revenue growth from 2016 to 2021 showed a significant increase. In 2016, NVIDIA's revenue was $5.01 billion, marking a 7% growth from the previous year [1]. By 2021, the revenue had surged to $16.68 billion, representing a 53% increase from the previous year [4].<br><br>The main drivers behind these revenue changes include:<br><br>1. **GPU Revenue Growth**: In 2016, the GPU revenue increased by 9% primarily due to growth in GeForce GPUs for gaming and Tesla products for data centers [1]. By 2021, the growth in the Graphics segment was 29%, driven by GeForce GPUs and game console SOCs [3].<br><br>2. **Data Center Expansion**: A significant boost in 2021 revenue came from the Data Center segment, which saw a 124% increase. This growth was fueled by the Mellanox acquisition and the ramp-up of the NVIDIA Ampere GPU architecture [2].<br><br>3. **Acquisitions and New Technologies**: The acquisition of Mellanox in 2020 significantly contributed to the revenue in 2021, with Mellanox revenue accounting for 10% of the total company revenue [2]. The introduction of new GPU architectures and expansion into new product areas also played crucial roles.<br><br>4. **Diverse Segment Performance**: While some segments like Automotive and Professional Visualization saw declines due to specific market conditions such as COVID-19 impacts and shifts in product demand, others like OEM and Other revenue grew by 25% in 2021, primarily due to higher volume of entry-level laptop GPUs [2].<br><br>Overall, NVIDIA's strategic acquisitions, expansion into new markets, and continuous innovation in GPU technologies were key factors driving the substantial revenue growth from 2016 to 2021.<br><br>References:<br>[1] NVDA 2016 SEC Filing (ID: NVDA_2016)<br>[2] NVDA 2021 SEC Filing (ID: NVDA_2021)<br>[3] NVDA 2021 SEC Filing (ID: NVDA_2021)<br>[4] NVDA 2021 SEC Filing (ID: NVDA_2021)\n",
       "                    </div>\n",
       "                </div>\n",
       "            </div>\n",
       "            \n",
       "            <div><strong>Processing Time:</strong> 19.21 seconds</div>\n",
       "            <div><strong>Total Tokens:</strong> 5257</div>\n",
       "        </div>\n",
       "        "
      ],
      "text/plain": [
       "<IPython.core.display.HTML object>"
      ]
     },
     "metadata": {},
     "output_type": "display_data"
    },
    {
     "data": {
      "text/html": [
       "\n",
       "        <div style=\"margin-bottom: 30px; border: 1px solid #ddd; padding: 15px; border-radius: 5px;\">\n",
       "            <h3>Question 9: 7fc75be9-52fa-42f2-ba72-8a0107e5eb42</h3>\n",
       "            <div style=\"margin-bottom: 10px;\"><strong>Question:</strong> How did the number of shareholders of record for Apple change from 2017 to 2019?</div>\n",
       "            \n",
       "            <div style=\"display: flex; margin-bottom: 15px;\">\n",
       "                <div style=\"flex: 1; padding-right: 10px;\">\n",
       "                    <h4>Reference Answer:</h4>\n",
       "                    <div style=\"background-color: #f5f5f5; padding: 10px; border-radius: 5px;\">\n",
       "                        The number of shareholders of record for Apple decreased from 25,333 in 2017 to 23,233 in 2019.\n",
       "                    </div>\n",
       "                </div>\n",
       "                <div style=\"flex: 1; padding-left: 10px;\">\n",
       "                    <h4>Model Answer:</h4>\n",
       "                    <div style=\"background-color: #f0f8ff; padding: 10px; border-radius: 5px;\">\n",
       "                        The number of shareholders of record for Apple Inc. changed as follows from 2017 to 2019:<br><br>- In 2017, there were 25,333 shareholders of record [1].<br>- In 2018, the number of shareholders decreased to 23,712 [5].<br>- By 2019, the number further decreased to 23,233 shareholders of record [2].<br><br>This indicates a gradual decrease in the number of shareholders of record over the three-year period from 2017 to 2019.<br><br>References:<br>[1] AAPL 2017 SEC Filing (ID: AAPL_2017)<br>[2] AAPL 2019 SEC Filing (ID: AAPL_2019)<br>[5] AAPL 2018 SEC Filing (ID: AAPL_2018)\n",
       "                    </div>\n",
       "                </div>\n",
       "            </div>\n",
       "            \n",
       "            <div><strong>Processing Time:</strong> 14.35 seconds</div>\n",
       "            <div><strong>Total Tokens:</strong> 5275</div>\n",
       "        </div>\n",
       "        "
      ],
      "text/plain": [
       "<IPython.core.display.HTML object>"
      ]
     },
     "metadata": {},
     "output_type": "display_data"
    }
   ],
   "source": [
    "display_benchmark_results(output_path)"
   ]
  },
  {
   "cell_type": "markdown",
   "metadata": {},
   "source": [
    "# Analysis of outputs"
   ]
  },
  {
   "cell_type": "code",
   "execution_count": null,
   "metadata": {},
   "outputs": [],
   "source": []
  },
  {
   "cell_type": "code",
   "execution_count": null,
   "metadata": {},
   "outputs": [],
   "source": []
  },
  {
   "cell_type": "markdown",
   "metadata": {},
   "source": [
    "# Chatbot tool"
   ]
  },
  {
   "cell_type": "code",
   "execution_count": null,
   "metadata": {},
   "outputs": [],
   "source": [
    "\n",
    "create_rag_chatbot(\n",
    "    run_dir=RUN_DIR,\n",
    "    config_name=CONFIG_NAME,\n",
    "    model='gpt-4-turbo',\n",
    "    top_k=10\n",
    ")"
   ]
  },
  {
   "cell_type": "code",
   "execution_count": null,
   "metadata": {},
   "outputs": [],
   "source": []
  },
  {
   "cell_type": "markdown",
   "metadata": {},
   "source": [
    "# Summary\n"
   ]
  }
 ],
 "metadata": {
  "kernelspec": {
   "display_name": ".venv",
   "language": "python",
   "name": "python3"
  },
  "language_info": {
   "codemirror_mode": {
    "name": "ipython",
    "version": 3
   },
   "file_extension": ".py",
   "mimetype": "text/x-python",
   "name": "python",
   "nbconvert_exporter": "python",
   "pygments_lexer": "ipython3",
   "version": "3.10.12"
  }
 },
 "nbformat": 4,
 "nbformat_minor": 2
}
